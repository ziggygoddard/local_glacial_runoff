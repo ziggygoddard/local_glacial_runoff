{
 "cells": [
  {
   "cell_type": "markdown",
   "id": "4e0815b9-0798-4e2b-b23a-c02a0de7843d",
   "metadata": {},
   "source": [
    "# Glacier runoff model for La Paz, Bolivia"
   ]
  },
  {
   "cell_type": "markdown",
   "id": "66ec844b-90d7-47ea-8416-272d27e7fc85",
   "metadata": {},
   "source": [
    "## <b> Step 1: Import necessary software packages for graphing and visualization"
   ]
  },
  {
   "cell_type": "code",
   "execution_count": 1,
   "id": "c1729f9a-1399-4909-a7b6-93c4208665d4",
   "metadata": {},
   "outputs": [],
   "source": [
    "import matplotlib.pyplot as plt\n",
    "import xarray as xr\n",
    "import numpy as np\n",
    "import pandas as pd\n",
    "import geopandas as gpd\n",
    "import seaborn as sns\n",
    "import shapely.geometry as shpg\n",
    "import os"
   ]
  },
  {
   "cell_type": "markdown",
   "id": "f25242f1-2077-49a2-ba16-49a93cd4e85a",
   "metadata": {},
   "source": [
    "## <b> Step 2: import and set up OGGM software"
   ]
  },
  {
   "cell_type": "code",
   "execution_count": 2,
   "id": "de469965-7f43-4385-aa8f-fefd67b03c20",
   "metadata": {},
   "outputs": [],
   "source": [
    "from oggm import cfg, utils, workflow, tasks, graphics"
   ]
  },
  {
   "cell_type": "code",
   "execution_count": 3,
   "id": "4449cefc-18ea-4d6d-ade7-0cd6ed735bb5",
   "metadata": {},
   "outputs": [],
   "source": [
    "# Define the directory path in your home directory\n",
    "path = '/Users/ziggygoddard/Documents/summer24/OGGM_output' "
   ]
  },
  {
   "cell_type": "code",
   "execution_count": 4,
   "id": "934ab118-4065-4268-997f-a0c8f845ba5f",
   "metadata": {},
   "outputs": [
    {
     "name": "stderr",
     "output_type": "stream",
     "text": [
      "2024-07-16 14:45:44: oggm.cfg: Reading default parameters from the OGGM `params.cfg` configuration file.\n",
      "2024-07-16 14:45:44: oggm.cfg: Multiprocessing switched OFF according to the parameter file.\n",
      "2024-07-16 14:45:44: oggm.cfg: Multiprocessing: using all available processors (N=8)\n",
      "2024-07-16 14:45:46: oggm.cfg: PARAMS['store_model_geometry'] changed from `False` to `True`.\n",
      "2024-07-16 14:45:46: oggm.cfg: Multiprocessing switched ON after user settings.\n",
      "2024-07-16 14:45:46: oggm.cfg: PARAMS['continue_on_error'] changed from `False` to `True`.\n"
     ]
    }
   ],
   "source": [
    "# work with parameters \n",
    "cfg.initialize(logging_level='WARNING')\n",
    "cfg.PATHS['working_dir']=path\n",
    "\n",
    "cfg.PARAMS['store_model_geometry'] = True\n",
    "cfg.PARAMS['use_multiprocessing'] = True\n",
    "cfg.PARAMS['continue_on_error']=True #this is to avoid issues with the files with invalid geometries\n",
    "\n",
    "#You can provide any other dataset to OGGM by setting the climate_file parameter in params.cfg"
   ]
  },
  {
   "cell_type": "markdown",
   "id": "abfbca44-ca4d-449b-b352-d833d03aa7b9",
   "metadata": {},
   "source": [
    "## Step 3: Define glaciers for the run"
   ]
  },
  {
   "cell_type": "code",
   "execution_count": 5,
   "id": "042afaea-80fb-49af-8d0e-b418d190f265",
   "metadata": {},
   "outputs": [
    {
     "data": {
      "text/plain": [
       "'/Users/ziggygoddard/OGGM/rgi/RGIV62'"
      ]
     },
     "execution_count": 5,
     "metadata": {},
     "output_type": "execute_result"
    }
   ],
   "source": [
    "# Download glacier outlines\n",
    "# I assume I should access a newer version of the glacier directory?\n",
    "utils.get_rgi_dir(version='62')  # path to the data after download"
   ]
  },
  {
   "cell_type": "code",
   "execution_count": 6,
   "id": "b6b6e873-0f92-4f85-9236-3b2f37b74d05",
   "metadata": {},
   "outputs": [
    {
     "name": "stdout",
     "output_type": "stream",
     "text": [
      "/opt/miniconda3/envs/oggm_env/lib/python3.12/site-packages/oggm/__init__.py\n"
     ]
    }
   ],
   "source": [
    "import oggm\n",
    "print(oggm.__file__)"
   ]
  },
  {
   "cell_type": "code",
   "execution_count": 57,
   "id": "a3eedbb6-12b9-429e-a465-278f8b1cf552",
   "metadata": {},
   "outputs": [],
   "source": [
    "# Get rgi region file for region 16 (South America)\n",
    "fr = utils.get_rgi_region_file(16, version='62')"
   ]
  },
  {
   "cell_type": "code",
   "execution_count": 8,
   "id": "85bd4a30-dea0-4e3b-b707-d44592dcebb8",
   "metadata": {
    "scrolled": true
   },
   "outputs": [
    {
     "name": "stdout",
     "output_type": "stream",
     "text": [
      "Columns in GeoDataFrame: Index(['RGIId', 'GLIMSId', 'BgnDate', 'EndDate', 'CenLon', 'CenLat',\n",
      "       'O1Region', 'O2Region', 'Area', 'Zmin', 'Zmax', 'Zmed', 'Slope',\n",
      "       'Aspect', 'Lmax', 'Status', 'Connect', 'Form', 'TermType', 'Surging',\n",
      "       'Linkages', 'Name', 'check_geom', 'geometry'],\n",
      "      dtype='object')\n",
      "Number of features (glaciers): 2939\n",
      "            RGIId         GLIMSId   BgnDate   EndDate   CenLon   CenLat  \\\n",
      "0  RGI60-16.00001  G290095E16521S  20009999  20030531 -69.9053 -16.5212   \n",
      "1  RGI60-16.00002  G290088E16520S  20009999  20030531 -69.9117 -16.5196   \n",
      "2  RGI60-16.00003  G290075E16516S  20009999  20030531 -69.9246 -16.5156   \n",
      "3  RGI60-16.00004  G290856E16386S  20009999  20030531 -69.1445 -16.3855   \n",
      "4  RGI60-16.00005  G290859E16384S  20009999  20030531 -69.1411 -16.3840   \n",
      "\n",
      "  O1Region O2Region   Area  Zmin  ...  Lmax  Status  Connect  Form  TermType  \\\n",
      "0       16        1  0.098  4896  ...   348       0        0     0         0   \n",
      "1       16        1  0.147  4963  ...   289       0        0     0         0   \n",
      "2       16        1  0.149  4892  ...   337       0        0     0         0   \n",
      "3       16        1  0.051  4443  ...   320       0        0     0         0   \n",
      "4       16        1  0.037  4397  ...   347       0        0     0         0   \n",
      "\n",
      "   Surging  Linkages  Name        check_geom  \\\n",
      "0        9         9  None              None   \n",
      "1        9         9  None              None   \n",
      "2        9         9  None              None   \n",
      "3        9         9  None  WARN:WasInvalid;   \n",
      "4        9         9  None              None   \n",
      "\n",
      "                                            geometry  \n",
      "0  POLYGON ((-69.90403 -16.52105, -69.90399 -16.5...  \n",
      "1  POLYGON ((-69.90784 -16.51838, -69.90738 -16.5...  \n",
      "2  POLYGON ((-69.92029 -16.51488, -69.92058 -16.5...  \n",
      "3  POLYGON ((-69.14501 -16.38533, -69.14513 -16.3...  \n",
      "4  POLYGON ((-69.14235 -16.38304, -69.14011 -16.3...  \n",
      "\n",
      "[5 rows x 24 columns]\n"
     ]
    }
   ],
   "source": [
    "import geopandas as gpd\n",
    "\n",
    "# Read the shapefile\n",
    "gdf = gpd.read_file(fr)\n",
    "\n",
    "# Print information about the GeoDataFrame\n",
    "print(\"Columns in GeoDataFrame:\", gdf.columns)\n",
    "print(\"Number of features (glaciers):\", len(gdf))\n",
    "\n",
    "# Display the first few rows to inspect the data\n",
    "print(gdf.head())\n"
   ]
  },
  {
   "cell_type": "code",
   "execution_count": 9,
   "id": "f5e52547-3f48-4bff-82d8-373d6537818a",
   "metadata": {},
   "outputs": [],
   "source": [
    "# Read file as as geopandas\n",
    "gdf = gpd.read_file(fr)"
   ]
  },
  {
   "cell_type": "code",
   "execution_count": 52,
   "id": "075f1224-ac56-438f-b987-5e0dd59d32b7",
   "metadata": {},
   "outputs": [],
   "source": [
    "# Add basin shapefile\n",
    "path = '~/Documents/summer24/sa_basins/LaPaz_dissolved.shp' \n",
    "basin = gpd.read_file(path)"
   ]
  },
  {
   "cell_type": "code",
   "execution_count": 53,
   "id": "0e58b3dc-c9f7-4e07-b21e-186207bc2b5d",
   "metadata": {},
   "outputs": [],
   "source": [
    "# Select glaciers within the basin\n",
    "in_bas = [basin.geometry.contains(shpg.Point(x, y))[0] for\n",
    "          (x, y) in zip(gdf.CenLon, gdf.CenLat)]\n",
    "gdf_sel = gdf.loc[in_bas]"
   ]
  },
  {
   "cell_type": "code",
   "execution_count": 54,
   "id": "4d82b028-0836-4ce4-abee-6aaaaf98325e",
   "metadata": {
    "scrolled": true
   },
   "outputs": [],
   "source": [
    "# Select rgi id's from the gdf_sel file\n",
    "rgi_ids = gdf_sel['RGIId']"
   ]
  },
  {
   "cell_type": "code",
   "execution_count": 55,
   "id": "06151fa2-7e08-4193-b9df-1e71f5a27885",
   "metadata": {
    "scrolled": true
   },
   "outputs": [
    {
     "data": {
      "text/plain": [
       "494     RGI60-16.00495\n",
       "496     RGI60-16.00497\n",
       "497     RGI60-16.00498\n",
       "500     RGI60-16.00501\n",
       "504     RGI60-16.00505\n",
       "505     RGI60-16.00506\n",
       "507     RGI60-16.00508\n",
       "508     RGI60-16.00509\n",
       "509     RGI60-16.00510\n",
       "510     RGI60-16.00511\n",
       "512     RGI60-16.00513\n",
       "522     RGI60-16.00523\n",
       "523     RGI60-16.00524\n",
       "525     RGI60-16.00526\n",
       "527     RGI60-16.00528\n",
       "529     RGI60-16.00530\n",
       "530     RGI60-16.00531\n",
       "531     RGI60-16.00532\n",
       "538     RGI60-16.00539\n",
       "539     RGI60-16.00540\n",
       "543     RGI60-16.00544\n",
       "544     RGI60-16.00545\n",
       "545     RGI60-16.00546\n",
       "546     RGI60-16.00547\n",
       "548     RGI60-16.00549\n",
       "549     RGI60-16.00550\n",
       "563     RGI60-16.00564\n",
       "565     RGI60-16.00566\n",
       "594     RGI60-16.00595\n",
       "595     RGI60-16.00596\n",
       "609     RGI60-16.00610\n",
       "610     RGI60-16.00611\n",
       "1441    RGI60-16.01447\n",
       "1442    RGI60-16.01448\n",
       "1443    RGI60-16.01449\n",
       "Name: RGIId, dtype: object"
      ]
     },
     "execution_count": 55,
     "metadata": {},
     "output_type": "execute_result"
    }
   ],
   "source": [
    "rgi_ids"
   ]
  },
  {
   "cell_type": "code",
   "execution_count": 14,
   "id": "3900a029-ad86-4594-916b-d32b513902bf",
   "metadata": {},
   "outputs": [],
   "source": [
    "# # Select glaciers within the basin\n",
    "# in_bas = [basin.geometry.contains(shpg.Point(x, y))[0] for\n",
    "#           (x, y) in zip(gdf.CenLon, gdf.CenLat)]\n",
    "# gdf_sel = gdf.loc[in_bas]\n",
    "\n",
    "# Remove the problematic glaciers\n",
    "problem_glacier_list = ['RGI60-16.01306']\n",
    "gdf_sel = gdf_sel[~gdf_sel['RGIId'].isin(problem_glacier_list)]\n",
    "\n",
    "# Select rgi id's from the gdf_sel file\n",
    "rgi_ids = gdf_sel['RGIId'].tolist()"
   ]
  },
  {
   "cell_type": "markdown",
   "id": "1d0e0c71-f806-4525-b3e4-84a5d0874be4",
   "metadata": {},
   "source": [
    "## Step 4. Prepare glacier data"
   ]
  },
  {
   "cell_type": "code",
   "execution_count": 15,
   "id": "94c11d9b-c968-4def-9c80-9f621fb06f83",
   "metadata": {
    "tags": []
   },
   "outputs": [
    {
     "name": "stderr",
     "output_type": "stream",
     "text": [
      "2024-07-16 14:46:04: oggm.workflow: init_glacier_directories from prepro level 5 on 2 glaciers.\n",
      "2024-07-16 14:46:04: oggm.workflow: Execute entity tasks [gdir_from_prepro] on 2 glaciers\n"
     ]
    }
   ],
   "source": [
    "# Initiate glacier directory task for each glacier\n",
    "base_url = 'https://cluster.klima.uni-bremen.de/~oggm/gdirs/oggm_v1.6/L3-L5_files/2023.3/elev_bands/W5E5_spinup'\n",
    "gdirs = workflow.init_glacier_directories(rgi_ids,\n",
    "                                           from_prepro_level=5,\n",
    "                                           prepro_base_url=base_url,\n",
    "                                         prepro_border=80)"
   ]
  },
  {
   "cell_type": "code",
   "execution_count": 16,
   "id": "aa409c3d-7273-4a51-9001-3c306c920246",
   "metadata": {},
   "outputs": [
    {
     "data": {
      "text/plain": [
       "list"
      ]
     },
     "execution_count": 16,
     "metadata": {},
     "output_type": "execute_result"
    }
   ],
   "source": [
    "type(gdirs)"
   ]
  },
  {
   "cell_type": "code",
   "execution_count": 17,
   "id": "312e3b8a-68d0-4e7c-aefc-4316fe6cc06f",
   "metadata": {},
   "outputs": [],
   "source": [
    "# gdirs = []\n",
    "# for r in rgi_ids:\n",
    "#     try:\n",
    "#         gdir_temp = workflow.init_glacier_directories(r,\n",
    "#                                                    from_prepro_level=5,\n",
    "#                                                    prepro_base_url=base_url,\n",
    "#                                                  prepro_border=80)\n",
    "#         gdirs.append(gdir_temp)\n",
    "#     except:\n",
    "#         print('Failed for {}'.format(r))\n",
    "#         continue\n",
    "\n",
    "## Does not make correct format of gdirs for later use; also doesn't report any errors\n",
    "## better luck next time"
   ]
  },
  {
   "cell_type": "markdown",
   "id": "30a75d05-3f67-4811-abae-12eeaf626eda",
   "metadata": {},
   "source": [
    "# Step 5. Initiate climate runs"
   ]
  },
  {
   "cell_type": "markdown",
   "id": "d7eb0871-d252-479e-a86f-d9a09ffe9c5c",
   "metadata": {},
   "source": [
    "### I. Run constant climate commitment run"
   ]
  },
  {
   "cell_type": "code",
   "execution_count": 18,
   "id": "a4150501-6ee3-41e8-a8dd-f4c70f5f42c8",
   "metadata": {
    "tags": []
   },
   "outputs": [],
   "source": [
    "# Initiate run_with_hydro using constant climate\n",
    "for g in gdirs:\n",
    "    file_id = '_ct'\n",
    "    tasks.run_with_hydro(g, run_task=tasks.run_constant_climate, nyears=100, y0=2014, halfsize=5, store_monthly_hydro=True, \n",
    "                     output_filesuffix=file_id);"
   ]
  },
  {
   "cell_type": "code",
   "execution_count": 19,
   "id": "e7f5770c-1635-4150-8e75-f04e6a76c9a4",
   "metadata": {},
   "outputs": [
    {
     "name": "stderr",
     "output_type": "stream",
     "text": [
      "2024-07-11 10:45:56: oggm.utils: Applying global task compile_run_output on 2 glaciers\n",
      "2024-07-11 10:45:56: oggm.utils: Applying compile_run_output on 2 gdirs.\n"
     ]
    }
   ],
   "source": [
    "# Export data from constant climate run and compile run output\n",
    "import datetime\n",
    "output_path = '~/Documents/summer24/{}-ct_compiled_output.nc'.format(datetime.date.today()) \n",
    "new_ds = utils.compile_run_output(gdirs, input_filesuffix=file_id, path=output_path)"
   ]
  },
  {
   "cell_type": "code",
   "execution_count": 20,
   "id": "bd7fef32-4dee-4e80-9bf5-5b67bf3a2c9a",
   "metadata": {},
   "outputs": [],
   "source": [
    "# Load in the glacier data from above (only when data has been saved)\n",
    "export_date = '2024-07-11'\n",
    "input_path = '~/Documents/summer24/{}-ct_compiled_output.nc'.format(export_date)\n",
    "ct_ds = xr.open_dataset(input_path)"
   ]
  },
  {
   "cell_type": "code",
   "execution_count": 21,
   "id": "4c9a9314-ba0b-43b4-85c5-57c21722f813",
   "metadata": {
    "scrolled": true
   },
   "outputs": [
    {
     "data": {
      "text/html": [
       "<div><svg style=\"position: absolute; width: 0; height: 0; overflow: hidden\">\n",
       "<defs>\n",
       "<symbol id=\"icon-database\" viewBox=\"0 0 32 32\">\n",
       "<path d=\"M16 0c-8.837 0-16 2.239-16 5v4c0 2.761 7.163 5 16 5s16-2.239 16-5v-4c0-2.761-7.163-5-16-5z\"></path>\n",
       "<path d=\"M16 17c-8.837 0-16-2.239-16-5v6c0 2.761 7.163 5 16 5s16-2.239 16-5v-6c0 2.761-7.163 5-16 5z\"></path>\n",
       "<path d=\"M16 26c-8.837 0-16-2.239-16-5v6c0 2.761 7.163 5 16 5s16-2.239 16-5v-6c0 2.761-7.163 5-16 5z\"></path>\n",
       "</symbol>\n",
       "<symbol id=\"icon-file-text2\" viewBox=\"0 0 32 32\">\n",
       "<path d=\"M28.681 7.159c-0.694-0.947-1.662-2.053-2.724-3.116s-2.169-2.030-3.116-2.724c-1.612-1.182-2.393-1.319-2.841-1.319h-15.5c-1.378 0-2.5 1.121-2.5 2.5v27c0 1.378 1.122 2.5 2.5 2.5h23c1.378 0 2.5-1.122 2.5-2.5v-19.5c0-0.448-0.137-1.23-1.319-2.841zM24.543 5.457c0.959 0.959 1.712 1.825 2.268 2.543h-4.811v-4.811c0.718 0.556 1.584 1.309 2.543 2.268zM28 29.5c0 0.271-0.229 0.5-0.5 0.5h-23c-0.271 0-0.5-0.229-0.5-0.5v-27c0-0.271 0.229-0.5 0.5-0.5 0 0 15.499-0 15.5 0v7c0 0.552 0.448 1 1 1h7v19.5z\"></path>\n",
       "<path d=\"M23 26h-14c-0.552 0-1-0.448-1-1s0.448-1 1-1h14c0.552 0 1 0.448 1 1s-0.448 1-1 1z\"></path>\n",
       "<path d=\"M23 22h-14c-0.552 0-1-0.448-1-1s0.448-1 1-1h14c0.552 0 1 0.448 1 1s-0.448 1-1 1z\"></path>\n",
       "<path d=\"M23 18h-14c-0.552 0-1-0.448-1-1s0.448-1 1-1h14c0.552 0 1 0.448 1 1s-0.448 1-1 1z\"></path>\n",
       "</symbol>\n",
       "</defs>\n",
       "</svg>\n",
       "<style>/* CSS stylesheet for displaying xarray objects in jupyterlab.\n",
       " *\n",
       " */\n",
       "\n",
       ":root {\n",
       "  --xr-font-color0: var(--jp-content-font-color0, rgba(0, 0, 0, 1));\n",
       "  --xr-font-color2: var(--jp-content-font-color2, rgba(0, 0, 0, 0.54));\n",
       "  --xr-font-color3: var(--jp-content-font-color3, rgba(0, 0, 0, 0.38));\n",
       "  --xr-border-color: var(--jp-border-color2, #e0e0e0);\n",
       "  --xr-disabled-color: var(--jp-layout-color3, #bdbdbd);\n",
       "  --xr-background-color: var(--jp-layout-color0, white);\n",
       "  --xr-background-color-row-even: var(--jp-layout-color1, white);\n",
       "  --xr-background-color-row-odd: var(--jp-layout-color2, #eeeeee);\n",
       "}\n",
       "\n",
       "html[theme=dark],\n",
       "body[data-theme=dark],\n",
       "body.vscode-dark {\n",
       "  --xr-font-color0: rgba(255, 255, 255, 1);\n",
       "  --xr-font-color2: rgba(255, 255, 255, 0.54);\n",
       "  --xr-font-color3: rgba(255, 255, 255, 0.38);\n",
       "  --xr-border-color: #1F1F1F;\n",
       "  --xr-disabled-color: #515151;\n",
       "  --xr-background-color: #111111;\n",
       "  --xr-background-color-row-even: #111111;\n",
       "  --xr-background-color-row-odd: #313131;\n",
       "}\n",
       "\n",
       ".xr-wrap {\n",
       "  display: block !important;\n",
       "  min-width: 300px;\n",
       "  max-width: 700px;\n",
       "}\n",
       "\n",
       ".xr-text-repr-fallback {\n",
       "  /* fallback to plain text repr when CSS is not injected (untrusted notebook) */\n",
       "  display: none;\n",
       "}\n",
       "\n",
       ".xr-header {\n",
       "  padding-top: 6px;\n",
       "  padding-bottom: 6px;\n",
       "  margin-bottom: 4px;\n",
       "  border-bottom: solid 1px var(--xr-border-color);\n",
       "}\n",
       "\n",
       ".xr-header > div,\n",
       ".xr-header > ul {\n",
       "  display: inline;\n",
       "  margin-top: 0;\n",
       "  margin-bottom: 0;\n",
       "}\n",
       "\n",
       ".xr-obj-type,\n",
       ".xr-array-name {\n",
       "  margin-left: 2px;\n",
       "  margin-right: 10px;\n",
       "}\n",
       "\n",
       ".xr-obj-type {\n",
       "  color: var(--xr-font-color2);\n",
       "}\n",
       "\n",
       ".xr-sections {\n",
       "  padding-left: 0 !important;\n",
       "  display: grid;\n",
       "  grid-template-columns: 150px auto auto 1fr 20px 20px;\n",
       "}\n",
       "\n",
       ".xr-section-item {\n",
       "  display: contents;\n",
       "}\n",
       "\n",
       ".xr-section-item input {\n",
       "  display: none;\n",
       "}\n",
       "\n",
       ".xr-section-item input + label {\n",
       "  color: var(--xr-disabled-color);\n",
       "}\n",
       "\n",
       ".xr-section-item input:enabled + label {\n",
       "  cursor: pointer;\n",
       "  color: var(--xr-font-color2);\n",
       "}\n",
       "\n",
       ".xr-section-item input:enabled + label:hover {\n",
       "  color: var(--xr-font-color0);\n",
       "}\n",
       "\n",
       ".xr-section-summary {\n",
       "  grid-column: 1;\n",
       "  color: var(--xr-font-color2);\n",
       "  font-weight: 500;\n",
       "}\n",
       "\n",
       ".xr-section-summary > span {\n",
       "  display: inline-block;\n",
       "  padding-left: 0.5em;\n",
       "}\n",
       "\n",
       ".xr-section-summary-in:disabled + label {\n",
       "  color: var(--xr-font-color2);\n",
       "}\n",
       "\n",
       ".xr-section-summary-in + label:before {\n",
       "  display: inline-block;\n",
       "  content: '►';\n",
       "  font-size: 11px;\n",
       "  width: 15px;\n",
       "  text-align: center;\n",
       "}\n",
       "\n",
       ".xr-section-summary-in:disabled + label:before {\n",
       "  color: var(--xr-disabled-color);\n",
       "}\n",
       "\n",
       ".xr-section-summary-in:checked + label:before {\n",
       "  content: '▼';\n",
       "}\n",
       "\n",
       ".xr-section-summary-in:checked + label > span {\n",
       "  display: none;\n",
       "}\n",
       "\n",
       ".xr-section-summary,\n",
       ".xr-section-inline-details {\n",
       "  padding-top: 4px;\n",
       "  padding-bottom: 4px;\n",
       "}\n",
       "\n",
       ".xr-section-inline-details {\n",
       "  grid-column: 2 / -1;\n",
       "}\n",
       "\n",
       ".xr-section-details {\n",
       "  display: none;\n",
       "  grid-column: 1 / -1;\n",
       "  margin-bottom: 5px;\n",
       "}\n",
       "\n",
       ".xr-section-summary-in:checked ~ .xr-section-details {\n",
       "  display: contents;\n",
       "}\n",
       "\n",
       ".xr-array-wrap {\n",
       "  grid-column: 1 / -1;\n",
       "  display: grid;\n",
       "  grid-template-columns: 20px auto;\n",
       "}\n",
       "\n",
       ".xr-array-wrap > label {\n",
       "  grid-column: 1;\n",
       "  vertical-align: top;\n",
       "}\n",
       "\n",
       ".xr-preview {\n",
       "  color: var(--xr-font-color3);\n",
       "}\n",
       "\n",
       ".xr-array-preview,\n",
       ".xr-array-data {\n",
       "  padding: 0 5px !important;\n",
       "  grid-column: 2;\n",
       "}\n",
       "\n",
       ".xr-array-data,\n",
       ".xr-array-in:checked ~ .xr-array-preview {\n",
       "  display: none;\n",
       "}\n",
       "\n",
       ".xr-array-in:checked ~ .xr-array-data,\n",
       ".xr-array-preview {\n",
       "  display: inline-block;\n",
       "}\n",
       "\n",
       ".xr-dim-list {\n",
       "  display: inline-block !important;\n",
       "  list-style: none;\n",
       "  padding: 0 !important;\n",
       "  margin: 0;\n",
       "}\n",
       "\n",
       ".xr-dim-list li {\n",
       "  display: inline-block;\n",
       "  padding: 0;\n",
       "  margin: 0;\n",
       "}\n",
       "\n",
       ".xr-dim-list:before {\n",
       "  content: '(';\n",
       "}\n",
       "\n",
       ".xr-dim-list:after {\n",
       "  content: ')';\n",
       "}\n",
       "\n",
       ".xr-dim-list li:not(:last-child):after {\n",
       "  content: ',';\n",
       "  padding-right: 5px;\n",
       "}\n",
       "\n",
       ".xr-has-index {\n",
       "  font-weight: bold;\n",
       "}\n",
       "\n",
       ".xr-var-list,\n",
       ".xr-var-item {\n",
       "  display: contents;\n",
       "}\n",
       "\n",
       ".xr-var-item > div,\n",
       ".xr-var-item label,\n",
       ".xr-var-item > .xr-var-name span {\n",
       "  background-color: var(--xr-background-color-row-even);\n",
       "  margin-bottom: 0;\n",
       "}\n",
       "\n",
       ".xr-var-item > .xr-var-name:hover span {\n",
       "  padding-right: 5px;\n",
       "}\n",
       "\n",
       ".xr-var-list > li:nth-child(odd) > div,\n",
       ".xr-var-list > li:nth-child(odd) > label,\n",
       ".xr-var-list > li:nth-child(odd) > .xr-var-name span {\n",
       "  background-color: var(--xr-background-color-row-odd);\n",
       "}\n",
       "\n",
       ".xr-var-name {\n",
       "  grid-column: 1;\n",
       "}\n",
       "\n",
       ".xr-var-dims {\n",
       "  grid-column: 2;\n",
       "}\n",
       "\n",
       ".xr-var-dtype {\n",
       "  grid-column: 3;\n",
       "  text-align: right;\n",
       "  color: var(--xr-font-color2);\n",
       "}\n",
       "\n",
       ".xr-var-preview {\n",
       "  grid-column: 4;\n",
       "}\n",
       "\n",
       ".xr-index-preview {\n",
       "  grid-column: 2 / 5;\n",
       "  color: var(--xr-font-color2);\n",
       "}\n",
       "\n",
       ".xr-var-name,\n",
       ".xr-var-dims,\n",
       ".xr-var-dtype,\n",
       ".xr-preview,\n",
       ".xr-attrs dt {\n",
       "  white-space: nowrap;\n",
       "  overflow: hidden;\n",
       "  text-overflow: ellipsis;\n",
       "  padding-right: 10px;\n",
       "}\n",
       "\n",
       ".xr-var-name:hover,\n",
       ".xr-var-dims:hover,\n",
       ".xr-var-dtype:hover,\n",
       ".xr-attrs dt:hover {\n",
       "  overflow: visible;\n",
       "  width: auto;\n",
       "  z-index: 1;\n",
       "}\n",
       "\n",
       ".xr-var-attrs,\n",
       ".xr-var-data,\n",
       ".xr-index-data {\n",
       "  display: none;\n",
       "  background-color: var(--xr-background-color) !important;\n",
       "  padding-bottom: 5px !important;\n",
       "}\n",
       "\n",
       ".xr-var-attrs-in:checked ~ .xr-var-attrs,\n",
       ".xr-var-data-in:checked ~ .xr-var-data,\n",
       ".xr-index-data-in:checked ~ .xr-index-data {\n",
       "  display: block;\n",
       "}\n",
       "\n",
       ".xr-var-data > table {\n",
       "  float: right;\n",
       "}\n",
       "\n",
       ".xr-var-name span,\n",
       ".xr-var-data,\n",
       ".xr-index-name div,\n",
       ".xr-index-data,\n",
       ".xr-attrs {\n",
       "  padding-left: 25px !important;\n",
       "}\n",
       "\n",
       ".xr-attrs,\n",
       ".xr-var-attrs,\n",
       ".xr-var-data,\n",
       ".xr-index-data {\n",
       "  grid-column: 1 / -1;\n",
       "}\n",
       "\n",
       "dl.xr-attrs {\n",
       "  padding: 0;\n",
       "  margin: 0;\n",
       "  display: grid;\n",
       "  grid-template-columns: 125px auto;\n",
       "}\n",
       "\n",
       ".xr-attrs dt,\n",
       ".xr-attrs dd {\n",
       "  padding: 0;\n",
       "  margin: 0;\n",
       "  float: left;\n",
       "  padding-right: 10px;\n",
       "  width: auto;\n",
       "}\n",
       "\n",
       ".xr-attrs dt {\n",
       "  font-weight: normal;\n",
       "  grid-column: 1;\n",
       "}\n",
       "\n",
       ".xr-attrs dt:hover span {\n",
       "  display: inline-block;\n",
       "  background: var(--xr-background-color);\n",
       "  padding-right: 10px;\n",
       "}\n",
       "\n",
       ".xr-attrs dd {\n",
       "  grid-column: 2;\n",
       "  white-space: pre-wrap;\n",
       "  word-break: break-all;\n",
       "}\n",
       "\n",
       ".xr-icon-database,\n",
       ".xr-icon-file-text2,\n",
       ".xr-no-icon {\n",
       "  display: inline-block;\n",
       "  vertical-align: middle;\n",
       "  width: 1em;\n",
       "  height: 1.5em !important;\n",
       "  stroke-width: 0;\n",
       "  stroke: currentColor;\n",
       "  fill: currentColor;\n",
       "}\n",
       "</style><pre class='xr-text-repr-fallback'>&lt;xarray.Dataset&gt; Size: 75kB\n",
       "Dimensions:                       (time: 101, rgi_id: 2, month_2d: 12)\n",
       "Coordinates:\n",
       "  * time                          (time) float64 808B 0.0 1.0 2.0 ... 99.0 100.0\n",
       "  * rgi_id                        (rgi_id) &lt;U14 112B &#x27;RGI60-16.01339&#x27; &#x27;RGI60-...\n",
       "    hydro_year                    (time) int64 808B ...\n",
       "    hydro_month                   (time) int64 808B ...\n",
       "    calendar_year                 (time) int64 808B ...\n",
       "    calendar_month                (time) int64 808B ...\n",
       "  * month_2d                      (month_2d) int64 96B 1 2 3 4 5 ... 9 10 11 12\n",
       "    calendar_month_2d             (month_2d) int64 96B ...\n",
       "Data variables: (12/24)\n",
       "    volume                        (time, rgi_id) float32 808B ...\n",
       "    volume_bsl                    (time, rgi_id) float32 808B ...\n",
       "    volume_bwl                    (time, rgi_id) float32 808B ...\n",
       "    area                          (time, rgi_id) float32 808B ...\n",
       "    length                        (time, rgi_id) float32 808B ...\n",
       "    calving                       (time, rgi_id) float32 808B ...\n",
       "    ...                            ...\n",
       "    liq_prcp_on_glacier_monthly   (time, month_2d, rgi_id) float32 10kB ...\n",
       "    snowfall_off_glacier_monthly  (time, month_2d, rgi_id) float32 10kB ...\n",
       "    snowfall_on_glacier_monthly   (time, month_2d, rgi_id) float32 10kB ...\n",
       "    water_level                   (rgi_id) float32 8B ...\n",
       "    glen_a                        (rgi_id) float32 8B ...\n",
       "    fs                            (rgi_id) float32 8B ...\n",
       "Attributes:\n",
       "    description:    OGGM model output\n",
       "    oggm_version:   1.6.1\n",
       "    calendar:       365-day no leap\n",
       "    creation_date:  2024-07-11 14:45:57</pre><div class='xr-wrap' style='display:none'><div class='xr-header'><div class='xr-obj-type'>xarray.Dataset</div></div><ul class='xr-sections'><li class='xr-section-item'><input id='section-934d57e0-2b98-4c16-a6d9-dbfbd9c72ad5' class='xr-section-summary-in' type='checkbox' disabled ><label for='section-934d57e0-2b98-4c16-a6d9-dbfbd9c72ad5' class='xr-section-summary'  title='Expand/collapse section'>Dimensions:</label><div class='xr-section-inline-details'><ul class='xr-dim-list'><li><span class='xr-has-index'>time</span>: 101</li><li><span class='xr-has-index'>rgi_id</span>: 2</li><li><span class='xr-has-index'>month_2d</span>: 12</li></ul></div><div class='xr-section-details'></div></li><li class='xr-section-item'><input id='section-031b0b4b-01b2-421d-ae58-06f9e1f3a7f5' class='xr-section-summary-in' type='checkbox'  checked><label for='section-031b0b4b-01b2-421d-ae58-06f9e1f3a7f5' class='xr-section-summary' >Coordinates: <span>(8)</span></label><div class='xr-section-inline-details'></div><div class='xr-section-details'><ul class='xr-var-list'><li class='xr-var-item'><div class='xr-var-name'><span class='xr-has-index'>time</span></div><div class='xr-var-dims'>(time)</div><div class='xr-var-dtype'>float64</div><div class='xr-var-preview xr-preview'>0.0 1.0 2.0 3.0 ... 98.0 99.0 100.0</div><input id='attrs-a344b303-a0bc-4a80-b072-1edc0c34a2a9' class='xr-var-attrs-in' type='checkbox' ><label for='attrs-a344b303-a0bc-4a80-b072-1edc0c34a2a9' title='Show/Hide attributes'><svg class='icon xr-icon-file-text2'><use xlink:href='#icon-file-text2'></use></svg></label><input id='data-80d8d3b4-d9c3-463b-b5b7-e8a9a9f173cf' class='xr-var-data-in' type='checkbox'><label for='data-80d8d3b4-d9c3-463b-b5b7-e8a9a9f173cf' title='Show/Hide data repr'><svg class='icon xr-icon-database'><use xlink:href='#icon-database'></use></svg></label><div class='xr-var-attrs'><dl class='xr-attrs'><dt><span>description :</span></dt><dd>Floating year</dd></dl></div><div class='xr-var-data'><pre>array([  0.,   1.,   2.,   3.,   4.,   5.,   6.,   7.,   8.,   9.,  10.,  11.,\n",
       "        12.,  13.,  14.,  15.,  16.,  17.,  18.,  19.,  20.,  21.,  22.,  23.,\n",
       "        24.,  25.,  26.,  27.,  28.,  29.,  30.,  31.,  32.,  33.,  34.,  35.,\n",
       "        36.,  37.,  38.,  39.,  40.,  41.,  42.,  43.,  44.,  45.,  46.,  47.,\n",
       "        48.,  49.,  50.,  51.,  52.,  53.,  54.,  55.,  56.,  57.,  58.,  59.,\n",
       "        60.,  61.,  62.,  63.,  64.,  65.,  66.,  67.,  68.,  69.,  70.,  71.,\n",
       "        72.,  73.,  74.,  75.,  76.,  77.,  78.,  79.,  80.,  81.,  82.,  83.,\n",
       "        84.,  85.,  86.,  87.,  88.,  89.,  90.,  91.,  92.,  93.,  94.,  95.,\n",
       "        96.,  97.,  98.,  99., 100.])</pre></div></li><li class='xr-var-item'><div class='xr-var-name'><span class='xr-has-index'>rgi_id</span></div><div class='xr-var-dims'>(rgi_id)</div><div class='xr-var-dtype'>&lt;U14</div><div class='xr-var-preview xr-preview'>&#x27;RGI60-16.01339&#x27; &#x27;RGI60-16.02943&#x27;</div><input id='attrs-fa8b9159-0a35-4d3f-ab3d-3db05b38690a' class='xr-var-attrs-in' type='checkbox' ><label for='attrs-fa8b9159-0a35-4d3f-ab3d-3db05b38690a' title='Show/Hide attributes'><svg class='icon xr-icon-file-text2'><use xlink:href='#icon-file-text2'></use></svg></label><input id='data-ec9347fb-0194-440b-970e-c01da4e6ef54' class='xr-var-data-in' type='checkbox'><label for='data-ec9347fb-0194-440b-970e-c01da4e6ef54' title='Show/Hide data repr'><svg class='icon xr-icon-database'><use xlink:href='#icon-database'></use></svg></label><div class='xr-var-attrs'><dl class='xr-attrs'><dt><span>description :</span></dt><dd>RGI glacier identifier</dd></dl></div><div class='xr-var-data'><pre>array([&#x27;RGI60-16.01339&#x27;, &#x27;RGI60-16.02943&#x27;], dtype=&#x27;&lt;U14&#x27;)</pre></div></li><li class='xr-var-item'><div class='xr-var-name'><span>hydro_year</span></div><div class='xr-var-dims'>(time)</div><div class='xr-var-dtype'>int64</div><div class='xr-var-preview xr-preview'>...</div><input id='attrs-04087746-5f38-497f-8438-1ecf96dcef83' class='xr-var-attrs-in' type='checkbox' ><label for='attrs-04087746-5f38-497f-8438-1ecf96dcef83' title='Show/Hide attributes'><svg class='icon xr-icon-file-text2'><use xlink:href='#icon-file-text2'></use></svg></label><input id='data-27e03865-bc67-42eb-8c7e-5f56698d354b' class='xr-var-data-in' type='checkbox'><label for='data-27e03865-bc67-42eb-8c7e-5f56698d354b' title='Show/Hide data repr'><svg class='icon xr-icon-database'><use xlink:href='#icon-database'></use></svg></label><div class='xr-var-attrs'><dl class='xr-attrs'><dt><span>description :</span></dt><dd>Hydrological year</dd></dl></div><div class='xr-var-data'><pre>[101 values with dtype=int64]</pre></div></li><li class='xr-var-item'><div class='xr-var-name'><span>hydro_month</span></div><div class='xr-var-dims'>(time)</div><div class='xr-var-dtype'>int64</div><div class='xr-var-preview xr-preview'>...</div><input id='attrs-d7ee3215-d785-4942-b452-b2d7169e3437' class='xr-var-attrs-in' type='checkbox' ><label for='attrs-d7ee3215-d785-4942-b452-b2d7169e3437' title='Show/Hide attributes'><svg class='icon xr-icon-file-text2'><use xlink:href='#icon-file-text2'></use></svg></label><input id='data-ef3cf552-8b37-4413-b7c8-76a9dead625d' class='xr-var-data-in' type='checkbox'><label for='data-ef3cf552-8b37-4413-b7c8-76a9dead625d' title='Show/Hide data repr'><svg class='icon xr-icon-database'><use xlink:href='#icon-database'></use></svg></label><div class='xr-var-attrs'><dl class='xr-attrs'><dt><span>description :</span></dt><dd>Hydrological month</dd></dl></div><div class='xr-var-data'><pre>[101 values with dtype=int64]</pre></div></li><li class='xr-var-item'><div class='xr-var-name'><span>calendar_year</span></div><div class='xr-var-dims'>(time)</div><div class='xr-var-dtype'>int64</div><div class='xr-var-preview xr-preview'>...</div><input id='attrs-edd2c537-8184-4dce-8487-4689535384a4' class='xr-var-attrs-in' type='checkbox' ><label for='attrs-edd2c537-8184-4dce-8487-4689535384a4' title='Show/Hide attributes'><svg class='icon xr-icon-file-text2'><use xlink:href='#icon-file-text2'></use></svg></label><input id='data-9dd29a14-4645-447b-8c70-758ed12cb58c' class='xr-var-data-in' type='checkbox'><label for='data-9dd29a14-4645-447b-8c70-758ed12cb58c' title='Show/Hide data repr'><svg class='icon xr-icon-database'><use xlink:href='#icon-database'></use></svg></label><div class='xr-var-attrs'><dl class='xr-attrs'><dt><span>description :</span></dt><dd>Calendar year</dd></dl></div><div class='xr-var-data'><pre>[101 values with dtype=int64]</pre></div></li><li class='xr-var-item'><div class='xr-var-name'><span>calendar_month</span></div><div class='xr-var-dims'>(time)</div><div class='xr-var-dtype'>int64</div><div class='xr-var-preview xr-preview'>...</div><input id='attrs-9e4a3a98-fe01-4399-80d5-786a69e59c30' class='xr-var-attrs-in' type='checkbox' ><label for='attrs-9e4a3a98-fe01-4399-80d5-786a69e59c30' title='Show/Hide attributes'><svg class='icon xr-icon-file-text2'><use xlink:href='#icon-file-text2'></use></svg></label><input id='data-94fb1158-3fe2-4fd6-af78-040668f2e545' class='xr-var-data-in' type='checkbox'><label for='data-94fb1158-3fe2-4fd6-af78-040668f2e545' title='Show/Hide data repr'><svg class='icon xr-icon-database'><use xlink:href='#icon-database'></use></svg></label><div class='xr-var-attrs'><dl class='xr-attrs'><dt><span>description :</span></dt><dd>Calendar month</dd></dl></div><div class='xr-var-data'><pre>[101 values with dtype=int64]</pre></div></li><li class='xr-var-item'><div class='xr-var-name'><span class='xr-has-index'>month_2d</span></div><div class='xr-var-dims'>(month_2d)</div><div class='xr-var-dtype'>int64</div><div class='xr-var-preview xr-preview'>1 2 3 4 5 6 7 8 9 10 11 12</div><input id='attrs-18358dde-7e27-47b9-9412-a10628d7fec8' class='xr-var-attrs-in' type='checkbox' disabled><label for='attrs-18358dde-7e27-47b9-9412-a10628d7fec8' title='Show/Hide attributes'><svg class='icon xr-icon-file-text2'><use xlink:href='#icon-file-text2'></use></svg></label><input id='data-7cc73dda-7f25-46f0-ad83-6e5ff56a9a68' class='xr-var-data-in' type='checkbox'><label for='data-7cc73dda-7f25-46f0-ad83-6e5ff56a9a68' title='Show/Hide data repr'><svg class='icon xr-icon-database'><use xlink:href='#icon-database'></use></svg></label><div class='xr-var-attrs'><dl class='xr-attrs'></dl></div><div class='xr-var-data'><pre>array([ 1,  2,  3,  4,  5,  6,  7,  8,  9, 10, 11, 12])</pre></div></li><li class='xr-var-item'><div class='xr-var-name'><span>calendar_month_2d</span></div><div class='xr-var-dims'>(month_2d)</div><div class='xr-var-dtype'>int64</div><div class='xr-var-preview xr-preview'>...</div><input id='attrs-8282d8d2-dde8-4618-ae10-2505b3d1a8f6' class='xr-var-attrs-in' type='checkbox' disabled><label for='attrs-8282d8d2-dde8-4618-ae10-2505b3d1a8f6' title='Show/Hide attributes'><svg class='icon xr-icon-file-text2'><use xlink:href='#icon-file-text2'></use></svg></label><input id='data-404335e7-dbba-4a23-9b8b-5bd573618195' class='xr-var-data-in' type='checkbox'><label for='data-404335e7-dbba-4a23-9b8b-5bd573618195' title='Show/Hide data repr'><svg class='icon xr-icon-database'><use xlink:href='#icon-database'></use></svg></label><div class='xr-var-attrs'><dl class='xr-attrs'></dl></div><div class='xr-var-data'><pre>[12 values with dtype=int64]</pre></div></li></ul></div></li><li class='xr-section-item'><input id='section-d498406a-7c1c-4dab-a7d6-b4ace9c0c585' class='xr-section-summary-in' type='checkbox'  ><label for='section-d498406a-7c1c-4dab-a7d6-b4ace9c0c585' class='xr-section-summary' >Data variables: <span>(24)</span></label><div class='xr-section-inline-details'></div><div class='xr-section-details'><ul class='xr-var-list'><li class='xr-var-item'><div class='xr-var-name'><span>volume</span></div><div class='xr-var-dims'>(time, rgi_id)</div><div class='xr-var-dtype'>float32</div><div class='xr-var-preview xr-preview'>...</div><input id='attrs-483c8f84-f5a1-4244-b3d8-44dcba6f59a2' class='xr-var-attrs-in' type='checkbox' ><label for='attrs-483c8f84-f5a1-4244-b3d8-44dcba6f59a2' title='Show/Hide attributes'><svg class='icon xr-icon-file-text2'><use xlink:href='#icon-file-text2'></use></svg></label><input id='data-cc26c63d-ce23-477b-b7c9-137c084b6eec' class='xr-var-data-in' type='checkbox'><label for='data-cc26c63d-ce23-477b-b7c9-137c084b6eec' title='Show/Hide data repr'><svg class='icon xr-icon-database'><use xlink:href='#icon-database'></use></svg></label><div class='xr-var-attrs'><dl class='xr-attrs'><dt><span>description :</span></dt><dd>Total glacier volume</dd><dt><span>unit :</span></dt><dd>m 3</dd></dl></div><div class='xr-var-data'><pre>[202 values with dtype=float32]</pre></div></li><li class='xr-var-item'><div class='xr-var-name'><span>volume_bsl</span></div><div class='xr-var-dims'>(time, rgi_id)</div><div class='xr-var-dtype'>float32</div><div class='xr-var-preview xr-preview'>...</div><input id='attrs-739e9095-5b0a-439b-a711-801b85f8a86e' class='xr-var-attrs-in' type='checkbox' ><label for='attrs-739e9095-5b0a-439b-a711-801b85f8a86e' title='Show/Hide attributes'><svg class='icon xr-icon-file-text2'><use xlink:href='#icon-file-text2'></use></svg></label><input id='data-587092d0-a61f-4ae2-8c62-daf56ab43c4d' class='xr-var-data-in' type='checkbox'><label for='data-587092d0-a61f-4ae2-8c62-daf56ab43c4d' title='Show/Hide data repr'><svg class='icon xr-icon-database'><use xlink:href='#icon-database'></use></svg></label><div class='xr-var-attrs'><dl class='xr-attrs'><dt><span>description :</span></dt><dd>Glacier volume below sea-level</dd><dt><span>unit :</span></dt><dd>m 3</dd></dl></div><div class='xr-var-data'><pre>[202 values with dtype=float32]</pre></div></li><li class='xr-var-item'><div class='xr-var-name'><span>volume_bwl</span></div><div class='xr-var-dims'>(time, rgi_id)</div><div class='xr-var-dtype'>float32</div><div class='xr-var-preview xr-preview'>...</div><input id='attrs-1fdb3f21-f346-4c0d-96e7-8f9e9b75a0e8' class='xr-var-attrs-in' type='checkbox' ><label for='attrs-1fdb3f21-f346-4c0d-96e7-8f9e9b75a0e8' title='Show/Hide attributes'><svg class='icon xr-icon-file-text2'><use xlink:href='#icon-file-text2'></use></svg></label><input id='data-280ce6ed-9794-4f64-844d-7e1dfb825fbd' class='xr-var-data-in' type='checkbox'><label for='data-280ce6ed-9794-4f64-844d-7e1dfb825fbd' title='Show/Hide data repr'><svg class='icon xr-icon-database'><use xlink:href='#icon-database'></use></svg></label><div class='xr-var-attrs'><dl class='xr-attrs'><dt><span>description :</span></dt><dd>Glacier volume below water-level</dd><dt><span>unit :</span></dt><dd>m 3</dd></dl></div><div class='xr-var-data'><pre>[202 values with dtype=float32]</pre></div></li><li class='xr-var-item'><div class='xr-var-name'><span>area</span></div><div class='xr-var-dims'>(time, rgi_id)</div><div class='xr-var-dtype'>float32</div><div class='xr-var-preview xr-preview'>...</div><input id='attrs-d6567da7-271f-4277-90ef-f1c567abcc74' class='xr-var-attrs-in' type='checkbox' ><label for='attrs-d6567da7-271f-4277-90ef-f1c567abcc74' title='Show/Hide attributes'><svg class='icon xr-icon-file-text2'><use xlink:href='#icon-file-text2'></use></svg></label><input id='data-3a464fd7-59a0-4bf7-93bd-b0c21e6f8f67' class='xr-var-data-in' type='checkbox'><label for='data-3a464fd7-59a0-4bf7-93bd-b0c21e6f8f67' title='Show/Hide data repr'><svg class='icon xr-icon-database'><use xlink:href='#icon-database'></use></svg></label><div class='xr-var-attrs'><dl class='xr-attrs'><dt><span>description :</span></dt><dd>Total glacier area</dd><dt><span>unit :</span></dt><dd>m 2</dd></dl></div><div class='xr-var-data'><pre>[202 values with dtype=float32]</pre></div></li><li class='xr-var-item'><div class='xr-var-name'><span>length</span></div><div class='xr-var-dims'>(time, rgi_id)</div><div class='xr-var-dtype'>float32</div><div class='xr-var-preview xr-preview'>...</div><input id='attrs-e85bab28-d7ea-4839-a748-246d5540b615' class='xr-var-attrs-in' type='checkbox' ><label for='attrs-e85bab28-d7ea-4839-a748-246d5540b615' title='Show/Hide attributes'><svg class='icon xr-icon-file-text2'><use xlink:href='#icon-file-text2'></use></svg></label><input id='data-e0f59a4d-f14f-4b84-8b98-94f1db22b4ce' class='xr-var-data-in' type='checkbox'><label for='data-e0f59a4d-f14f-4b84-8b98-94f1db22b4ce' title='Show/Hide data repr'><svg class='icon xr-icon-database'><use xlink:href='#icon-database'></use></svg></label><div class='xr-var-attrs'><dl class='xr-attrs'><dt><span>description :</span></dt><dd>Glacier length</dd><dt><span>unit :</span></dt><dd>m</dd></dl></div><div class='xr-var-data'><pre>[202 values with dtype=float32]</pre></div></li><li class='xr-var-item'><div class='xr-var-name'><span>calving</span></div><div class='xr-var-dims'>(time, rgi_id)</div><div class='xr-var-dtype'>float32</div><div class='xr-var-preview xr-preview'>...</div><input id='attrs-9c27a607-5c24-4e20-a500-7ea662943a4a' class='xr-var-attrs-in' type='checkbox' ><label for='attrs-9c27a607-5c24-4e20-a500-7ea662943a4a' title='Show/Hide attributes'><svg class='icon xr-icon-file-text2'><use xlink:href='#icon-file-text2'></use></svg></label><input id='data-de7cd827-e8ba-4612-b4c2-2327ed2d9c70' class='xr-var-data-in' type='checkbox'><label for='data-de7cd827-e8ba-4612-b4c2-2327ed2d9c70' title='Show/Hide data repr'><svg class='icon xr-icon-database'><use xlink:href='#icon-database'></use></svg></label><div class='xr-var-attrs'><dl class='xr-attrs'><dt><span>description :</span></dt><dd>Total accumulated calving flux</dd><dt><span>unit :</span></dt><dd>m 3</dd></dl></div><div class='xr-var-data'><pre>[202 values with dtype=float32]</pre></div></li><li class='xr-var-item'><div class='xr-var-name'><span>calving_rate</span></div><div class='xr-var-dims'>(time, rgi_id)</div><div class='xr-var-dtype'>float32</div><div class='xr-var-preview xr-preview'>...</div><input id='attrs-cfa47213-a008-474c-a6c6-634df52d2af7' class='xr-var-attrs-in' type='checkbox' ><label for='attrs-cfa47213-a008-474c-a6c6-634df52d2af7' title='Show/Hide attributes'><svg class='icon xr-icon-file-text2'><use xlink:href='#icon-file-text2'></use></svg></label><input id='data-04dbb161-2da6-45e6-a9a6-b1e80eb630ec' class='xr-var-data-in' type='checkbox'><label for='data-04dbb161-2da6-45e6-a9a6-b1e80eb630ec' title='Show/Hide data repr'><svg class='icon xr-icon-database'><use xlink:href='#icon-database'></use></svg></label><div class='xr-var-attrs'><dl class='xr-attrs'><dt><span>description :</span></dt><dd>Calving rate</dd><dt><span>unit :</span></dt><dd>m yr-1</dd></dl></div><div class='xr-var-data'><pre>[202 values with dtype=float32]</pre></div></li><li class='xr-var-item'><div class='xr-var-name'><span>off_area</span></div><div class='xr-var-dims'>(time, rgi_id)</div><div class='xr-var-dtype'>float32</div><div class='xr-var-preview xr-preview'>...</div><input id='attrs-a5eb458c-fa2c-4628-927c-4cca367a9df5' class='xr-var-attrs-in' type='checkbox' ><label for='attrs-a5eb458c-fa2c-4628-927c-4cca367a9df5' title='Show/Hide attributes'><svg class='icon xr-icon-file-text2'><use xlink:href='#icon-file-text2'></use></svg></label><input id='data-ab1d1961-d06c-4b22-83f6-d5da1588cd74' class='xr-var-data-in' type='checkbox'><label for='data-ab1d1961-d06c-4b22-83f6-d5da1588cd74' title='Show/Hide data repr'><svg class='icon xr-icon-database'><use xlink:href='#icon-database'></use></svg></label><div class='xr-var-attrs'><dl class='xr-attrs'><dt><span>description :</span></dt><dd>Off-glacier area</dd><dt><span>unit :</span></dt><dd>m 2</dd></dl></div><div class='xr-var-data'><pre>[202 values with dtype=float32]</pre></div></li><li class='xr-var-item'><div class='xr-var-name'><span>on_area</span></div><div class='xr-var-dims'>(time, rgi_id)</div><div class='xr-var-dtype'>float32</div><div class='xr-var-preview xr-preview'>...</div><input id='attrs-8a366004-3a44-46c9-a792-4febc99b4821' class='xr-var-attrs-in' type='checkbox' ><label for='attrs-8a366004-3a44-46c9-a792-4febc99b4821' title='Show/Hide attributes'><svg class='icon xr-icon-file-text2'><use xlink:href='#icon-file-text2'></use></svg></label><input id='data-5dd8f533-4a66-45f7-ad92-fe759c360644' class='xr-var-data-in' type='checkbox'><label for='data-5dd8f533-4a66-45f7-ad92-fe759c360644' title='Show/Hide data repr'><svg class='icon xr-icon-database'><use xlink:href='#icon-database'></use></svg></label><div class='xr-var-attrs'><dl class='xr-attrs'><dt><span>unit :</span></dt><dd>m 2</dd><dt><span>description :</span></dt><dd>On-glacier area</dd></dl></div><div class='xr-var-data'><pre>[202 values with dtype=float32]</pre></div></li><li class='xr-var-item'><div class='xr-var-name'><span>melt_off_glacier</span></div><div class='xr-var-dims'>(time, rgi_id)</div><div class='xr-var-dtype'>float32</div><div class='xr-var-preview xr-preview'>...</div><input id='attrs-a657036d-a0f6-4bbc-a0d8-b75c25bb7060' class='xr-var-attrs-in' type='checkbox' ><label for='attrs-a657036d-a0f6-4bbc-a0d8-b75c25bb7060' title='Show/Hide attributes'><svg class='icon xr-icon-file-text2'><use xlink:href='#icon-file-text2'></use></svg></label><input id='data-0a0bc348-98c1-45c5-aa84-ac07b3cd519a' class='xr-var-data-in' type='checkbox'><label for='data-0a0bc348-98c1-45c5-aa84-ac07b3cd519a' title='Show/Hide data repr'><svg class='icon xr-icon-database'><use xlink:href='#icon-database'></use></svg></label><div class='xr-var-attrs'><dl class='xr-attrs'><dt><span>description :</span></dt><dd>Off-glacier melt</dd><dt><span>unit :</span></dt><dd>kg yr-1</dd></dl></div><div class='xr-var-data'><pre>[202 values with dtype=float32]</pre></div></li><li class='xr-var-item'><div class='xr-var-name'><span>melt_on_glacier</span></div><div class='xr-var-dims'>(time, rgi_id)</div><div class='xr-var-dtype'>float32</div><div class='xr-var-preview xr-preview'>...</div><input id='attrs-142ba3b0-f946-4035-b3e0-17e67938d454' class='xr-var-attrs-in' type='checkbox' ><label for='attrs-142ba3b0-f946-4035-b3e0-17e67938d454' title='Show/Hide attributes'><svg class='icon xr-icon-file-text2'><use xlink:href='#icon-file-text2'></use></svg></label><input id='data-00aea106-dc78-44d5-ae34-eedca6312c13' class='xr-var-data-in' type='checkbox'><label for='data-00aea106-dc78-44d5-ae34-eedca6312c13' title='Show/Hide data repr'><svg class='icon xr-icon-database'><use xlink:href='#icon-database'></use></svg></label><div class='xr-var-attrs'><dl class='xr-attrs'><dt><span>description :</span></dt><dd>On-glacier melt</dd><dt><span>unit :</span></dt><dd>kg yr-1</dd></dl></div><div class='xr-var-data'><pre>[202 values with dtype=float32]</pre></div></li><li class='xr-var-item'><div class='xr-var-name'><span>liq_prcp_off_glacier</span></div><div class='xr-var-dims'>(time, rgi_id)</div><div class='xr-var-dtype'>float32</div><div class='xr-var-preview xr-preview'>...</div><input id='attrs-f74793e0-61db-460d-b79a-4d8abbe74e90' class='xr-var-attrs-in' type='checkbox' ><label for='attrs-f74793e0-61db-460d-b79a-4d8abbe74e90' title='Show/Hide attributes'><svg class='icon xr-icon-file-text2'><use xlink:href='#icon-file-text2'></use></svg></label><input id='data-993c4020-921a-4a27-951b-d5cdee0ad4b4' class='xr-var-data-in' type='checkbox'><label for='data-993c4020-921a-4a27-951b-d5cdee0ad4b4' title='Show/Hide data repr'><svg class='icon xr-icon-database'><use xlink:href='#icon-database'></use></svg></label><div class='xr-var-attrs'><dl class='xr-attrs'><dt><span>description :</span></dt><dd>Off-glacier liquid precipitation</dd><dt><span>unit :</span></dt><dd>kg yr-1</dd></dl></div><div class='xr-var-data'><pre>[202 values with dtype=float32]</pre></div></li><li class='xr-var-item'><div class='xr-var-name'><span>liq_prcp_on_glacier</span></div><div class='xr-var-dims'>(time, rgi_id)</div><div class='xr-var-dtype'>float32</div><div class='xr-var-preview xr-preview'>...</div><input id='attrs-8d9004b0-8b49-431f-bcc7-9e7203e3be6a' class='xr-var-attrs-in' type='checkbox' ><label for='attrs-8d9004b0-8b49-431f-bcc7-9e7203e3be6a' title='Show/Hide attributes'><svg class='icon xr-icon-file-text2'><use xlink:href='#icon-file-text2'></use></svg></label><input id='data-ca18ed04-69d4-447f-9c15-e6a56302e8b7' class='xr-var-data-in' type='checkbox'><label for='data-ca18ed04-69d4-447f-9c15-e6a56302e8b7' title='Show/Hide data repr'><svg class='icon xr-icon-database'><use xlink:href='#icon-database'></use></svg></label><div class='xr-var-attrs'><dl class='xr-attrs'><dt><span>description :</span></dt><dd>On-glacier liquid precipitation</dd><dt><span>unit :</span></dt><dd>kg yr-1</dd></dl></div><div class='xr-var-data'><pre>[202 values with dtype=float32]</pre></div></li><li class='xr-var-item'><div class='xr-var-name'><span>snowfall_off_glacier</span></div><div class='xr-var-dims'>(time, rgi_id)</div><div class='xr-var-dtype'>float32</div><div class='xr-var-preview xr-preview'>...</div><input id='attrs-3fe0150b-3e38-4703-b4ae-02b7c7b4cccb' class='xr-var-attrs-in' type='checkbox' ><label for='attrs-3fe0150b-3e38-4703-b4ae-02b7c7b4cccb' title='Show/Hide attributes'><svg class='icon xr-icon-file-text2'><use xlink:href='#icon-file-text2'></use></svg></label><input id='data-130ea669-46a3-4b02-8a5f-a6a4a6fe3069' class='xr-var-data-in' type='checkbox'><label for='data-130ea669-46a3-4b02-8a5f-a6a4a6fe3069' title='Show/Hide data repr'><svg class='icon xr-icon-database'><use xlink:href='#icon-database'></use></svg></label><div class='xr-var-attrs'><dl class='xr-attrs'><dt><span>description :</span></dt><dd>Off-glacier solid precipitation</dd><dt><span>unit :</span></dt><dd>kg yr-1</dd></dl></div><div class='xr-var-data'><pre>[202 values with dtype=float32]</pre></div></li><li class='xr-var-item'><div class='xr-var-name'><span>snowfall_on_glacier</span></div><div class='xr-var-dims'>(time, rgi_id)</div><div class='xr-var-dtype'>float32</div><div class='xr-var-preview xr-preview'>...</div><input id='attrs-9b53f9ef-418f-4ae6-ab05-0a3f3e490b82' class='xr-var-attrs-in' type='checkbox' ><label for='attrs-9b53f9ef-418f-4ae6-ab05-0a3f3e490b82' title='Show/Hide attributes'><svg class='icon xr-icon-file-text2'><use xlink:href='#icon-file-text2'></use></svg></label><input id='data-314067e9-c1b1-45e5-9a2d-84c33cb9cff3' class='xr-var-data-in' type='checkbox'><label for='data-314067e9-c1b1-45e5-9a2d-84c33cb9cff3' title='Show/Hide data repr'><svg class='icon xr-icon-database'><use xlink:href='#icon-database'></use></svg></label><div class='xr-var-attrs'><dl class='xr-attrs'><dt><span>description :</span></dt><dd>On-glacier solid precipitation</dd><dt><span>unit :</span></dt><dd>kg yr-1</dd></dl></div><div class='xr-var-data'><pre>[202 values with dtype=float32]</pre></div></li><li class='xr-var-item'><div class='xr-var-name'><span>melt_off_glacier_monthly</span></div><div class='xr-var-dims'>(time, month_2d, rgi_id)</div><div class='xr-var-dtype'>float32</div><div class='xr-var-preview xr-preview'>...</div><input id='attrs-9a9d7dae-ada5-4f6b-8f79-af978fbd6377' class='xr-var-attrs-in' type='checkbox' disabled><label for='attrs-9a9d7dae-ada5-4f6b-8f79-af978fbd6377' title='Show/Hide attributes'><svg class='icon xr-icon-file-text2'><use xlink:href='#icon-file-text2'></use></svg></label><input id='data-deae99f9-b5db-48ea-a2b5-514e3b6dfc17' class='xr-var-data-in' type='checkbox'><label for='data-deae99f9-b5db-48ea-a2b5-514e3b6dfc17' title='Show/Hide data repr'><svg class='icon xr-icon-database'><use xlink:href='#icon-database'></use></svg></label><div class='xr-var-attrs'><dl class='xr-attrs'></dl></div><div class='xr-var-data'><pre>[2424 values with dtype=float32]</pre></div></li><li class='xr-var-item'><div class='xr-var-name'><span>melt_on_glacier_monthly</span></div><div class='xr-var-dims'>(time, month_2d, rgi_id)</div><div class='xr-var-dtype'>float32</div><div class='xr-var-preview xr-preview'>...</div><input id='attrs-00e246fc-a76e-4943-803a-220c4538945a' class='xr-var-attrs-in' type='checkbox' disabled><label for='attrs-00e246fc-a76e-4943-803a-220c4538945a' title='Show/Hide attributes'><svg class='icon xr-icon-file-text2'><use xlink:href='#icon-file-text2'></use></svg></label><input id='data-855d02c9-ea2d-4ff9-8a09-12fde13fabc4' class='xr-var-data-in' type='checkbox'><label for='data-855d02c9-ea2d-4ff9-8a09-12fde13fabc4' title='Show/Hide data repr'><svg class='icon xr-icon-database'><use xlink:href='#icon-database'></use></svg></label><div class='xr-var-attrs'><dl class='xr-attrs'></dl></div><div class='xr-var-data'><pre>[2424 values with dtype=float32]</pre></div></li><li class='xr-var-item'><div class='xr-var-name'><span>liq_prcp_off_glacier_monthly</span></div><div class='xr-var-dims'>(time, month_2d, rgi_id)</div><div class='xr-var-dtype'>float32</div><div class='xr-var-preview xr-preview'>...</div><input id='attrs-1efa6f6f-e3c8-4306-bade-7a2d357accf7' class='xr-var-attrs-in' type='checkbox' disabled><label for='attrs-1efa6f6f-e3c8-4306-bade-7a2d357accf7' title='Show/Hide attributes'><svg class='icon xr-icon-file-text2'><use xlink:href='#icon-file-text2'></use></svg></label><input id='data-67a03034-883d-4030-985b-104e217cbbe3' class='xr-var-data-in' type='checkbox'><label for='data-67a03034-883d-4030-985b-104e217cbbe3' title='Show/Hide data repr'><svg class='icon xr-icon-database'><use xlink:href='#icon-database'></use></svg></label><div class='xr-var-attrs'><dl class='xr-attrs'></dl></div><div class='xr-var-data'><pre>[2424 values with dtype=float32]</pre></div></li><li class='xr-var-item'><div class='xr-var-name'><span>liq_prcp_on_glacier_monthly</span></div><div class='xr-var-dims'>(time, month_2d, rgi_id)</div><div class='xr-var-dtype'>float32</div><div class='xr-var-preview xr-preview'>...</div><input id='attrs-c897ad6c-163d-4f02-87e3-e40f22500841' class='xr-var-attrs-in' type='checkbox' disabled><label for='attrs-c897ad6c-163d-4f02-87e3-e40f22500841' title='Show/Hide attributes'><svg class='icon xr-icon-file-text2'><use xlink:href='#icon-file-text2'></use></svg></label><input id='data-22ac9cf4-46bb-439c-a2b7-433ba3ed777c' class='xr-var-data-in' type='checkbox'><label for='data-22ac9cf4-46bb-439c-a2b7-433ba3ed777c' title='Show/Hide data repr'><svg class='icon xr-icon-database'><use xlink:href='#icon-database'></use></svg></label><div class='xr-var-attrs'><dl class='xr-attrs'></dl></div><div class='xr-var-data'><pre>[2424 values with dtype=float32]</pre></div></li><li class='xr-var-item'><div class='xr-var-name'><span>snowfall_off_glacier_monthly</span></div><div class='xr-var-dims'>(time, month_2d, rgi_id)</div><div class='xr-var-dtype'>float32</div><div class='xr-var-preview xr-preview'>...</div><input id='attrs-53470a90-2b39-4fb4-917d-44f2a0ea41b1' class='xr-var-attrs-in' type='checkbox' disabled><label for='attrs-53470a90-2b39-4fb4-917d-44f2a0ea41b1' title='Show/Hide attributes'><svg class='icon xr-icon-file-text2'><use xlink:href='#icon-file-text2'></use></svg></label><input id='data-3cb3566f-1fb4-4976-837f-8fb340cf2e2e' class='xr-var-data-in' type='checkbox'><label for='data-3cb3566f-1fb4-4976-837f-8fb340cf2e2e' title='Show/Hide data repr'><svg class='icon xr-icon-database'><use xlink:href='#icon-database'></use></svg></label><div class='xr-var-attrs'><dl class='xr-attrs'></dl></div><div class='xr-var-data'><pre>[2424 values with dtype=float32]</pre></div></li><li class='xr-var-item'><div class='xr-var-name'><span>snowfall_on_glacier_monthly</span></div><div class='xr-var-dims'>(time, month_2d, rgi_id)</div><div class='xr-var-dtype'>float32</div><div class='xr-var-preview xr-preview'>...</div><input id='attrs-629e215e-12aa-4d24-aae2-0f5c1c35afd5' class='xr-var-attrs-in' type='checkbox' disabled><label for='attrs-629e215e-12aa-4d24-aae2-0f5c1c35afd5' title='Show/Hide attributes'><svg class='icon xr-icon-file-text2'><use xlink:href='#icon-file-text2'></use></svg></label><input id='data-9f1c93a0-f0ea-4079-ad6c-fe14105716cc' class='xr-var-data-in' type='checkbox'><label for='data-9f1c93a0-f0ea-4079-ad6c-fe14105716cc' title='Show/Hide data repr'><svg class='icon xr-icon-database'><use xlink:href='#icon-database'></use></svg></label><div class='xr-var-attrs'><dl class='xr-attrs'></dl></div><div class='xr-var-data'><pre>[2424 values with dtype=float32]</pre></div></li><li class='xr-var-item'><div class='xr-var-name'><span>water_level</span></div><div class='xr-var-dims'>(rgi_id)</div><div class='xr-var-dtype'>float32</div><div class='xr-var-preview xr-preview'>...</div><input id='attrs-63e2d836-6be9-4819-9c2d-fbba86fe8b82' class='xr-var-attrs-in' type='checkbox' ><label for='attrs-63e2d836-6be9-4819-9c2d-fbba86fe8b82' title='Show/Hide attributes'><svg class='icon xr-icon-file-text2'><use xlink:href='#icon-file-text2'></use></svg></label><input id='data-0ee65cf6-e5de-483e-83b2-a16f639c9c03' class='xr-var-data-in' type='checkbox'><label for='data-0ee65cf6-e5de-483e-83b2-a16f639c9c03' title='Show/Hide data repr'><svg class='icon xr-icon-database'><use xlink:href='#icon-database'></use></svg></label><div class='xr-var-attrs'><dl class='xr-attrs'><dt><span>description :</span></dt><dd>Calving water level</dd><dt><span>units :</span></dt><dd>m</dd></dl></div><div class='xr-var-data'><pre>[2 values with dtype=float32]</pre></div></li><li class='xr-var-item'><div class='xr-var-name'><span>glen_a</span></div><div class='xr-var-dims'>(rgi_id)</div><div class='xr-var-dtype'>float32</div><div class='xr-var-preview xr-preview'>...</div><input id='attrs-3b02bb14-0a2b-4f3a-8fe1-b72cbe3dc740' class='xr-var-attrs-in' type='checkbox' ><label for='attrs-3b02bb14-0a2b-4f3a-8fe1-b72cbe3dc740' title='Show/Hide attributes'><svg class='icon xr-icon-file-text2'><use xlink:href='#icon-file-text2'></use></svg></label><input id='data-6f183f1e-d7db-49d5-9b6d-6d21e8377c0f' class='xr-var-data-in' type='checkbox'><label for='data-6f183f1e-d7db-49d5-9b6d-6d21e8377c0f' title='Show/Hide data repr'><svg class='icon xr-icon-database'><use xlink:href='#icon-database'></use></svg></label><div class='xr-var-attrs'><dl class='xr-attrs'><dt><span>description :</span></dt><dd>Simulation Glen A</dd><dt><span>units :</span></dt><dd></dd></dl></div><div class='xr-var-data'><pre>[2 values with dtype=float32]</pre></div></li><li class='xr-var-item'><div class='xr-var-name'><span>fs</span></div><div class='xr-var-dims'>(rgi_id)</div><div class='xr-var-dtype'>float32</div><div class='xr-var-preview xr-preview'>...</div><input id='attrs-dc2d2ff8-feaa-4800-9007-1372134e8f31' class='xr-var-attrs-in' type='checkbox' ><label for='attrs-dc2d2ff8-feaa-4800-9007-1372134e8f31' title='Show/Hide attributes'><svg class='icon xr-icon-file-text2'><use xlink:href='#icon-file-text2'></use></svg></label><input id='data-f1ecb94d-4fdb-4094-897d-71f465c9df2f' class='xr-var-data-in' type='checkbox'><label for='data-f1ecb94d-4fdb-4094-897d-71f465c9df2f' title='Show/Hide data repr'><svg class='icon xr-icon-database'><use xlink:href='#icon-database'></use></svg></label><div class='xr-var-attrs'><dl class='xr-attrs'><dt><span>description :</span></dt><dd>Simulation sliding parameter</dd><dt><span>units :</span></dt><dd></dd></dl></div><div class='xr-var-data'><pre>[2 values with dtype=float32]</pre></div></li></ul></div></li><li class='xr-section-item'><input id='section-c8595258-048b-42c8-8be2-bedd39a535e6' class='xr-section-summary-in' type='checkbox'  ><label for='section-c8595258-048b-42c8-8be2-bedd39a535e6' class='xr-section-summary' >Indexes: <span>(3)</span></label><div class='xr-section-inline-details'></div><div class='xr-section-details'><ul class='xr-var-list'><li class='xr-var-item'><div class='xr-index-name'><div>time</div></div><div class='xr-index-preview'>PandasIndex</div><div></div><input id='index-deade217-1b2e-4022-80f5-b088f6521f5c' class='xr-index-data-in' type='checkbox'/><label for='index-deade217-1b2e-4022-80f5-b088f6521f5c' title='Show/Hide index repr'><svg class='icon xr-icon-database'><use xlink:href='#icon-database'></use></svg></label><div class='xr-index-data'><pre>PandasIndex(Index([  0.0,   1.0,   2.0,   3.0,   4.0,   5.0,   6.0,   7.0,   8.0,   9.0,\n",
       "       ...\n",
       "        91.0,  92.0,  93.0,  94.0,  95.0,  96.0,  97.0,  98.0,  99.0, 100.0],\n",
       "      dtype=&#x27;float64&#x27;, name=&#x27;time&#x27;, length=101))</pre></div></li><li class='xr-var-item'><div class='xr-index-name'><div>rgi_id</div></div><div class='xr-index-preview'>PandasIndex</div><div></div><input id='index-b7a1d57b-e989-4e33-ab18-f6aa8d3afdb1' class='xr-index-data-in' type='checkbox'/><label for='index-b7a1d57b-e989-4e33-ab18-f6aa8d3afdb1' title='Show/Hide index repr'><svg class='icon xr-icon-database'><use xlink:href='#icon-database'></use></svg></label><div class='xr-index-data'><pre>PandasIndex(Index([&#x27;RGI60-16.01339&#x27;, &#x27;RGI60-16.02943&#x27;], dtype=&#x27;object&#x27;, name=&#x27;rgi_id&#x27;))</pre></div></li><li class='xr-var-item'><div class='xr-index-name'><div>month_2d</div></div><div class='xr-index-preview'>PandasIndex</div><div></div><input id='index-67bcc706-d7ff-44cd-90a0-8483ce173c72' class='xr-index-data-in' type='checkbox'/><label for='index-67bcc706-d7ff-44cd-90a0-8483ce173c72' title='Show/Hide index repr'><svg class='icon xr-icon-database'><use xlink:href='#icon-database'></use></svg></label><div class='xr-index-data'><pre>PandasIndex(Index([1, 2, 3, 4, 5, 6, 7, 8, 9, 10, 11, 12], dtype=&#x27;int64&#x27;, name=&#x27;month_2d&#x27;))</pre></div></li></ul></div></li><li class='xr-section-item'><input id='section-6f4c5f46-26d8-4aa0-ad13-519e292f7dc2' class='xr-section-summary-in' type='checkbox'  checked><label for='section-6f4c5f46-26d8-4aa0-ad13-519e292f7dc2' class='xr-section-summary' >Attributes: <span>(4)</span></label><div class='xr-section-inline-details'></div><div class='xr-section-details'><dl class='xr-attrs'><dt><span>description :</span></dt><dd>OGGM model output</dd><dt><span>oggm_version :</span></dt><dd>1.6.1</dd><dt><span>calendar :</span></dt><dd>365-day no leap</dd><dt><span>creation_date :</span></dt><dd>2024-07-11 14:45:57</dd></dl></div></li></ul></div></div>"
      ],
      "text/plain": [
       "<xarray.Dataset> Size: 75kB\n",
       "Dimensions:                       (time: 101, rgi_id: 2, month_2d: 12)\n",
       "Coordinates:\n",
       "  * time                          (time) float64 808B 0.0 1.0 2.0 ... 99.0 100.0\n",
       "  * rgi_id                        (rgi_id) <U14 112B 'RGI60-16.01339' 'RGI60-...\n",
       "    hydro_year                    (time) int64 808B ...\n",
       "    hydro_month                   (time) int64 808B ...\n",
       "    calendar_year                 (time) int64 808B ...\n",
       "    calendar_month                (time) int64 808B ...\n",
       "  * month_2d                      (month_2d) int64 96B 1 2 3 4 5 ... 9 10 11 12\n",
       "    calendar_month_2d             (month_2d) int64 96B ...\n",
       "Data variables: (12/24)\n",
       "    volume                        (time, rgi_id) float32 808B ...\n",
       "    volume_bsl                    (time, rgi_id) float32 808B ...\n",
       "    volume_bwl                    (time, rgi_id) float32 808B ...\n",
       "    area                          (time, rgi_id) float32 808B ...\n",
       "    length                        (time, rgi_id) float32 808B ...\n",
       "    calving                       (time, rgi_id) float32 808B ...\n",
       "    ...                            ...\n",
       "    liq_prcp_on_glacier_monthly   (time, month_2d, rgi_id) float32 10kB ...\n",
       "    snowfall_off_glacier_monthly  (time, month_2d, rgi_id) float32 10kB ...\n",
       "    snowfall_on_glacier_monthly   (time, month_2d, rgi_id) float32 10kB ...\n",
       "    water_level                   (rgi_id) float32 8B ...\n",
       "    glen_a                        (rgi_id) float32 8B ...\n",
       "    fs                            (rgi_id) float32 8B ...\n",
       "Attributes:\n",
       "    description:    OGGM model output\n",
       "    oggm_version:   1.6.1\n",
       "    calendar:       365-day no leap\n",
       "    creation_date:  2024-07-11 14:45:57"
      ]
     },
     "execution_count": 21,
     "metadata": {},
     "output_type": "execute_result"
    }
   ],
   "source": [
    "# Look at the new dataset\n",
    "ct_ds"
   ]
  },
  {
   "cell_type": "markdown",
   "id": "fd49c182-4f63-4318-9aac-cceae295d3e7",
   "metadata": {},
   "source": [
    "### a. Historical run for reference climate period"
   ]
  },
  {
   "cell_type": "code",
   "execution_count": 24,
   "id": "af809d75-8244-4dff-9387-df5761249b65",
   "metadata": {
    "tags": []
   },
   "outputs": [],
   "source": [
    "# Run the historical period with a fixed geometry spinup\n",
    "for g in gdirs:\n",
    "    file_id = '_hist_hydro'\n",
    "    tasks.run_with_hydro(g, run_task=tasks.run_from_climate_data,\n",
    "                         fixed_geometry_spinup_yr=1990,  # this tells to do spinup\n",
    "                         ref_area_from_y0=True,  # \n",
    "                         store_monthly_hydro=True,\n",
    "                         output_filesuffix=file_id);\n",
    "# I think i have to run this every time I start the kernel again so file_id hist_hydro exists for gcm use"
   ]
  },
  {
   "cell_type": "code",
   "execution_count": 25,
   "id": "e8638a6a-4752-487d-b3b5-4a5f8200c907",
   "metadata": {},
   "outputs": [
    {
     "name": "stderr",
     "output_type": "stream",
     "text": [
      "2024-07-16 15:36:11: oggm.utils: Applying global task compile_run_output on 2 glaciers\n",
      "2024-07-16 15:36:11: oggm.utils: Applying compile_run_output on 2 gdirs.\n"
     ]
    }
   ],
   "source": [
    "# Export data from historic climate run and compile run output\n",
    "import datetime\n",
    "output_path = '~/Documents/summer24/{}-hist_hydro_compiled_output.nc'.format(datetime.date.today()) \n",
    "new_ds = utils.compile_run_output(gdirs, input_filesuffix=file_id, path=output_path)"
   ]
  },
  {
   "cell_type": "code",
   "execution_count": 26,
   "id": "e9177b05-5cb9-46dd-8834-c9d32c748eb2",
   "metadata": {},
   "outputs": [],
   "source": [
    "# Load in the glacier data from above (only when data has been saved)\n",
    "export_date = '2024-07-11'\n",
    "input_path_hist = '~/Documents/summer24/{}-hist_hydro_compiled_output.nc'.format(export_date)\n",
    "hist_ds = xr.open_dataset(input_path_hist)"
   ]
  },
  {
   "cell_type": "markdown",
   "id": "1afb6610-a867-4103-a282-d8c01ce74a37",
   "metadata": {},
   "source": [
    "### b. Projection run"
   ]
  },
  {
   "cell_type": "markdown",
   "id": "8168747b-c3f7-4cd5-ac5d-3cf63ea0277c",
   "metadata": {},
   "source": [
    "<b> Remember: you need to change the GCM for bp and bt"
   ]
  },
  {
   "cell_type": "markdown",
   "id": "6ce04acb-064d-44a6-9d40-3d1d9eb5a5e7",
   "metadata": {},
   "source": [
    "## II. Run CMIP6 projection run"
   ]
  },
  {
   "cell_type": "code",
   "execution_count": 27,
   "id": "5414bad2-6d84-4e74-8cc0-2cad73f3387a",
   "metadata": {},
   "outputs": [],
   "source": [
    "# Is this something I need to/should do? https://docs.oggm.org/en/latest/climate-data.html\n",
    "from oggm.tasks import process_w5e5_data"
   ]
  },
  {
   "cell_type": "code",
   "execution_count": 26,
   "id": "29c32562-b581-4828-a6b2-560de442c199",
   "metadata": {},
   "outputs": [],
   "source": [
    "# fp='https://cluster.klima.uni-bremen.de/~oggm/cmip6/GCM/{}/{}_{}_r1i1p1f1_pr.nc'\n",
    "\n",
    "# GCM = ['BCC-CSM2-MR', 'CESM2', 'CESM2-WACCM', 'EC-Earth3', 'EC_Earth3_Veg', 'FGOALS-f3-L', 'GFDL-ESM4', 'INM-CM4-8', 'INM-CM5-0', 'MP1-ESM1-2-HR', 'MRI-ESM2-0', 'NorESM2-MM']\n",
    "\n",
    "# SSP = 'ssp126'\n",
    "\n",
    "# this_filename_precip = fp.format(GCM, GCM, SSP)\n",
    "\n",
    "# print(this_filename_precip)"
   ]
  },
  {
   "cell_type": "code",
   "execution_count": 33,
   "id": "9db04f11-9692-4deb-beb9-b4e63b5b9dba",
   "metadata": {
    "scrolled": true
   },
   "outputs": [
    {
     "name": "stderr",
     "output_type": "stream",
     "text": [
      "2024-07-16 15:51:33: oggm.workflow: Execute entity tasks [run_with_hydro] on 2 glaciers\n"
     ]
    },
    {
     "name": "stdout",
     "output_type": "stream",
     "text": [
      "Skipping download for /Users/ziggygoddard/Documents/summer24/2024-07-16-gcm_data_EC-Earth3-Veg_ssp126_compiled_output.nc. File already exists.\n"
     ]
    },
    {
     "name": "stderr",
     "output_type": "stream",
     "text": [
      "2024-07-16 15:51:33: oggm.utils: Applying global task compile_run_output on 2 glaciers\n",
      "2024-07-16 15:51:33: oggm.utils: Applying compile_run_output on 2 gdirs.\n",
      "2024-07-16 15:51:33: oggm.workflow: Execute entity tasks [run_with_hydro] on 2 glaciers\n"
     ]
    },
    {
     "name": "stdout",
     "output_type": "stream",
     "text": [
      "Skipping download for /Users/ziggygoddard/Documents/summer24/2024-07-16-gcm_data_EC-Earth3-Veg_ssp245_compiled_output.nc. File already exists.\n"
     ]
    },
    {
     "name": "stderr",
     "output_type": "stream",
     "text": [
      "2024-07-16 15:51:34: oggm.utils: Applying global task compile_run_output on 2 glaciers\n",
      "2024-07-16 15:51:34: oggm.utils: Applying compile_run_output on 2 gdirs.\n",
      "2024-07-16 15:51:34: oggm.workflow: Execute entity tasks [run_with_hydro] on 2 glaciers\n"
     ]
    },
    {
     "name": "stdout",
     "output_type": "stream",
     "text": [
      "Skipping download for /Users/ziggygoddard/Documents/summer24/2024-07-16-gcm_data_EC-Earth3-Veg_ssp370_compiled_output.nc. File already exists.\n"
     ]
    },
    {
     "name": "stderr",
     "output_type": "stream",
     "text": [
      "2024-07-16 15:51:35: oggm.utils: Applying global task compile_run_output on 2 glaciers\n",
      "2024-07-16 15:51:35: oggm.utils: Applying compile_run_output on 2 gdirs.\n",
      "2024-07-16 15:51:35: oggm.workflow: Execute entity tasks [run_with_hydro] on 2 glaciers\n"
     ]
    },
    {
     "name": "stdout",
     "output_type": "stream",
     "text": [
      "Skipping download for /Users/ziggygoddard/Documents/summer24/2024-07-16-gcm_data_EC-Earth3-Veg_ssp585_compiled_output.nc. File already exists.\n"
     ]
    },
    {
     "name": "stderr",
     "output_type": "stream",
     "text": [
      "2024-07-16 15:51:36: oggm.utils: Applying global task compile_run_output on 2 glaciers\n",
      "2024-07-16 15:51:36: oggm.utils: Applying compile_run_output on 2 gdirs.\n",
      "2024-07-16 15:51:36: oggm.workflow: Execute entity tasks [run_with_hydro] on 2 glaciers\n"
     ]
    },
    {
     "name": "stdout",
     "output_type": "stream",
     "text": [
      "Skipping download for /Users/ziggygoddard/Documents/summer24/2024-07-16-gcm_data_MPI-ESM1-2-HR_ssp126_compiled_output.nc. File already exists.\n"
     ]
    },
    {
     "name": "stderr",
     "output_type": "stream",
     "text": [
      "2024-07-16 15:51:37: oggm.utils: Applying global task compile_run_output on 2 glaciers\n",
      "2024-07-16 15:51:37: oggm.utils: Applying compile_run_output on 2 gdirs.\n",
      "2024-07-16 15:51:37: oggm.workflow: Execute entity tasks [run_with_hydro] on 2 glaciers\n"
     ]
    },
    {
     "name": "stdout",
     "output_type": "stream",
     "text": [
      "Skipping download for /Users/ziggygoddard/Documents/summer24/2024-07-16-gcm_data_MPI-ESM1-2-HR_ssp245_compiled_output.nc. File already exists.\n"
     ]
    },
    {
     "name": "stderr",
     "output_type": "stream",
     "text": [
      "2024-07-16 15:51:38: oggm.utils: Applying global task compile_run_output on 2 glaciers\n",
      "2024-07-16 15:51:38: oggm.utils: Applying compile_run_output on 2 gdirs.\n",
      "2024-07-16 15:51:38: oggm.workflow: Execute entity tasks [run_with_hydro] on 2 glaciers\n"
     ]
    },
    {
     "name": "stdout",
     "output_type": "stream",
     "text": [
      "Skipping download for /Users/ziggygoddard/Documents/summer24/2024-07-16-gcm_data_MPI-ESM1-2-HR_ssp370_compiled_output.nc. File already exists.\n"
     ]
    },
    {
     "name": "stderr",
     "output_type": "stream",
     "text": [
      "2024-07-16 15:51:38: oggm.utils: Applying global task compile_run_output on 2 glaciers\n",
      "2024-07-16 15:51:38: oggm.utils: Applying compile_run_output on 2 gdirs.\n",
      "2024-07-16 15:51:39: oggm.workflow: Execute entity tasks [run_with_hydro] on 2 glaciers\n"
     ]
    },
    {
     "name": "stdout",
     "output_type": "stream",
     "text": [
      "Skipping download for /Users/ziggygoddard/Documents/summer24/2024-07-16-gcm_data_MPI-ESM1-2-HR_ssp585_compiled_output.nc. File already exists.\n"
     ]
    },
    {
     "name": "stderr",
     "output_type": "stream",
     "text": [
      "2024-07-16 15:51:39: oggm.utils: Applying global task compile_run_output on 2 glaciers\n",
      "2024-07-16 15:51:39: oggm.utils: Applying compile_run_output on 2 gdirs.\n"
     ]
    }
   ],
   "source": [
    "from oggm.shop import gcm_climate\n",
    "\n",
    "# all_members = ['BCC-CSM2-MR', 'CESM2', 'CESM2-WACCM', 'EC-Earth3', 'FGOALS-f3-L', 'GFDL-ESM4',\n",
    "#                 'INM-CM4-8', 'INM-CM5-0', 'MRI-ESM2-0', 'NorESM2-MM']\n",
    "\n",
    "all_members = ['EC-Earth3-Veg', 'MPI-ESM1-2-HR']\n",
    "\n",
    "# problem gcm: 'MPI-ESM1-2-HR'\n",
    "\n",
    "bp = 'https://cluster.klima.uni-bremen.de/~oggm/cmip6/GCM/{}/{}_{}_r1i1p1f1_pr.nc'\n",
    "bt = 'https://cluster.klima.uni-bremen.de/~oggm/cmip6/GCM/{}/{}_{}_r1i1p1f1_tas.nc'\n",
    "\n",
    "# Download the three main SSPs\n",
    "for member in all_members:\n",
    "    for ssp in ['ssp126', 'ssp245', 'ssp370', 'ssp585']:\n",
    "        rid = '_CMIP6_{}_{}'.format(member, ssp)\n",
    "        output_path = os.path.expanduser(f'~/Documents/summer24/{datetime.date.today()}-gcm_data_{member}_{ssp}_compiled_output.nc')\n",
    "        \n",
    "        # Check if the file already exists\n",
    "        if not os.path.exists(output_path):\n",
    "            # Download the files\n",
    "            ft = utils.file_downloader(bt.format(member, member, ssp))\n",
    "            fp = utils.file_downloader(bp.format(member, member, ssp))\n",
    "            \n",
    "            # Bias correct them\n",
    "            workflow.execute_entity_task(gcm_climate.process_cmip_data, gdirs, \n",
    "                                         filesuffix='_CMIP6_{}_{}'.format(member, ssp), \n",
    "                                         fpath_temp=ft, fpath_precip=fp)\n",
    "        else:\n",
    "            print(f\"Skipping download for {output_path}. File already exists.\")\n",
    "\n",
    "        # Run tasks if necessary (e.g., hydrological model runs)\n",
    "        workflow.execute_entity_task(tasks.run_with_hydro, gdirs,\n",
    "                                     run_task=tasks.run_from_climate_data, ys=2020,\n",
    "                                     climate_filename='gcm_data',\n",
    "                                     climate_input_filesuffix=rid,\n",
    "                                     init_model_filesuffix='_spinup_historical',\n",
    "                                     output_filesuffix=rid,\n",
    "                                     store_monthly_hydro=True)\n",
    "        \n",
    "        # Compile run output\n",
    "        new_ds = utils.compile_run_output(gdirs, input_filesuffix=rid, path=output_path)\n",
    "\n",
    "# # Download the three main SSPs\n",
    "# for member in all_members:\n",
    "#     for ssp in ['ssp126', 'ssp245', 'ssp370', 'ssp585']: \n",
    "#         # Download the files\n",
    "#         # print(bt.format(member, member, ssp))\n",
    "#         ft = utils.file_downloader(bt.format(member, member, ssp))\n",
    "#         fp = utils.file_downloader(bp.format(member, member, ssp))\n",
    "#         # bias correct them\n",
    "#         workflow.execute_entity_task(gcm_climate.process_cmip_data, gdirs, \n",
    "#                                       filesuffix='_CMIP6_{}_{}'.format(member, ssp),  # recognize the climate file for later\n",
    "#                                       fpath_temp=ft,  # temperature projections\n",
    "#                                       fpath_precip=fp,  # precip projections\n",
    "#                                       );"
   ]
  },
  {
   "cell_type": "code",
   "execution_count": 34,
   "id": "47a402de-bbad-4ea8-877c-5a625e4f35fb",
   "metadata": {
    "scrolled": true
   },
   "outputs": [
    {
     "name": "stderr",
     "output_type": "stream",
     "text": [
      "2024-07-16 16:46:05: oggm.workflow: Execute entity tasks [run_with_hydro] on 2 glaciers\n",
      "2024-07-16 16:46:06: oggm.workflow: Execute entity tasks [run_with_hydro] on 2 glaciers\n",
      "2024-07-16 16:46:07: oggm.workflow: Execute entity tasks [run_with_hydro] on 2 glaciers\n",
      "2024-07-16 16:46:09: oggm.workflow: Execute entity tasks [run_with_hydro] on 2 glaciers\n",
      "2024-07-16 16:46:10: oggm.workflow: Execute entity tasks [run_with_hydro] on 2 glaciers\n",
      "2024-07-16 16:46:11: oggm.workflow: Execute entity tasks [run_with_hydro] on 2 glaciers\n",
      "2024-07-16 16:46:12: oggm.workflow: Execute entity tasks [run_with_hydro] on 2 glaciers\n",
      "2024-07-16 16:46:12: oggm.workflow: Execute entity tasks [run_with_hydro] on 2 glaciers\n"
     ]
    }
   ],
   "source": [
    "for member in all_members: # added this, it ensures that files will not be overwritten\n",
    "    for ssp in ['ssp126', 'ssp245', 'ssp370', 'ssp585']: # add ssp245\n",
    "        rid = '_CMIP6_{}_{}'.format(member, ssp)\n",
    "        workflow.execute_entity_task(tasks.run_with_hydro, gdirs,\n",
    "                                 run_task=tasks.run_from_climate_data, ys=2020,\n",
    "                                 # use gcm_data, not climate_historical\n",
    "                                 climate_filename='gcm_data',\n",
    "                                 # use the chosen scenario\n",
    "                                 climate_input_filesuffix=rid,\n",
    "                                 # this is important! Start from 2020 glacier\n",
    "                                 init_model_filesuffix='_spinup_historical',\n",
    "                                 # recognize the run for later\n",
    "                                 output_filesuffix=rid,\n",
    "                                 # add monthly diagnostics\n",
    "                                 store_monthly_hydro=True);"
   ]
  },
  {
   "cell_type": "code",
   "execution_count": 35,
   "id": "83c9fa02-e87d-4796-9ca7-4edeb6106944",
   "metadata": {},
   "outputs": [
    {
     "name": "stderr",
     "output_type": "stream",
     "text": [
      "2024-07-16 16:46:23: oggm.utils: Applying global task compile_run_output on 2 glaciers\n",
      "2024-07-16 16:46:23: oggm.utils: Applying compile_run_output on 2 gdirs.\n"
     ]
    }
   ],
   "source": [
    "# This is unchanged\n",
    "new_ds_nor = utils.compile_run_output(gdirs, input_filesuffix=rid)"
   ]
  },
  {
   "cell_type": "code",
   "execution_count": 36,
   "id": "230ef48a-13de-4c91-a8b7-424e1e486b8c",
   "metadata": {
    "scrolled": true
   },
   "outputs": [
    {
     "name": "stderr",
     "output_type": "stream",
     "text": [
      "2024-07-16 16:46:34: oggm.utils: Applying global task compile_run_output on 2 glaciers\n",
      "2024-07-16 16:46:34: oggm.utils: Applying compile_run_output on 2 gdirs.\n",
      "2024-07-16 16:46:34: oggm.utils: Applying global task compile_run_output on 2 glaciers\n",
      "2024-07-16 16:46:34: oggm.utils: Applying compile_run_output on 2 gdirs.\n",
      "2024-07-16 16:46:34: oggm.utils: Applying global task compile_run_output on 2 glaciers\n",
      "2024-07-16 16:46:34: oggm.utils: Applying compile_run_output on 2 gdirs.\n",
      "2024-07-16 16:46:35: oggm.utils: Applying global task compile_run_output on 2 glaciers\n",
      "2024-07-16 16:46:35: oggm.utils: Applying compile_run_output on 2 gdirs.\n",
      "2024-07-16 16:46:35: oggm.utils: Applying global task compile_run_output on 2 glaciers\n",
      "2024-07-16 16:46:35: oggm.utils: Applying compile_run_output on 2 gdirs.\n",
      "2024-07-16 16:46:35: oggm.utils: Applying global task compile_run_output on 2 glaciers\n",
      "2024-07-16 16:46:35: oggm.utils: Applying compile_run_output on 2 gdirs.\n",
      "2024-07-16 16:46:35: oggm.utils: Applying global task compile_run_output on 2 glaciers\n",
      "2024-07-16 16:46:35: oggm.utils: Applying compile_run_output on 2 gdirs.\n",
      "2024-07-16 16:46:35: oggm.utils: Applying global task compile_run_output on 2 glaciers\n",
      "2024-07-16 16:46:35: oggm.utils: Applying compile_run_output on 2 gdirs.\n"
     ]
    }
   ],
   "source": [
    "# Changes explained by ChatGPT; again, unsure how this will affect pathway\n",
    "# Export data from climate run and compile run output\n",
    "# First for-loop ensures that files will not be overwritten\n",
    "import datetime\n",
    "for member in all_members:\n",
    "    for ssp in ['ssp126', 'ssp245', 'ssp370', 'ssp585']:\n",
    "        rid = '_CMIP6_{}_{}'.format(member, ssp)\n",
    "        output_path = os.path.expanduser(f'~/Documents/summer24/{datetime.date.today()}-gcm_data_{member}_{ssp}_compiled_output.nc')\n",
    "        new_ds = utils.compile_run_output(gdirs, input_filesuffix=rid, path=output_path)"
   ]
  },
  {
   "cell_type": "code",
   "execution_count": 43,
   "id": "7a576455-c077-4cd6-bb4d-29c404c04814",
   "metadata": {
    "scrolled": true
   },
   "outputs": [
    {
     "data": {
      "image/png": "[encoded data removed]",
      "text/plain": [
       "<Figure size 1800x700 with 1 Axes>"
      ]
     },
     "metadata": {},
     "output_type": "display_data"
    }
   ],
   "source": [
    "# Create the figure\n",
    "f, ax = plt.subplots(figsize=(18, 7), sharex=True)\n",
    "# Loop over all scenarios\n",
    "for i, ssp in enumerate(['ssp126', 'ssp245', 'ssp370', 'ssp585']):\n",
    "    file_id = '_CMIP6_{}_{}'.format(member, ssp)\n",
    "    # Open the data, gdirs[0] correspond to Hintereisferner.\n",
    "    with xr.open_dataset(gdirs[0].get_filepath('model_diagnostics', filesuffix=file_id)) as ds:\n",
    "        # Load the data into a dataframe\n",
    "        ds = ds.isel(time=slice(0, -1)).load()\n",
    "\n",
    "    # Select annual variables\n",
    "    sel_vars = [v for v in ds.variables if 'month_2d' not in ds[v].dims]\n",
    "    # And create a dataframe\n",
    "    df_annual = ds[sel_vars].to_dataframe()\n",
    "\n",
    "    # Select the variables relevant for runoff.\n",
    "    runoff_vars = ['melt_off_glacier', 'melt_on_glacier', 'liq_prcp_off_glacier', 'liq_prcp_on_glacier']\n",
    "    # Convert to mega tonnes instead of kg.\n",
    "    df_runoff = df_annual[runoff_vars].clip(0) * 1e-9\n",
    "    # Sum the variables each year \"axis=1\", take the 11 year rolling mean and plot it.\n",
    "    df_roll = df_runoff.sum(axis=1).rolling(window=11, center=True).mean()\n",
    "    df_roll.plot(ax=ax, label=ssp, color=sns.color_palette(\"rocket\")[i])\n",
    "\n",
    "ax.set_ylabel('Annual runoff (Mt)'); ax.set_xlabel('Year'); plt.title(gdirs[0].rgi_id); plt.legend();"
   ]
  },
  {
   "cell_type": "markdown",
   "id": "6eaae468-909d-4a60-9f64-3a76f9762b1f",
   "metadata": {
    "scrolled": true
   },
   "source": [
    "# for g in gdirs:\n",
    "    print(g.get_filepath('model_geometry', filesuffix='_spinup_historical'))"
   ]
  },
  {
   "cell_type": "code",
   "execution_count": 33,
   "id": "0d66a905-ab9d-4466-a853-6e5dce2a8b34",
   "metadata": {
    "jupyter": {
     "source_hidden": true
    }
   },
   "outputs": [
    {
     "name": "stdout",
     "output_type": "stream",
     "text": [
      "/Users/ziggygoddard/Documents/summer24/OGGM_output/per_glacier/RGI60-16/RGI60-16.01/RGI60-16.01307/model_diagnostics_CMIP6_MRI-ESM2-0_ssp126.nc\n",
      "/Users/ziggygoddard/Documents/summer24/OGGM_output/per_glacier/RGI60-16/RGI60-16.01/RGI60-16.01307/model_diagnostics_CMIP6_MRI-ESM2-0_ssp245.nc\n",
      "/Users/ziggygoddard/Documents/summer24/OGGM_output/per_glacier/RGI60-16/RGI60-16.01/RGI60-16.01307/model_diagnostics_CMIP6_MRI-ESM2-0_ssp370.nc\n",
      "/Users/ziggygoddard/Documents/summer24/OGGM_output/per_glacier/RGI60-16/RGI60-16.01/RGI60-16.01307/model_diagnostics_CMIP6_MRI-ESM2-0_ssp585.nc\n"
     ]
    }
   ],
   "source": [
    "for ssp in ['ssp126', 'ssp245', 'ssp370', 'ssp585']:\n",
    "    file_id = '_CMIP6_{}_{}'.format(member, ssp)\n",
    "    print(gdirs[0].get_filepath('model_diagnostics', filesuffix=file_id))"
   ]
  },
  {
   "cell_type": "code",
   "execution_count": 34,
   "id": "619a9c95-6271-4ee1-813f-59258add12e5",
   "metadata": {
    "jupyter": {
     "source_hidden": true
    }
   },
   "outputs": [
    {
     "name": "stdout",
     "output_type": "stream",
     "text": [
      "File /Users/ziggygoddard/Documents/summer24/OGGM_output/per_glacier/RGI60-16/RGI60-16.01/RGI60-16.01307/model_diagnostics_CMIP6_MRI-ESM2-0_ssp126.nc is present and accessible.\n",
      "File /Users/ziggygoddard/Documents/summer24/OGGM_output/per_glacier/RGI60-16/RGI60-16.01/RGI60-16.01307/model_diagnostics_CMIP6_MRI-ESM2-0_ssp245.nc is present and accessible.\n",
      "File /Users/ziggygoddard/Documents/summer24/OGGM_output/per_glacier/RGI60-16/RGI60-16.01/RGI60-16.01307/model_diagnostics_CMIP6_MRI-ESM2-0_ssp370.nc is present and accessible.\n",
      "File /Users/ziggygoddard/Documents/summer24/OGGM_output/per_glacier/RGI60-16/RGI60-16.01/RGI60-16.01307/model_diagnostics_CMIP6_MRI-ESM2-0_ssp585.nc is present and accessible.\n"
     ]
    }
   ],
   "source": [
    "import os\n",
    "\n",
    "for ssp in ['ssp126', 'ssp245', 'ssp370', 'ssp585']:\n",
    "    file_id = '_CMIP6_{}_{}'.format(member, ssp)\n",
    "    filepath = gdirs[0].get_filepath('model_diagnostics', filesuffix=file_id)\n",
    "    if not os.path.isfile(filepath):\n",
    "        print(f\"File {filepath} does not exist or is not accessible.\")\n",
    "    else:\n",
    "        print(f\"File {filepath} is present and accessible.\")"
   ]
  },
  {
   "cell_type": "code",
   "execution_count": 35,
   "id": "b689c87d-96b6-4903-bcc4-46a1442d17ff",
   "metadata": {
    "jupyter": {
     "source_hidden": true
    }
   },
   "outputs": [
    {
     "name": "stdout",
     "output_type": "stream",
     "text": [
      "<xarray.Dataset> Size: 208kB\n",
      "Dimensions:                       (time: 282, month_2d: 12)\n",
      "Coordinates:\n",
      "  * time                          (time) float64 2kB 2.02e+03 ... 2.301e+03\n",
      "    calendar_year                 (time) int64 2kB ...\n",
      "    calendar_month                (time) int64 2kB ...\n",
      "    hydro_year                    (time) int64 2kB ...\n",
      "    hydro_month                   (time) int64 2kB ...\n",
      "  * month_2d                      (month_2d) int64 96B 1 2 3 4 5 ... 9 10 11 12\n",
      "    hydro_month_2d                (month_2d) int64 96B ...\n",
      "    calendar_month_2d             (month_2d) int64 96B ...\n",
      "Data variables: (12/21)\n",
      "    volume_m3                     (time) float64 2kB ...\n",
      "    volume_bsl_m3                 (time) float64 2kB ...\n",
      "    volume_bwl_m3                 (time) float64 2kB ...\n",
      "    area_m2                       (time) float64 2kB ...\n",
      "    length_m                      (time) float64 2kB ...\n",
      "    calving_m3                    (time) float64 2kB ...\n",
      "    ...                            ...\n",
      "    liq_prcp_on_glacier           (time) float64 2kB ...\n",
      "    liq_prcp_on_glacier_monthly   (time, month_2d) float64 27kB ...\n",
      "    snowfall_off_glacier          (time) float64 2kB ...\n",
      "    snowfall_off_glacier_monthly  (time, month_2d) float64 27kB ...\n",
      "    snowfall_on_glacier           (time) float64 2kB ...\n",
      "    snowfall_on_glacier_monthly   (time, month_2d) float64 27kB ...\n",
      "Attributes:\n",
      "    description:          OGGM model output\n",
      "    oggm_version:         1.6.1\n",
      "    calendar:             365-day no leap\n",
      "    creation_date:        2024-07-02 16:17:11\n",
      "    water_level:          0\n",
      "    glen_a:               1.5001274304807765e-23\n",
      "    fs:                   0\n",
      "    mb_model_class:       MultipleFlowlineMassBalance\n",
      "    mb_model_hemisphere:  sh\n"
     ]
    }
   ],
   "source": [
    "import xarray as xr\n",
    "\n",
    "file_id = '_CMIP6_{}_{}'.format(member, 'ssp126')\n",
    "filepath = gdirs[0].get_filepath('model_diagnostics', filesuffix=file_id)\n",
    "try:\n",
    "    with xr.open_dataset(filepath) as ds:\n",
    "        print(ds)\n",
    "except Exception as e:\n",
    "    print(f\"Error opening file {filepath}: {e}\")"
   ]
  },
  {
   "cell_type": "code",
   "execution_count": 37,
   "id": "2d785c23-af4e-45f6-92b2-8787f39b0b4d",
   "metadata": {},
   "outputs": [],
   "source": [
    "# This is how to check if files for individual glaciers exist\n",
    "\n",
    "import os\n",
    "\n",
    "spinup_path = '/Users/ziggygoddard/Documents/summer24/OGGM_output/per_glacier/RGI60-16/RGI60-16.02/'\n",
    "for glacier_id in ['RGI60-16.02945']:  # Add other glacier IDs as needed\n",
    "    file_path = os.path.join(spinup_path, glacier_id, 'model_geometry_spinup_historical.nc')\n",
    "    if not os.path.isfile(file_path):\n",
    "        print(f\"Missing spinup file: {file_path}\")\n",
    "\n",
    "# missing 01306, 02942-02945 "
   ]
  }
 ],
 "metadata": {
  "kernelspec": {
   "display_name": "Python 3 (ipykernel)",
   "language": "python",
   "name": "python3"
  },
  "language_info": {
   "codemirror_mode": {
    "name": "ipython",
    "version": 3
   },
   "file_extension": ".py",
   "mimetype": "text/x-python",
   "name": "python",
   "nbconvert_exporter": "python",
   "pygments_lexer": "ipython3",
   "version": "3.12.3"
  }
 },
 "nbformat": 4,
 "nbformat_minor": 5
}
