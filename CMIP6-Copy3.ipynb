{
 "cells": [
  {
   "cell_type": "markdown",
   "id": "4e0815b9-0798-4e2b-b23a-c02a0de7843d",
   "metadata": {},
   "source": [
    "# Glacier runoff model for La Paz, Bolivia"
   ]
  },
  {
   "cell_type": "markdown",
   "id": "b2cd2866-1500-4a60-b06c-83fb99db3a9a",
   "metadata": {},
   "source": [
    "Current questions/issues:\n",
    "- Unsure if glacier directory is up to date\n",
    "- Continue on error is on (we didn't figure out how to avoid this)\n",
    "- Multiprocessing is off"
   ]
  },
  {
   "cell_type": "code",
   "execution_count": 2,
   "id": "0c06fe4a-20aa-4038-b25d-c99927e47e3e",
   "metadata": {},
   "outputs": [
    {
     "name": "stderr",
     "output_type": "stream",
     "text": [
      "2024-07-04 12:15:02: oggm.cfg: Reading default parameters from the OGGM `params.cfg` configuration file.\n",
      "2024-07-04 12:15:02: oggm.cfg: Multiprocessing switched OFF according to the parameter file.\n",
      "2024-07-04 12:15:02: oggm.cfg: Multiprocessing: using all available processors (N=8)\n",
      "2024-07-04 12:15:02: oggm.cfg: PARAMS['store_model_geometry'] changed from `False` to `True`.\n",
      "2024-07-04 12:15:02: oggm.cfg: Multiprocessing switched ON after user settings.\n",
      "2024-07-04 12:15:02: oggm.cfg: PARAMS['continue_on_error'] changed from `False` to `True`.\n"
     ]
    }
   ],
   "source": [
    "import os\n",
    "from oggm import cfg, utils\n",
    "\n",
    "path = '/Users/ziggygoddard/Documents/summer24/OGGM_output'\n",
    "\n",
    "# Initialize OGGM\n",
    "cfg.initialize(logging_level='WARNING')\n",
    "cfg.PATHS['working_dir'] = path\n",
    "\n",
    "cfg.PARAMS['store_model_geometry'] = True\n",
    "cfg.PARAMS['use_multiprocessing'] = True\n",
    "cfg.PARAMS['continue_on_error'] = True  # this is to avoid issues with the files with invalid geometries\n",
    "\n",
    "# Manually set the path to the RGI directory if downloaded manually\n",
    "rgi_path = '/Users/ziggygoddard/Documents/summer24/RGI2000-v7.0-G-16_low_latitudes/'\n",
    "if os.path.exists(rgi_path):\n",
    "    cfg.PATHS['rgi_dir'] = rgi_path"
   ]
  },
  {
   "cell_type": "code",
   "execution_count": 3,
   "id": "96c8525c-34b9-4350-8b7c-617aa17492c4",
   "metadata": {},
   "outputs": [
    {
     "name": "stderr",
     "output_type": "stream",
     "text": [
      "2024-07-04 12:19:19: oggm.cfg: Reading default parameters from the OGGM `params.cfg` configuration file.\n",
      "2024-07-04 12:19:19: oggm.cfg: Multiprocessing switched OFF according to the parameter file.\n",
      "2024-07-04 12:19:19: oggm.cfg: Multiprocessing: using all available processors (N=8)\n",
      "2024-07-04 12:19:19: oggm.cfg: PARAMS['store_model_geometry'] changed from `False` to `True`.\n",
      "2024-07-04 12:19:19: oggm.cfg: Multiprocessing switched ON after user settings.\n",
      "2024-07-04 12:19:19: oggm.cfg: PARAMS['continue_on_error'] changed from `False` to `True`.\n"
     ]
    },
    {
     "name": "stdout",
     "output_type": "stream",
     "text": [
      "RGI directory set to: /Users/ziggygoddard/Documents/summer24/RGI2000-v7.0-G-16_low_latitudes/\n",
      "Checking RGI directory...\n"
     ]
    },
    {
     "ename": "UnboundLocalError",
     "evalue": "cannot access local variable 'dfile' where it is not associated with a value",
     "output_type": "error",
     "traceback": [
      "\u001b[0;31m---------------------------------------------------------------------------\u001b[0m",
      "\u001b[0;31mUnboundLocalError\u001b[0m                         Traceback (most recent call last)",
      "Cell \u001b[0;32mIn[3], line 24\u001b[0m\n\u001b[1;32m     22\u001b[0m \u001b[38;5;66;03m# Verify the directory\u001b[39;00m\n\u001b[1;32m     23\u001b[0m \u001b[38;5;28mprint\u001b[39m(\u001b[38;5;124m\"\u001b[39m\u001b[38;5;124mChecking RGI directory...\u001b[39m\u001b[38;5;124m\"\u001b[39m)\n\u001b[0;32m---> 24\u001b[0m rgi_dir \u001b[38;5;241m=\u001b[39m utils\u001b[38;5;241m.\u001b[39mget_rgi_dir(version\u001b[38;5;241m=\u001b[39m\u001b[38;5;124m'\u001b[39m\u001b[38;5;124m70G\u001b[39m\u001b[38;5;124m'\u001b[39m)\n\u001b[1;32m     25\u001b[0m \u001b[38;5;28mprint\u001b[39m(\u001b[38;5;124mf\u001b[39m\u001b[38;5;124m\"\u001b[39m\u001b[38;5;124mUsing RGI directory: \u001b[39m\u001b[38;5;132;01m{\u001b[39;00mrgi_dir\u001b[38;5;132;01m}\u001b[39;00m\u001b[38;5;124m\"\u001b[39m)\n\u001b[1;32m     27\u001b[0m \u001b[38;5;66;03m# Proceed with the rest of your OGGM workflow\u001b[39;00m\n\u001b[1;32m     28\u001b[0m \u001b[38;5;66;03m# Download glacier outlines\u001b[39;00m\n\u001b[1;32m     29\u001b[0m \u001b[38;5;66;03m# utils.get_rgi_dir(version='70G')  # This should already be done with the manual path set\u001b[39;00m\n\u001b[1;32m     30\u001b[0m \n\u001b[1;32m     31\u001b[0m \u001b[38;5;66;03m# Example workflow to check if the RGI data is accessible\u001b[39;00m\n",
      "File \u001b[0;32m/opt/miniconda3/envs/oggm_env/lib/python3.12/site-packages/oggm/utils/_downloads.py:1892\u001b[0m, in \u001b[0;36mget_rgi_dir\u001b[0;34m(version, reset)\u001b[0m\n\u001b[1;32m   1874\u001b[0m \u001b[38;5;250m\u001b[39m\u001b[38;5;124;03m\"\"\"Path to the RGI directory.\u001b[39;00m\n\u001b[1;32m   1875\u001b[0m \n\u001b[1;32m   1876\u001b[0m \u001b[38;5;124;03mIf the RGI files are not present, download them.\u001b[39;00m\n\u001b[0;32m   (...)\u001b[0m\n\u001b[1;32m   1888\u001b[0m \u001b[38;5;124;03m    path to the RGI directory\u001b[39;00m\n\u001b[1;32m   1889\u001b[0m \u001b[38;5;124;03m\"\"\"\u001b[39;00m\n\u001b[1;32m   1891\u001b[0m \u001b[38;5;28;01mwith\u001b[39;00m get_lock():\n\u001b[0;32m-> 1892\u001b[0m     \u001b[38;5;28;01mreturn\u001b[39;00m _get_rgi_dir_unlocked(version\u001b[38;5;241m=\u001b[39mversion, reset\u001b[38;5;241m=\u001b[39mreset)\n",
      "File \u001b[0;32m/opt/miniconda3/envs/oggm_env/lib/python3.12/site-packages/oggm/utils/_downloads.py:1926\u001b[0m, in \u001b[0;36m_get_rgi_dir_unlocked\u001b[0;34m(version, reset)\u001b[0m\n\u001b[1;32m   1921\u001b[0m test_file \u001b[38;5;241m=\u001b[39m os\u001b[38;5;241m.\u001b[39mpath\u001b[38;5;241m.\u001b[39mjoin(rgi_dir,\n\u001b[1;32m   1922\u001b[0m                          \u001b[38;5;124m'\u001b[39m\u001b[38;5;124m*_rgi*\u001b[39m\u001b[38;5;132;01m{}\u001b[39;00m\u001b[38;5;124m_manifest.txt\u001b[39m\u001b[38;5;124m'\u001b[39m\u001b[38;5;241m.\u001b[39mformat(version))\n\u001b[1;32m   1924\u001b[0m \u001b[38;5;28;01mif\u001b[39;00m \u001b[38;5;28mlen\u001b[39m(glob\u001b[38;5;241m.\u001b[39mglob(test_file)) \u001b[38;5;241m==\u001b[39m \u001b[38;5;241m0\u001b[39m:\n\u001b[1;32m   1925\u001b[0m     \u001b[38;5;66;03m# if not there download it\u001b[39;00m\n\u001b[0;32m-> 1926\u001b[0m     ofile \u001b[38;5;241m=\u001b[39m file_downloader(dfile, reset\u001b[38;5;241m=\u001b[39mreset)\n\u001b[1;32m   1927\u001b[0m     \u001b[38;5;66;03m# Extract root\u001b[39;00m\n\u001b[1;32m   1928\u001b[0m     \u001b[38;5;28;01mwith\u001b[39;00m zipfile\u001b[38;5;241m.\u001b[39mZipFile(ofile) \u001b[38;5;28;01mas\u001b[39;00m zf:\n",
      "\u001b[0;31mUnboundLocalError\u001b[0m: cannot access local variable 'dfile' where it is not associated with a value"
     ]
    }
   ],
   "source": [
    "import os\n",
    "from oggm import cfg, utils\n",
    "\n",
    "path = '/Users/ziggygoddard/Documents/summer24/OGGM_output'\n",
    "\n",
    "# Initialize OGGM\n",
    "cfg.initialize(logging_level='WARNING')\n",
    "cfg.PATHS['working_dir'] = path\n",
    "\n",
    "cfg.PARAMS['store_model_geometry'] = True\n",
    "cfg.PARAMS['use_multiprocessing'] = True\n",
    "cfg.PARAMS['continue_on_error'] = True  # this is to avoid issues with the files with invalid geometries\n",
    "\n",
    "# Manually set the path to the RGI directory if downloaded manually\n",
    "rgi_path = '/Users/ziggygoddard/Documents/summer24/RGI2000-v7.0-G-16_low_latitudes/'\n",
    "if os.path.exists(rgi_path):\n",
    "    cfg.PATHS['rgi_dir'] = rgi_path\n",
    "    print(f\"RGI directory set to: {rgi_path}\")\n",
    "else:\n",
    "    print(f\"RGI directory not found: {rgi_path}\")\n",
    "\n",
    "# Verify the directory\n",
    "print(\"Checking RGI directory...\")\n",
    "rgi_dir = utils.get_rgi_dir(version='70G')\n",
    "print(f\"Using RGI directory: {rgi_dir}\")\n",
    "\n",
    "# Proceed with the rest of your OGGM workflow\n",
    "# Download glacier outlines\n",
    "# utils.get_rgi_dir(version='70G')  # This should already be done with the manual path set\n",
    "\n",
    "# Example workflow to check if the RGI data is accessible\n",
    "rgi_files = os.listdir(rgi_dir)\n",
    "print(f\"Files in RGI directory: {rgi_files[:5]}\")  # Print the first 5 files for verification\n",
    "\n",
    "# Continue with your OGGM tasks as needed\n"
   ]
  },
  {
   "cell_type": "markdown",
   "id": "66ec844b-90d7-47ea-8416-272d27e7fc85",
   "metadata": {},
   "source": [
    "## <b> Step 1: Import necessary software packages for graphing and visualization"
   ]
  },
  {
   "cell_type": "code",
   "execution_count": 1,
   "id": "c1729f9a-1399-4909-a7b6-93c4208665d4",
   "metadata": {},
   "outputs": [],
   "source": [
    "import matplotlib.pyplot as plt\n",
    "import xarray as xr\n",
    "import numpy as np\n",
    "import pandas as pd\n",
    "import geopandas as gpd\n",
    "import seaborn as sns\n",
    "import shapely.geometry as shpg\n",
    "import os"
   ]
  },
  {
   "cell_type": "markdown",
   "id": "f25242f1-2077-49a2-ba16-49a93cd4e85a",
   "metadata": {},
   "source": [
    "## <b> Step 2: import and set up OGGM software"
   ]
  },
  {
   "cell_type": "code",
   "execution_count": 2,
   "id": "de469965-7f43-4385-aa8f-fefd67b03c20",
   "metadata": {},
   "outputs": [],
   "source": [
    "from oggm import cfg, utils, workflow, tasks, graphics"
   ]
  },
  {
   "cell_type": "code",
   "execution_count": 3,
   "id": "4449cefc-18ea-4d6d-ade7-0cd6ed735bb5",
   "metadata": {},
   "outputs": [],
   "source": [
    "# Define the directory path in your home directory\n",
    "path = '/Users/ziggygoddard/Documents/summer24/OGGM_output' "
   ]
  },
  {
   "cell_type": "code",
   "execution_count": 4,
   "id": "934ab118-4065-4268-997f-a0c8f845ba5f",
   "metadata": {},
   "outputs": [
    {
     "name": "stderr",
     "output_type": "stream",
     "text": [
      "2024-07-09 14:56:25: oggm.cfg: Reading default parameters from the OGGM `params.cfg` configuration file.\n",
      "2024-07-09 14:56:25: oggm.cfg: Multiprocessing switched OFF according to the parameter file.\n",
      "2024-07-09 14:56:25: oggm.cfg: Multiprocessing: using all available processors (N=8)\n",
      "2024-07-09 14:56:26: oggm.cfg: PARAMS['store_model_geometry'] changed from `False` to `True`.\n",
      "2024-07-09 14:56:26: oggm.cfg: Multiprocessing switched ON after user settings.\n",
      "2024-07-09 14:56:26: oggm.cfg: PARAMS['continue_on_error'] changed from `False` to `True`.\n"
     ]
    }
   ],
   "source": [
    "# work with parameters \n",
    "cfg.initialize(logging_level='WARNING')\n",
    "cfg.PATHS['working_dir']=path\n",
    "\n",
    "cfg.PARAMS['store_model_geometry'] = True\n",
    "cfg.PARAMS['use_multiprocessing'] = True\n",
    "cfg.PARAMS['continue_on_error']=True #this is to avoid issues with the files with invalid geometries\n",
    "\n",
    "#You can provide any other dataset to OGGM by setting the climate_file parameter in params.cfg"
   ]
  },
  {
   "cell_type": "markdown",
   "id": "abfbca44-ca4d-449b-b352-d833d03aa7b9",
   "metadata": {},
   "source": [
    "## Step 3: Define glaciers for the run"
   ]
  },
  {
   "cell_type": "code",
   "execution_count": 5,
   "id": "042afaea-80fb-49af-8d0e-b418d190f265",
   "metadata": {},
   "outputs": [
    {
     "data": {
      "text/plain": [
       "'/Users/ziggygoddard/OGGM/rgi/RGIV62'"
      ]
     },
     "execution_count": 5,
     "metadata": {},
     "output_type": "execute_result"
    }
   ],
   "source": [
    "# Download glacier outlines\n",
    "# I assume I should access a newer version of the glacier directory?\n",
    "utils.get_rgi_dir(version='62')  # path to the data after download"
   ]
  },
  {
   "cell_type": "code",
   "execution_count": 6,
   "id": "b6b6e873-0f92-4f85-9236-3b2f37b74d05",
   "metadata": {},
   "outputs": [
    {
     "name": "stdout",
     "output_type": "stream",
     "text": [
      "/opt/miniconda3/envs/oggm_env/lib/python3.12/site-packages/oggm/__init__.py\n"
     ]
    }
   ],
   "source": [
    "import oggm\n",
    "print(oggm.__file__)"
   ]
  },
  {
   "cell_type": "code",
   "execution_count": 32,
   "id": "a3eedbb6-12b9-429e-a465-278f8b1cf552",
   "metadata": {},
   "outputs": [
    {
     "ename": "UnboundLocalError",
     "evalue": "cannot access local variable 'dfile' where it is not associated with a value",
     "output_type": "error",
     "traceback": [
      "\u001b[0;31m---------------------------------------------------------------------------\u001b[0m",
      "\u001b[0;31mUnboundLocalError\u001b[0m                         Traceback (most recent call last)",
      "Cell \u001b[0;32mIn[32], line 2\u001b[0m\n\u001b[1;32m      1\u001b[0m \u001b[38;5;66;03m# Get rgi region file for region 16 (South America)\u001b[39;00m\n\u001b[0;32m----> 2\u001b[0m fr \u001b[38;5;241m=\u001b[39m utils\u001b[38;5;241m.\u001b[39mget_rgi_region_file(\u001b[38;5;241m16\u001b[39m, version\u001b[38;5;241m=\u001b[39m\u001b[38;5;124m'\u001b[39m\u001b[38;5;124m70G\u001b[39m\u001b[38;5;124m'\u001b[39m)\n",
      "File \u001b[0;32m/opt/miniconda3/envs/oggm_env/lib/python3.12/site-packages/oggm/utils/_downloads.py:1967\u001b[0m, in \u001b[0;36mget_rgi_region_file\u001b[0;34m(region, version, reset)\u001b[0m\n\u001b[1;32m   1947\u001b[0m \u001b[38;5;28;01mdef\u001b[39;00m \u001b[38;5;21mget_rgi_region_file\u001b[39m(region, version\u001b[38;5;241m=\u001b[39m\u001b[38;5;28;01mNone\u001b[39;00m, reset\u001b[38;5;241m=\u001b[39m\u001b[38;5;28;01mFalse\u001b[39;00m):\n\u001b[1;32m   1948\u001b[0m \u001b[38;5;250m    \u001b[39m\u001b[38;5;124;03m\"\"\"Path to the RGI region file.\u001b[39;00m\n\u001b[1;32m   1949\u001b[0m \n\u001b[1;32m   1950\u001b[0m \u001b[38;5;124;03m    If the RGI files are not present, download them.\u001b[39;00m\n\u001b[0;32m   (...)\u001b[0m\n\u001b[1;32m   1964\u001b[0m \u001b[38;5;124;03m        path to the RGI shapefile\u001b[39;00m\n\u001b[1;32m   1965\u001b[0m \u001b[38;5;124;03m    \"\"\"\u001b[39;00m\n\u001b[0;32m-> 1967\u001b[0m     rgi_dir \u001b[38;5;241m=\u001b[39m get_rgi_dir(version\u001b[38;5;241m=\u001b[39mversion, reset\u001b[38;5;241m=\u001b[39mreset)\n\u001b[1;32m   1968\u001b[0m     f \u001b[38;5;241m=\u001b[39m \u001b[38;5;28mlist\u001b[39m(glob\u001b[38;5;241m.\u001b[39mglob(rgi_dir \u001b[38;5;241m+\u001b[39m \u001b[38;5;124m\"\u001b[39m\u001b[38;5;124m/*/*\u001b[39m\u001b[38;5;132;01m{}\u001b[39;00m\u001b[38;5;124m_*.shp\u001b[39m\u001b[38;5;124m\"\u001b[39m\u001b[38;5;241m.\u001b[39mformat(region)))\n\u001b[1;32m   1969\u001b[0m     \u001b[38;5;28;01massert\u001b[39;00m \u001b[38;5;28mlen\u001b[39m(f) \u001b[38;5;241m==\u001b[39m \u001b[38;5;241m1\u001b[39m\n",
      "File \u001b[0;32m/opt/miniconda3/envs/oggm_env/lib/python3.12/site-packages/oggm/utils/_downloads.py:1892\u001b[0m, in \u001b[0;36mget_rgi_dir\u001b[0;34m(version, reset)\u001b[0m\n\u001b[1;32m   1874\u001b[0m \u001b[38;5;250m\u001b[39m\u001b[38;5;124;03m\"\"\"Path to the RGI directory.\u001b[39;00m\n\u001b[1;32m   1875\u001b[0m \n\u001b[1;32m   1876\u001b[0m \u001b[38;5;124;03mIf the RGI files are not present, download them.\u001b[39;00m\n\u001b[0;32m   (...)\u001b[0m\n\u001b[1;32m   1888\u001b[0m \u001b[38;5;124;03m    path to the RGI directory\u001b[39;00m\n\u001b[1;32m   1889\u001b[0m \u001b[38;5;124;03m\"\"\"\u001b[39;00m\n\u001b[1;32m   1891\u001b[0m \u001b[38;5;28;01mwith\u001b[39;00m get_lock():\n\u001b[0;32m-> 1892\u001b[0m     \u001b[38;5;28;01mreturn\u001b[39;00m _get_rgi_dir_unlocked(version\u001b[38;5;241m=\u001b[39mversion, reset\u001b[38;5;241m=\u001b[39mreset)\n",
      "File \u001b[0;32m/opt/miniconda3/envs/oggm_env/lib/python3.12/site-packages/oggm/utils/_downloads.py:1926\u001b[0m, in \u001b[0;36m_get_rgi_dir_unlocked\u001b[0;34m(version, reset)\u001b[0m\n\u001b[1;32m   1921\u001b[0m test_file \u001b[38;5;241m=\u001b[39m os\u001b[38;5;241m.\u001b[39mpath\u001b[38;5;241m.\u001b[39mjoin(rgi_dir,\n\u001b[1;32m   1922\u001b[0m                          \u001b[38;5;124m'\u001b[39m\u001b[38;5;124m*_rgi*\u001b[39m\u001b[38;5;132;01m{}\u001b[39;00m\u001b[38;5;124m_manifest.txt\u001b[39m\u001b[38;5;124m'\u001b[39m\u001b[38;5;241m.\u001b[39mformat(version))\n\u001b[1;32m   1924\u001b[0m \u001b[38;5;28;01mif\u001b[39;00m \u001b[38;5;28mlen\u001b[39m(glob\u001b[38;5;241m.\u001b[39mglob(test_file)) \u001b[38;5;241m==\u001b[39m \u001b[38;5;241m0\u001b[39m:\n\u001b[1;32m   1925\u001b[0m     \u001b[38;5;66;03m# if not there download it\u001b[39;00m\n\u001b[0;32m-> 1926\u001b[0m     ofile \u001b[38;5;241m=\u001b[39m file_downloader(dfile, reset\u001b[38;5;241m=\u001b[39mreset)\n\u001b[1;32m   1927\u001b[0m     \u001b[38;5;66;03m# Extract root\u001b[39;00m\n\u001b[1;32m   1928\u001b[0m     \u001b[38;5;28;01mwith\u001b[39;00m zipfile\u001b[38;5;241m.\u001b[39mZipFile(ofile) \u001b[38;5;28;01mas\u001b[39;00m zf:\n",
      "\u001b[0;31mUnboundLocalError\u001b[0m: cannot access local variable 'dfile' where it is not associated with a value"
     ]
    }
   ],
   "source": [
    "# Get rgi region file for region 16 (South America)\n",
    "fr = utils.get_rgi_region_file(16, version='70G')"
   ]
  },
  {
   "cell_type": "code",
   "execution_count": 8,
   "id": "85bd4a30-dea0-4e3b-b707-d44592dcebb8",
   "metadata": {},
   "outputs": [
    {
     "name": "stdout",
     "output_type": "stream",
     "text": [
      "Columns in GeoDataFrame: Index(['RGIId', 'GLIMSId', 'BgnDate', 'EndDate', 'CenLon', 'CenLat',\n",
      "       'O1Region', 'O2Region', 'Area', 'Zmin', 'Zmax', 'Zmed', 'Slope',\n",
      "       'Aspect', 'Lmax', 'Status', 'Connect', 'Form', 'TermType', 'Surging',\n",
      "       'Linkages', 'Name', 'check_geom', 'geometry'],\n",
      "      dtype='object')\n",
      "Number of features (glaciers): 2939\n",
      "            RGIId         GLIMSId   BgnDate   EndDate   CenLon   CenLat  \\\n",
      "0  RGI60-16.00001  G290095E16521S  20009999  20030531 -69.9053 -16.5212   \n",
      "1  RGI60-16.00002  G290088E16520S  20009999  20030531 -69.9117 -16.5196   \n",
      "2  RGI60-16.00003  G290075E16516S  20009999  20030531 -69.9246 -16.5156   \n",
      "3  RGI60-16.00004  G290856E16386S  20009999  20030531 -69.1445 -16.3855   \n",
      "4  RGI60-16.00005  G290859E16384S  20009999  20030531 -69.1411 -16.3840   \n",
      "\n",
      "  O1Region O2Region   Area  Zmin  ...  Lmax  Status  Connect  Form  TermType  \\\n",
      "0       16        1  0.098  4896  ...   348       0        0     0         0   \n",
      "1       16        1  0.147  4963  ...   289       0        0     0         0   \n",
      "2       16        1  0.149  4892  ...   337       0        0     0         0   \n",
      "3       16        1  0.051  4443  ...   320       0        0     0         0   \n",
      "4       16        1  0.037  4397  ...   347       0        0     0         0   \n",
      "\n",
      "   Surging  Linkages  Name        check_geom  \\\n",
      "0        9         9  None              None   \n",
      "1        9         9  None              None   \n",
      "2        9         9  None              None   \n",
      "3        9         9  None  WARN:WasInvalid;   \n",
      "4        9         9  None              None   \n",
      "\n",
      "                                            geometry  \n",
      "0  POLYGON ((-69.90403 -16.52105, -69.90399 -16.5...  \n",
      "1  POLYGON ((-69.90784 -16.51838, -69.90738 -16.5...  \n",
      "2  POLYGON ((-69.92029 -16.51488, -69.92058 -16.5...  \n",
      "3  POLYGON ((-69.14501 -16.38533, -69.14513 -16.3...  \n",
      "4  POLYGON ((-69.14235 -16.38304, -69.14011 -16.3...  \n",
      "\n",
      "[5 rows x 24 columns]\n"
     ]
    }
   ],
   "source": [
    "import geopandas as gpd\n",
    "\n",
    "# Read the shapefile\n",
    "gdf = gpd.read_file(fr)\n",
    "\n",
    "# Print information about the GeoDataFrame\n",
    "print(\"Columns in GeoDataFrame:\", gdf.columns)\n",
    "print(\"Number of features (glaciers):\", len(gdf))\n",
    "\n",
    "# Display the first few rows to inspect the data\n",
    "print(gdf.head())\n"
   ]
  },
  {
   "cell_type": "code",
   "execution_count": 9,
   "id": "f5e52547-3f48-4bff-82d8-373d6537818a",
   "metadata": {},
   "outputs": [],
   "source": [
    "# Read file as as geopandas\n",
    "gdf = gpd.read_file(fr)"
   ]
  },
  {
   "cell_type": "code",
   "execution_count": 10,
   "id": "075f1224-ac56-438f-b987-5e0dd59d32b7",
   "metadata": {},
   "outputs": [],
   "source": [
    "# Add basin shapefile\n",
    "path = '~/Documents/summer24/sa_basins/quito_region_basins_dissolved.shp' \n",
    "basin = gpd.read_file(path)"
   ]
  },
  {
   "cell_type": "code",
   "execution_count": 11,
   "id": "0e58b3dc-c9f7-4e07-b21e-186207bc2b5d",
   "metadata": {},
   "outputs": [],
   "source": [
    "# Select glaciers within the basin\n",
    "in_bas = [basin.geometry.contains(shpg.Point(x, y))[0] for\n",
    "          (x, y) in zip(gdf.CenLon, gdf.CenLat)]\n",
    "gdf_sel = gdf.loc[in_bas]"
   ]
  },
  {
   "cell_type": "code",
   "execution_count": 12,
   "id": "4d82b028-0836-4ce4-abee-6aaaaf98325e",
   "metadata": {
    "scrolled": true
   },
   "outputs": [],
   "source": [
    "# Select rgi id's from the gdf_sel file\n",
    "rgi_ids = gdf_sel['RGIId']"
   ]
  },
  {
   "cell_type": "code",
   "execution_count": 13,
   "id": "06151fa2-7e08-4193-b9df-1e71f5a27885",
   "metadata": {},
   "outputs": [
    {
     "data": {
      "text/plain": [
       "1305    RGI60-16.01306\n",
       "1306    RGI60-16.01307\n",
       "1307    RGI60-16.01308\n",
       "1308    RGI60-16.01309\n",
       "1309    RGI60-16.01310\n",
       "1310    RGI60-16.01311\n",
       "1311    RGI60-16.01312\n",
       "1312    RGI60-16.01313\n",
       "1313    RGI60-16.01314\n",
       "1314    RGI60-16.01315\n",
       "1315    RGI60-16.01316\n",
       "1316    RGI60-16.01317\n",
       "1317    RGI60-16.01318\n",
       "1318    RGI60-16.01319\n",
       "1319    RGI60-16.01320\n",
       "1320    RGI60-16.01321\n",
       "1321    RGI60-16.01322\n",
       "1330    RGI60-16.01336\n",
       "1331    RGI60-16.01337\n",
       "1332    RGI60-16.01338\n",
       "1333    RGI60-16.01339\n",
       "1335    RGI60-16.01341\n",
       "1336    RGI60-16.01342\n",
       "1337    RGI60-16.01343\n",
       "1338    RGI60-16.01344\n",
       "1339    RGI60-16.01345\n",
       "1340    RGI60-16.01346\n",
       "1388    RGI60-16.01394\n",
       "1417    RGI60-16.01423\n",
       "1418    RGI60-16.01424\n",
       "1426    RGI60-16.01432\n",
       "1427    RGI60-16.01433\n",
       "1428    RGI60-16.01434\n",
       "1429    RGI60-16.01435\n",
       "1430    RGI60-16.01436\n",
       "1431    RGI60-16.01437\n",
       "1432    RGI60-16.01438\n",
       "1433    RGI60-16.01439\n",
       "1434    RGI60-16.01440\n",
       "1435    RGI60-16.01441\n",
       "1436    RGI60-16.01442\n",
       "1437    RGI60-16.01443\n",
       "1438    RGI60-16.01444\n",
       "2935    RGI60-16.02942\n",
       "2936    RGI60-16.02943\n",
       "2937    RGI60-16.02944\n",
       "2938    RGI60-16.02945\n",
       "Name: RGIId, dtype: object"
      ]
     },
     "execution_count": 13,
     "metadata": {},
     "output_type": "execute_result"
    }
   ],
   "source": [
    "rgi_ids"
   ]
  },
  {
   "cell_type": "code",
   "execution_count": 14,
   "id": "3900a029-ad86-4594-916b-d32b513902bf",
   "metadata": {},
   "outputs": [],
   "source": [
    "# # Select glaciers within the basin\n",
    "# in_bas = [basin.geometry.contains(shpg.Point(x, y))[0] for\n",
    "#           (x, y) in zip(gdf.CenLon, gdf.CenLat)]\n",
    "# gdf_sel = gdf.loc[in_bas]\n",
    "\n",
    "# Remove the problematic glaciers\n",
    "problem_glacier_list = ['RGI60-16.01306']\n",
    "gdf_sel = gdf_sel[~gdf_sel['RGIId'].isin(problem_glacier_list)]\n",
    "\n",
    "# Select rgi id's from the gdf_sel file\n",
    "rgi_ids = gdf_sel['RGIId'].tolist()"
   ]
  },
  {
   "cell_type": "markdown",
   "id": "1d0e0c71-f806-4525-b3e4-84a5d0874be4",
   "metadata": {},
   "source": [
    "## Step 4. Prepare glacier data"
   ]
  },
  {
   "cell_type": "code",
   "execution_count": 15,
   "id": "94c11d9b-c968-4def-9c80-9f621fb06f83",
   "metadata": {
    "tags": []
   },
   "outputs": [
    {
     "name": "stderr",
     "output_type": "stream",
     "text": [
      "2024-07-09 14:56:40: oggm.workflow: init_glacier_directories from prepro level 5 on 46 glaciers.\n",
      "2024-07-09 14:56:40: oggm.workflow: Execute entity tasks [gdir_from_prepro] on 46 glaciers\n"
     ]
    }
   ],
   "source": [
    "# Initiate glacier directory task for each glacier\n",
    "base_url = 'https://cluster.klima.uni-bremen.de/~oggm/gdirs/oggm_v1.6/L3-L5_files/2023.3/elev_bands/W5E5_spinup'\n",
    "gdirs = workflow.init_glacier_directories(rgi_ids,\n",
    "                                           from_prepro_level=5,\n",
    "                                           prepro_base_url=base_url,\n",
    "                                         prepro_border=80)\n",
    "## we have a problem with the 10th glacier.  Why is OGGM not continuing?\n",
    "## Try: running this in a for loop, and/or removing problem glaciers\n",
    "## this is up to date"
   ]
  },
  {
   "cell_type": "code",
   "execution_count": 16,
   "id": "aa409c3d-7273-4a51-9001-3c306c920246",
   "metadata": {},
   "outputs": [
    {
     "data": {
      "text/plain": [
       "list"
      ]
     },
     "execution_count": 16,
     "metadata": {},
     "output_type": "execute_result"
    }
   ],
   "source": [
    "type(gdirs)"
   ]
  },
  {
   "cell_type": "code",
   "execution_count": 17,
   "id": "312e3b8a-68d0-4e7c-aefc-4316fe6cc06f",
   "metadata": {},
   "outputs": [],
   "source": [
    "# gdirs = []\n",
    "# for r in rgi_ids:\n",
    "#     try:\n",
    "#         gdir_temp = workflow.init_glacier_directories(r,\n",
    "#                                                    from_prepro_level=5,\n",
    "#                                                    prepro_base_url=base_url,\n",
    "#                                                  prepro_border=80)\n",
    "#         gdirs.append(gdir_temp)\n",
    "#     except:\n",
    "#         print('Failed for {}'.format(r))\n",
    "#         continue\n",
    "\n",
    "## Does not make correct format of gdirs for later use; also doesn't report any errors\n",
    "## better luck next time"
   ]
  },
  {
   "cell_type": "markdown",
   "id": "30a75d05-3f67-4811-abae-12eeaf626eda",
   "metadata": {},
   "source": [
    "# Step 5. Initiate climate runs"
   ]
  },
  {
   "cell_type": "markdown",
   "id": "d7eb0871-d252-479e-a86f-d9a09ffe9c5c",
   "metadata": {},
   "source": [
    "### I. Run constant climate commitment run"
   ]
  },
  {
   "cell_type": "code",
   "execution_count": 18,
   "id": "a4150501-6ee3-41e8-a8dd-f4c70f5f42c8",
   "metadata": {
    "tags": []
   },
   "outputs": [],
   "source": [
    "# Initiate run_with_hydro using constant climate\n",
    "for g in gdirs:\n",
    "    file_id = '_ct'\n",
    "    tasks.run_with_hydro(g, run_task=tasks.run_constant_climate, nyears=100, y0=2014, halfsize=5, store_monthly_hydro=True, \n",
    "                     output_filesuffix=file_id);"
   ]
  },
  {
   "cell_type": "code",
   "execution_count": 19,
   "id": "e7f5770c-1635-4150-8e75-f04e6a76c9a4",
   "metadata": {},
   "outputs": [
    {
     "name": "stderr",
     "output_type": "stream",
     "text": [
      "2024-07-09 14:58:03: oggm.utils: Applying global task compile_run_output on 46 glaciers\n",
      "2024-07-09 14:58:03: oggm.utils: Applying compile_run_output on 46 gdirs.\n"
     ]
    }
   ],
   "source": [
    "# Export data from constant climate run and compile run output\n",
    "import datetime\n",
    "output_path = '~/Documents/summer24/{}-ct_compiled_output.nc'.format(datetime.date.today()) \n",
    "new_ds = utils.compile_run_output(gdirs, input_filesuffix=file_id, path=output_path)"
   ]
  },
  {
   "cell_type": "code",
   "execution_count": 20,
   "id": "bd7fef32-4dee-4e80-9bf5-5b67bf3a2c9a",
   "metadata": {},
   "outputs": [],
   "source": [
    "# Load in the glacier data from above (only when data has been saved)\n",
    "export_date = '2024-07-09'\n",
    "input_path = '~/Documents/summer24/{}-ct_compiled_output.nc'.format(export_date)\n",
    "ct_ds = xr.open_dataset(input_path)"
   ]
  },
  {
   "cell_type": "code",
   "execution_count": 21,
   "id": "4c9a9314-ba0b-43b4-85c5-57c21722f813",
   "metadata": {
    "scrolled": true
   },
   "outputs": [
    {
     "data": {
      "text/html": [
       "<div><svg style=\"position: absolute; width: 0; height: 0; overflow: hidden\">\n",
       "<defs>\n",
       "<symbol id=\"icon-database\" viewBox=\"0 0 32 32\">\n",
       "<path d=\"M16 0c-8.837 0-16 2.239-16 5v4c0 2.761 7.163 5 16 5s16-2.239 16-5v-4c0-2.761-7.163-5-16-5z\"></path>\n",
       "<path d=\"M16 17c-8.837 0-16-2.239-16-5v6c0 2.761 7.163 5 16 5s16-2.239 16-5v-6c0 2.761-7.163 5-16 5z\"></path>\n",
       "<path d=\"M16 26c-8.837 0-16-2.239-16-5v6c0 2.761 7.163 5 16 5s16-2.239 16-5v-6c0 2.761-7.163 5-16 5z\"></path>\n",
       "</symbol>\n",
       "<symbol id=\"icon-file-text2\" viewBox=\"0 0 32 32\">\n",
       "<path d=\"M28.681 7.159c-0.694-0.947-1.662-2.053-2.724-3.116s-2.169-2.030-3.116-2.724c-1.612-1.182-2.393-1.319-2.841-1.319h-15.5c-1.378 0-2.5 1.121-2.5 2.5v27c0 1.378 1.122 2.5 2.5 2.5h23c1.378 0 2.5-1.122 2.5-2.5v-19.5c0-0.448-0.137-1.23-1.319-2.841zM24.543 5.457c0.959 0.959 1.712 1.825 2.268 2.543h-4.811v-4.811c0.718 0.556 1.584 1.309 2.543 2.268zM28 29.5c0 0.271-0.229 0.5-0.5 0.5h-23c-0.271 0-0.5-0.229-0.5-0.5v-27c0-0.271 0.229-0.5 0.5-0.5 0 0 15.499-0 15.5 0v7c0 0.552 0.448 1 1 1h7v19.5z\"></path>\n",
       "<path d=\"M23 26h-14c-0.552 0-1-0.448-1-1s0.448-1 1-1h14c0.552 0 1 0.448 1 1s-0.448 1-1 1z\"></path>\n",
       "<path d=\"M23 22h-14c-0.552 0-1-0.448-1-1s0.448-1 1-1h14c0.552 0 1 0.448 1 1s-0.448 1-1 1z\"></path>\n",
       "<path d=\"M23 18h-14c-0.552 0-1-0.448-1-1s0.448-1 1-1h14c0.552 0 1 0.448 1 1s-0.448 1-1 1z\"></path>\n",
       "</symbol>\n",
       "</defs>\n",
       "</svg>\n",
       "<style>/* CSS stylesheet for displaying xarray objects in jupyterlab.\n",
       " *\n",
       " */\n",
       "\n",
       ":root {\n",
       "  --xr-font-color0: var(--jp-content-font-color0, rgba(0, 0, 0, 1));\n",
       "  --xr-font-color2: var(--jp-content-font-color2, rgba(0, 0, 0, 0.54));\n",
       "  --xr-font-color3: var(--jp-content-font-color3, rgba(0, 0, 0, 0.38));\n",
       "  --xr-border-color: var(--jp-border-color2, #e0e0e0);\n",
       "  --xr-disabled-color: var(--jp-layout-color3, #bdbdbd);\n",
       "  --xr-background-color: var(--jp-layout-color0, white);\n",
       "  --xr-background-color-row-even: var(--jp-layout-color1, white);\n",
       "  --xr-background-color-row-odd: var(--jp-layout-color2, #eeeeee);\n",
       "}\n",
       "\n",
       "html[theme=dark],\n",
       "body[data-theme=dark],\n",
       "body.vscode-dark {\n",
       "  --xr-font-color0: rgba(255, 255, 255, 1);\n",
       "  --xr-font-color2: rgba(255, 255, 255, 0.54);\n",
       "  --xr-font-color3: rgba(255, 255, 255, 0.38);\n",
       "  --xr-border-color: #1F1F1F;\n",
       "  --xr-disabled-color: #515151;\n",
       "  --xr-background-color: #111111;\n",
       "  --xr-background-color-row-even: #111111;\n",
       "  --xr-background-color-row-odd: #313131;\n",
       "}\n",
       "\n",
       ".xr-wrap {\n",
       "  display: block !important;\n",
       "  min-width: 300px;\n",
       "  max-width: 700px;\n",
       "}\n",
       "\n",
       ".xr-text-repr-fallback {\n",
       "  /* fallback to plain text repr when CSS is not injected (untrusted notebook) */\n",
       "  display: none;\n",
       "}\n",
       "\n",
       ".xr-header {\n",
       "  padding-top: 6px;\n",
       "  padding-bottom: 6px;\n",
       "  margin-bottom: 4px;\n",
       "  border-bottom: solid 1px var(--xr-border-color);\n",
       "}\n",
       "\n",
       ".xr-header > div,\n",
       ".xr-header > ul {\n",
       "  display: inline;\n",
       "  margin-top: 0;\n",
       "  margin-bottom: 0;\n",
       "}\n",
       "\n",
       ".xr-obj-type,\n",
       ".xr-array-name {\n",
       "  margin-left: 2px;\n",
       "  margin-right: 10px;\n",
       "}\n",
       "\n",
       ".xr-obj-type {\n",
       "  color: var(--xr-font-color2);\n",
       "}\n",
       "\n",
       ".xr-sections {\n",
       "  padding-left: 0 !important;\n",
       "  display: grid;\n",
       "  grid-template-columns: 150px auto auto 1fr 20px 20px;\n",
       "}\n",
       "\n",
       ".xr-section-item {\n",
       "  display: contents;\n",
       "}\n",
       "\n",
       ".xr-section-item input {\n",
       "  display: none;\n",
       "}\n",
       "\n",
       ".xr-section-item input + label {\n",
       "  color: var(--xr-disabled-color);\n",
       "}\n",
       "\n",
       ".xr-section-item input:enabled + label {\n",
       "  cursor: pointer;\n",
       "  color: var(--xr-font-color2);\n",
       "}\n",
       "\n",
       ".xr-section-item input:enabled + label:hover {\n",
       "  color: var(--xr-font-color0);\n",
       "}\n",
       "\n",
       ".xr-section-summary {\n",
       "  grid-column: 1;\n",
       "  color: var(--xr-font-color2);\n",
       "  font-weight: 500;\n",
       "}\n",
       "\n",
       ".xr-section-summary > span {\n",
       "  display: inline-block;\n",
       "  padding-left: 0.5em;\n",
       "}\n",
       "\n",
       ".xr-section-summary-in:disabled + label {\n",
       "  color: var(--xr-font-color2);\n",
       "}\n",
       "\n",
       ".xr-section-summary-in + label:before {\n",
       "  display: inline-block;\n",
       "  content: '►';\n",
       "  font-size: 11px;\n",
       "  width: 15px;\n",
       "  text-align: center;\n",
       "}\n",
       "\n",
       ".xr-section-summary-in:disabled + label:before {\n",
       "  color: var(--xr-disabled-color);\n",
       "}\n",
       "\n",
       ".xr-section-summary-in:checked + label:before {\n",
       "  content: '▼';\n",
       "}\n",
       "\n",
       ".xr-section-summary-in:checked + label > span {\n",
       "  display: none;\n",
       "}\n",
       "\n",
       ".xr-section-summary,\n",
       ".xr-section-inline-details {\n",
       "  padding-top: 4px;\n",
       "  padding-bottom: 4px;\n",
       "}\n",
       "\n",
       ".xr-section-inline-details {\n",
       "  grid-column: 2 / -1;\n",
       "}\n",
       "\n",
       ".xr-section-details {\n",
       "  display: none;\n",
       "  grid-column: 1 / -1;\n",
       "  margin-bottom: 5px;\n",
       "}\n",
       "\n",
       ".xr-section-summary-in:checked ~ .xr-section-details {\n",
       "  display: contents;\n",
       "}\n",
       "\n",
       ".xr-array-wrap {\n",
       "  grid-column: 1 / -1;\n",
       "  display: grid;\n",
       "  grid-template-columns: 20px auto;\n",
       "}\n",
       "\n",
       ".xr-array-wrap > label {\n",
       "  grid-column: 1;\n",
       "  vertical-align: top;\n",
       "}\n",
       "\n",
       ".xr-preview {\n",
       "  color: var(--xr-font-color3);\n",
       "}\n",
       "\n",
       ".xr-array-preview,\n",
       ".xr-array-data {\n",
       "  padding: 0 5px !important;\n",
       "  grid-column: 2;\n",
       "}\n",
       "\n",
       ".xr-array-data,\n",
       ".xr-array-in:checked ~ .xr-array-preview {\n",
       "  display: none;\n",
       "}\n",
       "\n",
       ".xr-array-in:checked ~ .xr-array-data,\n",
       ".xr-array-preview {\n",
       "  display: inline-block;\n",
       "}\n",
       "\n",
       ".xr-dim-list {\n",
       "  display: inline-block !important;\n",
       "  list-style: none;\n",
       "  padding: 0 !important;\n",
       "  margin: 0;\n",
       "}\n",
       "\n",
       ".xr-dim-list li {\n",
       "  display: inline-block;\n",
       "  padding: 0;\n",
       "  margin: 0;\n",
       "}\n",
       "\n",
       ".xr-dim-list:before {\n",
       "  content: '(';\n",
       "}\n",
       "\n",
       ".xr-dim-list:after {\n",
       "  content: ')';\n",
       "}\n",
       "\n",
       ".xr-dim-list li:not(:last-child):after {\n",
       "  content: ',';\n",
       "  padding-right: 5px;\n",
       "}\n",
       "\n",
       ".xr-has-index {\n",
       "  font-weight: bold;\n",
       "}\n",
       "\n",
       ".xr-var-list,\n",
       ".xr-var-item {\n",
       "  display: contents;\n",
       "}\n",
       "\n",
       ".xr-var-item > div,\n",
       ".xr-var-item label,\n",
       ".xr-var-item > .xr-var-name span {\n",
       "  background-color: var(--xr-background-color-row-even);\n",
       "  margin-bottom: 0;\n",
       "}\n",
       "\n",
       ".xr-var-item > .xr-var-name:hover span {\n",
       "  padding-right: 5px;\n",
       "}\n",
       "\n",
       ".xr-var-list > li:nth-child(odd) > div,\n",
       ".xr-var-list > li:nth-child(odd) > label,\n",
       ".xr-var-list > li:nth-child(odd) > .xr-var-name span {\n",
       "  background-color: var(--xr-background-color-row-odd);\n",
       "}\n",
       "\n",
       ".xr-var-name {\n",
       "  grid-column: 1;\n",
       "}\n",
       "\n",
       ".xr-var-dims {\n",
       "  grid-column: 2;\n",
       "}\n",
       "\n",
       ".xr-var-dtype {\n",
       "  grid-column: 3;\n",
       "  text-align: right;\n",
       "  color: var(--xr-font-color2);\n",
       "}\n",
       "\n",
       ".xr-var-preview {\n",
       "  grid-column: 4;\n",
       "}\n",
       "\n",
       ".xr-index-preview {\n",
       "  grid-column: 2 / 5;\n",
       "  color: var(--xr-font-color2);\n",
       "}\n",
       "\n",
       ".xr-var-name,\n",
       ".xr-var-dims,\n",
       ".xr-var-dtype,\n",
       ".xr-preview,\n",
       ".xr-attrs dt {\n",
       "  white-space: nowrap;\n",
       "  overflow: hidden;\n",
       "  text-overflow: ellipsis;\n",
       "  padding-right: 10px;\n",
       "}\n",
       "\n",
       ".xr-var-name:hover,\n",
       ".xr-var-dims:hover,\n",
       ".xr-var-dtype:hover,\n",
       ".xr-attrs dt:hover {\n",
       "  overflow: visible;\n",
       "  width: auto;\n",
       "  z-index: 1;\n",
       "}\n",
       "\n",
       ".xr-var-attrs,\n",
       ".xr-var-data,\n",
       ".xr-index-data {\n",
       "  display: none;\n",
       "  background-color: var(--xr-background-color) !important;\n",
       "  padding-bottom: 5px !important;\n",
       "}\n",
       "\n",
       ".xr-var-attrs-in:checked ~ .xr-var-attrs,\n",
       ".xr-var-data-in:checked ~ .xr-var-data,\n",
       ".xr-index-data-in:checked ~ .xr-index-data {\n",
       "  display: block;\n",
       "}\n",
       "\n",
       ".xr-var-data > table {\n",
       "  float: right;\n",
       "}\n",
       "\n",
       ".xr-var-name span,\n",
       ".xr-var-data,\n",
       ".xr-index-name div,\n",
       ".xr-index-data,\n",
       ".xr-attrs {\n",
       "  padding-left: 25px !important;\n",
       "}\n",
       "\n",
       ".xr-attrs,\n",
       ".xr-var-attrs,\n",
       ".xr-var-data,\n",
       ".xr-index-data {\n",
       "  grid-column: 1 / -1;\n",
       "}\n",
       "\n",
       "dl.xr-attrs {\n",
       "  padding: 0;\n",
       "  margin: 0;\n",
       "  display: grid;\n",
       "  grid-template-columns: 125px auto;\n",
       "}\n",
       "\n",
       ".xr-attrs dt,\n",
       ".xr-attrs dd {\n",
       "  padding: 0;\n",
       "  margin: 0;\n",
       "  float: left;\n",
       "  padding-right: 10px;\n",
       "  width: auto;\n",
       "}\n",
       "\n",
       ".xr-attrs dt {\n",
       "  font-weight: normal;\n",
       "  grid-column: 1;\n",
       "}\n",
       "\n",
       ".xr-attrs dt:hover span {\n",
       "  display: inline-block;\n",
       "  background: var(--xr-background-color);\n",
       "  padding-right: 10px;\n",
       "}\n",
       "\n",
       ".xr-attrs dd {\n",
       "  grid-column: 2;\n",
       "  white-space: pre-wrap;\n",
       "  word-break: break-all;\n",
       "}\n",
       "\n",
       ".xr-icon-database,\n",
       ".xr-icon-file-text2,\n",
       ".xr-no-icon {\n",
       "  display: inline-block;\n",
       "  vertical-align: middle;\n",
       "  width: 1em;\n",
       "  height: 1.5em !important;\n",
       "  stroke-width: 0;\n",
       "  stroke: currentColor;\n",
       "  fill: currentColor;\n",
       "}\n",
       "</style><pre class='xr-text-repr-fallback'>&lt;xarray.Dataset&gt; Size: 2MB\n",
       "Dimensions:                       (time: 101, rgi_id: 46, month_2d: 12)\n",
       "Coordinates:\n",
       "  * time                          (time) float64 808B 0.0 1.0 2.0 ... 99.0 100.0\n",
       "  * rgi_id                        (rgi_id) &lt;U14 3kB &#x27;RGI60-16.01307&#x27; ... &#x27;RGI...\n",
       "    hydro_year                    (time) int64 808B ...\n",
       "    hydro_month                   (time) int64 808B ...\n",
       "    calendar_year                 (time) int64 808B ...\n",
       "    calendar_month                (time) int64 808B ...\n",
       "  * month_2d                      (month_2d) int64 96B 1 2 3 4 5 ... 9 10 11 12\n",
       "    calendar_month_2d             (month_2d) int64 96B ...\n",
       "Data variables: (12/24)\n",
       "    volume                        (time, rgi_id) float32 19kB ...\n",
       "    volume_bsl                    (time, rgi_id) float32 19kB ...\n",
       "    volume_bwl                    (time, rgi_id) float32 19kB ...\n",
       "    area                          (time, rgi_id) float32 19kB ...\n",
       "    length                        (time, rgi_id) float32 19kB ...\n",
       "    calving                       (time, rgi_id) float32 19kB ...\n",
       "    ...                            ...\n",
       "    liq_prcp_on_glacier_monthly   (time, month_2d, rgi_id) float32 223kB ...\n",
       "    snowfall_off_glacier_monthly  (time, month_2d, rgi_id) float32 223kB ...\n",
       "    snowfall_on_glacier_monthly   (time, month_2d, rgi_id) float32 223kB ...\n",
       "    water_level                   (rgi_id) float32 184B ...\n",
       "    glen_a                        (rgi_id) float32 184B ...\n",
       "    fs                            (rgi_id) float32 184B ...\n",
       "Attributes:\n",
       "    description:    OGGM model output\n",
       "    oggm_version:   1.6.1\n",
       "    calendar:       365-day no leap\n",
       "    creation_date:  2024-07-09 18:58:04</pre><div class='xr-wrap' style='display:none'><div class='xr-header'><div class='xr-obj-type'>xarray.Dataset</div></div><ul class='xr-sections'><li class='xr-section-item'><input id='section-e92058a4-b496-4441-a97a-5b8edddc8f51' class='xr-section-summary-in' type='checkbox' disabled ><label for='section-e92058a4-b496-4441-a97a-5b8edddc8f51' class='xr-section-summary'  title='Expand/collapse section'>Dimensions:</label><div class='xr-section-inline-details'><ul class='xr-dim-list'><li><span class='xr-has-index'>time</span>: 101</li><li><span class='xr-has-index'>rgi_id</span>: 46</li><li><span class='xr-has-index'>month_2d</span>: 12</li></ul></div><div class='xr-section-details'></div></li><li class='xr-section-item'><input id='section-cf9458d0-44c8-48c6-b4c0-f2f63f775af3' class='xr-section-summary-in' type='checkbox'  checked><label for='section-cf9458d0-44c8-48c6-b4c0-f2f63f775af3' class='xr-section-summary' >Coordinates: <span>(8)</span></label><div class='xr-section-inline-details'></div><div class='xr-section-details'><ul class='xr-var-list'><li class='xr-var-item'><div class='xr-var-name'><span class='xr-has-index'>time</span></div><div class='xr-var-dims'>(time)</div><div class='xr-var-dtype'>float64</div><div class='xr-var-preview xr-preview'>0.0 1.0 2.0 3.0 ... 98.0 99.0 100.0</div><input id='attrs-687cd8e3-5903-4169-9b16-ecb04dc7ae9b' class='xr-var-attrs-in' type='checkbox' ><label for='attrs-687cd8e3-5903-4169-9b16-ecb04dc7ae9b' title='Show/Hide attributes'><svg class='icon xr-icon-file-text2'><use xlink:href='#icon-file-text2'></use></svg></label><input id='data-574db681-f406-4c09-bc81-4380428a1de7' class='xr-var-data-in' type='checkbox'><label for='data-574db681-f406-4c09-bc81-4380428a1de7' title='Show/Hide data repr'><svg class='icon xr-icon-database'><use xlink:href='#icon-database'></use></svg></label><div class='xr-var-attrs'><dl class='xr-attrs'><dt><span>description :</span></dt><dd>Floating year</dd></dl></div><div class='xr-var-data'><pre>array([  0.,   1.,   2.,   3.,   4.,   5.,   6.,   7.,   8.,   9.,  10.,  11.,\n",
       "        12.,  13.,  14.,  15.,  16.,  17.,  18.,  19.,  20.,  21.,  22.,  23.,\n",
       "        24.,  25.,  26.,  27.,  28.,  29.,  30.,  31.,  32.,  33.,  34.,  35.,\n",
       "        36.,  37.,  38.,  39.,  40.,  41.,  42.,  43.,  44.,  45.,  46.,  47.,\n",
       "        48.,  49.,  50.,  51.,  52.,  53.,  54.,  55.,  56.,  57.,  58.,  59.,\n",
       "        60.,  61.,  62.,  63.,  64.,  65.,  66.,  67.,  68.,  69.,  70.,  71.,\n",
       "        72.,  73.,  74.,  75.,  76.,  77.,  78.,  79.,  80.,  81.,  82.,  83.,\n",
       "        84.,  85.,  86.,  87.,  88.,  89.,  90.,  91.,  92.,  93.,  94.,  95.,\n",
       "        96.,  97.,  98.,  99., 100.])</pre></div></li><li class='xr-var-item'><div class='xr-var-name'><span class='xr-has-index'>rgi_id</span></div><div class='xr-var-dims'>(rgi_id)</div><div class='xr-var-dtype'>&lt;U14</div><div class='xr-var-preview xr-preview'>&#x27;RGI60-16.01307&#x27; ... &#x27;RGI60-16.0...</div><input id='attrs-ea1b5553-26b3-4c61-bbaf-9382fc22ed7d' class='xr-var-attrs-in' type='checkbox' ><label for='attrs-ea1b5553-26b3-4c61-bbaf-9382fc22ed7d' title='Show/Hide attributes'><svg class='icon xr-icon-file-text2'><use xlink:href='#icon-file-text2'></use></svg></label><input id='data-bdf99401-b130-42bf-95d4-8ab98f95c88f' class='xr-var-data-in' type='checkbox'><label for='data-bdf99401-b130-42bf-95d4-8ab98f95c88f' title='Show/Hide data repr'><svg class='icon xr-icon-database'><use xlink:href='#icon-database'></use></svg></label><div class='xr-var-attrs'><dl class='xr-attrs'><dt><span>description :</span></dt><dd>RGI glacier identifier</dd></dl></div><div class='xr-var-data'><pre>array([&#x27;RGI60-16.01307&#x27;, &#x27;RGI60-16.01308&#x27;, &#x27;RGI60-16.01309&#x27;, &#x27;RGI60-16.01310&#x27;,\n",
       "       &#x27;RGI60-16.01311&#x27;, &#x27;RGI60-16.01312&#x27;, &#x27;RGI60-16.01313&#x27;, &#x27;RGI60-16.01314&#x27;,\n",
       "       &#x27;RGI60-16.01315&#x27;, &#x27;RGI60-16.01316&#x27;, &#x27;RGI60-16.01317&#x27;, &#x27;RGI60-16.01318&#x27;,\n",
       "       &#x27;RGI60-16.01319&#x27;, &#x27;RGI60-16.01320&#x27;, &#x27;RGI60-16.01321&#x27;, &#x27;RGI60-16.01322&#x27;,\n",
       "       &#x27;RGI60-16.01336&#x27;, &#x27;RGI60-16.01337&#x27;, &#x27;RGI60-16.01338&#x27;, &#x27;RGI60-16.01339&#x27;,\n",
       "       &#x27;RGI60-16.01341&#x27;, &#x27;RGI60-16.01342&#x27;, &#x27;RGI60-16.01343&#x27;, &#x27;RGI60-16.01344&#x27;,\n",
       "       &#x27;RGI60-16.01345&#x27;, &#x27;RGI60-16.01346&#x27;, &#x27;RGI60-16.01394&#x27;, &#x27;RGI60-16.01423&#x27;,\n",
       "       &#x27;RGI60-16.01424&#x27;, &#x27;RGI60-16.01432&#x27;, &#x27;RGI60-16.01433&#x27;, &#x27;RGI60-16.01434&#x27;,\n",
       "       &#x27;RGI60-16.01435&#x27;, &#x27;RGI60-16.01436&#x27;, &#x27;RGI60-16.01437&#x27;, &#x27;RGI60-16.01438&#x27;,\n",
       "       &#x27;RGI60-16.01439&#x27;, &#x27;RGI60-16.01440&#x27;, &#x27;RGI60-16.01441&#x27;, &#x27;RGI60-16.01442&#x27;,\n",
       "       &#x27;RGI60-16.01443&#x27;, &#x27;RGI60-16.01444&#x27;, &#x27;RGI60-16.02942&#x27;, &#x27;RGI60-16.02943&#x27;,\n",
       "       &#x27;RGI60-16.02944&#x27;, &#x27;RGI60-16.02945&#x27;], dtype=&#x27;&lt;U14&#x27;)</pre></div></li><li class='xr-var-item'><div class='xr-var-name'><span>hydro_year</span></div><div class='xr-var-dims'>(time)</div><div class='xr-var-dtype'>int64</div><div class='xr-var-preview xr-preview'>...</div><input id='attrs-d582a091-bc2c-4ebe-8502-1e2ebda153c0' class='xr-var-attrs-in' type='checkbox' ><label for='attrs-d582a091-bc2c-4ebe-8502-1e2ebda153c0' title='Show/Hide attributes'><svg class='icon xr-icon-file-text2'><use xlink:href='#icon-file-text2'></use></svg></label><input id='data-c54f75e4-58de-4453-aafe-b7a27c067b77' class='xr-var-data-in' type='checkbox'><label for='data-c54f75e4-58de-4453-aafe-b7a27c067b77' title='Show/Hide data repr'><svg class='icon xr-icon-database'><use xlink:href='#icon-database'></use></svg></label><div class='xr-var-attrs'><dl class='xr-attrs'><dt><span>description :</span></dt><dd>Hydrological year</dd></dl></div><div class='xr-var-data'><pre>[101 values with dtype=int64]</pre></div></li><li class='xr-var-item'><div class='xr-var-name'><span>hydro_month</span></div><div class='xr-var-dims'>(time)</div><div class='xr-var-dtype'>int64</div><div class='xr-var-preview xr-preview'>...</div><input id='attrs-e6c9df94-41e0-42f8-a03c-09676225b6c7' class='xr-var-attrs-in' type='checkbox' ><label for='attrs-e6c9df94-41e0-42f8-a03c-09676225b6c7' title='Show/Hide attributes'><svg class='icon xr-icon-file-text2'><use xlink:href='#icon-file-text2'></use></svg></label><input id='data-1b476a34-04ae-4723-b270-0f811e0413ef' class='xr-var-data-in' type='checkbox'><label for='data-1b476a34-04ae-4723-b270-0f811e0413ef' title='Show/Hide data repr'><svg class='icon xr-icon-database'><use xlink:href='#icon-database'></use></svg></label><div class='xr-var-attrs'><dl class='xr-attrs'><dt><span>description :</span></dt><dd>Hydrological month</dd></dl></div><div class='xr-var-data'><pre>[101 values with dtype=int64]</pre></div></li><li class='xr-var-item'><div class='xr-var-name'><span>calendar_year</span></div><div class='xr-var-dims'>(time)</div><div class='xr-var-dtype'>int64</div><div class='xr-var-preview xr-preview'>...</div><input id='attrs-7c674007-d642-4ed7-9f0b-dcc5aae2be02' class='xr-var-attrs-in' type='checkbox' ><label for='attrs-7c674007-d642-4ed7-9f0b-dcc5aae2be02' title='Show/Hide attributes'><svg class='icon xr-icon-file-text2'><use xlink:href='#icon-file-text2'></use></svg></label><input id='data-9845959f-3e6c-41ac-9b55-e06e3ee41f1d' class='xr-var-data-in' type='checkbox'><label for='data-9845959f-3e6c-41ac-9b55-e06e3ee41f1d' title='Show/Hide data repr'><svg class='icon xr-icon-database'><use xlink:href='#icon-database'></use></svg></label><div class='xr-var-attrs'><dl class='xr-attrs'><dt><span>description :</span></dt><dd>Calendar year</dd></dl></div><div class='xr-var-data'><pre>[101 values with dtype=int64]</pre></div></li><li class='xr-var-item'><div class='xr-var-name'><span>calendar_month</span></div><div class='xr-var-dims'>(time)</div><div class='xr-var-dtype'>int64</div><div class='xr-var-preview xr-preview'>...</div><input id='attrs-8580104c-0054-476b-9243-230d2d3a5a5d' class='xr-var-attrs-in' type='checkbox' ><label for='attrs-8580104c-0054-476b-9243-230d2d3a5a5d' title='Show/Hide attributes'><svg class='icon xr-icon-file-text2'><use xlink:href='#icon-file-text2'></use></svg></label><input id='data-2286ca45-d723-4195-a96c-53fcdc94abe5' class='xr-var-data-in' type='checkbox'><label for='data-2286ca45-d723-4195-a96c-53fcdc94abe5' title='Show/Hide data repr'><svg class='icon xr-icon-database'><use xlink:href='#icon-database'></use></svg></label><div class='xr-var-attrs'><dl class='xr-attrs'><dt><span>description :</span></dt><dd>Calendar month</dd></dl></div><div class='xr-var-data'><pre>[101 values with dtype=int64]</pre></div></li><li class='xr-var-item'><div class='xr-var-name'><span class='xr-has-index'>month_2d</span></div><div class='xr-var-dims'>(month_2d)</div><div class='xr-var-dtype'>int64</div><div class='xr-var-preview xr-preview'>1 2 3 4 5 6 7 8 9 10 11 12</div><input id='attrs-ae053553-8420-4dd5-842d-699615bf3b1c' class='xr-var-attrs-in' type='checkbox' disabled><label for='attrs-ae053553-8420-4dd5-842d-699615bf3b1c' title='Show/Hide attributes'><svg class='icon xr-icon-file-text2'><use xlink:href='#icon-file-text2'></use></svg></label><input id='data-a0aee2a0-0887-4744-beff-c47ff52e149d' class='xr-var-data-in' type='checkbox'><label for='data-a0aee2a0-0887-4744-beff-c47ff52e149d' title='Show/Hide data repr'><svg class='icon xr-icon-database'><use xlink:href='#icon-database'></use></svg></label><div class='xr-var-attrs'><dl class='xr-attrs'></dl></div><div class='xr-var-data'><pre>array([ 1,  2,  3,  4,  5,  6,  7,  8,  9, 10, 11, 12])</pre></div></li><li class='xr-var-item'><div class='xr-var-name'><span>calendar_month_2d</span></div><div class='xr-var-dims'>(month_2d)</div><div class='xr-var-dtype'>int64</div><div class='xr-var-preview xr-preview'>...</div><input id='attrs-46a6d860-5148-4fbc-bb65-6d1588f92e92' class='xr-var-attrs-in' type='checkbox' disabled><label for='attrs-46a6d860-5148-4fbc-bb65-6d1588f92e92' title='Show/Hide attributes'><svg class='icon xr-icon-file-text2'><use xlink:href='#icon-file-text2'></use></svg></label><input id='data-4d6a3e86-5112-4cce-8ebd-5774f014b9f2' class='xr-var-data-in' type='checkbox'><label for='data-4d6a3e86-5112-4cce-8ebd-5774f014b9f2' title='Show/Hide data repr'><svg class='icon xr-icon-database'><use xlink:href='#icon-database'></use></svg></label><div class='xr-var-attrs'><dl class='xr-attrs'></dl></div><div class='xr-var-data'><pre>[12 values with dtype=int64]</pre></div></li></ul></div></li><li class='xr-section-item'><input id='section-36d198dc-aa69-4f75-8cfe-a02f0d37cbd5' class='xr-section-summary-in' type='checkbox'  ><label for='section-36d198dc-aa69-4f75-8cfe-a02f0d37cbd5' class='xr-section-summary' >Data variables: <span>(24)</span></label><div class='xr-section-inline-details'></div><div class='xr-section-details'><ul class='xr-var-list'><li class='xr-var-item'><div class='xr-var-name'><span>volume</span></div><div class='xr-var-dims'>(time, rgi_id)</div><div class='xr-var-dtype'>float32</div><div class='xr-var-preview xr-preview'>...</div><input id='attrs-7504d1a8-8e21-4114-8c8b-c31f37c1e3a3' class='xr-var-attrs-in' type='checkbox' ><label for='attrs-7504d1a8-8e21-4114-8c8b-c31f37c1e3a3' title='Show/Hide attributes'><svg class='icon xr-icon-file-text2'><use xlink:href='#icon-file-text2'></use></svg></label><input id='data-90ab7520-3558-4998-b8b9-4c27af839c45' class='xr-var-data-in' type='checkbox'><label for='data-90ab7520-3558-4998-b8b9-4c27af839c45' title='Show/Hide data repr'><svg class='icon xr-icon-database'><use xlink:href='#icon-database'></use></svg></label><div class='xr-var-attrs'><dl class='xr-attrs'><dt><span>description :</span></dt><dd>Total glacier volume</dd><dt><span>unit :</span></dt><dd>m 3</dd></dl></div><div class='xr-var-data'><pre>[4646 values with dtype=float32]</pre></div></li><li class='xr-var-item'><div class='xr-var-name'><span>volume_bsl</span></div><div class='xr-var-dims'>(time, rgi_id)</div><div class='xr-var-dtype'>float32</div><div class='xr-var-preview xr-preview'>...</div><input id='attrs-d1b7fb73-f593-4112-9597-7f0fc1720250' class='xr-var-attrs-in' type='checkbox' ><label for='attrs-d1b7fb73-f593-4112-9597-7f0fc1720250' title='Show/Hide attributes'><svg class='icon xr-icon-file-text2'><use xlink:href='#icon-file-text2'></use></svg></label><input id='data-d190b274-1b4e-4f82-82f8-d9bbff1221f4' class='xr-var-data-in' type='checkbox'><label for='data-d190b274-1b4e-4f82-82f8-d9bbff1221f4' title='Show/Hide data repr'><svg class='icon xr-icon-database'><use xlink:href='#icon-database'></use></svg></label><div class='xr-var-attrs'><dl class='xr-attrs'><dt><span>description :</span></dt><dd>Glacier volume below sea-level</dd><dt><span>unit :</span></dt><dd>m 3</dd></dl></div><div class='xr-var-data'><pre>[4646 values with dtype=float32]</pre></div></li><li class='xr-var-item'><div class='xr-var-name'><span>volume_bwl</span></div><div class='xr-var-dims'>(time, rgi_id)</div><div class='xr-var-dtype'>float32</div><div class='xr-var-preview xr-preview'>...</div><input id='attrs-6bdd950a-de96-4d90-9742-4d2f4f1022eb' class='xr-var-attrs-in' type='checkbox' ><label for='attrs-6bdd950a-de96-4d90-9742-4d2f4f1022eb' title='Show/Hide attributes'><svg class='icon xr-icon-file-text2'><use xlink:href='#icon-file-text2'></use></svg></label><input id='data-4648be6e-0291-4b6b-9238-dc6a91b09385' class='xr-var-data-in' type='checkbox'><label for='data-4648be6e-0291-4b6b-9238-dc6a91b09385' title='Show/Hide data repr'><svg class='icon xr-icon-database'><use xlink:href='#icon-database'></use></svg></label><div class='xr-var-attrs'><dl class='xr-attrs'><dt><span>description :</span></dt><dd>Glacier volume below water-level</dd><dt><span>unit :</span></dt><dd>m 3</dd></dl></div><div class='xr-var-data'><pre>[4646 values with dtype=float32]</pre></div></li><li class='xr-var-item'><div class='xr-var-name'><span>area</span></div><div class='xr-var-dims'>(time, rgi_id)</div><div class='xr-var-dtype'>float32</div><div class='xr-var-preview xr-preview'>...</div><input id='attrs-3623d05f-cdae-42f4-a3a3-7a4912f2e10d' class='xr-var-attrs-in' type='checkbox' ><label for='attrs-3623d05f-cdae-42f4-a3a3-7a4912f2e10d' title='Show/Hide attributes'><svg class='icon xr-icon-file-text2'><use xlink:href='#icon-file-text2'></use></svg></label><input id='data-01b2adb2-9bb9-40fc-9826-3ba1897706ad' class='xr-var-data-in' type='checkbox'><label for='data-01b2adb2-9bb9-40fc-9826-3ba1897706ad' title='Show/Hide data repr'><svg class='icon xr-icon-database'><use xlink:href='#icon-database'></use></svg></label><div class='xr-var-attrs'><dl class='xr-attrs'><dt><span>description :</span></dt><dd>Total glacier area</dd><dt><span>unit :</span></dt><dd>m 2</dd></dl></div><div class='xr-var-data'><pre>[4646 values with dtype=float32]</pre></div></li><li class='xr-var-item'><div class='xr-var-name'><span>length</span></div><div class='xr-var-dims'>(time, rgi_id)</div><div class='xr-var-dtype'>float32</div><div class='xr-var-preview xr-preview'>...</div><input id='attrs-c5963672-4d42-4020-826d-f5ceb8663f11' class='xr-var-attrs-in' type='checkbox' ><label for='attrs-c5963672-4d42-4020-826d-f5ceb8663f11' title='Show/Hide attributes'><svg class='icon xr-icon-file-text2'><use xlink:href='#icon-file-text2'></use></svg></label><input id='data-ae84f084-dfd7-4641-8597-0cc237157b57' class='xr-var-data-in' type='checkbox'><label for='data-ae84f084-dfd7-4641-8597-0cc237157b57' title='Show/Hide data repr'><svg class='icon xr-icon-database'><use xlink:href='#icon-database'></use></svg></label><div class='xr-var-attrs'><dl class='xr-attrs'><dt><span>description :</span></dt><dd>Glacier length</dd><dt><span>unit :</span></dt><dd>m</dd></dl></div><div class='xr-var-data'><pre>[4646 values with dtype=float32]</pre></div></li><li class='xr-var-item'><div class='xr-var-name'><span>calving</span></div><div class='xr-var-dims'>(time, rgi_id)</div><div class='xr-var-dtype'>float32</div><div class='xr-var-preview xr-preview'>...</div><input id='attrs-3b1d3870-648c-4576-9e7f-64e46b64b2cc' class='xr-var-attrs-in' type='checkbox' ><label for='attrs-3b1d3870-648c-4576-9e7f-64e46b64b2cc' title='Show/Hide attributes'><svg class='icon xr-icon-file-text2'><use xlink:href='#icon-file-text2'></use></svg></label><input id='data-128e00a1-e378-424f-bb7f-306f3324dba9' class='xr-var-data-in' type='checkbox'><label for='data-128e00a1-e378-424f-bb7f-306f3324dba9' title='Show/Hide data repr'><svg class='icon xr-icon-database'><use xlink:href='#icon-database'></use></svg></label><div class='xr-var-attrs'><dl class='xr-attrs'><dt><span>description :</span></dt><dd>Total accumulated calving flux</dd><dt><span>unit :</span></dt><dd>m 3</dd></dl></div><div class='xr-var-data'><pre>[4646 values with dtype=float32]</pre></div></li><li class='xr-var-item'><div class='xr-var-name'><span>calving_rate</span></div><div class='xr-var-dims'>(time, rgi_id)</div><div class='xr-var-dtype'>float32</div><div class='xr-var-preview xr-preview'>...</div><input id='attrs-ea4b8fa3-2d04-4575-a7b2-32e9008904e2' class='xr-var-attrs-in' type='checkbox' ><label for='attrs-ea4b8fa3-2d04-4575-a7b2-32e9008904e2' title='Show/Hide attributes'><svg class='icon xr-icon-file-text2'><use xlink:href='#icon-file-text2'></use></svg></label><input id='data-dc6cbb2a-79ad-41fe-8cba-37ec8d19ada5' class='xr-var-data-in' type='checkbox'><label for='data-dc6cbb2a-79ad-41fe-8cba-37ec8d19ada5' title='Show/Hide data repr'><svg class='icon xr-icon-database'><use xlink:href='#icon-database'></use></svg></label><div class='xr-var-attrs'><dl class='xr-attrs'><dt><span>description :</span></dt><dd>Calving rate</dd><dt><span>unit :</span></dt><dd>m yr-1</dd></dl></div><div class='xr-var-data'><pre>[4646 values with dtype=float32]</pre></div></li><li class='xr-var-item'><div class='xr-var-name'><span>off_area</span></div><div class='xr-var-dims'>(time, rgi_id)</div><div class='xr-var-dtype'>float32</div><div class='xr-var-preview xr-preview'>...</div><input id='attrs-bdceee83-f070-426a-bc61-cb335175d22e' class='xr-var-attrs-in' type='checkbox' ><label for='attrs-bdceee83-f070-426a-bc61-cb335175d22e' title='Show/Hide attributes'><svg class='icon xr-icon-file-text2'><use xlink:href='#icon-file-text2'></use></svg></label><input id='data-d9eaf91f-1c9c-4c4e-be47-a36485351727' class='xr-var-data-in' type='checkbox'><label for='data-d9eaf91f-1c9c-4c4e-be47-a36485351727' title='Show/Hide data repr'><svg class='icon xr-icon-database'><use xlink:href='#icon-database'></use></svg></label><div class='xr-var-attrs'><dl class='xr-attrs'><dt><span>description :</span></dt><dd>Off-glacier area</dd><dt><span>unit :</span></dt><dd>m 2</dd></dl></div><div class='xr-var-data'><pre>[4646 values with dtype=float32]</pre></div></li><li class='xr-var-item'><div class='xr-var-name'><span>on_area</span></div><div class='xr-var-dims'>(time, rgi_id)</div><div class='xr-var-dtype'>float32</div><div class='xr-var-preview xr-preview'>...</div><input id='attrs-05dd90a3-5591-404e-897b-bd44e72a421e' class='xr-var-attrs-in' type='checkbox' ><label for='attrs-05dd90a3-5591-404e-897b-bd44e72a421e' title='Show/Hide attributes'><svg class='icon xr-icon-file-text2'><use xlink:href='#icon-file-text2'></use></svg></label><input id='data-dfe491d5-f713-445f-a2e3-f08314a14938' class='xr-var-data-in' type='checkbox'><label for='data-dfe491d5-f713-445f-a2e3-f08314a14938' title='Show/Hide data repr'><svg class='icon xr-icon-database'><use xlink:href='#icon-database'></use></svg></label><div class='xr-var-attrs'><dl class='xr-attrs'><dt><span>unit :</span></dt><dd>m 2</dd><dt><span>description :</span></dt><dd>On-glacier area</dd></dl></div><div class='xr-var-data'><pre>[4646 values with dtype=float32]</pre></div></li><li class='xr-var-item'><div class='xr-var-name'><span>melt_off_glacier</span></div><div class='xr-var-dims'>(time, rgi_id)</div><div class='xr-var-dtype'>float32</div><div class='xr-var-preview xr-preview'>...</div><input id='attrs-2c203120-0251-4686-96fd-03611c5040cb' class='xr-var-attrs-in' type='checkbox' ><label for='attrs-2c203120-0251-4686-96fd-03611c5040cb' title='Show/Hide attributes'><svg class='icon xr-icon-file-text2'><use xlink:href='#icon-file-text2'></use></svg></label><input id='data-78596e0d-5472-419d-aa62-362aed6cf704' class='xr-var-data-in' type='checkbox'><label for='data-78596e0d-5472-419d-aa62-362aed6cf704' title='Show/Hide data repr'><svg class='icon xr-icon-database'><use xlink:href='#icon-database'></use></svg></label><div class='xr-var-attrs'><dl class='xr-attrs'><dt><span>description :</span></dt><dd>Off-glacier melt</dd><dt><span>unit :</span></dt><dd>kg yr-1</dd></dl></div><div class='xr-var-data'><pre>[4646 values with dtype=float32]</pre></div></li><li class='xr-var-item'><div class='xr-var-name'><span>melt_on_glacier</span></div><div class='xr-var-dims'>(time, rgi_id)</div><div class='xr-var-dtype'>float32</div><div class='xr-var-preview xr-preview'>...</div><input id='attrs-990751e0-c990-4667-b453-d900b57379f3' class='xr-var-attrs-in' type='checkbox' ><label for='attrs-990751e0-c990-4667-b453-d900b57379f3' title='Show/Hide attributes'><svg class='icon xr-icon-file-text2'><use xlink:href='#icon-file-text2'></use></svg></label><input id='data-33fb9c37-2c27-43d3-83a7-2dbcd2a0beac' class='xr-var-data-in' type='checkbox'><label for='data-33fb9c37-2c27-43d3-83a7-2dbcd2a0beac' title='Show/Hide data repr'><svg class='icon xr-icon-database'><use xlink:href='#icon-database'></use></svg></label><div class='xr-var-attrs'><dl class='xr-attrs'><dt><span>description :</span></dt><dd>On-glacier melt</dd><dt><span>unit :</span></dt><dd>kg yr-1</dd></dl></div><div class='xr-var-data'><pre>[4646 values with dtype=float32]</pre></div></li><li class='xr-var-item'><div class='xr-var-name'><span>liq_prcp_off_glacier</span></div><div class='xr-var-dims'>(time, rgi_id)</div><div class='xr-var-dtype'>float32</div><div class='xr-var-preview xr-preview'>...</div><input id='attrs-34c1d356-d4e8-4fe5-b3ed-2e59446fc30c' class='xr-var-attrs-in' type='checkbox' ><label for='attrs-34c1d356-d4e8-4fe5-b3ed-2e59446fc30c' title='Show/Hide attributes'><svg class='icon xr-icon-file-text2'><use xlink:href='#icon-file-text2'></use></svg></label><input id='data-fdb43a35-085d-4cc6-8a7b-a2ccbc50d0ed' class='xr-var-data-in' type='checkbox'><label for='data-fdb43a35-085d-4cc6-8a7b-a2ccbc50d0ed' title='Show/Hide data repr'><svg class='icon xr-icon-database'><use xlink:href='#icon-database'></use></svg></label><div class='xr-var-attrs'><dl class='xr-attrs'><dt><span>description :</span></dt><dd>Off-glacier liquid precipitation</dd><dt><span>unit :</span></dt><dd>kg yr-1</dd></dl></div><div class='xr-var-data'><pre>[4646 values with dtype=float32]</pre></div></li><li class='xr-var-item'><div class='xr-var-name'><span>liq_prcp_on_glacier</span></div><div class='xr-var-dims'>(time, rgi_id)</div><div class='xr-var-dtype'>float32</div><div class='xr-var-preview xr-preview'>...</div><input id='attrs-4bff29b3-77e0-4050-8b76-c7c383a0e2bd' class='xr-var-attrs-in' type='checkbox' ><label for='attrs-4bff29b3-77e0-4050-8b76-c7c383a0e2bd' title='Show/Hide attributes'><svg class='icon xr-icon-file-text2'><use xlink:href='#icon-file-text2'></use></svg></label><input id='data-ecd269bb-0036-4ecc-9fb8-2c3499d0880e' class='xr-var-data-in' type='checkbox'><label for='data-ecd269bb-0036-4ecc-9fb8-2c3499d0880e' title='Show/Hide data repr'><svg class='icon xr-icon-database'><use xlink:href='#icon-database'></use></svg></label><div class='xr-var-attrs'><dl class='xr-attrs'><dt><span>description :</span></dt><dd>On-glacier liquid precipitation</dd><dt><span>unit :</span></dt><dd>kg yr-1</dd></dl></div><div class='xr-var-data'><pre>[4646 values with dtype=float32]</pre></div></li><li class='xr-var-item'><div class='xr-var-name'><span>snowfall_off_glacier</span></div><div class='xr-var-dims'>(time, rgi_id)</div><div class='xr-var-dtype'>float32</div><div class='xr-var-preview xr-preview'>...</div><input id='attrs-c873af2a-a2a6-4cc9-92fd-ba044593a1a8' class='xr-var-attrs-in' type='checkbox' ><label for='attrs-c873af2a-a2a6-4cc9-92fd-ba044593a1a8' title='Show/Hide attributes'><svg class='icon xr-icon-file-text2'><use xlink:href='#icon-file-text2'></use></svg></label><input id='data-3da43236-ac4b-4fb0-82d7-79c7bb6520c9' class='xr-var-data-in' type='checkbox'><label for='data-3da43236-ac4b-4fb0-82d7-79c7bb6520c9' title='Show/Hide data repr'><svg class='icon xr-icon-database'><use xlink:href='#icon-database'></use></svg></label><div class='xr-var-attrs'><dl class='xr-attrs'><dt><span>description :</span></dt><dd>Off-glacier solid precipitation</dd><dt><span>unit :</span></dt><dd>kg yr-1</dd></dl></div><div class='xr-var-data'><pre>[4646 values with dtype=float32]</pre></div></li><li class='xr-var-item'><div class='xr-var-name'><span>snowfall_on_glacier</span></div><div class='xr-var-dims'>(time, rgi_id)</div><div class='xr-var-dtype'>float32</div><div class='xr-var-preview xr-preview'>...</div><input id='attrs-390dc51d-aa15-41e9-878e-7ab2d484011e' class='xr-var-attrs-in' type='checkbox' ><label for='attrs-390dc51d-aa15-41e9-878e-7ab2d484011e' title='Show/Hide attributes'><svg class='icon xr-icon-file-text2'><use xlink:href='#icon-file-text2'></use></svg></label><input id='data-473a8780-7ab4-4c21-b44d-6504f60adb31' class='xr-var-data-in' type='checkbox'><label for='data-473a8780-7ab4-4c21-b44d-6504f60adb31' title='Show/Hide data repr'><svg class='icon xr-icon-database'><use xlink:href='#icon-database'></use></svg></label><div class='xr-var-attrs'><dl class='xr-attrs'><dt><span>description :</span></dt><dd>On-glacier solid precipitation</dd><dt><span>unit :</span></dt><dd>kg yr-1</dd></dl></div><div class='xr-var-data'><pre>[4646 values with dtype=float32]</pre></div></li><li class='xr-var-item'><div class='xr-var-name'><span>melt_off_glacier_monthly</span></div><div class='xr-var-dims'>(time, month_2d, rgi_id)</div><div class='xr-var-dtype'>float32</div><div class='xr-var-preview xr-preview'>...</div><input id='attrs-553025b4-60f5-4a34-a6e0-db253ea8c3e1' class='xr-var-attrs-in' type='checkbox' disabled><label for='attrs-553025b4-60f5-4a34-a6e0-db253ea8c3e1' title='Show/Hide attributes'><svg class='icon xr-icon-file-text2'><use xlink:href='#icon-file-text2'></use></svg></label><input id='data-144cd3f8-04f4-49a5-a233-9ccfce790363' class='xr-var-data-in' type='checkbox'><label for='data-144cd3f8-04f4-49a5-a233-9ccfce790363' title='Show/Hide data repr'><svg class='icon xr-icon-database'><use xlink:href='#icon-database'></use></svg></label><div class='xr-var-attrs'><dl class='xr-attrs'></dl></div><div class='xr-var-data'><pre>[55752 values with dtype=float32]</pre></div></li><li class='xr-var-item'><div class='xr-var-name'><span>melt_on_glacier_monthly</span></div><div class='xr-var-dims'>(time, month_2d, rgi_id)</div><div class='xr-var-dtype'>float32</div><div class='xr-var-preview xr-preview'>...</div><input id='attrs-8fb8bb29-7744-43e0-b8b2-4339d2c991e8' class='xr-var-attrs-in' type='checkbox' disabled><label for='attrs-8fb8bb29-7744-43e0-b8b2-4339d2c991e8' title='Show/Hide attributes'><svg class='icon xr-icon-file-text2'><use xlink:href='#icon-file-text2'></use></svg></label><input id='data-26ab468b-cf2a-48e9-82d8-8b36bd0b6ddc' class='xr-var-data-in' type='checkbox'><label for='data-26ab468b-cf2a-48e9-82d8-8b36bd0b6ddc' title='Show/Hide data repr'><svg class='icon xr-icon-database'><use xlink:href='#icon-database'></use></svg></label><div class='xr-var-attrs'><dl class='xr-attrs'></dl></div><div class='xr-var-data'><pre>[55752 values with dtype=float32]</pre></div></li><li class='xr-var-item'><div class='xr-var-name'><span>liq_prcp_off_glacier_monthly</span></div><div class='xr-var-dims'>(time, month_2d, rgi_id)</div><div class='xr-var-dtype'>float32</div><div class='xr-var-preview xr-preview'>...</div><input id='attrs-115256af-3853-45cd-b012-87415b448a95' class='xr-var-attrs-in' type='checkbox' disabled><label for='attrs-115256af-3853-45cd-b012-87415b448a95' title='Show/Hide attributes'><svg class='icon xr-icon-file-text2'><use xlink:href='#icon-file-text2'></use></svg></label><input id='data-278a80cf-1ca6-4372-ac5d-494643fa1ea2' class='xr-var-data-in' type='checkbox'><label for='data-278a80cf-1ca6-4372-ac5d-494643fa1ea2' title='Show/Hide data repr'><svg class='icon xr-icon-database'><use xlink:href='#icon-database'></use></svg></label><div class='xr-var-attrs'><dl class='xr-attrs'></dl></div><div class='xr-var-data'><pre>[55752 values with dtype=float32]</pre></div></li><li class='xr-var-item'><div class='xr-var-name'><span>liq_prcp_on_glacier_monthly</span></div><div class='xr-var-dims'>(time, month_2d, rgi_id)</div><div class='xr-var-dtype'>float32</div><div class='xr-var-preview xr-preview'>...</div><input id='attrs-e155cae5-88d5-4f60-9e79-fe00a7a1554f' class='xr-var-attrs-in' type='checkbox' disabled><label for='attrs-e155cae5-88d5-4f60-9e79-fe00a7a1554f' title='Show/Hide attributes'><svg class='icon xr-icon-file-text2'><use xlink:href='#icon-file-text2'></use></svg></label><input id='data-1564c751-4b7c-4f2d-98fd-7b09f6db11bb' class='xr-var-data-in' type='checkbox'><label for='data-1564c751-4b7c-4f2d-98fd-7b09f6db11bb' title='Show/Hide data repr'><svg class='icon xr-icon-database'><use xlink:href='#icon-database'></use></svg></label><div class='xr-var-attrs'><dl class='xr-attrs'></dl></div><div class='xr-var-data'><pre>[55752 values with dtype=float32]</pre></div></li><li class='xr-var-item'><div class='xr-var-name'><span>snowfall_off_glacier_monthly</span></div><div class='xr-var-dims'>(time, month_2d, rgi_id)</div><div class='xr-var-dtype'>float32</div><div class='xr-var-preview xr-preview'>...</div><input id='attrs-de89f702-438f-446e-ae10-58a795c3e477' class='xr-var-attrs-in' type='checkbox' disabled><label for='attrs-de89f702-438f-446e-ae10-58a795c3e477' title='Show/Hide attributes'><svg class='icon xr-icon-file-text2'><use xlink:href='#icon-file-text2'></use></svg></label><input id='data-2eda8d84-6832-42ca-9566-b57560e65d41' class='xr-var-data-in' type='checkbox'><label for='data-2eda8d84-6832-42ca-9566-b57560e65d41' title='Show/Hide data repr'><svg class='icon xr-icon-database'><use xlink:href='#icon-database'></use></svg></label><div class='xr-var-attrs'><dl class='xr-attrs'></dl></div><div class='xr-var-data'><pre>[55752 values with dtype=float32]</pre></div></li><li class='xr-var-item'><div class='xr-var-name'><span>snowfall_on_glacier_monthly</span></div><div class='xr-var-dims'>(time, month_2d, rgi_id)</div><div class='xr-var-dtype'>float32</div><div class='xr-var-preview xr-preview'>...</div><input id='attrs-73922243-a0f0-472b-b011-0d279000a71f' class='xr-var-attrs-in' type='checkbox' disabled><label for='attrs-73922243-a0f0-472b-b011-0d279000a71f' title='Show/Hide attributes'><svg class='icon xr-icon-file-text2'><use xlink:href='#icon-file-text2'></use></svg></label><input id='data-48791239-f18e-4f19-a3aa-0c050c46ddc5' class='xr-var-data-in' type='checkbox'><label for='data-48791239-f18e-4f19-a3aa-0c050c46ddc5' title='Show/Hide data repr'><svg class='icon xr-icon-database'><use xlink:href='#icon-database'></use></svg></label><div class='xr-var-attrs'><dl class='xr-attrs'></dl></div><div class='xr-var-data'><pre>[55752 values with dtype=float32]</pre></div></li><li class='xr-var-item'><div class='xr-var-name'><span>water_level</span></div><div class='xr-var-dims'>(rgi_id)</div><div class='xr-var-dtype'>float32</div><div class='xr-var-preview xr-preview'>...</div><input id='attrs-e6cd7414-02e2-417d-8d5c-b1dec551f926' class='xr-var-attrs-in' type='checkbox' ><label for='attrs-e6cd7414-02e2-417d-8d5c-b1dec551f926' title='Show/Hide attributes'><svg class='icon xr-icon-file-text2'><use xlink:href='#icon-file-text2'></use></svg></label><input id='data-8e8a2f9d-831e-4c27-834d-5d36b7efcd9b' class='xr-var-data-in' type='checkbox'><label for='data-8e8a2f9d-831e-4c27-834d-5d36b7efcd9b' title='Show/Hide data repr'><svg class='icon xr-icon-database'><use xlink:href='#icon-database'></use></svg></label><div class='xr-var-attrs'><dl class='xr-attrs'><dt><span>description :</span></dt><dd>Calving water level</dd><dt><span>units :</span></dt><dd>m</dd></dl></div><div class='xr-var-data'><pre>[46 values with dtype=float32]</pre></div></li><li class='xr-var-item'><div class='xr-var-name'><span>glen_a</span></div><div class='xr-var-dims'>(rgi_id)</div><div class='xr-var-dtype'>float32</div><div class='xr-var-preview xr-preview'>...</div><input id='attrs-58b2a875-6093-4a9c-b92b-9ba244de6f7e' class='xr-var-attrs-in' type='checkbox' ><label for='attrs-58b2a875-6093-4a9c-b92b-9ba244de6f7e' title='Show/Hide attributes'><svg class='icon xr-icon-file-text2'><use xlink:href='#icon-file-text2'></use></svg></label><input id='data-8357abba-bc76-4e8d-a5b8-3f151a9a82c9' class='xr-var-data-in' type='checkbox'><label for='data-8357abba-bc76-4e8d-a5b8-3f151a9a82c9' title='Show/Hide data repr'><svg class='icon xr-icon-database'><use xlink:href='#icon-database'></use></svg></label><div class='xr-var-attrs'><dl class='xr-attrs'><dt><span>description :</span></dt><dd>Simulation Glen A</dd><dt><span>units :</span></dt><dd></dd></dl></div><div class='xr-var-data'><pre>[46 values with dtype=float32]</pre></div></li><li class='xr-var-item'><div class='xr-var-name'><span>fs</span></div><div class='xr-var-dims'>(rgi_id)</div><div class='xr-var-dtype'>float32</div><div class='xr-var-preview xr-preview'>...</div><input id='attrs-03555bf1-61e5-4e72-ac64-b6c8f398ff8e' class='xr-var-attrs-in' type='checkbox' ><label for='attrs-03555bf1-61e5-4e72-ac64-b6c8f398ff8e' title='Show/Hide attributes'><svg class='icon xr-icon-file-text2'><use xlink:href='#icon-file-text2'></use></svg></label><input id='data-6a3095d6-8d9c-4abc-947a-a169fad9cce3' class='xr-var-data-in' type='checkbox'><label for='data-6a3095d6-8d9c-4abc-947a-a169fad9cce3' title='Show/Hide data repr'><svg class='icon xr-icon-database'><use xlink:href='#icon-database'></use></svg></label><div class='xr-var-attrs'><dl class='xr-attrs'><dt><span>description :</span></dt><dd>Simulation sliding parameter</dd><dt><span>units :</span></dt><dd></dd></dl></div><div class='xr-var-data'><pre>[46 values with dtype=float32]</pre></div></li></ul></div></li><li class='xr-section-item'><input id='section-0c945c4a-efd6-4c79-9091-8d4ff4053659' class='xr-section-summary-in' type='checkbox'  ><label for='section-0c945c4a-efd6-4c79-9091-8d4ff4053659' class='xr-section-summary' >Indexes: <span>(3)</span></label><div class='xr-section-inline-details'></div><div class='xr-section-details'><ul class='xr-var-list'><li class='xr-var-item'><div class='xr-index-name'><div>time</div></div><div class='xr-index-preview'>PandasIndex</div><div></div><input id='index-51cb4098-7c69-43dd-a53a-866df000177b' class='xr-index-data-in' type='checkbox'/><label for='index-51cb4098-7c69-43dd-a53a-866df000177b' title='Show/Hide index repr'><svg class='icon xr-icon-database'><use xlink:href='#icon-database'></use></svg></label><div class='xr-index-data'><pre>PandasIndex(Index([  0.0,   1.0,   2.0,   3.0,   4.0,   5.0,   6.0,   7.0,   8.0,   9.0,\n",
       "       ...\n",
       "        91.0,  92.0,  93.0,  94.0,  95.0,  96.0,  97.0,  98.0,  99.0, 100.0],\n",
       "      dtype=&#x27;float64&#x27;, name=&#x27;time&#x27;, length=101))</pre></div></li><li class='xr-var-item'><div class='xr-index-name'><div>rgi_id</div></div><div class='xr-index-preview'>PandasIndex</div><div></div><input id='index-bf60641d-0b76-47e3-b54e-337b2d22e9c4' class='xr-index-data-in' type='checkbox'/><label for='index-bf60641d-0b76-47e3-b54e-337b2d22e9c4' title='Show/Hide index repr'><svg class='icon xr-icon-database'><use xlink:href='#icon-database'></use></svg></label><div class='xr-index-data'><pre>PandasIndex(Index([&#x27;RGI60-16.01307&#x27;, &#x27;RGI60-16.01308&#x27;, &#x27;RGI60-16.01309&#x27;, &#x27;RGI60-16.01310&#x27;,\n",
       "       &#x27;RGI60-16.01311&#x27;, &#x27;RGI60-16.01312&#x27;, &#x27;RGI60-16.01313&#x27;, &#x27;RGI60-16.01314&#x27;,\n",
       "       &#x27;RGI60-16.01315&#x27;, &#x27;RGI60-16.01316&#x27;, &#x27;RGI60-16.01317&#x27;, &#x27;RGI60-16.01318&#x27;,\n",
       "       &#x27;RGI60-16.01319&#x27;, &#x27;RGI60-16.01320&#x27;, &#x27;RGI60-16.01321&#x27;, &#x27;RGI60-16.01322&#x27;,\n",
       "       &#x27;RGI60-16.01336&#x27;, &#x27;RGI60-16.01337&#x27;, &#x27;RGI60-16.01338&#x27;, &#x27;RGI60-16.01339&#x27;,\n",
       "       &#x27;RGI60-16.01341&#x27;, &#x27;RGI60-16.01342&#x27;, &#x27;RGI60-16.01343&#x27;, &#x27;RGI60-16.01344&#x27;,\n",
       "       &#x27;RGI60-16.01345&#x27;, &#x27;RGI60-16.01346&#x27;, &#x27;RGI60-16.01394&#x27;, &#x27;RGI60-16.01423&#x27;,\n",
       "       &#x27;RGI60-16.01424&#x27;, &#x27;RGI60-16.01432&#x27;, &#x27;RGI60-16.01433&#x27;, &#x27;RGI60-16.01434&#x27;,\n",
       "       &#x27;RGI60-16.01435&#x27;, &#x27;RGI60-16.01436&#x27;, &#x27;RGI60-16.01437&#x27;, &#x27;RGI60-16.01438&#x27;,\n",
       "       &#x27;RGI60-16.01439&#x27;, &#x27;RGI60-16.01440&#x27;, &#x27;RGI60-16.01441&#x27;, &#x27;RGI60-16.01442&#x27;,\n",
       "       &#x27;RGI60-16.01443&#x27;, &#x27;RGI60-16.01444&#x27;, &#x27;RGI60-16.02942&#x27;, &#x27;RGI60-16.02943&#x27;,\n",
       "       &#x27;RGI60-16.02944&#x27;, &#x27;RGI60-16.02945&#x27;],\n",
       "      dtype=&#x27;object&#x27;, name=&#x27;rgi_id&#x27;))</pre></div></li><li class='xr-var-item'><div class='xr-index-name'><div>month_2d</div></div><div class='xr-index-preview'>PandasIndex</div><div></div><input id='index-07859d09-2f12-49f2-8822-7531dc97edd6' class='xr-index-data-in' type='checkbox'/><label for='index-07859d09-2f12-49f2-8822-7531dc97edd6' title='Show/Hide index repr'><svg class='icon xr-icon-database'><use xlink:href='#icon-database'></use></svg></label><div class='xr-index-data'><pre>PandasIndex(Index([1, 2, 3, 4, 5, 6, 7, 8, 9, 10, 11, 12], dtype=&#x27;int64&#x27;, name=&#x27;month_2d&#x27;))</pre></div></li></ul></div></li><li class='xr-section-item'><input id='section-399b8047-8801-4242-9c58-a5b8cadd03f7' class='xr-section-summary-in' type='checkbox'  checked><label for='section-399b8047-8801-4242-9c58-a5b8cadd03f7' class='xr-section-summary' >Attributes: <span>(4)</span></label><div class='xr-section-inline-details'></div><div class='xr-section-details'><dl class='xr-attrs'><dt><span>description :</span></dt><dd>OGGM model output</dd><dt><span>oggm_version :</span></dt><dd>1.6.1</dd><dt><span>calendar :</span></dt><dd>365-day no leap</dd><dt><span>creation_date :</span></dt><dd>2024-07-09 18:58:04</dd></dl></div></li></ul></div></div>"
      ],
      "text/plain": [
       "<xarray.Dataset> Size: 2MB\n",
       "Dimensions:                       (time: 101, rgi_id: 46, month_2d: 12)\n",
       "Coordinates:\n",
       "  * time                          (time) float64 808B 0.0 1.0 2.0 ... 99.0 100.0\n",
       "  * rgi_id                        (rgi_id) <U14 3kB 'RGI60-16.01307' ... 'RGI...\n",
       "    hydro_year                    (time) int64 808B ...\n",
       "    hydro_month                   (time) int64 808B ...\n",
       "    calendar_year                 (time) int64 808B ...\n",
       "    calendar_month                (time) int64 808B ...\n",
       "  * month_2d                      (month_2d) int64 96B 1 2 3 4 5 ... 9 10 11 12\n",
       "    calendar_month_2d             (month_2d) int64 96B ...\n",
       "Data variables: (12/24)\n",
       "    volume                        (time, rgi_id) float32 19kB ...\n",
       "    volume_bsl                    (time, rgi_id) float32 19kB ...\n",
       "    volume_bwl                    (time, rgi_id) float32 19kB ...\n",
       "    area                          (time, rgi_id) float32 19kB ...\n",
       "    length                        (time, rgi_id) float32 19kB ...\n",
       "    calving                       (time, rgi_id) float32 19kB ...\n",
       "    ...                            ...\n",
       "    liq_prcp_on_glacier_monthly   (time, month_2d, rgi_id) float32 223kB ...\n",
       "    snowfall_off_glacier_monthly  (time, month_2d, rgi_id) float32 223kB ...\n",
       "    snowfall_on_glacier_monthly   (time, month_2d, rgi_id) float32 223kB ...\n",
       "    water_level                   (rgi_id) float32 184B ...\n",
       "    glen_a                        (rgi_id) float32 184B ...\n",
       "    fs                            (rgi_id) float32 184B ...\n",
       "Attributes:\n",
       "    description:    OGGM model output\n",
       "    oggm_version:   1.6.1\n",
       "    calendar:       365-day no leap\n",
       "    creation_date:  2024-07-09 18:58:04"
      ]
     },
     "execution_count": 21,
     "metadata": {},
     "output_type": "execute_result"
    }
   ],
   "source": [
    "# Look at the new dataset\n",
    "ct_ds"
   ]
  },
  {
   "cell_type": "markdown",
   "id": "fd49c182-4f63-4318-9aac-cceae295d3e7",
   "metadata": {},
   "source": [
    "### a. Historical run for reference climate period"
   ]
  },
  {
   "cell_type": "code",
   "execution_count": 22,
   "id": "af809d75-8244-4dff-9387-df5761249b65",
   "metadata": {
    "tags": []
   },
   "outputs": [],
   "source": [
    "# Run the historical period with a fixed geometry spinup\n",
    "for g in gdirs:\n",
    "    file_id = '_hist_hydro'\n",
    "    tasks.run_with_hydro(g, run_task=tasks.run_from_climate_data,\n",
    "                         fixed_geometry_spinup_yr=1990,  # this tells to do spinup\n",
    "                         ref_area_from_y0=True,  # \n",
    "                         store_monthly_hydro=True,\n",
    "                         output_filesuffix=file_id);\n",
    "# I think i have to run this every time I start the kernel again so file_id hist_hydro exists for gcm use"
   ]
  },
  {
   "cell_type": "code",
   "execution_count": 23,
   "id": "e8638a6a-4752-487d-b3b5-4a5f8200c907",
   "metadata": {},
   "outputs": [
    {
     "name": "stderr",
     "output_type": "stream",
     "text": [
      "2024-07-09 14:58:42: oggm.utils: Applying global task compile_run_output on 46 glaciers\n",
      "2024-07-09 14:58:42: oggm.utils: Applying compile_run_output on 46 gdirs.\n"
     ]
    }
   ],
   "source": [
    "# Export data from historic climate run and compile run output\n",
    "import datetime\n",
    "output_path = '~/Documents/summer24/{}-hist_hydro_compiled_output.nc'.format(datetime.date.today()) \n",
    "new_ds = utils.compile_run_output(gdirs, input_filesuffix=file_id, path=output_path)"
   ]
  },
  {
   "cell_type": "code",
   "execution_count": 24,
   "id": "e9177b05-5cb9-46dd-8834-c9d32c748eb2",
   "metadata": {},
   "outputs": [],
   "source": [
    "# Load in the glacier data from above (only when data has been saved)\n",
    "export_date = '2024-07-09'\n",
    "input_path_hist = '~/Documents/summer24/{}-hist_hydro_compiled_output.nc'.format(export_date)\n",
    "hist_ds = xr.open_dataset(input_path_hist)"
   ]
  },
  {
   "cell_type": "markdown",
   "id": "1afb6610-a867-4103-a282-d8c01ce74a37",
   "metadata": {},
   "source": [
    "### b. Projection run"
   ]
  },
  {
   "cell_type": "markdown",
   "id": "8168747b-c3f7-4cd5-ac5d-3cf63ea0277c",
   "metadata": {},
   "source": [
    "<b> Remember: you need to change the GCM for bp and bt"
   ]
  },
  {
   "cell_type": "markdown",
   "id": "6ce04acb-064d-44a6-9d40-3d1d9eb5a5e7",
   "metadata": {},
   "source": [
    "## II. Run CMIP6 projection run"
   ]
  },
  {
   "cell_type": "code",
   "execution_count": 25,
   "id": "5414bad2-6d84-4e74-8cc0-2cad73f3387a",
   "metadata": {},
   "outputs": [],
   "source": [
    "# Is this something I need to/should do? https://docs.oggm.org/en/latest/climate-data.html\n",
    "from oggm.tasks import process_w5e5_data"
   ]
  },
  {
   "cell_type": "code",
   "execution_count": 26,
   "id": "29c32562-b581-4828-a6b2-560de442c199",
   "metadata": {},
   "outputs": [],
   "source": [
    "# fp='https://cluster.klima.uni-bremen.de/~oggm/cmip6/GCM/{}/{}_{}_r1i1p1f1_pr.nc'\n",
    "\n",
    "# GCM = ['BCC-CSM2-MR', 'CESM2', 'CESM2-WACCM', 'EC-Earth3', 'EC_Earth3_Veg', 'FGOALS-f3-L', 'GFDL-ESM4', 'INM-CM4-8', 'INM-CM5-0', 'MP1-ESM1-2-HR', 'MRI-ESM2-0', 'NorESM2-MM']\n",
    "\n",
    "# SSP = 'ssp126'\n",
    "\n",
    "# this_filename_precip = fp.format(GCM, GCM, SSP)\n",
    "\n",
    "# print(this_filename_precip)"
   ]
  },
  {
   "cell_type": "code",
   "execution_count": 27,
   "id": "9db04f11-9692-4deb-beb9-b4e63b5b9dba",
   "metadata": {
    "scrolled": true
   },
   "outputs": [
    {
     "name": "stderr",
     "output_type": "stream",
     "text": [
      "2024-07-09 14:58:52: oggm.workflow: Execute entity tasks [process_cmip_data] on 46 glaciers\n",
      "OMP: Info #276: omp_set_nested routine deprecated, please use omp_set_max_active_levels instead.\n",
      "OMP: Info #276: omp_set_nested routine deprecated, please use omp_set_max_active_levels instead.\n",
      "OMP: Info #276: omp_set_nested routine deprecated, please use omp_set_max_active_levels instead.\n",
      "OMP: Info #276: omp_set_nested routine deprecated, please use omp_set_max_active_levels instead.\n",
      "OMP: Info #276: omp_set_nested routine deprecated, please use omp_set_max_active_levels instead.\n",
      "OMP: Info #276: omp_set_nested routine deprecated, please use omp_set_max_active_levels instead.\n",
      "OMP: Info #276: omp_set_nested routine deprecated, please use omp_set_max_active_levels instead.\n",
      "OMP: Info #276: omp_set_nested routine deprecated, please use omp_set_max_active_levels instead.\n",
      "2024-07-09 15:00:30: oggm.workflow: Execute entity tasks [process_cmip_data] on 46 glaciers\n",
      "2024-07-09 15:01:24: oggm.workflow: Execute entity tasks [process_cmip_data] on 46 glaciers\n",
      "2024-07-09 15:02:17: oggm.workflow: Execute entity tasks [process_cmip_data] on 46 glaciers\n",
      "\u001b[38;2;0;255;0m100%\u001b[39m of 847.6 MiB |######################| Elapsed Time: 0:00:39 Time:  0:00:3903\n",
      "\u001b[38;2;0;255;0m100%\u001b[39m of 847.5 MiB |######################| Elapsed Time: 0:00:41 Time:  0:00:4103\n",
      "2024-07-09 15:04:44: oggm.workflow: Execute entity tasks [process_cmip_data] on 46 glaciers\n",
      "\u001b[38;2;0;255;0m100%\u001b[39m of 847.6 MiB |######################| Elapsed Time: 0:00:39 Time:  0:00:3903\n",
      "\u001b[38;2;0;255;0m100%\u001b[39m of 847.5 MiB |######################| Elapsed Time: 0:00:41 Time:  0:00:4103\n",
      "2024-07-09 15:06:49: oggm.workflow: Execute entity tasks [process_cmip_data] on 46 glaciers\n",
      "\u001b[38;2;0;255;0m100%\u001b[39m of 847.6 MiB |######################| Elapsed Time: 0:00:38 Time:  0:00:3803\n",
      "\u001b[38;2;0;255;0m100%\u001b[39m of 847.5 MiB |######################| Elapsed Time: 0:00:39 Time:  0:00:3903\n",
      "2024-07-09 15:08:54: oggm.workflow: Execute entity tasks [process_cmip_data] on 46 glaciers\n",
      "\u001b[38;2;0;255;0m100%\u001b[39m of 847.6 MiB |######################| Elapsed Time: 0:00:39 Time:  0:00:3903\n",
      "\u001b[38;2;0;255;0m100%\u001b[39m of 847.5 MiB |######################| Elapsed Time: 0:00:38 Time:  0:00:3803\n",
      "2024-07-09 15:10:47: oggm.workflow: Execute entity tasks [process_cmip_data] on 46 glaciers\n"
     ]
    }
   ],
   "source": [
    "from oggm.shop import gcm_climate\n",
    "\n",
    "# all_members = ['BCC-CSM2-MR', 'CESM2', 'CESM2-WACCM', 'EC-Earth3', 'FGOALS-f3-L', 'GFDL-ESM4',\n",
    "#                 'INM-CM4-8', 'INM-CM5-0', 'MRI-ESM2-0', 'NorESM2-MM']\n",
    "\n",
    "all_members = ['EC-Earth3-Veg', 'MPI-ESM1-2-HR']\n",
    "\n",
    "# problem gcm: 'MPI-ESM1-2-HR'\n",
    "\n",
    "bp = 'https://cluster.klima.uni-bremen.de/~oggm/cmip6/GCM/{}/{}_{}_r1i1p1f1_pr.nc'\n",
    "bt = 'https://cluster.klima.uni-bremen.de/~oggm/cmip6/GCM/{}/{}_{}_r1i1p1f1_tas.nc'\n",
    "\n",
    "# Download the three main SSPs\n",
    "for member in all_members:\n",
    "    for ssp in ['ssp126', 'ssp245', 'ssp370', 'ssp585']: \n",
    "        # Download the files\n",
    "        # print(bt.format(member, member, ssp))\n",
    "        ft = utils.file_downloader(bt.format(member, member, ssp))\n",
    "        fp = utils.file_downloader(bp.format(member, member, ssp))\n",
    "        # bias correct them\n",
    "        workflow.execute_entity_task(gcm_climate.process_cmip_data, gdirs, \n",
    "                                      filesuffix='_CMIP6_{}_{}'.format(member, ssp),  # recognize the climate file for later\n",
    "                                      fpath_temp=ft,  # temperature projections\n",
    "                                      fpath_precip=fp,  # precip projections\n",
    "                                      );"
   ]
  },
  {
   "cell_type": "code",
   "execution_count": 28,
   "id": "47a402de-bbad-4ea8-877c-5a625e4f35fb",
   "metadata": {
    "scrolled": true
   },
   "outputs": [
    {
     "name": "stderr",
     "output_type": "stream",
     "text": [
      "2024-07-09 15:11:28: oggm.workflow: Execute entity tasks [run_with_hydro] on 46 glaciers\n",
      "2024-07-09 15:11:46: oggm.workflow: Execute entity tasks [run_with_hydro] on 46 glaciers\n",
      "2024-07-09 15:12:00: oggm.workflow: Execute entity tasks [run_with_hydro] on 46 glaciers\n",
      "2024-07-09 15:12:16: oggm.workflow: Execute entity tasks [run_with_hydro] on 46 glaciers\n",
      "2024-07-09 15:12:31: oggm.workflow: Execute entity tasks [run_with_hydro] on 46 glaciers\n",
      "2024-07-09 15:12:56: oggm.workflow: Execute entity tasks [run_with_hydro] on 46 glaciers\n",
      "2024-07-09 15:13:09: oggm.workflow: Execute entity tasks [run_with_hydro] on 46 glaciers\n",
      "2024-07-09 15:13:23: oggm.workflow: Execute entity tasks [run_with_hydro] on 46 glaciers\n"
     ]
    }
   ],
   "source": [
    "for member in all_members: # added this, it ensures that files will not be overwritten\n",
    "    for ssp in ['ssp126', 'ssp245', 'ssp370', 'ssp585']: # add ssp245\n",
    "        rid = '_CMIP6_{}_{}'.format(member, ssp)\n",
    "        workflow.execute_entity_task(tasks.run_with_hydro, gdirs,\n",
    "                                 run_task=tasks.run_from_climate_data, ys=2020,\n",
    "                                 # use gcm_data, not climate_historical\n",
    "                                 climate_filename='gcm_data',\n",
    "                                 # use the chosen scenario\n",
    "                                 climate_input_filesuffix=rid,\n",
    "                                 # this is important! Start from 2020 glacier\n",
    "                                 init_model_filesuffix='_spinup_historical',\n",
    "                                 # recognize the run for later\n",
    "                                 output_filesuffix=rid,\n",
    "                                 # add monthly diagnostics\n",
    "                                 store_monthly_hydro=True);"
   ]
  },
  {
   "cell_type": "code",
   "execution_count": 29,
   "id": "83c9fa02-e87d-4796-9ca7-4edeb6106944",
   "metadata": {},
   "outputs": [
    {
     "name": "stderr",
     "output_type": "stream",
     "text": [
      "2024-07-09 15:13:40: oggm.utils: Applying global task compile_run_output on 46 glaciers\n",
      "2024-07-09 15:13:40: oggm.utils: Applying compile_run_output on 46 gdirs.\n"
     ]
    }
   ],
   "source": [
    "# This is unchanged\n",
    "new_ds_nor = utils.compile_run_output(gdirs, input_filesuffix=rid)"
   ]
  },
  {
   "cell_type": "code",
   "execution_count": 30,
   "id": "230ef48a-13de-4c91-a8b7-424e1e486b8c",
   "metadata": {
    "scrolled": true
   },
   "outputs": [
    {
     "name": "stderr",
     "output_type": "stream",
     "text": [
      "2024-07-09 15:13:42: oggm.utils: Applying global task compile_run_output on 46 glaciers\n",
      "2024-07-09 15:13:42: oggm.utils: Applying compile_run_output on 46 gdirs.\n",
      "2024-07-09 15:13:45: oggm.utils: Applying global task compile_run_output on 46 glaciers\n",
      "2024-07-09 15:13:45: oggm.utils: Applying compile_run_output on 46 gdirs.\n",
      "2024-07-09 15:13:47: oggm.utils: Applying global task compile_run_output on 46 glaciers\n",
      "2024-07-09 15:13:47: oggm.utils: Applying compile_run_output on 46 gdirs.\n",
      "2024-07-09 15:13:50: oggm.utils: Applying global task compile_run_output on 46 glaciers\n",
      "2024-07-09 15:13:50: oggm.utils: Applying compile_run_output on 46 gdirs.\n",
      "2024-07-09 15:13:52: oggm.utils: Applying global task compile_run_output on 46 glaciers\n",
      "2024-07-09 15:13:52: oggm.utils: Applying compile_run_output on 46 gdirs.\n",
      "2024-07-09 15:13:54: oggm.utils: Applying global task compile_run_output on 46 glaciers\n",
      "2024-07-09 15:13:54: oggm.utils: Applying compile_run_output on 46 gdirs.\n",
      "2024-07-09 15:13:57: oggm.utils: Applying global task compile_run_output on 46 glaciers\n",
      "2024-07-09 15:13:57: oggm.utils: Applying compile_run_output on 46 gdirs.\n",
      "2024-07-09 15:14:01: oggm.utils: Applying global task compile_run_output on 46 glaciers\n",
      "2024-07-09 15:14:01: oggm.utils: Applying compile_run_output on 46 gdirs.\n"
     ]
    }
   ],
   "source": [
    "# Changes explained by ChatGPT; again, unsure how this will affect pathway\n",
    "# Export data from climate run and compile run output\n",
    "# First for-loop ensures that files will not be overwritten\n",
    "import datetime\n",
    "for member in all_members:\n",
    "    for ssp in ['ssp126', 'ssp245', 'ssp370', 'ssp585']:\n",
    "        rid = '_CMIP6_{}_{}'.format(member, ssp)\n",
    "        output_path = os.path.expanduser(f'~/Documents/summer24/{datetime.date.today()}-gcm_data_{member}_{ssp}_compiled_output.nc')\n",
    "        new_ds = utils.compile_run_output(gdirs, input_filesuffix=rid, path=output_path)"
   ]
  },
  {
   "cell_type": "code",
   "execution_count": 31,
   "id": "7a576455-c077-4cd6-bb4d-29c404c04814",
   "metadata": {
    "scrolled": true
   },
   "outputs": [
    {
     "data": {
      "image/png": "[encoded data removed]",
      "text/plain": [
       "<Figure size 1800x700 with 1 Axes>"
      ]
     },
     "metadata": {},
     "output_type": "display_data"
    }
   ],
   "source": [
    "# Create the figure\n",
    "f, ax = plt.subplots(figsize=(18, 7), sharex=True)\n",
    "# Loop over all scenarios\n",
    "for i, ssp in enumerate(['ssp126', 'ssp245', 'ssp370', 'ssp585']):\n",
    "    file_id = '_CMIP6_{}_{}'.format(member, ssp)\n",
    "    # Open the data, gdirs[0] correspond to Hintereisferner.\n",
    "    with xr.open_dataset(gdirs[0].get_filepath('model_diagnostics', filesuffix=file_id)) as ds:\n",
    "        # Load the data into a dataframe\n",
    "        ds = ds.isel(time=slice(0, -1)).load()\n",
    "\n",
    "    # Select annual variables\n",
    "    sel_vars = [v for v in ds.variables if 'month_2d' not in ds[v].dims]\n",
    "    # And create a dataframe\n",
    "    df_annual = ds[sel_vars].to_dataframe()\n",
    "\n",
    "    # Select the variables relevant for runoff.\n",
    "    runoff_vars = ['melt_off_glacier', 'melt_on_glacier', 'liq_prcp_off_glacier', 'liq_prcp_on_glacier']\n",
    "    # Convert to mega tonnes instead of kg.\n",
    "    df_runoff = df_annual[runoff_vars].clip(0) * 1e-9\n",
    "    # Sum the variables each year \"axis=1\", take the 11 year rolling mean and plot it.\n",
    "    df_roll = df_runoff.sum(axis=1).rolling(window=11, center=True).mean()\n",
    "    df_roll.plot(ax=ax, label=ssp, color=sns.color_palette(\"rocket\")[i])\n",
    "\n",
    "ax.set_ylabel('Annual runoff (Mt)'); ax.set_xlabel('Year'); plt.title(gdirs[0].rgi_id); plt.legend();"
   ]
  },
  {
   "cell_type": "code",
   "execution_count": 32,
   "id": "def4abcd-222d-4ed3-83a4-ef705a3af1a1",
   "metadata": {
    "scrolled": true
   },
   "outputs": [
    {
     "name": "stdout",
     "output_type": "stream",
     "text": [
      "/Users/ziggygoddard/Documents/summer24/OGGM_output/per_glacier/RGI60-16/RGI60-16.01/RGI60-16.01307/model_geometry_spinup_historical.nc\n",
      "/Users/ziggygoddard/Documents/summer24/OGGM_output/per_glacier/RGI60-16/RGI60-16.01/RGI60-16.01308/model_geometry_spinup_historical.nc\n",
      "/Users/ziggygoddard/Documents/summer24/OGGM_output/per_glacier/RGI60-16/RGI60-16.01/RGI60-16.01309/model_geometry_spinup_historical.nc\n",
      "/Users/ziggygoddard/Documents/summer24/OGGM_output/per_glacier/RGI60-16/RGI60-16.01/RGI60-16.01310/model_geometry_spinup_historical.nc\n",
      "/Users/ziggygoddard/Documents/summer24/OGGM_output/per_glacier/RGI60-16/RGI60-16.01/RGI60-16.01311/model_geometry_spinup_historical.nc\n",
      "/Users/ziggygoddard/Documents/summer24/OGGM_output/per_glacier/RGI60-16/RGI60-16.01/RGI60-16.01312/model_geometry_spinup_historical.nc\n",
      "/Users/ziggygoddard/Documents/summer24/OGGM_output/per_glacier/RGI60-16/RGI60-16.01/RGI60-16.01313/model_geometry_spinup_historical.nc\n",
      "/Users/ziggygoddard/Documents/summer24/OGGM_output/per_glacier/RGI60-16/RGI60-16.01/RGI60-16.01314/model_geometry_spinup_historical.nc\n",
      "/Users/ziggygoddard/Documents/summer24/OGGM_output/per_glacier/RGI60-16/RGI60-16.01/RGI60-16.01315/model_geometry_spinup_historical.nc\n",
      "/Users/ziggygoddard/Documents/summer24/OGGM_output/per_glacier/RGI60-16/RGI60-16.01/RGI60-16.01316/model_geometry_spinup_historical.nc\n",
      "/Users/ziggygoddard/Documents/summer24/OGGM_output/per_glacier/RGI60-16/RGI60-16.01/RGI60-16.01317/model_geometry_spinup_historical.nc\n",
      "/Users/ziggygoddard/Documents/summer24/OGGM_output/per_glacier/RGI60-16/RGI60-16.01/RGI60-16.01318/model_geometry_spinup_historical.nc\n",
      "/Users/ziggygoddard/Documents/summer24/OGGM_output/per_glacier/RGI60-16/RGI60-16.01/RGI60-16.01319/model_geometry_spinup_historical.nc\n",
      "/Users/ziggygoddard/Documents/summer24/OGGM_output/per_glacier/RGI60-16/RGI60-16.01/RGI60-16.01320/model_geometry_spinup_historical.nc\n",
      "/Users/ziggygoddard/Documents/summer24/OGGM_output/per_glacier/RGI60-16/RGI60-16.01/RGI60-16.01321/model_geometry_spinup_historical.nc\n",
      "/Users/ziggygoddard/Documents/summer24/OGGM_output/per_glacier/RGI60-16/RGI60-16.01/RGI60-16.01322/model_geometry_spinup_historical.nc\n",
      "/Users/ziggygoddard/Documents/summer24/OGGM_output/per_glacier/RGI60-16/RGI60-16.01/RGI60-16.01336/model_geometry_spinup_historical.nc\n",
      "/Users/ziggygoddard/Documents/summer24/OGGM_output/per_glacier/RGI60-16/RGI60-16.01/RGI60-16.01337/model_geometry_spinup_historical.nc\n",
      "/Users/ziggygoddard/Documents/summer24/OGGM_output/per_glacier/RGI60-16/RGI60-16.01/RGI60-16.01338/model_geometry_spinup_historical.nc\n",
      "/Users/ziggygoddard/Documents/summer24/OGGM_output/per_glacier/RGI60-16/RGI60-16.01/RGI60-16.01339/model_geometry_spinup_historical.nc\n",
      "/Users/ziggygoddard/Documents/summer24/OGGM_output/per_glacier/RGI60-16/RGI60-16.01/RGI60-16.01341/model_geometry_spinup_historical.nc\n",
      "/Users/ziggygoddard/Documents/summer24/OGGM_output/per_glacier/RGI60-16/RGI60-16.01/RGI60-16.01342/model_geometry_spinup_historical.nc\n",
      "/Users/ziggygoddard/Documents/summer24/OGGM_output/per_glacier/RGI60-16/RGI60-16.01/RGI60-16.01343/model_geometry_spinup_historical.nc\n",
      "/Users/ziggygoddard/Documents/summer24/OGGM_output/per_glacier/RGI60-16/RGI60-16.01/RGI60-16.01344/model_geometry_spinup_historical.nc\n",
      "/Users/ziggygoddard/Documents/summer24/OGGM_output/per_glacier/RGI60-16/RGI60-16.01/RGI60-16.01345/model_geometry_spinup_historical.nc\n",
      "/Users/ziggygoddard/Documents/summer24/OGGM_output/per_glacier/RGI60-16/RGI60-16.01/RGI60-16.01346/model_geometry_spinup_historical.nc\n",
      "/Users/ziggygoddard/Documents/summer24/OGGM_output/per_glacier/RGI60-16/RGI60-16.01/RGI60-16.01394/model_geometry_spinup_historical.nc\n",
      "/Users/ziggygoddard/Documents/summer24/OGGM_output/per_glacier/RGI60-16/RGI60-16.01/RGI60-16.01423/model_geometry_spinup_historical.nc\n",
      "/Users/ziggygoddard/Documents/summer24/OGGM_output/per_glacier/RGI60-16/RGI60-16.01/RGI60-16.01424/model_geometry_spinup_historical.nc\n",
      "/Users/ziggygoddard/Documents/summer24/OGGM_output/per_glacier/RGI60-16/RGI60-16.01/RGI60-16.01432/model_geometry_spinup_historical.nc\n",
      "/Users/ziggygoddard/Documents/summer24/OGGM_output/per_glacier/RGI60-16/RGI60-16.01/RGI60-16.01433/model_geometry_spinup_historical.nc\n",
      "/Users/ziggygoddard/Documents/summer24/OGGM_output/per_glacier/RGI60-16/RGI60-16.01/RGI60-16.01434/model_geometry_spinup_historical.nc\n",
      "/Users/ziggygoddard/Documents/summer24/OGGM_output/per_glacier/RGI60-16/RGI60-16.01/RGI60-16.01435/model_geometry_spinup_historical.nc\n",
      "/Users/ziggygoddard/Documents/summer24/OGGM_output/per_glacier/RGI60-16/RGI60-16.01/RGI60-16.01436/model_geometry_spinup_historical.nc\n",
      "/Users/ziggygoddard/Documents/summer24/OGGM_output/per_glacier/RGI60-16/RGI60-16.01/RGI60-16.01437/model_geometry_spinup_historical.nc\n",
      "/Users/ziggygoddard/Documents/summer24/OGGM_output/per_glacier/RGI60-16/RGI60-16.01/RGI60-16.01438/model_geometry_spinup_historical.nc\n",
      "/Users/ziggygoddard/Documents/summer24/OGGM_output/per_glacier/RGI60-16/RGI60-16.01/RGI60-16.01439/model_geometry_spinup_historical.nc\n",
      "/Users/ziggygoddard/Documents/summer24/OGGM_output/per_glacier/RGI60-16/RGI60-16.01/RGI60-16.01440/model_geometry_spinup_historical.nc\n",
      "/Users/ziggygoddard/Documents/summer24/OGGM_output/per_glacier/RGI60-16/RGI60-16.01/RGI60-16.01441/model_geometry_spinup_historical.nc\n",
      "/Users/ziggygoddard/Documents/summer24/OGGM_output/per_glacier/RGI60-16/RGI60-16.01/RGI60-16.01442/model_geometry_spinup_historical.nc\n",
      "/Users/ziggygoddard/Documents/summer24/OGGM_output/per_glacier/RGI60-16/RGI60-16.01/RGI60-16.01443/model_geometry_spinup_historical.nc\n",
      "/Users/ziggygoddard/Documents/summer24/OGGM_output/per_glacier/RGI60-16/RGI60-16.01/RGI60-16.01444/model_geometry_spinup_historical.nc\n"
     ]
    }
   ],
   "source": [
    "for g in gdirs:\n",
    "    print(g.get_filepath('model_geometry', filesuffix='_spinup_historical'))"
   ]
  },
  {
   "cell_type": "code",
   "execution_count": 33,
   "id": "0d66a905-ab9d-4466-a853-6e5dce2a8b34",
   "metadata": {
    "jupyter": {
     "source_hidden": true
    }
   },
   "outputs": [
    {
     "name": "stdout",
     "output_type": "stream",
     "text": [
      "/Users/ziggygoddard/Documents/summer24/OGGM_output/per_glacier/RGI60-16/RGI60-16.01/RGI60-16.01307/model_diagnostics_CMIP6_MRI-ESM2-0_ssp126.nc\n",
      "/Users/ziggygoddard/Documents/summer24/OGGM_output/per_glacier/RGI60-16/RGI60-16.01/RGI60-16.01307/model_diagnostics_CMIP6_MRI-ESM2-0_ssp245.nc\n",
      "/Users/ziggygoddard/Documents/summer24/OGGM_output/per_glacier/RGI60-16/RGI60-16.01/RGI60-16.01307/model_diagnostics_CMIP6_MRI-ESM2-0_ssp370.nc\n",
      "/Users/ziggygoddard/Documents/summer24/OGGM_output/per_glacier/RGI60-16/RGI60-16.01/RGI60-16.01307/model_diagnostics_CMIP6_MRI-ESM2-0_ssp585.nc\n"
     ]
    }
   ],
   "source": [
    "for ssp in ['ssp126', 'ssp245', 'ssp370', 'ssp585']:\n",
    "    file_id = '_CMIP6_{}_{}'.format(member, ssp)\n",
    "    print(gdirs[0].get_filepath('model_diagnostics', filesuffix=file_id))"
   ]
  },
  {
   "cell_type": "code",
   "execution_count": 34,
   "id": "619a9c95-6271-4ee1-813f-59258add12e5",
   "metadata": {
    "jupyter": {
     "source_hidden": true
    }
   },
   "outputs": [
    {
     "name": "stdout",
     "output_type": "stream",
     "text": [
      "File /Users/ziggygoddard/Documents/summer24/OGGM_output/per_glacier/RGI60-16/RGI60-16.01/RGI60-16.01307/model_diagnostics_CMIP6_MRI-ESM2-0_ssp126.nc is present and accessible.\n",
      "File /Users/ziggygoddard/Documents/summer24/OGGM_output/per_glacier/RGI60-16/RGI60-16.01/RGI60-16.01307/model_diagnostics_CMIP6_MRI-ESM2-0_ssp245.nc is present and accessible.\n",
      "File /Users/ziggygoddard/Documents/summer24/OGGM_output/per_glacier/RGI60-16/RGI60-16.01/RGI60-16.01307/model_diagnostics_CMIP6_MRI-ESM2-0_ssp370.nc is present and accessible.\n",
      "File /Users/ziggygoddard/Documents/summer24/OGGM_output/per_glacier/RGI60-16/RGI60-16.01/RGI60-16.01307/model_diagnostics_CMIP6_MRI-ESM2-0_ssp585.nc is present and accessible.\n"
     ]
    }
   ],
   "source": [
    "import os\n",
    "\n",
    "for ssp in ['ssp126', 'ssp245', 'ssp370', 'ssp585']:\n",
    "    file_id = '_CMIP6_{}_{}'.format(member, ssp)\n",
    "    filepath = gdirs[0].get_filepath('model_diagnostics', filesuffix=file_id)\n",
    "    if not os.path.isfile(filepath):\n",
    "        print(f\"File {filepath} does not exist or is not accessible.\")\n",
    "    else:\n",
    "        print(f\"File {filepath} is present and accessible.\")"
   ]
  },
  {
   "cell_type": "code",
   "execution_count": 35,
   "id": "b689c87d-96b6-4903-bcc4-46a1442d17ff",
   "metadata": {
    "jupyter": {
     "source_hidden": true
    }
   },
   "outputs": [
    {
     "name": "stdout",
     "output_type": "stream",
     "text": [
      "<xarray.Dataset> Size: 208kB\n",
      "Dimensions:                       (time: 282, month_2d: 12)\n",
      "Coordinates:\n",
      "  * time                          (time) float64 2kB 2.02e+03 ... 2.301e+03\n",
      "    calendar_year                 (time) int64 2kB ...\n",
      "    calendar_month                (time) int64 2kB ...\n",
      "    hydro_year                    (time) int64 2kB ...\n",
      "    hydro_month                   (time) int64 2kB ...\n",
      "  * month_2d                      (month_2d) int64 96B 1 2 3 4 5 ... 9 10 11 12\n",
      "    hydro_month_2d                (month_2d) int64 96B ...\n",
      "    calendar_month_2d             (month_2d) int64 96B ...\n",
      "Data variables: (12/21)\n",
      "    volume_m3                     (time) float64 2kB ...\n",
      "    volume_bsl_m3                 (time) float64 2kB ...\n",
      "    volume_bwl_m3                 (time) float64 2kB ...\n",
      "    area_m2                       (time) float64 2kB ...\n",
      "    length_m                      (time) float64 2kB ...\n",
      "    calving_m3                    (time) float64 2kB ...\n",
      "    ...                            ...\n",
      "    liq_prcp_on_glacier           (time) float64 2kB ...\n",
      "    liq_prcp_on_glacier_monthly   (time, month_2d) float64 27kB ...\n",
      "    snowfall_off_glacier          (time) float64 2kB ...\n",
      "    snowfall_off_glacier_monthly  (time, month_2d) float64 27kB ...\n",
      "    snowfall_on_glacier           (time) float64 2kB ...\n",
      "    snowfall_on_glacier_monthly   (time, month_2d) float64 27kB ...\n",
      "Attributes:\n",
      "    description:          OGGM model output\n",
      "    oggm_version:         1.6.1\n",
      "    calendar:             365-day no leap\n",
      "    creation_date:        2024-07-02 16:17:11\n",
      "    water_level:          0\n",
      "    glen_a:               1.5001274304807765e-23\n",
      "    fs:                   0\n",
      "    mb_model_class:       MultipleFlowlineMassBalance\n",
      "    mb_model_hemisphere:  sh\n"
     ]
    }
   ],
   "source": [
    "import xarray as xr\n",
    "\n",
    "file_id = '_CMIP6_{}_{}'.format(member, 'ssp126')\n",
    "filepath = gdirs[0].get_filepath('model_diagnostics', filesuffix=file_id)\n",
    "try:\n",
    "    with xr.open_dataset(filepath) as ds:\n",
    "        print(ds)\n",
    "except Exception as e:\n",
    "    print(f\"Error opening file {filepath}: {e}\")"
   ]
  },
  {
   "cell_type": "code",
   "execution_count": 37,
   "id": "2d785c23-af4e-45f6-92b2-8787f39b0b4d",
   "metadata": {},
   "outputs": [],
   "source": [
    "# This is how to check if files for individual glaciers exist\n",
    "\n",
    "import os\n",
    "\n",
    "spinup_path = '/Users/ziggygoddard/Documents/summer24/OGGM_output/per_glacier/RGI60-16/RGI60-16.02/'\n",
    "for glacier_id in ['RGI60-16.02945']:  # Add other glacier IDs as needed\n",
    "    file_path = os.path.join(spinup_path, glacier_id, 'model_geometry_spinup_historical.nc')\n",
    "    if not os.path.isfile(file_path):\n",
    "        print(f\"Missing spinup file: {file_path}\")\n",
    "\n",
    "# missing 01306, 02942-02945 "
   ]
  }
 ],
 "metadata": {
  "kernelspec": {
   "display_name": "Python 3 (ipykernel)",
   "language": "python",
   "name": "python3"
  },
  "language_info": {
   "codemirror_mode": {
    "name": "ipython",
    "version": 3
   },
   "file_extension": ".py",
   "mimetype": "text/x-python",
   "name": "python",
   "nbconvert_exporter": "python",
   "pygments_lexer": "ipython3",
   "version": "3.12.3"
  }
 },
 "nbformat": 4,
 "nbformat_minor": 5
}
