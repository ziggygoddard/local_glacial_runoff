{
 "cells": [
  {
   "cell_type": "markdown",
   "id": "4e0815b9-0798-4e2b-b23a-c02a0de7843d",
   "metadata": {},
   "source": [
    "# Glacier runoff model for La Paz, Bolivia"
   ]
  },
  {
   "cell_type": "markdown",
   "id": "b2cd2866-1500-4a60-b06c-83fb99db3a9a",
   "metadata": {},
   "source": [
    "Current questions/issues:\n",
    "- Unsure if glacier directory is up to date\n",
    "- Continue on error is on (we didn't figure out how to avoid this)\n",
    "- Multiprocessing is off"
   ]
  },
  {
   "cell_type": "markdown",
   "id": "66ec844b-90d7-47ea-8416-272d27e7fc85",
   "metadata": {},
   "source": [
    "## <b> Step 1: Import necessary software packages for graphing and visualization"
   ]
  },
  {
   "cell_type": "code",
   "execution_count": 1,
   "id": "c1729f9a-1399-4909-a7b6-93c4208665d4",
   "metadata": {},
   "outputs": [],
   "source": [
    "import matplotlib.pyplot as plt\n",
    "import xarray as xr\n",
    "import numpy as np\n",
    "import pandas as pd\n",
    "import geopandas as gpd\n",
    "import seaborn as sns\n",
    "import shapely.geometry as shpg\n",
    "import os"
   ]
  },
  {
   "cell_type": "markdown",
   "id": "f25242f1-2077-49a2-ba16-49a93cd4e85a",
   "metadata": {},
   "source": [
    "## <b> Step 2: import and set up OGGM software"
   ]
  },
  {
   "cell_type": "code",
   "execution_count": 2,
   "id": "de469965-7f43-4385-aa8f-fefd67b03c20",
   "metadata": {},
   "outputs": [],
   "source": [
    "from oggm import cfg, utils, workflow, tasks, graphics"
   ]
  },
  {
   "cell_type": "code",
   "execution_count": 3,
   "id": "4449cefc-18ea-4d6d-ade7-0cd6ed735bb5",
   "metadata": {},
   "outputs": [],
   "source": [
    "# Define the directory path in your home directory\n",
    "path = '/Users/ziggygoddard/Documents/summer24/OGGM_output' "
   ]
  },
  {
   "cell_type": "code",
   "execution_count": 4,
   "id": "934ab118-4065-4268-997f-a0c8f845ba5f",
   "metadata": {},
   "outputs": [
    {
     "name": "stderr",
     "output_type": "stream",
     "text": [
      "2024-07-04 11:38:07: oggm.cfg: Reading default parameters from the OGGM `params.cfg` configuration file.\n",
      "2024-07-04 11:38:07: oggm.cfg: Multiprocessing switched OFF according to the parameter file.\n",
      "2024-07-04 11:38:07: oggm.cfg: Multiprocessing: using all available processors (N=8)\n",
      "2024-07-04 11:38:09: oggm.cfg: PARAMS['store_model_geometry'] changed from `False` to `True`.\n",
      "2024-07-04 11:38:09: oggm.cfg: Multiprocessing switched ON after user settings.\n",
      "2024-07-04 11:38:09: oggm.cfg: PARAMS['continue_on_error'] changed from `False` to `True`.\n"
     ]
    }
   ],
   "source": [
    "# work with parameters \n",
    "cfg.initialize(logging_level='WARNING')\n",
    "cfg.PATHS['working_dir']=path\n",
    "\n",
    "cfg.PARAMS['store_model_geometry'] = True\n",
    "cfg.PARAMS['use_multiprocessing'] = True\n",
    "cfg.PARAMS['continue_on_error']=True #this is to avoid issues with the files with invalid geometries\n",
    "\n",
    "#You can provide any other dataset to OGGM by setting the climate_file parameter in params.cfg"
   ]
  },
  {
   "cell_type": "markdown",
   "id": "abfbca44-ca4d-449b-b352-d833d03aa7b9",
   "metadata": {},
   "source": [
    "## Step 3: Define glaciers for the run"
   ]
  },
  {
   "cell_type": "code",
   "execution_count": 11,
   "id": "042afaea-80fb-49af-8d0e-b418d190f265",
   "metadata": {},
   "outputs": [
    {
     "data": {
      "text/plain": [
       "'/Users/ziggygoddard/OGGM/rgi/RGIV62'"
      ]
     },
     "execution_count": 11,
     "metadata": {},
     "output_type": "execute_result"
    }
   ],
   "source": [
    "# Download glacier outlines\n",
    "# I assume I should access a newer version of the glacier directory?\n",
    "utils.get_rgi_dir(version='62')  # path to the data after download"
   ]
  },
  {
   "cell_type": "code",
   "execution_count": 6,
   "id": "b6b6e873-0f92-4f85-9236-3b2f37b74d05",
   "metadata": {},
   "outputs": [
    {
     "name": "stdout",
     "output_type": "stream",
     "text": [
      "/opt/miniconda3/envs/oggm_env/lib/python3.12/site-packages/oggm/__init__.py\n"
     ]
    }
   ],
   "source": [
    "import oggm\n",
    "print(oggm.__file__)"
   ]
  },
  {
   "cell_type": "code",
   "execution_count": 7,
   "id": "a3eedbb6-12b9-429e-a465-278f8b1cf552",
   "metadata": {},
   "outputs": [],
   "source": [
    "# Get rgi region file for region 16 (South America)\n",
    "fr = utils.get_rgi_region_file(17, version='62')"
   ]
  },
  {
   "cell_type": "code",
   "execution_count": 9,
   "id": "fad62215-b732-446c-aa4c-decc01e0d7b5",
   "metadata": {},
   "outputs": [
    {
     "ename": "UnboundLocalError",
     "evalue": "cannot access local variable 'dfile' where it is not associated with a value",
     "output_type": "error",
     "traceback": [
      "\u001b[0;31m---------------------------------------------------------------------------\u001b[0m",
      "\u001b[0;31mUnboundLocalError\u001b[0m                         Traceback (most recent call last)",
      "Cell \u001b[0;32mIn[9], line 1\u001b[0m\n\u001b[0;32m----> 1\u001b[0m utils\u001b[38;5;241m.\u001b[39mget_rgi_region_file(\u001b[38;5;241m17\u001b[39m, version\u001b[38;5;241m=\u001b[39m\u001b[38;5;124m'\u001b[39m\u001b[38;5;124m70G\u001b[39m\u001b[38;5;124m'\u001b[39m, reset\u001b[38;5;241m=\u001b[39m\u001b[38;5;28;01mTrue\u001b[39;00m)\n",
      "File \u001b[0;32m/opt/miniconda3/envs/oggm_env/lib/python3.12/site-packages/oggm/utils/_downloads.py:1967\u001b[0m, in \u001b[0;36mget_rgi_region_file\u001b[0;34m(region, version, reset)\u001b[0m\n\u001b[1;32m   1947\u001b[0m \u001b[38;5;28;01mdef\u001b[39;00m \u001b[38;5;21mget_rgi_region_file\u001b[39m(region, version\u001b[38;5;241m=\u001b[39m\u001b[38;5;28;01mNone\u001b[39;00m, reset\u001b[38;5;241m=\u001b[39m\u001b[38;5;28;01mFalse\u001b[39;00m):\n\u001b[1;32m   1948\u001b[0m \u001b[38;5;250m    \u001b[39m\u001b[38;5;124;03m\"\"\"Path to the RGI region file.\u001b[39;00m\n\u001b[1;32m   1949\u001b[0m \n\u001b[1;32m   1950\u001b[0m \u001b[38;5;124;03m    If the RGI files are not present, download them.\u001b[39;00m\n\u001b[0;32m   (...)\u001b[0m\n\u001b[1;32m   1964\u001b[0m \u001b[38;5;124;03m        path to the RGI shapefile\u001b[39;00m\n\u001b[1;32m   1965\u001b[0m \u001b[38;5;124;03m    \"\"\"\u001b[39;00m\n\u001b[0;32m-> 1967\u001b[0m     rgi_dir \u001b[38;5;241m=\u001b[39m get_rgi_dir(version\u001b[38;5;241m=\u001b[39mversion, reset\u001b[38;5;241m=\u001b[39mreset)\n\u001b[1;32m   1968\u001b[0m     f \u001b[38;5;241m=\u001b[39m \u001b[38;5;28mlist\u001b[39m(glob\u001b[38;5;241m.\u001b[39mglob(rgi_dir \u001b[38;5;241m+\u001b[39m \u001b[38;5;124m\"\u001b[39m\u001b[38;5;124m/*/*\u001b[39m\u001b[38;5;132;01m{}\u001b[39;00m\u001b[38;5;124m_*.shp\u001b[39m\u001b[38;5;124m\"\u001b[39m\u001b[38;5;241m.\u001b[39mformat(region)))\n\u001b[1;32m   1969\u001b[0m     \u001b[38;5;28;01massert\u001b[39;00m \u001b[38;5;28mlen\u001b[39m(f) \u001b[38;5;241m==\u001b[39m \u001b[38;5;241m1\u001b[39m\n",
      "File \u001b[0;32m/opt/miniconda3/envs/oggm_env/lib/python3.12/site-packages/oggm/utils/_downloads.py:1892\u001b[0m, in \u001b[0;36mget_rgi_dir\u001b[0;34m(version, reset)\u001b[0m\n\u001b[1;32m   1874\u001b[0m \u001b[38;5;250m\u001b[39m\u001b[38;5;124;03m\"\"\"Path to the RGI directory.\u001b[39;00m\n\u001b[1;32m   1875\u001b[0m \n\u001b[1;32m   1876\u001b[0m \u001b[38;5;124;03mIf the RGI files are not present, download them.\u001b[39;00m\n\u001b[0;32m   (...)\u001b[0m\n\u001b[1;32m   1888\u001b[0m \u001b[38;5;124;03m    path to the RGI directory\u001b[39;00m\n\u001b[1;32m   1889\u001b[0m \u001b[38;5;124;03m\"\"\"\u001b[39;00m\n\u001b[1;32m   1891\u001b[0m \u001b[38;5;28;01mwith\u001b[39;00m get_lock():\n\u001b[0;32m-> 1892\u001b[0m     \u001b[38;5;28;01mreturn\u001b[39;00m _get_rgi_dir_unlocked(version\u001b[38;5;241m=\u001b[39mversion, reset\u001b[38;5;241m=\u001b[39mreset)\n",
      "File \u001b[0;32m/opt/miniconda3/envs/oggm_env/lib/python3.12/site-packages/oggm/utils/_downloads.py:1926\u001b[0m, in \u001b[0;36m_get_rgi_dir_unlocked\u001b[0;34m(version, reset)\u001b[0m\n\u001b[1;32m   1921\u001b[0m test_file \u001b[38;5;241m=\u001b[39m os\u001b[38;5;241m.\u001b[39mpath\u001b[38;5;241m.\u001b[39mjoin(rgi_dir,\n\u001b[1;32m   1922\u001b[0m                          \u001b[38;5;124m'\u001b[39m\u001b[38;5;124m*_rgi*\u001b[39m\u001b[38;5;132;01m{}\u001b[39;00m\u001b[38;5;124m_manifest.txt\u001b[39m\u001b[38;5;124m'\u001b[39m\u001b[38;5;241m.\u001b[39mformat(version))\n\u001b[1;32m   1924\u001b[0m \u001b[38;5;28;01mif\u001b[39;00m \u001b[38;5;28mlen\u001b[39m(glob\u001b[38;5;241m.\u001b[39mglob(test_file)) \u001b[38;5;241m==\u001b[39m \u001b[38;5;241m0\u001b[39m:\n\u001b[1;32m   1925\u001b[0m     \u001b[38;5;66;03m# if not there download it\u001b[39;00m\n\u001b[0;32m-> 1926\u001b[0m     ofile \u001b[38;5;241m=\u001b[39m file_downloader(dfile, reset\u001b[38;5;241m=\u001b[39mreset)\n\u001b[1;32m   1927\u001b[0m     \u001b[38;5;66;03m# Extract root\u001b[39;00m\n\u001b[1;32m   1928\u001b[0m     \u001b[38;5;28;01mwith\u001b[39;00m zipfile\u001b[38;5;241m.\u001b[39mZipFile(ofile) \u001b[38;5;28;01mas\u001b[39;00m zf:\n",
      "\u001b[0;31mUnboundLocalError\u001b[0m: cannot access local variable 'dfile' where it is not associated with a value"
     ]
    }
   ],
   "source": [
    "utils.get_rgi_region_file(17, version='70G', reset=True)"
   ]
  },
  {
   "cell_type": "code",
   "execution_count": 8,
   "id": "f5e52547-3f48-4bff-82d8-373d6537818a",
   "metadata": {},
   "outputs": [],
   "source": [
    "# Read file as as geopandas\n",
    "gdf = gpd.read_file(fr)"
   ]
  },
  {
   "cell_type": "code",
   "execution_count": 9,
   "id": "075f1224-ac56-438f-b987-5e0dd59d32b7",
   "metadata": {},
   "outputs": [],
   "source": [
    "# This new shp file only contains 2 glaciers and only one of them can be ran; surely this is not correct\n",
    "# Add basin shapefile\n",
    "path = '~/Documents/summer24/sa_basins/santiago_basins_subset_dissolved.shp' \n",
    "basin = gpd.read_file(path)"
   ]
  },
  {
   "cell_type": "code",
   "execution_count": 10,
   "id": "0e58b3dc-c9f7-4e07-b21e-186207bc2b5d",
   "metadata": {},
   "outputs": [],
   "source": [
    "# Select glaciers within the basin\n",
    "in_bas = [basin.geometry.contains(shpg.Point(x, y))[0] for\n",
    "          (x, y) in zip(gdf.CenLon, gdf.CenLat)]\n",
    "gdf_sel = gdf.loc[in_bas]"
   ]
  },
  {
   "cell_type": "code",
   "execution_count": 11,
   "id": "4d82b028-0836-4ce4-abee-6aaaaf98325e",
   "metadata": {
    "scrolled": true
   },
   "outputs": [],
   "source": [
    "# Select rgi id's from the gdf_sel file\n",
    "rgi_ids = gdf_sel['RGIId']"
   ]
  },
  {
   "cell_type": "code",
   "execution_count": 12,
   "id": "06151fa2-7e08-4193-b9df-1e71f5a27885",
   "metadata": {},
   "outputs": [
    {
     "data": {
      "text/plain": [
       "13837    RGI60-17.13838\n",
       "13849    RGI60-17.13850\n",
       "13850    RGI60-17.13851\n",
       "13852    RGI60-17.13853\n",
       "13856    RGI60-17.13857\n",
       "13857    RGI60-17.13858\n",
       "13862    RGI60-17.13863\n",
       "13864    RGI60-17.13865\n",
       "13866    RGI60-17.13867\n",
       "13867    RGI60-17.13868\n",
       "13870    RGI60-17.13871\n",
       "13873    RGI60-17.13874\n",
       "13884    RGI60-17.13885\n",
       "13885    RGI60-17.13886\n",
       "13887    RGI60-17.13888\n",
       "13889    RGI60-17.13890\n",
       "13903    RGI60-17.13904\n",
       "13908    RGI60-17.13909\n",
       "13910    RGI60-17.13911\n",
       "13911    RGI60-17.13912\n",
       "13929    RGI60-17.13930\n",
       "13930    RGI60-17.13931\n",
       "13931    RGI60-17.13932\n",
       "13932    RGI60-17.13933\n",
       "13933    RGI60-17.13934\n",
       "13934    RGI60-17.13935\n",
       "13935    RGI60-17.13936\n",
       "13938    RGI60-17.13939\n",
       "13950    RGI60-17.13951\n",
       "13955    RGI60-17.13956\n",
       "13956    RGI60-17.13957\n",
       "13960    RGI60-17.13961\n",
       "13962    RGI60-17.13963\n",
       "13964    RGI60-17.13965\n",
       "13971    RGI60-17.13972\n",
       "14014    RGI60-17.14015\n",
       "Name: RGIId, dtype: object"
      ]
     },
     "execution_count": 12,
     "metadata": {},
     "output_type": "execute_result"
    }
   ],
   "source": [
    "rgi_ids"
   ]
  },
  {
   "cell_type": "code",
   "execution_count": 13,
   "id": "3900a029-ad86-4594-916b-d32b513902bf",
   "metadata": {},
   "outputs": [],
   "source": [
    "# # Select glaciers within the basin\n",
    "# in_bas = [basin.geometry.contains(shpg.Point(x, y))[0] for\n",
    "#           (x, y) in zip(gdf.CenLon, gdf.CenLat)]\n",
    "# gdf_sel = gdf.loc[in_bas]\n",
    "\n",
    "# Remove the problematic glaciers\n",
    "problem_glacier_list = ['RGI60-16.01306', 'RGI60-16.02942', 'RGI60-16.02943', 'RGI60-16.02944', 'RGI60-16.02945']\n",
    "gdf_sel = gdf_sel[~gdf_sel['RGIId'].isin(problem_glacier_list)]\n",
    "\n",
    "# Select rgi id's from the gdf_sel file\n",
    "rgi_ids = gdf_sel['RGIId'].tolist()"
   ]
  },
  {
   "cell_type": "markdown",
   "id": "1d0e0c71-f806-4525-b3e4-84a5d0874be4",
   "metadata": {},
   "source": [
    "## Step 4. Prepare glacier data"
   ]
  },
  {
   "cell_type": "code",
   "execution_count": 14,
   "id": "94c11d9b-c968-4def-9c80-9f621fb06f83",
   "metadata": {
    "tags": []
   },
   "outputs": [
    {
     "name": "stderr",
     "output_type": "stream",
     "text": [
      "2024-07-03 18:15:09: oggm.workflow: init_glacier_directories from prepro level 5 on 36 glaciers.\n",
      "2024-07-03 18:15:09: oggm.workflow: Execute entity tasks [gdir_from_prepro] on 36 glaciers\n"
     ]
    }
   ],
   "source": [
    "# Initiate glacier directory task for each glacier\n",
    "base_url = 'https://cluster.klima.uni-bremen.de/~oggm/gdirs/oggm_v1.6/L3-L5_files/2023.3/elev_bands/W5E5_spinup'\n",
    "gdirs = workflow.init_glacier_directories(rgi_ids,\n",
    "                                           from_prepro_level=5,\n",
    "                                           prepro_base_url=base_url,\n",
    "                                         prepro_border=80)\n",
    "## we have a problem with the 10th glacier.  Why is OGGM not continuing?\n",
    "## Try: running this in a for loop, and/or removing problem glaciers\n",
    "## this is up to date"
   ]
  },
  {
   "cell_type": "code",
   "execution_count": 15,
   "id": "aa409c3d-7273-4a51-9001-3c306c920246",
   "metadata": {},
   "outputs": [
    {
     "data": {
      "text/plain": [
       "list"
      ]
     },
     "execution_count": 15,
     "metadata": {},
     "output_type": "execute_result"
    }
   ],
   "source": [
    "type(gdirs)"
   ]
  },
  {
   "cell_type": "code",
   "execution_count": 16,
   "id": "312e3b8a-68d0-4e7c-aefc-4316fe6cc06f",
   "metadata": {},
   "outputs": [],
   "source": [
    "# gdirs = []\n",
    "# for r in rgi_ids:\n",
    "#     try:\n",
    "#         gdir_temp = workflow.init_glacier_directories(r,\n",
    "#                                                    from_prepro_level=5,\n",
    "#                                                    prepro_base_url=base_url,\n",
    "#                                                  prepro_border=80)\n",
    "#         gdirs.append(gdir_temp)\n",
    "#     except:\n",
    "#         print('Failed for {}'.format(r))\n",
    "#         continue\n",
    "\n",
    "## Does not make correct format of gdirs for later use; also doesn't report any errors\n",
    "## better luck next time"
   ]
  },
  {
   "cell_type": "markdown",
   "id": "30a75d05-3f67-4811-abae-12eeaf626eda",
   "metadata": {},
   "source": [
    "# Step 5. Initiate climate runs"
   ]
  },
  {
   "cell_type": "markdown",
   "id": "d7eb0871-d252-479e-a86f-d9a09ffe9c5c",
   "metadata": {},
   "source": [
    "### I. Run constant climate commitment run"
   ]
  },
  {
   "cell_type": "code",
   "execution_count": 17,
   "id": "a4150501-6ee3-41e8-a8dd-f4c70f5f42c8",
   "metadata": {
    "tags": []
   },
   "outputs": [],
   "source": [
    "# Initiate run_with_hydro using constant climate\n",
    "# I assume this stays the same?\n",
    "# Changed 'gdir' to 'gdirs'\n",
    "for g in gdirs:\n",
    "    file_id = '_ct'\n",
    "    tasks.run_with_hydro(g, run_task=tasks.run_constant_climate, nyears=100, y0=2014, halfsize=5, store_monthly_hydro=True, \n",
    "                     output_filesuffix=file_id);"
   ]
  },
  {
   "cell_type": "code",
   "execution_count": 18,
   "id": "e7f5770c-1635-4150-8e75-f04e6a76c9a4",
   "metadata": {},
   "outputs": [
    {
     "name": "stderr",
     "output_type": "stream",
     "text": [
      "2024-07-03 18:16:31: oggm.utils: Applying global task compile_run_output on 36 glaciers\n",
      "2024-07-03 18:16:31: oggm.utils: Applying compile_run_output on 36 gdirs.\n"
     ]
    }
   ],
   "source": [
    "# Export data from constant climate run and compile run output\n",
    "import datetime\n",
    "output_path = '~/Documents/summer24/Santiago/{}-ct_compiled_output.nc'.format(datetime.date.today()) \n",
    "new_ds = utils.compile_run_output(gdirs, input_filesuffix=file_id, path=output_path)"
   ]
  },
  {
   "cell_type": "code",
   "execution_count": 19,
   "id": "bd7fef32-4dee-4e80-9bf5-5b67bf3a2c9a",
   "metadata": {},
   "outputs": [],
   "source": [
    "# Load in the glacier data from above (only when data has been saved)\n",
    "export_date = '2024-07-03'\n",
    "input_path = '~/Documents/summer24/Santiago/{}-ct_compiled_output.nc'.format(export_date)\n",
    "ct_ds = xr.open_dataset(input_path)"
   ]
  },
  {
   "cell_type": "code",
   "execution_count": 20,
   "id": "4c9a9314-ba0b-43b4-85c5-57c21722f813",
   "metadata": {
    "scrolled": true
   },
   "outputs": [
    {
     "data": {
      "text/html": [
       "<div><svg style=\"position: absolute; width: 0; height: 0; overflow: hidden\">\n",
       "<defs>\n",
       "<symbol id=\"icon-database\" viewBox=\"0 0 32 32\">\n",
       "<path d=\"M16 0c-8.837 0-16 2.239-16 5v4c0 2.761 7.163 5 16 5s16-2.239 16-5v-4c0-2.761-7.163-5-16-5z\"></path>\n",
       "<path d=\"M16 17c-8.837 0-16-2.239-16-5v6c0 2.761 7.163 5 16 5s16-2.239 16-5v-6c0 2.761-7.163 5-16 5z\"></path>\n",
       "<path d=\"M16 26c-8.837 0-16-2.239-16-5v6c0 2.761 7.163 5 16 5s16-2.239 16-5v-6c0 2.761-7.163 5-16 5z\"></path>\n",
       "</symbol>\n",
       "<symbol id=\"icon-file-text2\" viewBox=\"0 0 32 32\">\n",
       "<path d=\"M28.681 7.159c-0.694-0.947-1.662-2.053-2.724-3.116s-2.169-2.030-3.116-2.724c-1.612-1.182-2.393-1.319-2.841-1.319h-15.5c-1.378 0-2.5 1.121-2.5 2.5v27c0 1.378 1.122 2.5 2.5 2.5h23c1.378 0 2.5-1.122 2.5-2.5v-19.5c0-0.448-0.137-1.23-1.319-2.841zM24.543 5.457c0.959 0.959 1.712 1.825 2.268 2.543h-4.811v-4.811c0.718 0.556 1.584 1.309 2.543 2.268zM28 29.5c0 0.271-0.229 0.5-0.5 0.5h-23c-0.271 0-0.5-0.229-0.5-0.5v-27c0-0.271 0.229-0.5 0.5-0.5 0 0 15.499-0 15.5 0v7c0 0.552 0.448 1 1 1h7v19.5z\"></path>\n",
       "<path d=\"M23 26h-14c-0.552 0-1-0.448-1-1s0.448-1 1-1h14c0.552 0 1 0.448 1 1s-0.448 1-1 1z\"></path>\n",
       "<path d=\"M23 22h-14c-0.552 0-1-0.448-1-1s0.448-1 1-1h14c0.552 0 1 0.448 1 1s-0.448 1-1 1z\"></path>\n",
       "<path d=\"M23 18h-14c-0.552 0-1-0.448-1-1s0.448-1 1-1h14c0.552 0 1 0.448 1 1s-0.448 1-1 1z\"></path>\n",
       "</symbol>\n",
       "</defs>\n",
       "</svg>\n",
       "<style>/* CSS stylesheet for displaying xarray objects in jupyterlab.\n",
       " *\n",
       " */\n",
       "\n",
       ":root {\n",
       "  --xr-font-color0: var(--jp-content-font-color0, rgba(0, 0, 0, 1));\n",
       "  --xr-font-color2: var(--jp-content-font-color2, rgba(0, 0, 0, 0.54));\n",
       "  --xr-font-color3: var(--jp-content-font-color3, rgba(0, 0, 0, 0.38));\n",
       "  --xr-border-color: var(--jp-border-color2, #e0e0e0);\n",
       "  --xr-disabled-color: var(--jp-layout-color3, #bdbdbd);\n",
       "  --xr-background-color: var(--jp-layout-color0, white);\n",
       "  --xr-background-color-row-even: var(--jp-layout-color1, white);\n",
       "  --xr-background-color-row-odd: var(--jp-layout-color2, #eeeeee);\n",
       "}\n",
       "\n",
       "html[theme=dark],\n",
       "body[data-theme=dark],\n",
       "body.vscode-dark {\n",
       "  --xr-font-color0: rgba(255, 255, 255, 1);\n",
       "  --xr-font-color2: rgba(255, 255, 255, 0.54);\n",
       "  --xr-font-color3: rgba(255, 255, 255, 0.38);\n",
       "  --xr-border-color: #1F1F1F;\n",
       "  --xr-disabled-color: #515151;\n",
       "  --xr-background-color: #111111;\n",
       "  --xr-background-color-row-even: #111111;\n",
       "  --xr-background-color-row-odd: #313131;\n",
       "}\n",
       "\n",
       ".xr-wrap {\n",
       "  display: block !important;\n",
       "  min-width: 300px;\n",
       "  max-width: 700px;\n",
       "}\n",
       "\n",
       ".xr-text-repr-fallback {\n",
       "  /* fallback to plain text repr when CSS is not injected (untrusted notebook) */\n",
       "  display: none;\n",
       "}\n",
       "\n",
       ".xr-header {\n",
       "  padding-top: 6px;\n",
       "  padding-bottom: 6px;\n",
       "  margin-bottom: 4px;\n",
       "  border-bottom: solid 1px var(--xr-border-color);\n",
       "}\n",
       "\n",
       ".xr-header > div,\n",
       ".xr-header > ul {\n",
       "  display: inline;\n",
       "  margin-top: 0;\n",
       "  margin-bottom: 0;\n",
       "}\n",
       "\n",
       ".xr-obj-type,\n",
       ".xr-array-name {\n",
       "  margin-left: 2px;\n",
       "  margin-right: 10px;\n",
       "}\n",
       "\n",
       ".xr-obj-type {\n",
       "  color: var(--xr-font-color2);\n",
       "}\n",
       "\n",
       ".xr-sections {\n",
       "  padding-left: 0 !important;\n",
       "  display: grid;\n",
       "  grid-template-columns: 150px auto auto 1fr 20px 20px;\n",
       "}\n",
       "\n",
       ".xr-section-item {\n",
       "  display: contents;\n",
       "}\n",
       "\n",
       ".xr-section-item input {\n",
       "  display: none;\n",
       "}\n",
       "\n",
       ".xr-section-item input + label {\n",
       "  color: var(--xr-disabled-color);\n",
       "}\n",
       "\n",
       ".xr-section-item input:enabled + label {\n",
       "  cursor: pointer;\n",
       "  color: var(--xr-font-color2);\n",
       "}\n",
       "\n",
       ".xr-section-item input:enabled + label:hover {\n",
       "  color: var(--xr-font-color0);\n",
       "}\n",
       "\n",
       ".xr-section-summary {\n",
       "  grid-column: 1;\n",
       "  color: var(--xr-font-color2);\n",
       "  font-weight: 500;\n",
       "}\n",
       "\n",
       ".xr-section-summary > span {\n",
       "  display: inline-block;\n",
       "  padding-left: 0.5em;\n",
       "}\n",
       "\n",
       ".xr-section-summary-in:disabled + label {\n",
       "  color: var(--xr-font-color2);\n",
       "}\n",
       "\n",
       ".xr-section-summary-in + label:before {\n",
       "  display: inline-block;\n",
       "  content: '►';\n",
       "  font-size: 11px;\n",
       "  width: 15px;\n",
       "  text-align: center;\n",
       "}\n",
       "\n",
       ".xr-section-summary-in:disabled + label:before {\n",
       "  color: var(--xr-disabled-color);\n",
       "}\n",
       "\n",
       ".xr-section-summary-in:checked + label:before {\n",
       "  content: '▼';\n",
       "}\n",
       "\n",
       ".xr-section-summary-in:checked + label > span {\n",
       "  display: none;\n",
       "}\n",
       "\n",
       ".xr-section-summary,\n",
       ".xr-section-inline-details {\n",
       "  padding-top: 4px;\n",
       "  padding-bottom: 4px;\n",
       "}\n",
       "\n",
       ".xr-section-inline-details {\n",
       "  grid-column: 2 / -1;\n",
       "}\n",
       "\n",
       ".xr-section-details {\n",
       "  display: none;\n",
       "  grid-column: 1 / -1;\n",
       "  margin-bottom: 5px;\n",
       "}\n",
       "\n",
       ".xr-section-summary-in:checked ~ .xr-section-details {\n",
       "  display: contents;\n",
       "}\n",
       "\n",
       ".xr-array-wrap {\n",
       "  grid-column: 1 / -1;\n",
       "  display: grid;\n",
       "  grid-template-columns: 20px auto;\n",
       "}\n",
       "\n",
       ".xr-array-wrap > label {\n",
       "  grid-column: 1;\n",
       "  vertical-align: top;\n",
       "}\n",
       "\n",
       ".xr-preview {\n",
       "  color: var(--xr-font-color3);\n",
       "}\n",
       "\n",
       ".xr-array-preview,\n",
       ".xr-array-data {\n",
       "  padding: 0 5px !important;\n",
       "  grid-column: 2;\n",
       "}\n",
       "\n",
       ".xr-array-data,\n",
       ".xr-array-in:checked ~ .xr-array-preview {\n",
       "  display: none;\n",
       "}\n",
       "\n",
       ".xr-array-in:checked ~ .xr-array-data,\n",
       ".xr-array-preview {\n",
       "  display: inline-block;\n",
       "}\n",
       "\n",
       ".xr-dim-list {\n",
       "  display: inline-block !important;\n",
       "  list-style: none;\n",
       "  padding: 0 !important;\n",
       "  margin: 0;\n",
       "}\n",
       "\n",
       ".xr-dim-list li {\n",
       "  display: inline-block;\n",
       "  padding: 0;\n",
       "  margin: 0;\n",
       "}\n",
       "\n",
       ".xr-dim-list:before {\n",
       "  content: '(';\n",
       "}\n",
       "\n",
       ".xr-dim-list:after {\n",
       "  content: ')';\n",
       "}\n",
       "\n",
       ".xr-dim-list li:not(:last-child):after {\n",
       "  content: ',';\n",
       "  padding-right: 5px;\n",
       "}\n",
       "\n",
       ".xr-has-index {\n",
       "  font-weight: bold;\n",
       "}\n",
       "\n",
       ".xr-var-list,\n",
       ".xr-var-item {\n",
       "  display: contents;\n",
       "}\n",
       "\n",
       ".xr-var-item > div,\n",
       ".xr-var-item label,\n",
       ".xr-var-item > .xr-var-name span {\n",
       "  background-color: var(--xr-background-color-row-even);\n",
       "  margin-bottom: 0;\n",
       "}\n",
       "\n",
       ".xr-var-item > .xr-var-name:hover span {\n",
       "  padding-right: 5px;\n",
       "}\n",
       "\n",
       ".xr-var-list > li:nth-child(odd) > div,\n",
       ".xr-var-list > li:nth-child(odd) > label,\n",
       ".xr-var-list > li:nth-child(odd) > .xr-var-name span {\n",
       "  background-color: var(--xr-background-color-row-odd);\n",
       "}\n",
       "\n",
       ".xr-var-name {\n",
       "  grid-column: 1;\n",
       "}\n",
       "\n",
       ".xr-var-dims {\n",
       "  grid-column: 2;\n",
       "}\n",
       "\n",
       ".xr-var-dtype {\n",
       "  grid-column: 3;\n",
       "  text-align: right;\n",
       "  color: var(--xr-font-color2);\n",
       "}\n",
       "\n",
       ".xr-var-preview {\n",
       "  grid-column: 4;\n",
       "}\n",
       "\n",
       ".xr-index-preview {\n",
       "  grid-column: 2 / 5;\n",
       "  color: var(--xr-font-color2);\n",
       "}\n",
       "\n",
       ".xr-var-name,\n",
       ".xr-var-dims,\n",
       ".xr-var-dtype,\n",
       ".xr-preview,\n",
       ".xr-attrs dt {\n",
       "  white-space: nowrap;\n",
       "  overflow: hidden;\n",
       "  text-overflow: ellipsis;\n",
       "  padding-right: 10px;\n",
       "}\n",
       "\n",
       ".xr-var-name:hover,\n",
       ".xr-var-dims:hover,\n",
       ".xr-var-dtype:hover,\n",
       ".xr-attrs dt:hover {\n",
       "  overflow: visible;\n",
       "  width: auto;\n",
       "  z-index: 1;\n",
       "}\n",
       "\n",
       ".xr-var-attrs,\n",
       ".xr-var-data,\n",
       ".xr-index-data {\n",
       "  display: none;\n",
       "  background-color: var(--xr-background-color) !important;\n",
       "  padding-bottom: 5px !important;\n",
       "}\n",
       "\n",
       ".xr-var-attrs-in:checked ~ .xr-var-attrs,\n",
       ".xr-var-data-in:checked ~ .xr-var-data,\n",
       ".xr-index-data-in:checked ~ .xr-index-data {\n",
       "  display: block;\n",
       "}\n",
       "\n",
       ".xr-var-data > table {\n",
       "  float: right;\n",
       "}\n",
       "\n",
       ".xr-var-name span,\n",
       ".xr-var-data,\n",
       ".xr-index-name div,\n",
       ".xr-index-data,\n",
       ".xr-attrs {\n",
       "  padding-left: 25px !important;\n",
       "}\n",
       "\n",
       ".xr-attrs,\n",
       ".xr-var-attrs,\n",
       ".xr-var-data,\n",
       ".xr-index-data {\n",
       "  grid-column: 1 / -1;\n",
       "}\n",
       "\n",
       "dl.xr-attrs {\n",
       "  padding: 0;\n",
       "  margin: 0;\n",
       "  display: grid;\n",
       "  grid-template-columns: 125px auto;\n",
       "}\n",
       "\n",
       ".xr-attrs dt,\n",
       ".xr-attrs dd {\n",
       "  padding: 0;\n",
       "  margin: 0;\n",
       "  float: left;\n",
       "  padding-right: 10px;\n",
       "  width: auto;\n",
       "}\n",
       "\n",
       ".xr-attrs dt {\n",
       "  font-weight: normal;\n",
       "  grid-column: 1;\n",
       "}\n",
       "\n",
       ".xr-attrs dt:hover span {\n",
       "  display: inline-block;\n",
       "  background: var(--xr-background-color);\n",
       "  padding-right: 10px;\n",
       "}\n",
       "\n",
       ".xr-attrs dd {\n",
       "  grid-column: 2;\n",
       "  white-space: pre-wrap;\n",
       "  word-break: break-all;\n",
       "}\n",
       "\n",
       ".xr-icon-database,\n",
       ".xr-icon-file-text2,\n",
       ".xr-no-icon {\n",
       "  display: inline-block;\n",
       "  vertical-align: middle;\n",
       "  width: 1em;\n",
       "  height: 1.5em !important;\n",
       "  stroke-width: 0;\n",
       "  stroke: currentColor;\n",
       "  fill: currentColor;\n",
       "}\n",
       "</style><pre class='xr-text-repr-fallback'>&lt;xarray.Dataset&gt; Size: 1MB\n",
       "Dimensions:                       (time: 101, rgi_id: 36, month_2d: 12)\n",
       "Coordinates:\n",
       "  * time                          (time) float64 808B 0.0 1.0 2.0 ... 99.0 100.0\n",
       "  * rgi_id                        (rgi_id) &lt;U14 2kB &#x27;RGI60-17.13838&#x27; ... &#x27;RGI...\n",
       "    hydro_year                    (time) int64 808B ...\n",
       "    hydro_month                   (time) int64 808B ...\n",
       "    calendar_year                 (time) int64 808B ...\n",
       "    calendar_month                (time) int64 808B ...\n",
       "  * month_2d                      (month_2d) int64 96B 1 2 3 4 5 ... 9 10 11 12\n",
       "    calendar_month_2d             (month_2d) int64 96B ...\n",
       "Data variables: (12/24)\n",
       "    volume                        (time, rgi_id) float32 15kB ...\n",
       "    volume_bsl                    (time, rgi_id) float32 15kB ...\n",
       "    volume_bwl                    (time, rgi_id) float32 15kB ...\n",
       "    area                          (time, rgi_id) float32 15kB ...\n",
       "    length                        (time, rgi_id) float32 15kB ...\n",
       "    calving                       (time, rgi_id) float32 15kB ...\n",
       "    ...                            ...\n",
       "    liq_prcp_on_glacier_monthly   (time, month_2d, rgi_id) float32 175kB ...\n",
       "    snowfall_off_glacier_monthly  (time, month_2d, rgi_id) float32 175kB ...\n",
       "    snowfall_on_glacier_monthly   (time, month_2d, rgi_id) float32 175kB ...\n",
       "    water_level                   (rgi_id) float32 144B ...\n",
       "    glen_a                        (rgi_id) float32 144B ...\n",
       "    fs                            (rgi_id) float32 144B ...\n",
       "Attributes:\n",
       "    description:    OGGM model output\n",
       "    oggm_version:   1.6.1\n",
       "    calendar:       365-day no leap\n",
       "    creation_date:  2024-07-03 22:16:31</pre><div class='xr-wrap' style='display:none'><div class='xr-header'><div class='xr-obj-type'>xarray.Dataset</div></div><ul class='xr-sections'><li class='xr-section-item'><input id='section-7242377a-791e-433f-8f11-1ba2d86d99d1' class='xr-section-summary-in' type='checkbox' disabled ><label for='section-7242377a-791e-433f-8f11-1ba2d86d99d1' class='xr-section-summary'  title='Expand/collapse section'>Dimensions:</label><div class='xr-section-inline-details'><ul class='xr-dim-list'><li><span class='xr-has-index'>time</span>: 101</li><li><span class='xr-has-index'>rgi_id</span>: 36</li><li><span class='xr-has-index'>month_2d</span>: 12</li></ul></div><div class='xr-section-details'></div></li><li class='xr-section-item'><input id='section-029dec10-576f-4742-be94-cd1ae17f3f90' class='xr-section-summary-in' type='checkbox'  checked><label for='section-029dec10-576f-4742-be94-cd1ae17f3f90' class='xr-section-summary' >Coordinates: <span>(8)</span></label><div class='xr-section-inline-details'></div><div class='xr-section-details'><ul class='xr-var-list'><li class='xr-var-item'><div class='xr-var-name'><span class='xr-has-index'>time</span></div><div class='xr-var-dims'>(time)</div><div class='xr-var-dtype'>float64</div><div class='xr-var-preview xr-preview'>0.0 1.0 2.0 3.0 ... 98.0 99.0 100.0</div><input id='attrs-87c27800-82a2-456a-b3a9-20776cff6f2b' class='xr-var-attrs-in' type='checkbox' ><label for='attrs-87c27800-82a2-456a-b3a9-20776cff6f2b' title='Show/Hide attributes'><svg class='icon xr-icon-file-text2'><use xlink:href='#icon-file-text2'></use></svg></label><input id='data-c579cf26-70ca-4f2c-a17f-402189bce6c9' class='xr-var-data-in' type='checkbox'><label for='data-c579cf26-70ca-4f2c-a17f-402189bce6c9' title='Show/Hide data repr'><svg class='icon xr-icon-database'><use xlink:href='#icon-database'></use></svg></label><div class='xr-var-attrs'><dl class='xr-attrs'><dt><span>description :</span></dt><dd>Floating year</dd></dl></div><div class='xr-var-data'><pre>array([  0.,   1.,   2.,   3.,   4.,   5.,   6.,   7.,   8.,   9.,  10.,  11.,\n",
       "        12.,  13.,  14.,  15.,  16.,  17.,  18.,  19.,  20.,  21.,  22.,  23.,\n",
       "        24.,  25.,  26.,  27.,  28.,  29.,  30.,  31.,  32.,  33.,  34.,  35.,\n",
       "        36.,  37.,  38.,  39.,  40.,  41.,  42.,  43.,  44.,  45.,  46.,  47.,\n",
       "        48.,  49.,  50.,  51.,  52.,  53.,  54.,  55.,  56.,  57.,  58.,  59.,\n",
       "        60.,  61.,  62.,  63.,  64.,  65.,  66.,  67.,  68.,  69.,  70.,  71.,\n",
       "        72.,  73.,  74.,  75.,  76.,  77.,  78.,  79.,  80.,  81.,  82.,  83.,\n",
       "        84.,  85.,  86.,  87.,  88.,  89.,  90.,  91.,  92.,  93.,  94.,  95.,\n",
       "        96.,  97.,  98.,  99., 100.])</pre></div></li><li class='xr-var-item'><div class='xr-var-name'><span class='xr-has-index'>rgi_id</span></div><div class='xr-var-dims'>(rgi_id)</div><div class='xr-var-dtype'>&lt;U14</div><div class='xr-var-preview xr-preview'>&#x27;RGI60-17.13838&#x27; ... &#x27;RGI60-17.1...</div><input id='attrs-6bffc0ca-611e-4386-9963-6d1d8e758284' class='xr-var-attrs-in' type='checkbox' ><label for='attrs-6bffc0ca-611e-4386-9963-6d1d8e758284' title='Show/Hide attributes'><svg class='icon xr-icon-file-text2'><use xlink:href='#icon-file-text2'></use></svg></label><input id='data-5089b8d4-7826-4a94-bda7-f4c2f495295d' class='xr-var-data-in' type='checkbox'><label for='data-5089b8d4-7826-4a94-bda7-f4c2f495295d' title='Show/Hide data repr'><svg class='icon xr-icon-database'><use xlink:href='#icon-database'></use></svg></label><div class='xr-var-attrs'><dl class='xr-attrs'><dt><span>description :</span></dt><dd>RGI glacier identifier</dd></dl></div><div class='xr-var-data'><pre>array([&#x27;RGI60-17.13838&#x27;, &#x27;RGI60-17.13850&#x27;, &#x27;RGI60-17.13851&#x27;, &#x27;RGI60-17.13853&#x27;,\n",
       "       &#x27;RGI60-17.13857&#x27;, &#x27;RGI60-17.13858&#x27;, &#x27;RGI60-17.13863&#x27;, &#x27;RGI60-17.13865&#x27;,\n",
       "       &#x27;RGI60-17.13867&#x27;, &#x27;RGI60-17.13868&#x27;, &#x27;RGI60-17.13871&#x27;, &#x27;RGI60-17.13874&#x27;,\n",
       "       &#x27;RGI60-17.13885&#x27;, &#x27;RGI60-17.13886&#x27;, &#x27;RGI60-17.13888&#x27;, &#x27;RGI60-17.13890&#x27;,\n",
       "       &#x27;RGI60-17.13904&#x27;, &#x27;RGI60-17.13909&#x27;, &#x27;RGI60-17.13911&#x27;, &#x27;RGI60-17.13912&#x27;,\n",
       "       &#x27;RGI60-17.13930&#x27;, &#x27;RGI60-17.13931&#x27;, &#x27;RGI60-17.13932&#x27;, &#x27;RGI60-17.13933&#x27;,\n",
       "       &#x27;RGI60-17.13934&#x27;, &#x27;RGI60-17.13935&#x27;, &#x27;RGI60-17.13936&#x27;, &#x27;RGI60-17.13939&#x27;,\n",
       "       &#x27;RGI60-17.13951&#x27;, &#x27;RGI60-17.13956&#x27;, &#x27;RGI60-17.13957&#x27;, &#x27;RGI60-17.13961&#x27;,\n",
       "       &#x27;RGI60-17.13963&#x27;, &#x27;RGI60-17.13965&#x27;, &#x27;RGI60-17.13972&#x27;, &#x27;RGI60-17.14015&#x27;],\n",
       "      dtype=&#x27;&lt;U14&#x27;)</pre></div></li><li class='xr-var-item'><div class='xr-var-name'><span>hydro_year</span></div><div class='xr-var-dims'>(time)</div><div class='xr-var-dtype'>int64</div><div class='xr-var-preview xr-preview'>...</div><input id='attrs-5c01a035-31db-4320-ac95-74015f7ef9f3' class='xr-var-attrs-in' type='checkbox' ><label for='attrs-5c01a035-31db-4320-ac95-74015f7ef9f3' title='Show/Hide attributes'><svg class='icon xr-icon-file-text2'><use xlink:href='#icon-file-text2'></use></svg></label><input id='data-10799bd9-bab2-46aa-b4ea-5910629d0994' class='xr-var-data-in' type='checkbox'><label for='data-10799bd9-bab2-46aa-b4ea-5910629d0994' title='Show/Hide data repr'><svg class='icon xr-icon-database'><use xlink:href='#icon-database'></use></svg></label><div class='xr-var-attrs'><dl class='xr-attrs'><dt><span>description :</span></dt><dd>Hydrological year</dd></dl></div><div class='xr-var-data'><pre>[101 values with dtype=int64]</pre></div></li><li class='xr-var-item'><div class='xr-var-name'><span>hydro_month</span></div><div class='xr-var-dims'>(time)</div><div class='xr-var-dtype'>int64</div><div class='xr-var-preview xr-preview'>...</div><input id='attrs-3a4553c2-2192-451e-aed7-4a4c4c430d2f' class='xr-var-attrs-in' type='checkbox' ><label for='attrs-3a4553c2-2192-451e-aed7-4a4c4c430d2f' title='Show/Hide attributes'><svg class='icon xr-icon-file-text2'><use xlink:href='#icon-file-text2'></use></svg></label><input id='data-d2618231-0440-4522-bfae-5e07041c9dc1' class='xr-var-data-in' type='checkbox'><label for='data-d2618231-0440-4522-bfae-5e07041c9dc1' title='Show/Hide data repr'><svg class='icon xr-icon-database'><use xlink:href='#icon-database'></use></svg></label><div class='xr-var-attrs'><dl class='xr-attrs'><dt><span>description :</span></dt><dd>Hydrological month</dd></dl></div><div class='xr-var-data'><pre>[101 values with dtype=int64]</pre></div></li><li class='xr-var-item'><div class='xr-var-name'><span>calendar_year</span></div><div class='xr-var-dims'>(time)</div><div class='xr-var-dtype'>int64</div><div class='xr-var-preview xr-preview'>...</div><input id='attrs-f4b7abee-c3ce-4e52-a039-488e41ddda86' class='xr-var-attrs-in' type='checkbox' ><label for='attrs-f4b7abee-c3ce-4e52-a039-488e41ddda86' title='Show/Hide attributes'><svg class='icon xr-icon-file-text2'><use xlink:href='#icon-file-text2'></use></svg></label><input id='data-57fa5bb1-4f9e-495c-b4d7-8fd516dadc79' class='xr-var-data-in' type='checkbox'><label for='data-57fa5bb1-4f9e-495c-b4d7-8fd516dadc79' title='Show/Hide data repr'><svg class='icon xr-icon-database'><use xlink:href='#icon-database'></use></svg></label><div class='xr-var-attrs'><dl class='xr-attrs'><dt><span>description :</span></dt><dd>Calendar year</dd></dl></div><div class='xr-var-data'><pre>[101 values with dtype=int64]</pre></div></li><li class='xr-var-item'><div class='xr-var-name'><span>calendar_month</span></div><div class='xr-var-dims'>(time)</div><div class='xr-var-dtype'>int64</div><div class='xr-var-preview xr-preview'>...</div><input id='attrs-6cff4a73-66d2-42a4-93bf-b396f4cf8d68' class='xr-var-attrs-in' type='checkbox' ><label for='attrs-6cff4a73-66d2-42a4-93bf-b396f4cf8d68' title='Show/Hide attributes'><svg class='icon xr-icon-file-text2'><use xlink:href='#icon-file-text2'></use></svg></label><input id='data-f7916d05-b818-4727-8fca-fafb4959f544' class='xr-var-data-in' type='checkbox'><label for='data-f7916d05-b818-4727-8fca-fafb4959f544' title='Show/Hide data repr'><svg class='icon xr-icon-database'><use xlink:href='#icon-database'></use></svg></label><div class='xr-var-attrs'><dl class='xr-attrs'><dt><span>description :</span></dt><dd>Calendar month</dd></dl></div><div class='xr-var-data'><pre>[101 values with dtype=int64]</pre></div></li><li class='xr-var-item'><div class='xr-var-name'><span class='xr-has-index'>month_2d</span></div><div class='xr-var-dims'>(month_2d)</div><div class='xr-var-dtype'>int64</div><div class='xr-var-preview xr-preview'>1 2 3 4 5 6 7 8 9 10 11 12</div><input id='attrs-9cb49dfd-b04c-41da-93c7-444fea3b57b0' class='xr-var-attrs-in' type='checkbox' disabled><label for='attrs-9cb49dfd-b04c-41da-93c7-444fea3b57b0' title='Show/Hide attributes'><svg class='icon xr-icon-file-text2'><use xlink:href='#icon-file-text2'></use></svg></label><input id='data-76820717-2f2c-4751-83b5-9e7bf7cdc7a6' class='xr-var-data-in' type='checkbox'><label for='data-76820717-2f2c-4751-83b5-9e7bf7cdc7a6' title='Show/Hide data repr'><svg class='icon xr-icon-database'><use xlink:href='#icon-database'></use></svg></label><div class='xr-var-attrs'><dl class='xr-attrs'></dl></div><div class='xr-var-data'><pre>array([ 1,  2,  3,  4,  5,  6,  7,  8,  9, 10, 11, 12])</pre></div></li><li class='xr-var-item'><div class='xr-var-name'><span>calendar_month_2d</span></div><div class='xr-var-dims'>(month_2d)</div><div class='xr-var-dtype'>int64</div><div class='xr-var-preview xr-preview'>...</div><input id='attrs-6b0b77f3-117f-43b8-87bc-52324e0c4d1f' class='xr-var-attrs-in' type='checkbox' disabled><label for='attrs-6b0b77f3-117f-43b8-87bc-52324e0c4d1f' title='Show/Hide attributes'><svg class='icon xr-icon-file-text2'><use xlink:href='#icon-file-text2'></use></svg></label><input id='data-35988ac2-798a-4bc3-bdd4-591b70f145eb' class='xr-var-data-in' type='checkbox'><label for='data-35988ac2-798a-4bc3-bdd4-591b70f145eb' title='Show/Hide data repr'><svg class='icon xr-icon-database'><use xlink:href='#icon-database'></use></svg></label><div class='xr-var-attrs'><dl class='xr-attrs'></dl></div><div class='xr-var-data'><pre>[12 values with dtype=int64]</pre></div></li></ul></div></li><li class='xr-section-item'><input id='section-b4f7ef3b-86ed-406b-8d9d-a30d0f102352' class='xr-section-summary-in' type='checkbox'  ><label for='section-b4f7ef3b-86ed-406b-8d9d-a30d0f102352' class='xr-section-summary' >Data variables: <span>(24)</span></label><div class='xr-section-inline-details'></div><div class='xr-section-details'><ul class='xr-var-list'><li class='xr-var-item'><div class='xr-var-name'><span>volume</span></div><div class='xr-var-dims'>(time, rgi_id)</div><div class='xr-var-dtype'>float32</div><div class='xr-var-preview xr-preview'>...</div><input id='attrs-7ad26e56-4370-4419-9ce4-fcb9a9138538' class='xr-var-attrs-in' type='checkbox' ><label for='attrs-7ad26e56-4370-4419-9ce4-fcb9a9138538' title='Show/Hide attributes'><svg class='icon xr-icon-file-text2'><use xlink:href='#icon-file-text2'></use></svg></label><input id='data-a40c3922-2451-426a-8014-cfa34b1b5c7b' class='xr-var-data-in' type='checkbox'><label for='data-a40c3922-2451-426a-8014-cfa34b1b5c7b' title='Show/Hide data repr'><svg class='icon xr-icon-database'><use xlink:href='#icon-database'></use></svg></label><div class='xr-var-attrs'><dl class='xr-attrs'><dt><span>description :</span></dt><dd>Total glacier volume</dd><dt><span>unit :</span></dt><dd>m 3</dd></dl></div><div class='xr-var-data'><pre>[3636 values with dtype=float32]</pre></div></li><li class='xr-var-item'><div class='xr-var-name'><span>volume_bsl</span></div><div class='xr-var-dims'>(time, rgi_id)</div><div class='xr-var-dtype'>float32</div><div class='xr-var-preview xr-preview'>...</div><input id='attrs-23975634-592d-4eb2-bcab-09f6e4567348' class='xr-var-attrs-in' type='checkbox' ><label for='attrs-23975634-592d-4eb2-bcab-09f6e4567348' title='Show/Hide attributes'><svg class='icon xr-icon-file-text2'><use xlink:href='#icon-file-text2'></use></svg></label><input id='data-19b12c5b-43fb-45bf-a595-951d6289344b' class='xr-var-data-in' type='checkbox'><label for='data-19b12c5b-43fb-45bf-a595-951d6289344b' title='Show/Hide data repr'><svg class='icon xr-icon-database'><use xlink:href='#icon-database'></use></svg></label><div class='xr-var-attrs'><dl class='xr-attrs'><dt><span>description :</span></dt><dd>Glacier volume below sea-level</dd><dt><span>unit :</span></dt><dd>m 3</dd></dl></div><div class='xr-var-data'><pre>[3636 values with dtype=float32]</pre></div></li><li class='xr-var-item'><div class='xr-var-name'><span>volume_bwl</span></div><div class='xr-var-dims'>(time, rgi_id)</div><div class='xr-var-dtype'>float32</div><div class='xr-var-preview xr-preview'>...</div><input id='attrs-770144d1-4396-4ab6-8152-b0eb683a88b2' class='xr-var-attrs-in' type='checkbox' ><label for='attrs-770144d1-4396-4ab6-8152-b0eb683a88b2' title='Show/Hide attributes'><svg class='icon xr-icon-file-text2'><use xlink:href='#icon-file-text2'></use></svg></label><input id='data-cb8cf4fc-fda3-4e13-9927-fb1da216fef8' class='xr-var-data-in' type='checkbox'><label for='data-cb8cf4fc-fda3-4e13-9927-fb1da216fef8' title='Show/Hide data repr'><svg class='icon xr-icon-database'><use xlink:href='#icon-database'></use></svg></label><div class='xr-var-attrs'><dl class='xr-attrs'><dt><span>description :</span></dt><dd>Glacier volume below water-level</dd><dt><span>unit :</span></dt><dd>m 3</dd></dl></div><div class='xr-var-data'><pre>[3636 values with dtype=float32]</pre></div></li><li class='xr-var-item'><div class='xr-var-name'><span>area</span></div><div class='xr-var-dims'>(time, rgi_id)</div><div class='xr-var-dtype'>float32</div><div class='xr-var-preview xr-preview'>...</div><input id='attrs-0d5f2346-4547-46a6-8dea-8a74596183e4' class='xr-var-attrs-in' type='checkbox' ><label for='attrs-0d5f2346-4547-46a6-8dea-8a74596183e4' title='Show/Hide attributes'><svg class='icon xr-icon-file-text2'><use xlink:href='#icon-file-text2'></use></svg></label><input id='data-dddb7e37-51cf-4b47-a2b3-e1856063aa32' class='xr-var-data-in' type='checkbox'><label for='data-dddb7e37-51cf-4b47-a2b3-e1856063aa32' title='Show/Hide data repr'><svg class='icon xr-icon-database'><use xlink:href='#icon-database'></use></svg></label><div class='xr-var-attrs'><dl class='xr-attrs'><dt><span>description :</span></dt><dd>Total glacier area</dd><dt><span>unit :</span></dt><dd>m 2</dd></dl></div><div class='xr-var-data'><pre>[3636 values with dtype=float32]</pre></div></li><li class='xr-var-item'><div class='xr-var-name'><span>length</span></div><div class='xr-var-dims'>(time, rgi_id)</div><div class='xr-var-dtype'>float32</div><div class='xr-var-preview xr-preview'>...</div><input id='attrs-477c2f30-210c-4fc4-9e98-ca09c789aab3' class='xr-var-attrs-in' type='checkbox' ><label for='attrs-477c2f30-210c-4fc4-9e98-ca09c789aab3' title='Show/Hide attributes'><svg class='icon xr-icon-file-text2'><use xlink:href='#icon-file-text2'></use></svg></label><input id='data-73fca257-7916-4583-b504-996e38b58233' class='xr-var-data-in' type='checkbox'><label for='data-73fca257-7916-4583-b504-996e38b58233' title='Show/Hide data repr'><svg class='icon xr-icon-database'><use xlink:href='#icon-database'></use></svg></label><div class='xr-var-attrs'><dl class='xr-attrs'><dt><span>description :</span></dt><dd>Glacier length</dd><dt><span>unit :</span></dt><dd>m</dd></dl></div><div class='xr-var-data'><pre>[3636 values with dtype=float32]</pre></div></li><li class='xr-var-item'><div class='xr-var-name'><span>calving</span></div><div class='xr-var-dims'>(time, rgi_id)</div><div class='xr-var-dtype'>float32</div><div class='xr-var-preview xr-preview'>...</div><input id='attrs-76bc1405-9a8d-4020-b255-6547cc0770b6' class='xr-var-attrs-in' type='checkbox' ><label for='attrs-76bc1405-9a8d-4020-b255-6547cc0770b6' title='Show/Hide attributes'><svg class='icon xr-icon-file-text2'><use xlink:href='#icon-file-text2'></use></svg></label><input id='data-3e866dc2-ef9a-4caf-b434-365a0fda1657' class='xr-var-data-in' type='checkbox'><label for='data-3e866dc2-ef9a-4caf-b434-365a0fda1657' title='Show/Hide data repr'><svg class='icon xr-icon-database'><use xlink:href='#icon-database'></use></svg></label><div class='xr-var-attrs'><dl class='xr-attrs'><dt><span>description :</span></dt><dd>Total accumulated calving flux</dd><dt><span>unit :</span></dt><dd>m 3</dd></dl></div><div class='xr-var-data'><pre>[3636 values with dtype=float32]</pre></div></li><li class='xr-var-item'><div class='xr-var-name'><span>calving_rate</span></div><div class='xr-var-dims'>(time, rgi_id)</div><div class='xr-var-dtype'>float32</div><div class='xr-var-preview xr-preview'>...</div><input id='attrs-04dab35d-c9be-48fd-86db-cacb8c0dfca3' class='xr-var-attrs-in' type='checkbox' ><label for='attrs-04dab35d-c9be-48fd-86db-cacb8c0dfca3' title='Show/Hide attributes'><svg class='icon xr-icon-file-text2'><use xlink:href='#icon-file-text2'></use></svg></label><input id='data-9ee393da-1a36-4580-b84a-21ee2ce8ef9b' class='xr-var-data-in' type='checkbox'><label for='data-9ee393da-1a36-4580-b84a-21ee2ce8ef9b' title='Show/Hide data repr'><svg class='icon xr-icon-database'><use xlink:href='#icon-database'></use></svg></label><div class='xr-var-attrs'><dl class='xr-attrs'><dt><span>description :</span></dt><dd>Calving rate</dd><dt><span>unit :</span></dt><dd>m yr-1</dd></dl></div><div class='xr-var-data'><pre>[3636 values with dtype=float32]</pre></div></li><li class='xr-var-item'><div class='xr-var-name'><span>off_area</span></div><div class='xr-var-dims'>(time, rgi_id)</div><div class='xr-var-dtype'>float32</div><div class='xr-var-preview xr-preview'>...</div><input id='attrs-03bf03c0-b063-4187-abc6-44c986be7a2d' class='xr-var-attrs-in' type='checkbox' ><label for='attrs-03bf03c0-b063-4187-abc6-44c986be7a2d' title='Show/Hide attributes'><svg class='icon xr-icon-file-text2'><use xlink:href='#icon-file-text2'></use></svg></label><input id='data-2798009d-e138-4348-a2da-049c2c3b775c' class='xr-var-data-in' type='checkbox'><label for='data-2798009d-e138-4348-a2da-049c2c3b775c' title='Show/Hide data repr'><svg class='icon xr-icon-database'><use xlink:href='#icon-database'></use></svg></label><div class='xr-var-attrs'><dl class='xr-attrs'><dt><span>description :</span></dt><dd>Off-glacier area</dd><dt><span>unit :</span></dt><dd>m 2</dd></dl></div><div class='xr-var-data'><pre>[3636 values with dtype=float32]</pre></div></li><li class='xr-var-item'><div class='xr-var-name'><span>on_area</span></div><div class='xr-var-dims'>(time, rgi_id)</div><div class='xr-var-dtype'>float32</div><div class='xr-var-preview xr-preview'>...</div><input id='attrs-df83f23e-95dc-47b1-951b-a956965df0bc' class='xr-var-attrs-in' type='checkbox' ><label for='attrs-df83f23e-95dc-47b1-951b-a956965df0bc' title='Show/Hide attributes'><svg class='icon xr-icon-file-text2'><use xlink:href='#icon-file-text2'></use></svg></label><input id='data-a174d023-2fdc-4493-a1e8-ec19861d20c8' class='xr-var-data-in' type='checkbox'><label for='data-a174d023-2fdc-4493-a1e8-ec19861d20c8' title='Show/Hide data repr'><svg class='icon xr-icon-database'><use xlink:href='#icon-database'></use></svg></label><div class='xr-var-attrs'><dl class='xr-attrs'><dt><span>unit :</span></dt><dd>m 2</dd><dt><span>description :</span></dt><dd>On-glacier area</dd></dl></div><div class='xr-var-data'><pre>[3636 values with dtype=float32]</pre></div></li><li class='xr-var-item'><div class='xr-var-name'><span>melt_off_glacier</span></div><div class='xr-var-dims'>(time, rgi_id)</div><div class='xr-var-dtype'>float32</div><div class='xr-var-preview xr-preview'>...</div><input id='attrs-3ab1448a-31c6-4857-8f67-0711a4540d7e' class='xr-var-attrs-in' type='checkbox' ><label for='attrs-3ab1448a-31c6-4857-8f67-0711a4540d7e' title='Show/Hide attributes'><svg class='icon xr-icon-file-text2'><use xlink:href='#icon-file-text2'></use></svg></label><input id='data-f932e43a-8b57-4e47-99ed-8edf1b8a6fbb' class='xr-var-data-in' type='checkbox'><label for='data-f932e43a-8b57-4e47-99ed-8edf1b8a6fbb' title='Show/Hide data repr'><svg class='icon xr-icon-database'><use xlink:href='#icon-database'></use></svg></label><div class='xr-var-attrs'><dl class='xr-attrs'><dt><span>description :</span></dt><dd>Off-glacier melt</dd><dt><span>unit :</span></dt><dd>kg yr-1</dd></dl></div><div class='xr-var-data'><pre>[3636 values with dtype=float32]</pre></div></li><li class='xr-var-item'><div class='xr-var-name'><span>melt_on_glacier</span></div><div class='xr-var-dims'>(time, rgi_id)</div><div class='xr-var-dtype'>float32</div><div class='xr-var-preview xr-preview'>...</div><input id='attrs-94797b6f-b3d2-4001-ac29-c339367bf924' class='xr-var-attrs-in' type='checkbox' ><label for='attrs-94797b6f-b3d2-4001-ac29-c339367bf924' title='Show/Hide attributes'><svg class='icon xr-icon-file-text2'><use xlink:href='#icon-file-text2'></use></svg></label><input id='data-67cd7de5-632a-4ee9-8e5b-2b12e41eb43b' class='xr-var-data-in' type='checkbox'><label for='data-67cd7de5-632a-4ee9-8e5b-2b12e41eb43b' title='Show/Hide data repr'><svg class='icon xr-icon-database'><use xlink:href='#icon-database'></use></svg></label><div class='xr-var-attrs'><dl class='xr-attrs'><dt><span>description :</span></dt><dd>On-glacier melt</dd><dt><span>unit :</span></dt><dd>kg yr-1</dd></dl></div><div class='xr-var-data'><pre>[3636 values with dtype=float32]</pre></div></li><li class='xr-var-item'><div class='xr-var-name'><span>liq_prcp_off_glacier</span></div><div class='xr-var-dims'>(time, rgi_id)</div><div class='xr-var-dtype'>float32</div><div class='xr-var-preview xr-preview'>...</div><input id='attrs-5404cbd7-b6d7-4689-923b-c85420486fb6' class='xr-var-attrs-in' type='checkbox' ><label for='attrs-5404cbd7-b6d7-4689-923b-c85420486fb6' title='Show/Hide attributes'><svg class='icon xr-icon-file-text2'><use xlink:href='#icon-file-text2'></use></svg></label><input id='data-d4116a92-c72a-408b-80ff-46ffc9dffefc' class='xr-var-data-in' type='checkbox'><label for='data-d4116a92-c72a-408b-80ff-46ffc9dffefc' title='Show/Hide data repr'><svg class='icon xr-icon-database'><use xlink:href='#icon-database'></use></svg></label><div class='xr-var-attrs'><dl class='xr-attrs'><dt><span>description :</span></dt><dd>Off-glacier liquid precipitation</dd><dt><span>unit :</span></dt><dd>kg yr-1</dd></dl></div><div class='xr-var-data'><pre>[3636 values with dtype=float32]</pre></div></li><li class='xr-var-item'><div class='xr-var-name'><span>liq_prcp_on_glacier</span></div><div class='xr-var-dims'>(time, rgi_id)</div><div class='xr-var-dtype'>float32</div><div class='xr-var-preview xr-preview'>...</div><input id='attrs-b0647825-1a05-40cd-ae9a-50d2620c3b0c' class='xr-var-attrs-in' type='checkbox' ><label for='attrs-b0647825-1a05-40cd-ae9a-50d2620c3b0c' title='Show/Hide attributes'><svg class='icon xr-icon-file-text2'><use xlink:href='#icon-file-text2'></use></svg></label><input id='data-b419200b-dbc2-427e-b11f-286b450a6fff' class='xr-var-data-in' type='checkbox'><label for='data-b419200b-dbc2-427e-b11f-286b450a6fff' title='Show/Hide data repr'><svg class='icon xr-icon-database'><use xlink:href='#icon-database'></use></svg></label><div class='xr-var-attrs'><dl class='xr-attrs'><dt><span>description :</span></dt><dd>On-glacier liquid precipitation</dd><dt><span>unit :</span></dt><dd>kg yr-1</dd></dl></div><div class='xr-var-data'><pre>[3636 values with dtype=float32]</pre></div></li><li class='xr-var-item'><div class='xr-var-name'><span>snowfall_off_glacier</span></div><div class='xr-var-dims'>(time, rgi_id)</div><div class='xr-var-dtype'>float32</div><div class='xr-var-preview xr-preview'>...</div><input id='attrs-e34dca2a-5a75-4639-9113-95ad4ed90bb0' class='xr-var-attrs-in' type='checkbox' ><label for='attrs-e34dca2a-5a75-4639-9113-95ad4ed90bb0' title='Show/Hide attributes'><svg class='icon xr-icon-file-text2'><use xlink:href='#icon-file-text2'></use></svg></label><input id='data-58650aee-6658-4da8-868c-d1ee7242c495' class='xr-var-data-in' type='checkbox'><label for='data-58650aee-6658-4da8-868c-d1ee7242c495' title='Show/Hide data repr'><svg class='icon xr-icon-database'><use xlink:href='#icon-database'></use></svg></label><div class='xr-var-attrs'><dl class='xr-attrs'><dt><span>description :</span></dt><dd>Off-glacier solid precipitation</dd><dt><span>unit :</span></dt><dd>kg yr-1</dd></dl></div><div class='xr-var-data'><pre>[3636 values with dtype=float32]</pre></div></li><li class='xr-var-item'><div class='xr-var-name'><span>snowfall_on_glacier</span></div><div class='xr-var-dims'>(time, rgi_id)</div><div class='xr-var-dtype'>float32</div><div class='xr-var-preview xr-preview'>...</div><input id='attrs-811006bd-6631-4a04-a12e-5fb715f5e932' class='xr-var-attrs-in' type='checkbox' ><label for='attrs-811006bd-6631-4a04-a12e-5fb715f5e932' title='Show/Hide attributes'><svg class='icon xr-icon-file-text2'><use xlink:href='#icon-file-text2'></use></svg></label><input id='data-f8bc34e8-9c29-4e56-897b-f9b5f63e3949' class='xr-var-data-in' type='checkbox'><label for='data-f8bc34e8-9c29-4e56-897b-f9b5f63e3949' title='Show/Hide data repr'><svg class='icon xr-icon-database'><use xlink:href='#icon-database'></use></svg></label><div class='xr-var-attrs'><dl class='xr-attrs'><dt><span>description :</span></dt><dd>On-glacier solid precipitation</dd><dt><span>unit :</span></dt><dd>kg yr-1</dd></dl></div><div class='xr-var-data'><pre>[3636 values with dtype=float32]</pre></div></li><li class='xr-var-item'><div class='xr-var-name'><span>melt_off_glacier_monthly</span></div><div class='xr-var-dims'>(time, month_2d, rgi_id)</div><div class='xr-var-dtype'>float32</div><div class='xr-var-preview xr-preview'>...</div><input id='attrs-883372e5-e919-4a82-bbcc-d3beadc70d31' class='xr-var-attrs-in' type='checkbox' disabled><label for='attrs-883372e5-e919-4a82-bbcc-d3beadc70d31' title='Show/Hide attributes'><svg class='icon xr-icon-file-text2'><use xlink:href='#icon-file-text2'></use></svg></label><input id='data-391931ae-f193-4d07-8776-dd43afb0ceeb' class='xr-var-data-in' type='checkbox'><label for='data-391931ae-f193-4d07-8776-dd43afb0ceeb' title='Show/Hide data repr'><svg class='icon xr-icon-database'><use xlink:href='#icon-database'></use></svg></label><div class='xr-var-attrs'><dl class='xr-attrs'></dl></div><div class='xr-var-data'><pre>[43632 values with dtype=float32]</pre></div></li><li class='xr-var-item'><div class='xr-var-name'><span>melt_on_glacier_monthly</span></div><div class='xr-var-dims'>(time, month_2d, rgi_id)</div><div class='xr-var-dtype'>float32</div><div class='xr-var-preview xr-preview'>...</div><input id='attrs-45276c68-9366-4b12-a337-8bfb1edd80f3' class='xr-var-attrs-in' type='checkbox' disabled><label for='attrs-45276c68-9366-4b12-a337-8bfb1edd80f3' title='Show/Hide attributes'><svg class='icon xr-icon-file-text2'><use xlink:href='#icon-file-text2'></use></svg></label><input id='data-547af890-9a4d-434b-b981-7f939b1c3010' class='xr-var-data-in' type='checkbox'><label for='data-547af890-9a4d-434b-b981-7f939b1c3010' title='Show/Hide data repr'><svg class='icon xr-icon-database'><use xlink:href='#icon-database'></use></svg></label><div class='xr-var-attrs'><dl class='xr-attrs'></dl></div><div class='xr-var-data'><pre>[43632 values with dtype=float32]</pre></div></li><li class='xr-var-item'><div class='xr-var-name'><span>liq_prcp_off_glacier_monthly</span></div><div class='xr-var-dims'>(time, month_2d, rgi_id)</div><div class='xr-var-dtype'>float32</div><div class='xr-var-preview xr-preview'>...</div><input id='attrs-2880fd63-7763-43cb-9b2c-7fbce30ee252' class='xr-var-attrs-in' type='checkbox' disabled><label for='attrs-2880fd63-7763-43cb-9b2c-7fbce30ee252' title='Show/Hide attributes'><svg class='icon xr-icon-file-text2'><use xlink:href='#icon-file-text2'></use></svg></label><input id='data-0a60ba2a-f235-4431-894f-70b0c3ec4610' class='xr-var-data-in' type='checkbox'><label for='data-0a60ba2a-f235-4431-894f-70b0c3ec4610' title='Show/Hide data repr'><svg class='icon xr-icon-database'><use xlink:href='#icon-database'></use></svg></label><div class='xr-var-attrs'><dl class='xr-attrs'></dl></div><div class='xr-var-data'><pre>[43632 values with dtype=float32]</pre></div></li><li class='xr-var-item'><div class='xr-var-name'><span>liq_prcp_on_glacier_monthly</span></div><div class='xr-var-dims'>(time, month_2d, rgi_id)</div><div class='xr-var-dtype'>float32</div><div class='xr-var-preview xr-preview'>...</div><input id='attrs-7c32aa32-1f83-4129-bd80-b2b943d78a4a' class='xr-var-attrs-in' type='checkbox' disabled><label for='attrs-7c32aa32-1f83-4129-bd80-b2b943d78a4a' title='Show/Hide attributes'><svg class='icon xr-icon-file-text2'><use xlink:href='#icon-file-text2'></use></svg></label><input id='data-567f9f40-4ed1-431c-9746-30a9ee62a5c1' class='xr-var-data-in' type='checkbox'><label for='data-567f9f40-4ed1-431c-9746-30a9ee62a5c1' title='Show/Hide data repr'><svg class='icon xr-icon-database'><use xlink:href='#icon-database'></use></svg></label><div class='xr-var-attrs'><dl class='xr-attrs'></dl></div><div class='xr-var-data'><pre>[43632 values with dtype=float32]</pre></div></li><li class='xr-var-item'><div class='xr-var-name'><span>snowfall_off_glacier_monthly</span></div><div class='xr-var-dims'>(time, month_2d, rgi_id)</div><div class='xr-var-dtype'>float32</div><div class='xr-var-preview xr-preview'>...</div><input id='attrs-b7a12d98-dd75-4ee8-a297-b478511256ab' class='xr-var-attrs-in' type='checkbox' disabled><label for='attrs-b7a12d98-dd75-4ee8-a297-b478511256ab' title='Show/Hide attributes'><svg class='icon xr-icon-file-text2'><use xlink:href='#icon-file-text2'></use></svg></label><input id='data-c28238bd-7142-441e-a144-0db9a48d057a' class='xr-var-data-in' type='checkbox'><label for='data-c28238bd-7142-441e-a144-0db9a48d057a' title='Show/Hide data repr'><svg class='icon xr-icon-database'><use xlink:href='#icon-database'></use></svg></label><div class='xr-var-attrs'><dl class='xr-attrs'></dl></div><div class='xr-var-data'><pre>[43632 values with dtype=float32]</pre></div></li><li class='xr-var-item'><div class='xr-var-name'><span>snowfall_on_glacier_monthly</span></div><div class='xr-var-dims'>(time, month_2d, rgi_id)</div><div class='xr-var-dtype'>float32</div><div class='xr-var-preview xr-preview'>...</div><input id='attrs-eeef4efd-2328-4964-af12-482aa1042017' class='xr-var-attrs-in' type='checkbox' disabled><label for='attrs-eeef4efd-2328-4964-af12-482aa1042017' title='Show/Hide attributes'><svg class='icon xr-icon-file-text2'><use xlink:href='#icon-file-text2'></use></svg></label><input id='data-1da73e57-2dea-4141-8abe-ae3ff4f772cf' class='xr-var-data-in' type='checkbox'><label for='data-1da73e57-2dea-4141-8abe-ae3ff4f772cf' title='Show/Hide data repr'><svg class='icon xr-icon-database'><use xlink:href='#icon-database'></use></svg></label><div class='xr-var-attrs'><dl class='xr-attrs'></dl></div><div class='xr-var-data'><pre>[43632 values with dtype=float32]</pre></div></li><li class='xr-var-item'><div class='xr-var-name'><span>water_level</span></div><div class='xr-var-dims'>(rgi_id)</div><div class='xr-var-dtype'>float32</div><div class='xr-var-preview xr-preview'>...</div><input id='attrs-b93b4ae7-2499-4e45-8385-c2541bf4eab0' class='xr-var-attrs-in' type='checkbox' ><label for='attrs-b93b4ae7-2499-4e45-8385-c2541bf4eab0' title='Show/Hide attributes'><svg class='icon xr-icon-file-text2'><use xlink:href='#icon-file-text2'></use></svg></label><input id='data-bb47cdf4-b4e3-42cd-b275-d148671ab7b4' class='xr-var-data-in' type='checkbox'><label for='data-bb47cdf4-b4e3-42cd-b275-d148671ab7b4' title='Show/Hide data repr'><svg class='icon xr-icon-database'><use xlink:href='#icon-database'></use></svg></label><div class='xr-var-attrs'><dl class='xr-attrs'><dt><span>description :</span></dt><dd>Calving water level</dd><dt><span>units :</span></dt><dd>m</dd></dl></div><div class='xr-var-data'><pre>[36 values with dtype=float32]</pre></div></li><li class='xr-var-item'><div class='xr-var-name'><span>glen_a</span></div><div class='xr-var-dims'>(rgi_id)</div><div class='xr-var-dtype'>float32</div><div class='xr-var-preview xr-preview'>...</div><input id='attrs-4622370f-a0fe-41f9-ada3-0e3450aaca8e' class='xr-var-attrs-in' type='checkbox' ><label for='attrs-4622370f-a0fe-41f9-ada3-0e3450aaca8e' title='Show/Hide attributes'><svg class='icon xr-icon-file-text2'><use xlink:href='#icon-file-text2'></use></svg></label><input id='data-9db0127c-43a2-47b1-8bf4-883122cb1bb5' class='xr-var-data-in' type='checkbox'><label for='data-9db0127c-43a2-47b1-8bf4-883122cb1bb5' title='Show/Hide data repr'><svg class='icon xr-icon-database'><use xlink:href='#icon-database'></use></svg></label><div class='xr-var-attrs'><dl class='xr-attrs'><dt><span>description :</span></dt><dd>Simulation Glen A</dd><dt><span>units :</span></dt><dd></dd></dl></div><div class='xr-var-data'><pre>[36 values with dtype=float32]</pre></div></li><li class='xr-var-item'><div class='xr-var-name'><span>fs</span></div><div class='xr-var-dims'>(rgi_id)</div><div class='xr-var-dtype'>float32</div><div class='xr-var-preview xr-preview'>...</div><input id='attrs-ea0706b3-3803-4bb6-985f-008693e6f417' class='xr-var-attrs-in' type='checkbox' ><label for='attrs-ea0706b3-3803-4bb6-985f-008693e6f417' title='Show/Hide attributes'><svg class='icon xr-icon-file-text2'><use xlink:href='#icon-file-text2'></use></svg></label><input id='data-67091916-27c2-4205-8c0f-df3de4d23233' class='xr-var-data-in' type='checkbox'><label for='data-67091916-27c2-4205-8c0f-df3de4d23233' title='Show/Hide data repr'><svg class='icon xr-icon-database'><use xlink:href='#icon-database'></use></svg></label><div class='xr-var-attrs'><dl class='xr-attrs'><dt><span>description :</span></dt><dd>Simulation sliding parameter</dd><dt><span>units :</span></dt><dd></dd></dl></div><div class='xr-var-data'><pre>[36 values with dtype=float32]</pre></div></li></ul></div></li><li class='xr-section-item'><input id='section-e78a67c9-c418-49a5-a806-1d60812ae36e' class='xr-section-summary-in' type='checkbox'  ><label for='section-e78a67c9-c418-49a5-a806-1d60812ae36e' class='xr-section-summary' >Indexes: <span>(3)</span></label><div class='xr-section-inline-details'></div><div class='xr-section-details'><ul class='xr-var-list'><li class='xr-var-item'><div class='xr-index-name'><div>time</div></div><div class='xr-index-preview'>PandasIndex</div><div></div><input id='index-1e7ac48c-c44c-419d-a776-0cf464ca9e98' class='xr-index-data-in' type='checkbox'/><label for='index-1e7ac48c-c44c-419d-a776-0cf464ca9e98' title='Show/Hide index repr'><svg class='icon xr-icon-database'><use xlink:href='#icon-database'></use></svg></label><div class='xr-index-data'><pre>PandasIndex(Index([  0.0,   1.0,   2.0,   3.0,   4.0,   5.0,   6.0,   7.0,   8.0,   9.0,\n",
       "       ...\n",
       "        91.0,  92.0,  93.0,  94.0,  95.0,  96.0,  97.0,  98.0,  99.0, 100.0],\n",
       "      dtype=&#x27;float64&#x27;, name=&#x27;time&#x27;, length=101))</pre></div></li><li class='xr-var-item'><div class='xr-index-name'><div>rgi_id</div></div><div class='xr-index-preview'>PandasIndex</div><div></div><input id='index-2af172c1-0560-4465-aba2-84c7b1921f57' class='xr-index-data-in' type='checkbox'/><label for='index-2af172c1-0560-4465-aba2-84c7b1921f57' title='Show/Hide index repr'><svg class='icon xr-icon-database'><use xlink:href='#icon-database'></use></svg></label><div class='xr-index-data'><pre>PandasIndex(Index([&#x27;RGI60-17.13838&#x27;, &#x27;RGI60-17.13850&#x27;, &#x27;RGI60-17.13851&#x27;, &#x27;RGI60-17.13853&#x27;,\n",
       "       &#x27;RGI60-17.13857&#x27;, &#x27;RGI60-17.13858&#x27;, &#x27;RGI60-17.13863&#x27;, &#x27;RGI60-17.13865&#x27;,\n",
       "       &#x27;RGI60-17.13867&#x27;, &#x27;RGI60-17.13868&#x27;, &#x27;RGI60-17.13871&#x27;, &#x27;RGI60-17.13874&#x27;,\n",
       "       &#x27;RGI60-17.13885&#x27;, &#x27;RGI60-17.13886&#x27;, &#x27;RGI60-17.13888&#x27;, &#x27;RGI60-17.13890&#x27;,\n",
       "       &#x27;RGI60-17.13904&#x27;, &#x27;RGI60-17.13909&#x27;, &#x27;RGI60-17.13911&#x27;, &#x27;RGI60-17.13912&#x27;,\n",
       "       &#x27;RGI60-17.13930&#x27;, &#x27;RGI60-17.13931&#x27;, &#x27;RGI60-17.13932&#x27;, &#x27;RGI60-17.13933&#x27;,\n",
       "       &#x27;RGI60-17.13934&#x27;, &#x27;RGI60-17.13935&#x27;, &#x27;RGI60-17.13936&#x27;, &#x27;RGI60-17.13939&#x27;,\n",
       "       &#x27;RGI60-17.13951&#x27;, &#x27;RGI60-17.13956&#x27;, &#x27;RGI60-17.13957&#x27;, &#x27;RGI60-17.13961&#x27;,\n",
       "       &#x27;RGI60-17.13963&#x27;, &#x27;RGI60-17.13965&#x27;, &#x27;RGI60-17.13972&#x27;, &#x27;RGI60-17.14015&#x27;],\n",
       "      dtype=&#x27;object&#x27;, name=&#x27;rgi_id&#x27;))</pre></div></li><li class='xr-var-item'><div class='xr-index-name'><div>month_2d</div></div><div class='xr-index-preview'>PandasIndex</div><div></div><input id='index-cd6175e2-e4db-4c31-92dc-ba5cb9c91aba' class='xr-index-data-in' type='checkbox'/><label for='index-cd6175e2-e4db-4c31-92dc-ba5cb9c91aba' title='Show/Hide index repr'><svg class='icon xr-icon-database'><use xlink:href='#icon-database'></use></svg></label><div class='xr-index-data'><pre>PandasIndex(Index([1, 2, 3, 4, 5, 6, 7, 8, 9, 10, 11, 12], dtype=&#x27;int64&#x27;, name=&#x27;month_2d&#x27;))</pre></div></li></ul></div></li><li class='xr-section-item'><input id='section-6505c7b1-c17c-455b-93d0-fe0b00331b90' class='xr-section-summary-in' type='checkbox'  checked><label for='section-6505c7b1-c17c-455b-93d0-fe0b00331b90' class='xr-section-summary' >Attributes: <span>(4)</span></label><div class='xr-section-inline-details'></div><div class='xr-section-details'><dl class='xr-attrs'><dt><span>description :</span></dt><dd>OGGM model output</dd><dt><span>oggm_version :</span></dt><dd>1.6.1</dd><dt><span>calendar :</span></dt><dd>365-day no leap</dd><dt><span>creation_date :</span></dt><dd>2024-07-03 22:16:31</dd></dl></div></li></ul></div></div>"
      ],
      "text/plain": [
       "<xarray.Dataset> Size: 1MB\n",
       "Dimensions:                       (time: 101, rgi_id: 36, month_2d: 12)\n",
       "Coordinates:\n",
       "  * time                          (time) float64 808B 0.0 1.0 2.0 ... 99.0 100.0\n",
       "  * rgi_id                        (rgi_id) <U14 2kB 'RGI60-17.13838' ... 'RGI...\n",
       "    hydro_year                    (time) int64 808B ...\n",
       "    hydro_month                   (time) int64 808B ...\n",
       "    calendar_year                 (time) int64 808B ...\n",
       "    calendar_month                (time) int64 808B ...\n",
       "  * month_2d                      (month_2d) int64 96B 1 2 3 4 5 ... 9 10 11 12\n",
       "    calendar_month_2d             (month_2d) int64 96B ...\n",
       "Data variables: (12/24)\n",
       "    volume                        (time, rgi_id) float32 15kB ...\n",
       "    volume_bsl                    (time, rgi_id) float32 15kB ...\n",
       "    volume_bwl                    (time, rgi_id) float32 15kB ...\n",
       "    area                          (time, rgi_id) float32 15kB ...\n",
       "    length                        (time, rgi_id) float32 15kB ...\n",
       "    calving                       (time, rgi_id) float32 15kB ...\n",
       "    ...                            ...\n",
       "    liq_prcp_on_glacier_monthly   (time, month_2d, rgi_id) float32 175kB ...\n",
       "    snowfall_off_glacier_monthly  (time, month_2d, rgi_id) float32 175kB ...\n",
       "    snowfall_on_glacier_monthly   (time, month_2d, rgi_id) float32 175kB ...\n",
       "    water_level                   (rgi_id) float32 144B ...\n",
       "    glen_a                        (rgi_id) float32 144B ...\n",
       "    fs                            (rgi_id) float32 144B ...\n",
       "Attributes:\n",
       "    description:    OGGM model output\n",
       "    oggm_version:   1.6.1\n",
       "    calendar:       365-day no leap\n",
       "    creation_date:  2024-07-03 22:16:31"
      ]
     },
     "execution_count": 20,
     "metadata": {},
     "output_type": "execute_result"
    }
   ],
   "source": [
    "# Look at the new dataset\n",
    "ct_ds"
   ]
  },
  {
   "cell_type": "markdown",
   "id": "fd49c182-4f63-4318-9aac-cceae295d3e7",
   "metadata": {},
   "source": [
    "### a. Historical run for reference climate period"
   ]
  },
  {
   "cell_type": "code",
   "execution_count": 21,
   "id": "af809d75-8244-4dff-9387-df5761249b65",
   "metadata": {
    "tags": []
   },
   "outputs": [],
   "source": [
    "# Run the historical period with a fixed geometry spinup\n",
    "for g in gdirs:\n",
    "    file_id = '_hist_hydro'\n",
    "    tasks.run_with_hydro(g, run_task=tasks.run_from_climate_data,\n",
    "                         fixed_geometry_spinup_yr=1990,  # this tells to do spinup\n",
    "                         ref_area_from_y0=True,  # \n",
    "                         store_monthly_hydro=True,\n",
    "                         output_filesuffix=file_id);\n",
    "# I think i have to run this every time I start the kernel again so file_id hist_hydro exists for gcm use"
   ]
  },
  {
   "cell_type": "code",
   "execution_count": 22,
   "id": "e8638a6a-4752-487d-b3b5-4a5f8200c907",
   "metadata": {},
   "outputs": [
    {
     "name": "stderr",
     "output_type": "stream",
     "text": [
      "2024-07-03 18:16:46: oggm.utils: Applying global task compile_run_output on 36 glaciers\n",
      "2024-07-03 18:16:46: oggm.utils: Applying compile_run_output on 36 gdirs.\n"
     ]
    }
   ],
   "source": [
    "# Export data from historic climate run and compile run output\n",
    "import datetime\n",
    "output_path = '~/Documents/summer24/Santiago/{}-hist_hydro_compiled_output.nc'.format(datetime.date.today()) \n",
    "new_ds = utils.compile_run_output(gdirs, input_filesuffix=file_id, path=output_path)"
   ]
  },
  {
   "cell_type": "code",
   "execution_count": 23,
   "id": "e9177b05-5cb9-46dd-8834-c9d32c748eb2",
   "metadata": {},
   "outputs": [],
   "source": [
    "# Load in the glacier data from above (only when data has been saved)\n",
    "export_date = '2024-07-03'\n",
    "input_path_hist = '~/Documents/summer24/Santiago/{}-hist_hydro_compiled_output.nc'.format(export_date)\n",
    "hist_ds = xr.open_dataset(input_path_hist)"
   ]
  },
  {
   "cell_type": "markdown",
   "id": "1afb6610-a867-4103-a282-d8c01ce74a37",
   "metadata": {},
   "source": [
    "### b. Projection run"
   ]
  },
  {
   "cell_type": "markdown",
   "id": "8168747b-c3f7-4cd5-ac5d-3cf63ea0277c",
   "metadata": {},
   "source": [
    "<b> Remember: you need to change the GCM for bp and bt"
   ]
  },
  {
   "cell_type": "markdown",
   "id": "6ce04acb-064d-44a6-9d40-3d1d9eb5a5e7",
   "metadata": {},
   "source": [
    "## II. Run CMIP6 projection run"
   ]
  },
  {
   "cell_type": "code",
   "execution_count": 24,
   "id": "5414bad2-6d84-4e74-8cc0-2cad73f3387a",
   "metadata": {},
   "outputs": [],
   "source": [
    "# Is this something I need to/should do? https://docs.oggm.org/en/latest/climate-data.html\n",
    "from oggm.tasks import process_w5e5_data"
   ]
  },
  {
   "cell_type": "code",
   "execution_count": 26,
   "id": "29c32562-b581-4828-a6b2-560de442c199",
   "metadata": {},
   "outputs": [],
   "source": [
    "# fp='https://cluster.klima.uni-bremen.de/~oggm/cmip6/GCM/{}/{}_{}_r1i1p1f1_pr.nc'\n",
    "\n",
    "# GCM = ['BCC-CSM2-MR', 'CESM2', 'CESM2-WACCM', 'EC-Earth3', 'EC_Earth3_Veg', 'FGOALS-f3-L', 'GFDL-ESM4', 'INM-CM4-8', 'INM-CM5-0', 'MP1-ESM1-2-HR', 'MRI-ESM2-0', 'NorESM2-MM']\n",
    "\n",
    "# SSP = 'ssp126'\n",
    "\n",
    "# this_filename_precip = fp.format(GCM, GCM, SSP)\n",
    "\n",
    "# print(this_filename_precip)"
   ]
  },
  {
   "cell_type": "code",
   "execution_count": 25,
   "id": "9db04f11-9692-4deb-beb9-b4e63b5b9dba",
   "metadata": {},
   "outputs": [
    {
     "name": "stderr",
     "output_type": "stream",
     "text": [
      "2024-07-03 18:16:47: oggm.workflow: Execute entity tasks [process_cmip_data] on 36 glaciers\n",
      "OMP: Info #276: omp_set_nested routine deprecated, please use omp_set_max_active_levels instead.\n",
      "OMP: Info #276: omp_set_nested routine deprecated, please use omp_set_max_active_levels instead.\n",
      "OMP: Info #276: omp_set_nested routine deprecated, please use omp_set_max_active_levels instead.\n",
      "OMP: Info #276: omp_set_nested routine deprecated, please use omp_set_max_active_levels instead.\n",
      "OMP: Info #276: omp_set_nested routine deprecated, please use omp_set_max_active_levels instead.\n",
      "OMP: Info #276: omp_set_nested routine deprecated, please use omp_set_max_active_levels instead.\n",
      "OMP: Info #276: omp_set_nested routine deprecated, please use omp_set_max_active_levels instead.\n",
      "OMP: Info #276: omp_set_nested routine deprecated, please use omp_set_max_active_levels instead.\n",
      "2024-07-03 18:18:41: oggm.workflow: Execute entity tasks [process_cmip_data] on 36 glaciers\n",
      "2024-07-03 18:19:44: oggm.workflow: Execute entity tasks [process_cmip_data] on 36 glaciers\n",
      "2024-07-03 18:20:35: oggm.workflow: Execute entity tasks [process_cmip_data] on 36 glaciers\n",
      "2024-07-03 18:21:26: oggm.workflow: Execute entity tasks [process_cmip_data] on 36 glaciers\n",
      "2024-07-03 18:21:51: oggm.workflow: Execute entity tasks [process_cmip_data] on 36 glaciers\n",
      "2024-07-03 18:22:13: oggm.workflow: Execute entity tasks [process_cmip_data] on 36 glaciers\n",
      "2024-07-03 18:22:36: oggm.workflow: Execute entity tasks [process_cmip_data] on 36 glaciers\n",
      "2024-07-03 18:23:02: oggm.workflow: Execute entity tasks [process_cmip_data] on 36 glaciers\n",
      "2024-07-03 18:23:29: oggm.workflow: Execute entity tasks [process_cmip_data] on 36 glaciers\n",
      "2024-07-03 18:23:56: oggm.workflow: Execute entity tasks [process_cmip_data] on 36 glaciers\n",
      "2024-07-03 18:24:23: oggm.workflow: Execute entity tasks [process_cmip_data] on 36 glaciers\n",
      "2024-07-03 18:24:50: oggm.workflow: Execute entity tasks [process_cmip_data] on 36 glaciers\n",
      "2024-07-03 18:25:12: oggm.workflow: Execute entity tasks [process_cmip_data] on 36 glaciers\n",
      "2024-07-03 18:25:36: oggm.workflow: Execute entity tasks [process_cmip_data] on 36 glaciers\n",
      "2024-07-03 18:25:57: oggm.workflow: Execute entity tasks [process_cmip_data] on 36 glaciers\n",
      "2024-07-03 18:26:19: oggm.workflow: Execute entity tasks [process_cmip_data] on 36 glaciers\n",
      "2024-07-03 18:26:42: oggm.workflow: Execute entity tasks [process_cmip_data] on 36 glaciers\n",
      "2024-07-03 18:27:03: oggm.workflow: Execute entity tasks [process_cmip_data] on 36 glaciers\n",
      "2024-07-03 18:27:24: oggm.workflow: Execute entity tasks [process_cmip_data] on 36 glaciers\n",
      "2024-07-03 18:27:45: oggm.workflow: Execute entity tasks [process_cmip_data] on 36 glaciers\n",
      "2024-07-03 18:28:33: oggm.workflow: Execute entity tasks [process_cmip_data] on 36 glaciers\n",
      "2024-07-03 18:28:58: oggm.workflow: Execute entity tasks [process_cmip_data] on 36 glaciers\n",
      "2024-07-03 18:29:23: oggm.workflow: Execute entity tasks [process_cmip_data] on 36 glaciers\n",
      "2024-07-03 18:30:11: oggm.workflow: Execute entity tasks [process_cmip_data] on 36 glaciers\n",
      "2024-07-03 18:30:46: oggm.workflow: Execute entity tasks [process_cmip_data] on 36 glaciers\n",
      "2024-07-03 18:31:17: oggm.workflow: Execute entity tasks [process_cmip_data] on 36 glaciers\n",
      "2024-07-03 18:31:43: oggm.workflow: Execute entity tasks [process_cmip_data] on 36 glaciers\n"
     ]
    }
   ],
   "source": [
    "from oggm.shop import gcm_climate\n",
    "\n",
    "# all_members = ['BCC-CSM2-MR', 'CESM2', 'CESM2-WACCM', 'EC-Earth3', 'FGOALS-f3-L', 'GFDL-ESM4',\n",
    "#                 'INM-CM4-8', 'INM-CM5-0', 'MRI-ESM2-0', 'NorESM2-MM']\n",
    "all_members = ['EC-Earth3', 'FGOALS-f3-L', 'GFDL-ESM4', 'INM-CM4-8', 'INM-CM5-0', 'MRI-ESM2-0', 'NorESM2-MM']\n",
    "\n",
    "# problem gcms: 'EC_Earth3_Veg',  'MP1-ESM1-2-HR'\n",
    "\n",
    "bp = 'https://cluster.klima.uni-bremen.de/~oggm/cmip6/GCM/{}/{}_{}_r1i1p1f1_pr.nc'\n",
    "bt = 'https://cluster.klima.uni-bremen.de/~oggm/cmip6/GCM/{}/{}_{}_r1i1p1f1_tas.nc'\n",
    "\n",
    "# Download the three main SSPs\n",
    "for member in all_members:\n",
    "    for ssp in ['ssp126', 'ssp245', 'ssp370', 'ssp585']: \n",
    "        # Download the files\n",
    "        # print(bt.format(member, member, ssp))\n",
    "        ft = utils.file_downloader(bt.format(member, member, ssp))\n",
    "        fp = utils.file_downloader(bp.format(member, member, ssp))\n",
    "        # bias correct them\n",
    "        workflow.execute_entity_task(gcm_climate.process_cmip_data, gdirs, \n",
    "                                      filesuffix='_CMIP6_{}_{}'.format(member, ssp),  # recognize the climate file for later\n",
    "                                      fpath_temp=ft,  # temperature projections\n",
    "                                      fpath_precip=fp,  # precip projections\n",
    "                                      );"
   ]
  },
  {
   "cell_type": "code",
   "execution_count": 26,
   "id": "47a402de-bbad-4ea8-877c-5a625e4f35fb",
   "metadata": {
    "scrolled": true
   },
   "outputs": [
    {
     "name": "stderr",
     "output_type": "stream",
     "text": [
      "2024-07-04 07:06:26: oggm.workflow: Execute entity tasks [run_with_hydro] on 36 glaciers\n",
      "2024-07-04 07:06:41: oggm.workflow: Execute entity tasks [run_with_hydro] on 36 glaciers\n",
      "2024-07-04 07:06:52: oggm.workflow: Execute entity tasks [run_with_hydro] on 36 glaciers\n",
      "2024-07-04 07:07:01: oggm.workflow: Execute entity tasks [run_with_hydro] on 36 glaciers\n",
      "2024-07-04 07:07:11: oggm.workflow: Execute entity tasks [run_with_hydro] on 36 glaciers\n",
      "2024-07-04 07:07:28: oggm.workflow: Execute entity tasks [run_with_hydro] on 36 glaciers\n",
      "2024-07-04 07:07:39: oggm.workflow: Execute entity tasks [run_with_hydro] on 36 glaciers\n",
      "2024-07-04 07:07:50: oggm.workflow: Execute entity tasks [run_with_hydro] on 36 glaciers\n",
      "2024-07-04 07:08:01: oggm.workflow: Execute entity tasks [run_with_hydro] on 36 glaciers\n",
      "2024-07-04 07:08:11: oggm.workflow: Execute entity tasks [run_with_hydro] on 36 glaciers\n",
      "2024-07-04 07:08:23: oggm.workflow: Execute entity tasks [run_with_hydro] on 36 glaciers\n",
      "2024-07-04 07:08:32: oggm.workflow: Execute entity tasks [run_with_hydro] on 36 glaciers\n",
      "2024-07-04 07:08:40: oggm.workflow: Execute entity tasks [run_with_hydro] on 36 glaciers\n",
      "2024-07-04 07:08:49: oggm.workflow: Execute entity tasks [run_with_hydro] on 36 glaciers\n",
      "2024-07-04 07:08:58: oggm.workflow: Execute entity tasks [run_with_hydro] on 36 glaciers\n",
      "2024-07-04 07:09:06: oggm.workflow: Execute entity tasks [run_with_hydro] on 36 glaciers\n",
      "2024-07-04 07:09:15: oggm.workflow: Execute entity tasks [run_with_hydro] on 36 glaciers\n",
      "2024-07-04 07:09:24: oggm.workflow: Execute entity tasks [run_with_hydro] on 36 glaciers\n",
      "2024-07-04 07:09:32: oggm.workflow: Execute entity tasks [run_with_hydro] on 36 glaciers\n",
      "2024-07-04 07:09:46: oggm.workflow: Execute entity tasks [run_with_hydro] on 36 glaciers\n",
      "2024-07-04 07:09:57: oggm.workflow: Execute entity tasks [run_with_hydro] on 36 glaciers\n",
      "2024-07-04 07:10:29: oggm.workflow: Execute entity tasks [run_with_hydro] on 36 glaciers\n",
      "2024-07-04 07:10:40: oggm.workflow: Execute entity tasks [run_with_hydro] on 36 glaciers\n",
      "2024-07-04 07:10:49: oggm.workflow: Execute entity tasks [run_with_hydro] on 36 glaciers\n",
      "2024-07-04 07:11:13: oggm.workflow: Execute entity tasks [run_with_hydro] on 36 glaciers\n",
      "2024-07-04 07:11:23: oggm.workflow: Execute entity tasks [run_with_hydro] on 36 glaciers\n",
      "2024-07-04 07:11:33: oggm.workflow: Execute entity tasks [run_with_hydro] on 36 glaciers\n",
      "2024-07-04 07:11:41: oggm.workflow: Execute entity tasks [run_with_hydro] on 36 glaciers\n"
     ]
    }
   ],
   "source": [
    "# From OGGM; see how this differs from og code above\n",
    "for member in all_members: # added this, it ensures that files will not be overwritten\n",
    "    for ssp in ['ssp126', 'ssp245', 'ssp370', 'ssp585']: # add ssp245\n",
    "        rid = '_CMIP6_{}_{}'.format(member, ssp)\n",
    "        workflow.execute_entity_task(tasks.run_with_hydro, gdirs,\n",
    "                                 run_task=tasks.run_from_climate_data, ys=2020,\n",
    "                                 # use gcm_data, not climate_historical\n",
    "                                 climate_filename='gcm_data',\n",
    "                                 # use the chosen scenario\n",
    "                                 climate_input_filesuffix=rid,\n",
    "                                 # this is important! Start from 2020 glacier\n",
    "                                 init_model_filesuffix='_spinup_historical',\n",
    "                                 # recognize the run for later\n",
    "                                 output_filesuffix=rid,\n",
    "                                 # add monthly diagnostics\n",
    "                                 store_monthly_hydro=True);"
   ]
  },
  {
   "cell_type": "code",
   "execution_count": 68,
   "id": "446d2d72-6c12-4978-af5a-e715cb5c1df9",
   "metadata": {
    "scrolled": true
   },
   "outputs": [
    {
     "name": "stderr",
     "output_type": "stream",
     "text": [
      "2024-07-02 17:24:57: oggm.workflow: Execute entity tasks [run_with_hydro] on 1 glaciers\n",
      "2024-07-02 17:24:57: oggm.core.flowline: FileNotFoundError occurred during task run_from_climate_data_CMIP6_EC_Earth3_Veg_ssp126 on RGI60-16.01339: [Errno 2] No such file or directory: '/Users/ziggygoddard/Documents/summer24/OGGM_output/per_glacier/RGI60-16/RGI60-16.01/RGI60-16.01339/gcm_data_CMIP6_EC_Earth3_Veg_ssp126.nc'\n",
      "2024-07-02 17:24:57: oggm.core.flowline: InvalidWorkflowError occurred during task run_with_hydro_CMIP6_EC_Earth3_Veg_ssp126 on RGI60-16.01339: The run task (run_from_climate_data) did not run successfully.\n",
      "2024-07-02 17:24:57: oggm.workflow: Execute entity tasks [run_with_hydro] on 1 glaciers\n",
      "2024-07-02 17:24:57: oggm.core.flowline: FileNotFoundError occurred during task run_from_climate_data_CMIP6_EC_Earth3_Veg_ssp245 on RGI60-16.01339: [Errno 2] No such file or directory: '/Users/ziggygoddard/Documents/summer24/OGGM_output/per_glacier/RGI60-16/RGI60-16.01/RGI60-16.01339/gcm_data_CMIP6_EC_Earth3_Veg_ssp245.nc'\n",
      "2024-07-02 17:24:57: oggm.core.flowline: InvalidWorkflowError occurred during task run_with_hydro_CMIP6_EC_Earth3_Veg_ssp245 on RGI60-16.01339: The run task (run_from_climate_data) did not run successfully.\n",
      "2024-07-02 17:24:57: oggm.workflow: Execute entity tasks [run_with_hydro] on 1 glaciers\n",
      "2024-07-02 17:24:57: oggm.core.flowline: FileNotFoundError occurred during task run_from_climate_data_CMIP6_EC_Earth3_Veg_ssp370 on RGI60-16.01339: [Errno 2] No such file or directory: '/Users/ziggygoddard/Documents/summer24/OGGM_output/per_glacier/RGI60-16/RGI60-16.01/RGI60-16.01339/gcm_data_CMIP6_EC_Earth3_Veg_ssp370.nc'\n",
      "2024-07-02 17:24:57: oggm.core.flowline: InvalidWorkflowError occurred during task run_with_hydro_CMIP6_EC_Earth3_Veg_ssp370 on RGI60-16.01339: The run task (run_from_climate_data) did not run successfully.\n",
      "2024-07-02 17:24:57: oggm.workflow: Execute entity tasks [run_with_hydro] on 1 glaciers\n",
      "2024-07-02 17:24:57: oggm.core.flowline: FileNotFoundError occurred during task run_from_climate_data_CMIP6_EC_Earth3_Veg_ssp585 on RGI60-16.01339: [Errno 2] No such file or directory: '/Users/ziggygoddard/Documents/summer24/OGGM_output/per_glacier/RGI60-16/RGI60-16.01/RGI60-16.01339/gcm_data_CMIP6_EC_Earth3_Veg_ssp585.nc'\n",
      "2024-07-02 17:24:57: oggm.core.flowline: InvalidWorkflowError occurred during task run_with_hydro_CMIP6_EC_Earth3_Veg_ssp585 on RGI60-16.01339: The run task (run_from_climate_data) did not run successfully.\n"
     ]
    }
   ],
   "source": [
    "# # From OGGM; see how this differs from og code above\n",
    "# # Run the model with hydrologic output for each rcp scenario\n",
    "# for ssp in ['ssp126', 'ssp245', 'ssp370', 'ssp585']: # add ssp245\n",
    "#     rid = '_CMIP6_{}_{}'.format(member, ssp)\n",
    "#     workflow.execute_entity_task(tasks.run_with_hydro, gdirs,\n",
    "#                              run_task=tasks.run_from_climate_data, ys=2020,\n",
    "#                              # use gcm_data, not climate_historical\n",
    "#                              climate_filename='gcm_data',\n",
    "#                              # use the chosen scenario\n",
    "#                              climate_input_filesuffix=rid,\n",
    "#                              # this is important! Start from 2020 glacier\n",
    "#                              init_model_filesuffix='_spinup_historical',\n",
    "#                              # recognize the run for later\n",
    "#                              output_filesuffix=rid,\n",
    "#                              # add monthly diagnostics\n",
    "#                              store_monthly_hydro=True);"
   ]
  },
  {
   "cell_type": "code",
   "execution_count": 27,
   "id": "83c9fa02-e87d-4796-9ca7-4edeb6106944",
   "metadata": {},
   "outputs": [
    {
     "name": "stderr",
     "output_type": "stream",
     "text": [
      "2024-07-04 07:11:53: oggm.utils: Applying global task compile_run_output on 36 glaciers\n",
      "2024-07-04 07:11:53: oggm.utils: Applying compile_run_output on 36 gdirs.\n"
     ]
    }
   ],
   "source": [
    "# This is unchanged\n",
    "new_ds_nor = utils.compile_run_output(gdirs, input_filesuffix=rid)"
   ]
  },
  {
   "cell_type": "code",
   "execution_count": 28,
   "id": "230ef48a-13de-4c91-a8b7-424e1e486b8c",
   "metadata": {},
   "outputs": [
    {
     "name": "stderr",
     "output_type": "stream",
     "text": [
      "2024-07-04 07:11:57: oggm.utils: Applying global task compile_run_output on 36 glaciers\n",
      "2024-07-04 07:11:57: oggm.utils: Applying compile_run_output on 36 gdirs.\n",
      "2024-07-04 07:11:59: oggm.utils: Applying global task compile_run_output on 36 glaciers\n",
      "2024-07-04 07:11:59: oggm.utils: Applying compile_run_output on 36 gdirs.\n",
      "2024-07-04 07:12:01: oggm.utils: Applying global task compile_run_output on 36 glaciers\n",
      "2024-07-04 07:12:01: oggm.utils: Applying compile_run_output on 36 gdirs.\n",
      "2024-07-04 07:12:04: oggm.utils: Applying global task compile_run_output on 36 glaciers\n",
      "2024-07-04 07:12:04: oggm.utils: Applying compile_run_output on 36 gdirs.\n",
      "2024-07-04 07:12:06: oggm.utils: Applying global task compile_run_output on 36 glaciers\n",
      "2024-07-04 07:12:06: oggm.utils: Applying compile_run_output on 36 gdirs.\n",
      "2024-07-04 07:12:07: oggm.utils: Applying global task compile_run_output on 36 glaciers\n",
      "2024-07-04 07:12:07: oggm.utils: Applying compile_run_output on 36 gdirs.\n",
      "2024-07-04 07:12:09: oggm.utils: Applying global task compile_run_output on 36 glaciers\n",
      "2024-07-04 07:12:09: oggm.utils: Applying compile_run_output on 36 gdirs.\n",
      "2024-07-04 07:12:10: oggm.utils: Applying global task compile_run_output on 36 glaciers\n",
      "2024-07-04 07:12:10: oggm.utils: Applying compile_run_output on 36 gdirs.\n",
      "2024-07-04 07:12:12: oggm.utils: Applying global task compile_run_output on 36 glaciers\n",
      "2024-07-04 07:12:12: oggm.utils: Applying compile_run_output on 36 gdirs.\n",
      "2024-07-04 07:12:14: oggm.utils: Applying global task compile_run_output on 36 glaciers\n",
      "2024-07-04 07:12:14: oggm.utils: Applying compile_run_output on 36 gdirs.\n",
      "2024-07-04 07:12:16: oggm.utils: Applying global task compile_run_output on 36 glaciers\n",
      "2024-07-04 07:12:16: oggm.utils: Applying compile_run_output on 36 gdirs.\n",
      "2024-07-04 07:12:18: oggm.utils: Applying global task compile_run_output on 36 glaciers\n",
      "2024-07-04 07:12:18: oggm.utils: Applying compile_run_output on 36 gdirs.\n",
      "2024-07-04 07:12:20: oggm.utils: Applying global task compile_run_output on 36 glaciers\n",
      "2024-07-04 07:12:20: oggm.utils: Applying compile_run_output on 36 gdirs.\n",
      "2024-07-04 07:12:23: oggm.utils: Applying global task compile_run_output on 36 glaciers\n",
      "2024-07-04 07:12:23: oggm.utils: Applying compile_run_output on 36 gdirs.\n",
      "2024-07-04 07:12:25: oggm.utils: Applying global task compile_run_output on 36 glaciers\n",
      "2024-07-04 07:12:25: oggm.utils: Applying compile_run_output on 36 gdirs.\n",
      "2024-07-04 07:12:27: oggm.utils: Applying global task compile_run_output on 36 glaciers\n",
      "2024-07-04 07:12:27: oggm.utils: Applying compile_run_output on 36 gdirs.\n",
      "2024-07-04 07:12:28: oggm.utils: Applying global task compile_run_output on 36 glaciers\n",
      "2024-07-04 07:12:28: oggm.utils: Applying compile_run_output on 36 gdirs.\n",
      "2024-07-04 07:12:30: oggm.utils: Applying global task compile_run_output on 36 glaciers\n",
      "2024-07-04 07:12:30: oggm.utils: Applying compile_run_output on 36 gdirs.\n",
      "2024-07-04 07:12:32: oggm.utils: Applying global task compile_run_output on 36 glaciers\n",
      "2024-07-04 07:12:32: oggm.utils: Applying compile_run_output on 36 gdirs.\n",
      "2024-07-04 07:12:34: oggm.utils: Applying global task compile_run_output on 36 glaciers\n",
      "2024-07-04 07:12:34: oggm.utils: Applying compile_run_output on 36 gdirs.\n",
      "2024-07-04 07:12:35: oggm.utils: Applying global task compile_run_output on 36 glaciers\n",
      "2024-07-04 07:12:35: oggm.utils: Applying compile_run_output on 36 gdirs.\n",
      "2024-07-04 07:12:37: oggm.utils: Applying global task compile_run_output on 36 glaciers\n",
      "2024-07-04 07:12:37: oggm.utils: Applying compile_run_output on 36 gdirs.\n",
      "2024-07-04 07:12:39: oggm.utils: Applying global task compile_run_output on 36 glaciers\n",
      "2024-07-04 07:12:39: oggm.utils: Applying compile_run_output on 36 gdirs.\n",
      "2024-07-04 07:12:40: oggm.utils: Applying global task compile_run_output on 36 glaciers\n",
      "2024-07-04 07:12:40: oggm.utils: Applying compile_run_output on 36 gdirs.\n",
      "2024-07-04 07:12:41: oggm.utils: Applying global task compile_run_output on 36 glaciers\n",
      "2024-07-04 07:12:41: oggm.utils: Applying compile_run_output on 36 gdirs.\n",
      "2024-07-04 07:12:43: oggm.utils: Applying global task compile_run_output on 36 glaciers\n",
      "2024-07-04 07:12:43: oggm.utils: Applying compile_run_output on 36 gdirs.\n",
      "2024-07-04 07:12:44: oggm.utils: Applying global task compile_run_output on 36 glaciers\n",
      "2024-07-04 07:12:44: oggm.utils: Applying compile_run_output on 36 gdirs.\n",
      "2024-07-04 07:12:46: oggm.utils: Applying global task compile_run_output on 36 glaciers\n",
      "2024-07-04 07:12:46: oggm.utils: Applying compile_run_output on 36 gdirs.\n"
     ]
    }
   ],
   "source": [
    "# Changes explained by ChatGPT; again, unsure how this will affect pathway\n",
    "# Export data from climate run and compile run output\n",
    "# First for-loop ensures that files will not be overwritten\n",
    "import datetime\n",
    "for member in all_members:\n",
    "    for ssp in ['ssp126', 'ssp245', 'ssp370', 'ssp585']:\n",
    "        rid = '_CMIP6_{}_{}'.format(member, ssp)\n",
    "        output_path = os.path.expanduser(f'~/Documents/summer24/Santiago/{datetime.date.today()}-gcm_data_{member}_{ssp}_compiled_output.nc')\n",
    "        new_ds = utils.compile_run_output(gdirs, input_filesuffix=rid, path=output_path)\n",
    "\n",
    "        \n",
    "# import datetime\n",
    "# for ssp in ['ssp126', 'ssp245', 'ssp370', 'ssp585']:\n",
    "#     # Update the rid format to match the first cell\n",
    "#     rid = '_CMIP6_{}_{}'.format(member, ssp)\n",
    "#     # Define the output path with proper path handling\n",
    "#     output_path = os.path.expanduser(f'~/Documents/summer24/{datetime.date.today()}-gcm_data_{member}_{ssp}_compiled_output.nc')\n",
    "#     # Compile all rcp outputs into one file\n",
    "#     new_ds = utils.compile_run_output(gdirs, input_filesuffix=rid, path=output_path) #compile all rcp outputs into one file"
   ]
  },
  {
   "cell_type": "code",
   "execution_count": 29,
   "id": "7a576455-c077-4cd6-bb4d-29c404c04814",
   "metadata": {
    "scrolled": true
   },
   "outputs": [
    {
     "data": {
      "image/png": "[encoded data removed]",
      "text/plain": [
       "<Figure size 1800x700 with 1 Axes>"
      ]
     },
     "metadata": {},
     "output_type": "display_data"
    }
   ],
   "source": [
    "# Create the figure\n",
    "f, ax = plt.subplots(figsize=(18, 7), sharex=True)\n",
    "# Loop over all scenarios\n",
    "for i, ssp in enumerate(['ssp126', 'ssp245', 'ssp370', 'ssp585']):\n",
    "    file_id = '_CMIP6_{}_{}'.format(member, ssp)\n",
    "    # Open the data, gdirs[0] correspond to Hintereisferner.\n",
    "    with xr.open_dataset(gdirs[0].get_filepath('model_diagnostics', filesuffix=file_id)) as ds:\n",
    "        # Load the data into a dataframe\n",
    "        ds = ds.isel(time=slice(0, -1)).load()\n",
    "\n",
    "    # Select annual variables\n",
    "    sel_vars = [v for v in ds.variables if 'month_2d' not in ds[v].dims]\n",
    "    # And create a dataframe\n",
    "    df_annual = ds[sel_vars].to_dataframe()\n",
    "\n",
    "    # Select the variables relevant for runoff.\n",
    "    runoff_vars = ['melt_off_glacier', 'melt_on_glacier', 'liq_prcp_off_glacier', 'liq_prcp_on_glacier']\n",
    "    # Convert to mega tonnes instead of kg.\n",
    "    df_runoff = df_annual[runoff_vars].clip(0) * 1e-9\n",
    "    # Sum the variables each year \"axis=1\", take the 11 year rolling mean and plot it.\n",
    "    df_roll = df_runoff.sum(axis=1).rolling(window=11, center=True).mean()\n",
    "    df_roll.plot(ax=ax, label=ssp, color=sns.color_palette(\"rocket\")[i])\n",
    "\n",
    "ax.set_ylabel('Annual runoff (Mt)'); ax.set_xlabel('Year'); plt.title(gdirs[0].rgi_id); plt.legend();"
   ]
  },
  {
   "cell_type": "code",
   "execution_count": 49,
   "id": "3fcd757c-312b-4d8d-8e2c-32fc8c53a041",
   "metadata": {},
   "outputs": [
    {
     "ename": "RasterioIOError",
     "evalue": "/Users/ziggygoddard/Documents/summer24/OGGM_output/per_glacier/RGI60-17/RGI60-17.14/RGI60-17.14015/dem.tif: No such file or directory",
     "output_type": "error",
     "traceback": [
      "\u001b[0;31m---------------------------------------------------------------------------\u001b[0m",
      "\u001b[0;31mCPLE_OpenFailedError\u001b[0m                      Traceback (most recent call last)",
      "File \u001b[0;32mrasterio/_base.pyx:310\u001b[0m, in \u001b[0;36mrasterio._base.DatasetBase.__init__\u001b[0;34m()\u001b[0m\n",
      "File \u001b[0;32mrasterio/_base.pyx:221\u001b[0m, in \u001b[0;36mrasterio._base.open_dataset\u001b[0;34m()\u001b[0m\n",
      "File \u001b[0;32mrasterio/_err.pyx:221\u001b[0m, in \u001b[0;36mrasterio._err.exc_wrap_pointer\u001b[0;34m()\u001b[0m\n",
      "\u001b[0;31mCPLE_OpenFailedError\u001b[0m: /Users/ziggygoddard/Documents/summer24/OGGM_output/per_glacier/RGI60-17/RGI60-17.14/RGI60-17.14015/dem.tif: No such file or directory",
      "\nDuring handling of the above exception, another exception occurred:\n",
      "\u001b[0;31mRasterioIOError\u001b[0m                           Traceback (most recent call last)",
      "Cell \u001b[0;32mIn[49], line 2\u001b[0m\n\u001b[1;32m      1\u001b[0m \u001b[38;5;28;01mfrom\u001b[39;00m \u001b[38;5;21;01moggm\u001b[39;00m \u001b[38;5;28;01mimport\u001b[39;00m graphics\n\u001b[0;32m----> 2\u001b[0m graphics\u001b[38;5;241m.\u001b[39mplot_domain(gdir, figsize\u001b[38;5;241m=\u001b[39m(\u001b[38;5;241m6\u001b[39m, \u001b[38;5;241m5\u001b[39m))\n",
      "File \u001b[0;32m/opt/miniconda3/envs/oggm_env/lib/python3.12/site-packages/oggm/graphics.py:230\u001b[0m, in \u001b[0;36m_plot_map.<locals>.newplotfunc\u001b[0;34m(gdirs, ax, smap, add_colorbar, title, title_comment, horizontal_colorbar, lonlat_contours_kwargs, cbar_ax, autosave, add_scalebar, figsize, savefig, savefig_kwargs, extend_plot_limit, **kwargs)\u001b[0m\n\u001b[1;32m    228\u001b[0m \u001b[38;5;28;01mif\u001b[39;00m add_scalebar:\n\u001b[1;32m    229\u001b[0m     mp\u001b[38;5;241m.\u001b[39mset_scale_bar()\n\u001b[0;32m--> 230\u001b[0m out \u001b[38;5;241m=\u001b[39m plotfunc(gdirs, ax\u001b[38;5;241m=\u001b[39max, smap\u001b[38;5;241m=\u001b[39mmp, \u001b[38;5;241m*\u001b[39m\u001b[38;5;241m*\u001b[39mkwargs)\n\u001b[1;32m    232\u001b[0m \u001b[38;5;28;01mif\u001b[39;00m add_colorbar \u001b[38;5;129;01mand\u001b[39;00m \u001b[38;5;124m'\u001b[39m\u001b[38;5;124mcbar_label\u001b[39m\u001b[38;5;124m'\u001b[39m \u001b[38;5;129;01min\u001b[39;00m out:\n\u001b[1;32m    233\u001b[0m     cbprim \u001b[38;5;241m=\u001b[39m out\u001b[38;5;241m.\u001b[39mget(\u001b[38;5;124m'\u001b[39m\u001b[38;5;124mcbar_primitive\u001b[39m\u001b[38;5;124m'\u001b[39m, mp)\n",
      "File \u001b[0;32m/opt/miniconda3/envs/oggm_env/lib/python3.12/site-packages/oggm/graphics.py:375\u001b[0m, in \u001b[0;36mplot_domain\u001b[0;34m(gdirs, ax, smap, use_netcdf)\u001b[0m\n\u001b[1;32m    373\u001b[0m         topo \u001b[38;5;241m=\u001b[39m nc\u001b[38;5;241m.\u001b[39mvariables[\u001b[38;5;124m'\u001b[39m\u001b[38;5;124mtopo\u001b[39m\u001b[38;5;124m'\u001b[39m][:]\n\u001b[1;32m    374\u001b[0m \u001b[38;5;28;01melse\u001b[39;00m:\n\u001b[0;32m--> 375\u001b[0m     topo \u001b[38;5;241m=\u001b[39m gis\u001b[38;5;241m.\u001b[39mread_geotiff_dem(gdir)\n\u001b[1;32m    376\u001b[0m \u001b[38;5;28;01mtry\u001b[39;00m:\n\u001b[1;32m    377\u001b[0m     smap\u001b[38;5;241m.\u001b[39mset_data(topo)\n",
      "File \u001b[0;32m/opt/miniconda3/envs/oggm_env/lib/python3.12/site-packages/oggm/core/gis.py:527\u001b[0m, in \u001b[0;36mread_geotiff_dem\u001b[0;34m(gdir)\u001b[0m\n\u001b[1;32m    515\u001b[0m \u001b[38;5;28;01mdef\u001b[39;00m \u001b[38;5;21mread_geotiff_dem\u001b[39m(gdir):\n\u001b[1;32m    516\u001b[0m \u001b[38;5;250m    \u001b[39m\u001b[38;5;124;03m\"\"\"Reads (and masks out) the DEM out of the gdir's geotiff file.\u001b[39;00m\n\u001b[1;32m    517\u001b[0m \n\u001b[1;32m    518\u001b[0m \u001b[38;5;124;03m    Parameters\u001b[39;00m\n\u001b[0;32m   (...)\u001b[0m\n\u001b[1;32m    525\u001b[0m \u001b[38;5;124;03m    2D np.float32 array\u001b[39;00m\n\u001b[1;32m    526\u001b[0m \u001b[38;5;124;03m    \"\"\"\u001b[39;00m\n\u001b[0;32m--> 527\u001b[0m     \u001b[38;5;28;01mwith\u001b[39;00m rasterio\u001b[38;5;241m.\u001b[39mopen(gdir\u001b[38;5;241m.\u001b[39mget_filepath(\u001b[38;5;124m'\u001b[39m\u001b[38;5;124mdem\u001b[39m\u001b[38;5;124m'\u001b[39m), \u001b[38;5;124m'\u001b[39m\u001b[38;5;124mr\u001b[39m\u001b[38;5;124m'\u001b[39m, driver\u001b[38;5;241m=\u001b[39m\u001b[38;5;124m'\u001b[39m\u001b[38;5;124mGTiff\u001b[39m\u001b[38;5;124m'\u001b[39m) \u001b[38;5;28;01mas\u001b[39;00m ds:\n\u001b[1;32m    528\u001b[0m         topo \u001b[38;5;241m=\u001b[39m ds\u001b[38;5;241m.\u001b[39mread(\u001b[38;5;241m1\u001b[39m)\u001b[38;5;241m.\u001b[39mastype(rasterio\u001b[38;5;241m.\u001b[39mfloat32)\n\u001b[1;32m    529\u001b[0m         topo[topo \u001b[38;5;241m<\u001b[39m\u001b[38;5;241m=\u001b[39m \u001b[38;5;241m-\u001b[39m\u001b[38;5;241m999.\u001b[39m] \u001b[38;5;241m=\u001b[39m np\u001b[38;5;241m.\u001b[39mNaN\n",
      "File \u001b[0;32m/opt/miniconda3/envs/oggm_env/lib/python3.12/site-packages/rasterio/env.py:451\u001b[0m, in \u001b[0;36mensure_env_with_credentials.<locals>.wrapper\u001b[0;34m(*args, **kwds)\u001b[0m\n\u001b[1;32m    448\u001b[0m     session \u001b[38;5;241m=\u001b[39m DummySession()\n\u001b[1;32m    450\u001b[0m \u001b[38;5;28;01mwith\u001b[39;00m env_ctor(session\u001b[38;5;241m=\u001b[39msession):\n\u001b[0;32m--> 451\u001b[0m     \u001b[38;5;28;01mreturn\u001b[39;00m f(\u001b[38;5;241m*\u001b[39margs, \u001b[38;5;241m*\u001b[39m\u001b[38;5;241m*\u001b[39mkwds)\n",
      "File \u001b[0;32m/opt/miniconda3/envs/oggm_env/lib/python3.12/site-packages/rasterio/__init__.py:304\u001b[0m, in \u001b[0;36mopen\u001b[0;34m(fp, mode, driver, width, height, count, crs, transform, dtype, nodata, sharing, **kwargs)\u001b[0m\n\u001b[1;32m    301\u001b[0m path \u001b[38;5;241m=\u001b[39m _parse_path(raw_dataset_path)\n\u001b[1;32m    303\u001b[0m \u001b[38;5;28;01mif\u001b[39;00m mode \u001b[38;5;241m==\u001b[39m \u001b[38;5;124m\"\u001b[39m\u001b[38;5;124mr\u001b[39m\u001b[38;5;124m\"\u001b[39m:\n\u001b[0;32m--> 304\u001b[0m     dataset \u001b[38;5;241m=\u001b[39m DatasetReader(path, driver\u001b[38;5;241m=\u001b[39mdriver, sharing\u001b[38;5;241m=\u001b[39msharing, \u001b[38;5;241m*\u001b[39m\u001b[38;5;241m*\u001b[39mkwargs)\n\u001b[1;32m    305\u001b[0m \u001b[38;5;28;01melif\u001b[39;00m mode \u001b[38;5;241m==\u001b[39m \u001b[38;5;124m\"\u001b[39m\u001b[38;5;124mr+\u001b[39m\u001b[38;5;124m\"\u001b[39m:\n\u001b[1;32m    306\u001b[0m     dataset \u001b[38;5;241m=\u001b[39m get_writer_for_path(path, driver\u001b[38;5;241m=\u001b[39mdriver)(\n\u001b[1;32m    307\u001b[0m         path, mode, driver\u001b[38;5;241m=\u001b[39mdriver, sharing\u001b[38;5;241m=\u001b[39msharing, \u001b[38;5;241m*\u001b[39m\u001b[38;5;241m*\u001b[39mkwargs\n\u001b[1;32m    308\u001b[0m     )\n",
      "File \u001b[0;32mrasterio/_base.pyx:312\u001b[0m, in \u001b[0;36mrasterio._base.DatasetBase.__init__\u001b[0;34m()\u001b[0m\n",
      "\u001b[0;31mRasterioIOError\u001b[0m: /Users/ziggygoddard/Documents/summer24/OGGM_output/per_glacier/RGI60-17/RGI60-17.14/RGI60-17.14015/dem.tif: No such file or directory"
     ]
    },
    {
     "data": {
      "image/png": "[encoded data removed]",
      "text/plain": [
       "<Figure size 600x500 with 1 Axes>"
      ]
     },
     "metadata": {},
     "output_type": "display_data"
    }
   ],
   "source": [
    "from oggm import graphics\n",
    "graphics.plot_domain(gdir, figsize=(6, 5))"
   ]
  },
  {
   "cell_type": "code",
   "execution_count": 32,
   "id": "def4abcd-222d-4ed3-83a4-ef705a3af1a1",
   "metadata": {
    "scrolled": true
   },
   "outputs": [
    {
     "name": "stdout",
     "output_type": "stream",
     "text": [
      "/Users/ziggygoddard/Documents/summer24/OGGM_output/per_glacier/RGI60-16/RGI60-16.01/RGI60-16.01307/model_geometry_spinup_historical.nc\n",
      "/Users/ziggygoddard/Documents/summer24/OGGM_output/per_glacier/RGI60-16/RGI60-16.01/RGI60-16.01308/model_geometry_spinup_historical.nc\n",
      "/Users/ziggygoddard/Documents/summer24/OGGM_output/per_glacier/RGI60-16/RGI60-16.01/RGI60-16.01309/model_geometry_spinup_historical.nc\n",
      "/Users/ziggygoddard/Documents/summer24/OGGM_output/per_glacier/RGI60-16/RGI60-16.01/RGI60-16.01310/model_geometry_spinup_historical.nc\n",
      "/Users/ziggygoddard/Documents/summer24/OGGM_output/per_glacier/RGI60-16/RGI60-16.01/RGI60-16.01311/model_geometry_spinup_historical.nc\n",
      "/Users/ziggygoddard/Documents/summer24/OGGM_output/per_glacier/RGI60-16/RGI60-16.01/RGI60-16.01312/model_geometry_spinup_historical.nc\n",
      "/Users/ziggygoddard/Documents/summer24/OGGM_output/per_glacier/RGI60-16/RGI60-16.01/RGI60-16.01313/model_geometry_spinup_historical.nc\n",
      "/Users/ziggygoddard/Documents/summer24/OGGM_output/per_glacier/RGI60-16/RGI60-16.01/RGI60-16.01314/model_geometry_spinup_historical.nc\n",
      "/Users/ziggygoddard/Documents/summer24/OGGM_output/per_glacier/RGI60-16/RGI60-16.01/RGI60-16.01315/model_geometry_spinup_historical.nc\n",
      "/Users/ziggygoddard/Documents/summer24/OGGM_output/per_glacier/RGI60-16/RGI60-16.01/RGI60-16.01316/model_geometry_spinup_historical.nc\n",
      "/Users/ziggygoddard/Documents/summer24/OGGM_output/per_glacier/RGI60-16/RGI60-16.01/RGI60-16.01317/model_geometry_spinup_historical.nc\n",
      "/Users/ziggygoddard/Documents/summer24/OGGM_output/per_glacier/RGI60-16/RGI60-16.01/RGI60-16.01318/model_geometry_spinup_historical.nc\n",
      "/Users/ziggygoddard/Documents/summer24/OGGM_output/per_glacier/RGI60-16/RGI60-16.01/RGI60-16.01319/model_geometry_spinup_historical.nc\n",
      "/Users/ziggygoddard/Documents/summer24/OGGM_output/per_glacier/RGI60-16/RGI60-16.01/RGI60-16.01320/model_geometry_spinup_historical.nc\n",
      "/Users/ziggygoddard/Documents/summer24/OGGM_output/per_glacier/RGI60-16/RGI60-16.01/RGI60-16.01321/model_geometry_spinup_historical.nc\n",
      "/Users/ziggygoddard/Documents/summer24/OGGM_output/per_glacier/RGI60-16/RGI60-16.01/RGI60-16.01322/model_geometry_spinup_historical.nc\n",
      "/Users/ziggygoddard/Documents/summer24/OGGM_output/per_glacier/RGI60-16/RGI60-16.01/RGI60-16.01336/model_geometry_spinup_historical.nc\n",
      "/Users/ziggygoddard/Documents/summer24/OGGM_output/per_glacier/RGI60-16/RGI60-16.01/RGI60-16.01337/model_geometry_spinup_historical.nc\n",
      "/Users/ziggygoddard/Documents/summer24/OGGM_output/per_glacier/RGI60-16/RGI60-16.01/RGI60-16.01338/model_geometry_spinup_historical.nc\n",
      "/Users/ziggygoddard/Documents/summer24/OGGM_output/per_glacier/RGI60-16/RGI60-16.01/RGI60-16.01339/model_geometry_spinup_historical.nc\n",
      "/Users/ziggygoddard/Documents/summer24/OGGM_output/per_glacier/RGI60-16/RGI60-16.01/RGI60-16.01341/model_geometry_spinup_historical.nc\n",
      "/Users/ziggygoddard/Documents/summer24/OGGM_output/per_glacier/RGI60-16/RGI60-16.01/RGI60-16.01342/model_geometry_spinup_historical.nc\n",
      "/Users/ziggygoddard/Documents/summer24/OGGM_output/per_glacier/RGI60-16/RGI60-16.01/RGI60-16.01343/model_geometry_spinup_historical.nc\n",
      "/Users/ziggygoddard/Documents/summer24/OGGM_output/per_glacier/RGI60-16/RGI60-16.01/RGI60-16.01344/model_geometry_spinup_historical.nc\n",
      "/Users/ziggygoddard/Documents/summer24/OGGM_output/per_glacier/RGI60-16/RGI60-16.01/RGI60-16.01345/model_geometry_spinup_historical.nc\n",
      "/Users/ziggygoddard/Documents/summer24/OGGM_output/per_glacier/RGI60-16/RGI60-16.01/RGI60-16.01346/model_geometry_spinup_historical.nc\n",
      "/Users/ziggygoddard/Documents/summer24/OGGM_output/per_glacier/RGI60-16/RGI60-16.01/RGI60-16.01394/model_geometry_spinup_historical.nc\n",
      "/Users/ziggygoddard/Documents/summer24/OGGM_output/per_glacier/RGI60-16/RGI60-16.01/RGI60-16.01423/model_geometry_spinup_historical.nc\n",
      "/Users/ziggygoddard/Documents/summer24/OGGM_output/per_glacier/RGI60-16/RGI60-16.01/RGI60-16.01424/model_geometry_spinup_historical.nc\n",
      "/Users/ziggygoddard/Documents/summer24/OGGM_output/per_glacier/RGI60-16/RGI60-16.01/RGI60-16.01432/model_geometry_spinup_historical.nc\n",
      "/Users/ziggygoddard/Documents/summer24/OGGM_output/per_glacier/RGI60-16/RGI60-16.01/RGI60-16.01433/model_geometry_spinup_historical.nc\n",
      "/Users/ziggygoddard/Documents/summer24/OGGM_output/per_glacier/RGI60-16/RGI60-16.01/RGI60-16.01434/model_geometry_spinup_historical.nc\n",
      "/Users/ziggygoddard/Documents/summer24/OGGM_output/per_glacier/RGI60-16/RGI60-16.01/RGI60-16.01435/model_geometry_spinup_historical.nc\n",
      "/Users/ziggygoddard/Documents/summer24/OGGM_output/per_glacier/RGI60-16/RGI60-16.01/RGI60-16.01436/model_geometry_spinup_historical.nc\n",
      "/Users/ziggygoddard/Documents/summer24/OGGM_output/per_glacier/RGI60-16/RGI60-16.01/RGI60-16.01437/model_geometry_spinup_historical.nc\n",
      "/Users/ziggygoddard/Documents/summer24/OGGM_output/per_glacier/RGI60-16/RGI60-16.01/RGI60-16.01438/model_geometry_spinup_historical.nc\n",
      "/Users/ziggygoddard/Documents/summer24/OGGM_output/per_glacier/RGI60-16/RGI60-16.01/RGI60-16.01439/model_geometry_spinup_historical.nc\n",
      "/Users/ziggygoddard/Documents/summer24/OGGM_output/per_glacier/RGI60-16/RGI60-16.01/RGI60-16.01440/model_geometry_spinup_historical.nc\n",
      "/Users/ziggygoddard/Documents/summer24/OGGM_output/per_glacier/RGI60-16/RGI60-16.01/RGI60-16.01441/model_geometry_spinup_historical.nc\n",
      "/Users/ziggygoddard/Documents/summer24/OGGM_output/per_glacier/RGI60-16/RGI60-16.01/RGI60-16.01442/model_geometry_spinup_historical.nc\n",
      "/Users/ziggygoddard/Documents/summer24/OGGM_output/per_glacier/RGI60-16/RGI60-16.01/RGI60-16.01443/model_geometry_spinup_historical.nc\n",
      "/Users/ziggygoddard/Documents/summer24/OGGM_output/per_glacier/RGI60-16/RGI60-16.01/RGI60-16.01444/model_geometry_spinup_historical.nc\n"
     ]
    }
   ],
   "source": [
    "for g in gdirs:\n",
    "    print(g.get_filepath('model_geometry', filesuffix='_spinup_historical'))"
   ]
  },
  {
   "cell_type": "code",
   "execution_count": 33,
   "id": "0d66a905-ab9d-4466-a853-6e5dce2a8b34",
   "metadata": {
    "jupyter": {
     "source_hidden": true
    }
   },
   "outputs": [
    {
     "name": "stdout",
     "output_type": "stream",
     "text": [
      "/Users/ziggygoddard/Documents/summer24/OGGM_output/per_glacier/RGI60-16/RGI60-16.01/RGI60-16.01307/model_diagnostics_CMIP6_MRI-ESM2-0_ssp126.nc\n",
      "/Users/ziggygoddard/Documents/summer24/OGGM_output/per_glacier/RGI60-16/RGI60-16.01/RGI60-16.01307/model_diagnostics_CMIP6_MRI-ESM2-0_ssp245.nc\n",
      "/Users/ziggygoddard/Documents/summer24/OGGM_output/per_glacier/RGI60-16/RGI60-16.01/RGI60-16.01307/model_diagnostics_CMIP6_MRI-ESM2-0_ssp370.nc\n",
      "/Users/ziggygoddard/Documents/summer24/OGGM_output/per_glacier/RGI60-16/RGI60-16.01/RGI60-16.01307/model_diagnostics_CMIP6_MRI-ESM2-0_ssp585.nc\n"
     ]
    }
   ],
   "source": [
    "for ssp in ['ssp126', 'ssp245', 'ssp370', 'ssp585']:\n",
    "    file_id = '_CMIP6_{}_{}'.format(member, ssp)\n",
    "    print(gdirs[0].get_filepath('model_diagnostics', filesuffix=file_id))"
   ]
  },
  {
   "cell_type": "code",
   "execution_count": 34,
   "id": "619a9c95-6271-4ee1-813f-59258add12e5",
   "metadata": {
    "jupyter": {
     "source_hidden": true
    }
   },
   "outputs": [
    {
     "name": "stdout",
     "output_type": "stream",
     "text": [
      "File /Users/ziggygoddard/Documents/summer24/OGGM_output/per_glacier/RGI60-16/RGI60-16.01/RGI60-16.01307/model_diagnostics_CMIP6_MRI-ESM2-0_ssp126.nc is present and accessible.\n",
      "File /Users/ziggygoddard/Documents/summer24/OGGM_output/per_glacier/RGI60-16/RGI60-16.01/RGI60-16.01307/model_diagnostics_CMIP6_MRI-ESM2-0_ssp245.nc is present and accessible.\n",
      "File /Users/ziggygoddard/Documents/summer24/OGGM_output/per_glacier/RGI60-16/RGI60-16.01/RGI60-16.01307/model_diagnostics_CMIP6_MRI-ESM2-0_ssp370.nc is present and accessible.\n",
      "File /Users/ziggygoddard/Documents/summer24/OGGM_output/per_glacier/RGI60-16/RGI60-16.01/RGI60-16.01307/model_diagnostics_CMIP6_MRI-ESM2-0_ssp585.nc is present and accessible.\n"
     ]
    }
   ],
   "source": [
    "import os\n",
    "\n",
    "for ssp in ['ssp126', 'ssp245', 'ssp370', 'ssp585']:\n",
    "    file_id = '_CMIP6_{}_{}'.format(member, ssp)\n",
    "    filepath = gdirs[0].get_filepath('model_diagnostics', filesuffix=file_id)\n",
    "    if not os.path.isfile(filepath):\n",
    "        print(f\"File {filepath} does not exist or is not accessible.\")\n",
    "    else:\n",
    "        print(f\"File {filepath} is present and accessible.\")"
   ]
  },
  {
   "cell_type": "code",
   "execution_count": 35,
   "id": "b689c87d-96b6-4903-bcc4-46a1442d17ff",
   "metadata": {
    "jupyter": {
     "source_hidden": true
    }
   },
   "outputs": [
    {
     "name": "stdout",
     "output_type": "stream",
     "text": [
      "<xarray.Dataset> Size: 208kB\n",
      "Dimensions:                       (time: 282, month_2d: 12)\n",
      "Coordinates:\n",
      "  * time                          (time) float64 2kB 2.02e+03 ... 2.301e+03\n",
      "    calendar_year                 (time) int64 2kB ...\n",
      "    calendar_month                (time) int64 2kB ...\n",
      "    hydro_year                    (time) int64 2kB ...\n",
      "    hydro_month                   (time) int64 2kB ...\n",
      "  * month_2d                      (month_2d) int64 96B 1 2 3 4 5 ... 9 10 11 12\n",
      "    hydro_month_2d                (month_2d) int64 96B ...\n",
      "    calendar_month_2d             (month_2d) int64 96B ...\n",
      "Data variables: (12/21)\n",
      "    volume_m3                     (time) float64 2kB ...\n",
      "    volume_bsl_m3                 (time) float64 2kB ...\n",
      "    volume_bwl_m3                 (time) float64 2kB ...\n",
      "    area_m2                       (time) float64 2kB ...\n",
      "    length_m                      (time) float64 2kB ...\n",
      "    calving_m3                    (time) float64 2kB ...\n",
      "    ...                            ...\n",
      "    liq_prcp_on_glacier           (time) float64 2kB ...\n",
      "    liq_prcp_on_glacier_monthly   (time, month_2d) float64 27kB ...\n",
      "    snowfall_off_glacier          (time) float64 2kB ...\n",
      "    snowfall_off_glacier_monthly  (time, month_2d) float64 27kB ...\n",
      "    snowfall_on_glacier           (time) float64 2kB ...\n",
      "    snowfall_on_glacier_monthly   (time, month_2d) float64 27kB ...\n",
      "Attributes:\n",
      "    description:          OGGM model output\n",
      "    oggm_version:         1.6.1\n",
      "    calendar:             365-day no leap\n",
      "    creation_date:        2024-07-02 16:17:11\n",
      "    water_level:          0\n",
      "    glen_a:               1.5001274304807765e-23\n",
      "    fs:                   0\n",
      "    mb_model_class:       MultipleFlowlineMassBalance\n",
      "    mb_model_hemisphere:  sh\n"
     ]
    }
   ],
   "source": [
    "import xarray as xr\n",
    "\n",
    "file_id = '_CMIP6_{}_{}'.format(member, 'ssp126')\n",
    "filepath = gdirs[0].get_filepath('model_diagnostics', filesuffix=file_id)\n",
    "try:\n",
    "    with xr.open_dataset(filepath) as ds:\n",
    "        print(ds)\n",
    "except Exception as e:\n",
    "    print(f\"Error opening file {filepath}: {e}\")"
   ]
  },
  {
   "cell_type": "code",
   "execution_count": 36,
   "id": "257cbf50-9d76-497d-9b65-fcf00ce75fc1",
   "metadata": {
    "jupyter": {
     "source_hidden": true
    },
    "scrolled": true
   },
   "outputs": [
    {
     "name": "stderr",
     "output_type": "stream",
     "text": [
      "2024-07-02 12:18:35: oggm.workflow: Execute entity tasks [run_with_hydro] on 42 glaciers\n",
      "2024-07-02 12:19:03: oggm.workflow: Execute entity tasks [run_with_hydro] on 42 glaciers\n",
      "2024-07-02 12:19:14: oggm.workflow: Execute entity tasks [run_with_hydro] on 42 glaciers\n",
      "2024-07-02 12:19:25: oggm.workflow: Execute entity tasks [run_with_hydro] on 42 glaciers\n"
     ]
    }
   ],
   "source": [
    "import logging\n",
    "\n",
    "logging.basicConfig(level=logging.INFO)\n",
    "\n",
    "for ssp in ['ssp126', 'ssp245', 'ssp370', 'ssp585']:\n",
    "    rid = '_CMIP6_{}_{}'.format(member, ssp)\n",
    "    workflow.execute_entity_task(tasks.run_with_hydro, gdirs,\n",
    "                                 run_task=tasks.run_from_climate_data, ys=2020,\n",
    "                                 climate_filename='gcm_data',\n",
    "                                 climate_input_filesuffix=rid,\n",
    "                                 init_model_filesuffix='_spinup_historical',\n",
    "                                 output_filesuffix=rid,\n",
    "                                 store_monthly_hydro=True)\n",
    "    logging.info(f\"Run completed for {ssp} scenario.\")\n",
    "\n",
    "    for gdir in gdirs:\n",
    "        file_id = '_CMIP6_{}_{}'.format(member, ssp)\n",
    "        filepath = gdir.get_filepath('model_diagnostics', filesuffix=file_id)\n",
    "        if os.path.isfile(filepath):\n",
    "            logging.info(f\"File {filepath} generated successfully.\")\n",
    "        else:\n",
    "            logging.warning(f\"File {filepath} not found.\")\n"
   ]
  },
  {
   "cell_type": "code",
   "execution_count": 37,
   "id": "7a66d141-37d2-499b-ac77-f46312bedbe2",
   "metadata": {},
   "outputs": [
    {
     "name": "stdout",
     "output_type": "stream",
     "text": [
      "Missing file: /Users/ziggygoddard/Documents/summer24/OGGM_output/per_glacier/RGI60-16/RGI60-16.01/RGI60-16.01306/model_diagnostics_CMIP6_MRI-ESM2-0_ssp126.nc\n",
      "Missing file: /Users/ziggygoddard/Documents/summer24/OGGM_output/per_glacier/RGI60-16/RGI60-16.01/RGI60-16.01306/model_diagnostics_CMIP6_MRI-ESM2-0_ssp245.nc\n",
      "Missing file: /Users/ziggygoddard/Documents/summer24/OGGM_output/per_glacier/RGI60-16/RGI60-16.01/RGI60-16.01306/model_diagnostics_CMIP6_MRI-ESM2-0_ssp370.nc\n",
      "Missing file: /Users/ziggygoddard/Documents/summer24/OGGM_output/per_glacier/RGI60-16/RGI60-16.01/RGI60-16.01306/model_diagnostics_CMIP6_MRI-ESM2-0_ssp585.nc\n"
     ]
    },
    {
     "ename": "TypeError",
     "evalue": "join() argument must be str, bytes, or os.PathLike object, not 'ellipsis'",
     "output_type": "error",
     "traceback": [
      "\u001b[0;31m---------------------------------------------------------------------------\u001b[0m",
      "\u001b[0;31mTypeError\u001b[0m                                 Traceback (most recent call last)",
      "Cell \u001b[0;32mIn[37], line 6\u001b[0m\n\u001b[1;32m      4\u001b[0m \u001b[38;5;28;01mfor\u001b[39;00m glacier_id \u001b[38;5;129;01min\u001b[39;00m [\u001b[38;5;124m'\u001b[39m\u001b[38;5;124mRGI60-16.01306\u001b[39m\u001b[38;5;124m'\u001b[39m, \u001b[38;5;124m'\u001b[39m\u001b[38;5;124mRGI60-16.01307\u001b[39m\u001b[38;5;124m'\u001b[39m, \u001b[38;5;241m.\u001b[39m\u001b[38;5;241m.\u001b[39m\u001b[38;5;241m.\u001b[39m]:  \u001b[38;5;66;03m# Add other glacier IDs as needed\u001b[39;00m\n\u001b[1;32m      5\u001b[0m     \u001b[38;5;28;01mfor\u001b[39;00m ssp \u001b[38;5;129;01min\u001b[39;00m [\u001b[38;5;124m'\u001b[39m\u001b[38;5;124mssp126\u001b[39m\u001b[38;5;124m'\u001b[39m, \u001b[38;5;124m'\u001b[39m\u001b[38;5;124mssp245\u001b[39m\u001b[38;5;124m'\u001b[39m, \u001b[38;5;124m'\u001b[39m\u001b[38;5;124mssp370\u001b[39m\u001b[38;5;124m'\u001b[39m, \u001b[38;5;124m'\u001b[39m\u001b[38;5;124mssp585\u001b[39m\u001b[38;5;124m'\u001b[39m]:\n\u001b[0;32m----> 6\u001b[0m         file_path \u001b[38;5;241m=\u001b[39m os\u001b[38;5;241m.\u001b[39mpath\u001b[38;5;241m.\u001b[39mjoin(base_path, glacier_id, \u001b[38;5;124mf\u001b[39m\u001b[38;5;124m'\u001b[39m\u001b[38;5;124mmodel_diagnostics_CMIP6_MRI-ESM2-0_\u001b[39m\u001b[38;5;132;01m{\u001b[39;00mssp\u001b[38;5;132;01m}\u001b[39;00m\u001b[38;5;124m.nc\u001b[39m\u001b[38;5;124m'\u001b[39m)\n\u001b[1;32m      7\u001b[0m         \u001b[38;5;28;01mif\u001b[39;00m \u001b[38;5;129;01mnot\u001b[39;00m os\u001b[38;5;241m.\u001b[39mpath\u001b[38;5;241m.\u001b[39misfile(file_path):\n\u001b[1;32m      8\u001b[0m             \u001b[38;5;28mprint\u001b[39m(\u001b[38;5;124mf\u001b[39m\u001b[38;5;124m\"\u001b[39m\u001b[38;5;124mMissing file: \u001b[39m\u001b[38;5;132;01m{\u001b[39;00mfile_path\u001b[38;5;132;01m}\u001b[39;00m\u001b[38;5;124m\"\u001b[39m)\n",
      "File \u001b[0;32m<frozen posixpath>:90\u001b[0m, in \u001b[0;36mjoin\u001b[0;34m(a, *p)\u001b[0m\n",
      "File \u001b[0;32m<frozen genericpath>:164\u001b[0m, in \u001b[0;36m_check_arg_types\u001b[0;34m(funcname, *args)\u001b[0m\n",
      "\u001b[0;31mTypeError\u001b[0m: join() argument must be str, bytes, or os.PathLike object, not 'ellipsis'"
     ]
    }
   ],
   "source": [
    "import os\n",
    "\n",
    "base_path = '/Users/ziggygoddard/Documents/summer24/Santiago/OGGM_output/per_glacier/RGI60-16/RGI60-16.01/'\n",
    "for glacier_id in ['RGI60-16.01306', 'RGI60-16.01307', ...]:  # Add other glacier IDs as needed\n",
    "    for ssp in ['ssp126', 'ssp245', 'ssp370', 'ssp585']:\n",
    "        file_path = os.path.join(base_path, glacier_id, f'model_diagnostics_CMIP6_MRI-ESM2-0_{ssp}.nc')\n",
    "        if not os.path.isfile(file_path):\n",
    "            print(f\"Missing file: {file_path}\")"
   ]
  },
  {
   "cell_type": "code",
   "execution_count": null,
   "id": "c0ef19b1-189a-4ce4-81b4-d9cc569fb96c",
   "metadata": {
    "jupyter": {
     "source_hidden": true
    },
    "scrolled": true
   },
   "outputs": [],
   "source": [
    "for gdir in gdirs:\n",
    "    for ssp in ['ssp126', 'ssp245', 'ssp370', 'ssp585']:\n",
    "        file_id = '_CMIP6_{}_{}'.format(member, ssp)\n",
    "        filepath = gdir.get_filepath('model_diagnostics', filesuffix=file_id)\n",
    "        print(filepath)"
   ]
  },
  {
   "cell_type": "code",
   "execution_count": 53,
   "id": "2d785c23-af4e-45f6-92b2-8787f39b0b4d",
   "metadata": {},
   "outputs": [
    {
     "name": "stdout",
     "output_type": "stream",
     "text": [
      "Missing spinup file: /Users/ziggygoddard/Documents/summer24/OGGM_output/per_glacier/RGI60-17.14/RGI60-17.14015/model_geometry_spinup_historical.nc\n"
     ]
    }
   ],
   "source": [
    "# This is how to check if files for individual glaciers exist\n",
    "\n",
    "import os\n",
    "\n",
    "spinup_path = '/Users/ziggygoddard/Documents/summer24/OGGM_output/per_glacier/RGI60-17.1/'\n",
    "for glacier_id in ['RGI60-17.14015']:  # Add other glacier IDs as needed\n",
    "    file_path = os.path.join(spinup_path, glacier_id, 'model_geometry_spinup_historical.nc')\n",
    "    if not os.path.isfile(file_path):\n",
    "        print(f\"Missing spinup file: {file_path}\")\n",
    "\n",
    "# missing 01306, 02942-02945 \n",
    "\n",
    "# 13837    RGI60-17.13838\n",
    "# 13849    RGI60-17.13850\n",
    "# 13850    RGI60-17.13851\n",
    "# 13852    RGI60-17.13853\n",
    "# 13856    RGI60-17.13857\n",
    "# 13857    RGI60-17.13858\n",
    "# 13862    RGI60-17.13863\n",
    "# 13864    RGI60-17.13865\n",
    "# 13866    RGI60-17.13867\n",
    "# 13867    RGI60-17.13868\n",
    "# 13870    RGI60-17.13871\n",
    "# 13873    RGI60-17.13874\n",
    "# 13884    RGI60-17.13885\n",
    "# 13885    RGI60-17.13886\n",
    "# 13887    RGI60-17.13888\n",
    "# 13889    RGI60-17.13890\n",
    "# 13903    RGI60-17.13904\n",
    "# 13908    RGI60-17.13909\n",
    "# 13910    RGI60-17.13911\n",
    "# 13911    RGI60-17.13912\n",
    "# 13929    RGI60-17.13930\n",
    "# 13930    RGI60-17.13931\n",
    "# 13931    RGI60-17.13932\n",
    "# 13932    RGI60-17.13933\n",
    "# 13933    RGI60-17.13934\n",
    "# 13934    RGI60-17.13935\n",
    "# 13935    RGI60-17.13936\n",
    "# 13938    RGI60-17.13939\n",
    "# 13950    RGI60-17.13951\n",
    "# 13955    RGI60-17.13956\n",
    "# 13956    RGI60-17.13957\n",
    "# 13960    RGI60-17.13961\n",
    "# 13962    RGI60-17.13963\n",
    "# 13964    RGI60-17.13965\n",
    "# 13971    RGI60-17.13972\n",
    "# 14014    RGI60-17.14015\n",
    "# Name: RGIId, dtype: object"
   ]
  },
  {
   "cell_type": "code",
   "execution_count": null,
   "id": "16590a2d-46ef-4f9e-8e8d-8ad1a89c653f",
   "metadata": {},
   "outputs": [],
   "source": []
  },
  {
   "cell_type": "code",
   "execution_count": null,
   "id": "bc2a3c9b-a8b8-420e-8798-815c788da86b",
   "metadata": {},
   "outputs": [],
   "source": []
  }
 ],
 "metadata": {
  "kernelspec": {
   "display_name": "Python 3 (ipykernel)",
   "language": "python",
   "name": "python3"
  },
  "language_info": {
   "codemirror_mode": {
    "name": "ipython",
    "version": 3
   },
   "file_extension": ".py",
   "mimetype": "text/x-python",
   "name": "python",
   "nbconvert_exporter": "python",
   "pygments_lexer": "ipython3",
   "version": "3.12.3"
  }
 },
 "nbformat": 4,
 "nbformat_minor": 5
}
