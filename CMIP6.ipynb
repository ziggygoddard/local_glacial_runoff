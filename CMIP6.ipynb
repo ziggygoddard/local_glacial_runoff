{
 "cells": [
  {
   "cell_type": "markdown",
   "id": "4e0815b9-0798-4e2b-b23a-c02a0de7843d",
   "metadata": {},
   "source": [
    "# Glacier runoff model for La Paz, Bolivia"
   ]
  },
  {
   "cell_type": "markdown",
   "id": "b2cd2866-1500-4a60-b06c-83fb99db3a9a",
   "metadata": {},
   "source": [
    "Current questions/issues:\n",
    "- Unsure if glacier directory is up to date\n",
    "- Continue on error is on (we didn't figure out how to avoid this)\n",
    "- Multiprocessing is off"
   ]
  },
  {
   "cell_type": "markdown",
   "id": "66ec844b-90d7-47ea-8416-272d27e7fc85",
   "metadata": {},
   "source": [
    "## <b> Step 1: Import necessary software packages for graphing and visualization"
   ]
  },
  {
   "cell_type": "code",
   "execution_count": 1,
   "id": "c1729f9a-1399-4909-a7b6-93c4208665d4",
   "metadata": {},
   "outputs": [],
   "source": [
    "import matplotlib.pyplot as plt\n",
    "import xarray as xr\n",
    "import numpy as np\n",
    "import pandas as pd\n",
    "import geopandas as gpd\n",
    "import seaborn as sns\n",
    "import shapely.geometry as shpg\n",
    "import os"
   ]
  },
  {
   "cell_type": "markdown",
   "id": "f25242f1-2077-49a2-ba16-49a93cd4e85a",
   "metadata": {},
   "source": [
    "## <b> Step 2: import and set up OGGM software"
   ]
  },
  {
   "cell_type": "code",
   "execution_count": 2,
   "id": "de469965-7f43-4385-aa8f-fefd67b03c20",
   "metadata": {},
   "outputs": [],
   "source": [
    "from oggm import cfg, utils, workflow, tasks, graphics"
   ]
  },
  {
   "cell_type": "code",
   "execution_count": 40,
   "id": "4449cefc-18ea-4d6d-ade7-0cd6ed735bb5",
   "metadata": {},
   "outputs": [],
   "source": [
    "# Define the directory path in your home directory\n",
    "path = '/Users/ziggygoddard/Documents/summer24/OGGM_output' "
   ]
  },
  {
   "cell_type": "code",
   "execution_count": 41,
   "id": "934ab118-4065-4268-997f-a0c8f845ba5f",
   "metadata": {},
   "outputs": [
    {
     "name": "stderr",
     "output_type": "stream",
     "text": [
      "2024-06-20 15:26:36: oggm.cfg: Reading default parameters from the OGGM `params.cfg` configuration file.\n",
      "2024-06-20 15:26:36: oggm.cfg: Multiprocessing switched OFF according to the parameter file.\n",
      "2024-06-20 15:26:36: oggm.cfg: Multiprocessing: using all available processors (N=8)\n",
      "2024-06-20 15:26:37: oggm.cfg: PARAMS['store_model_geometry'] changed from `False` to `True`.\n",
      "2024-06-20 15:26:37: oggm.cfg: PARAMS['continue_on_error'] changed from `False` to `True`.\n"
     ]
    }
   ],
   "source": [
    "# work with parameters \n",
    "cfg.initialize(logging_level='WARNING')\n",
    "cfg.PATHS['working_dir']=path\n",
    "\n",
    "cfg.PARAMS['store_model_geometry'] = True\n",
    "# cfg.PARAMS['use_multiprocessing'] = True\n",
    "cfg.PARAMS['continue_on_error']=True #this is to avoid issues with the files with invalid geometries\n",
    "\n",
    "#You can provide any other dataset to OGGM by setting the climate_file parameter in params.cfg"
   ]
  },
  {
   "cell_type": "markdown",
   "id": "abfbca44-ca4d-449b-b352-d833d03aa7b9",
   "metadata": {},
   "source": [
    "## Step 3: Define glaciers for the run"
   ]
  },
  {
   "cell_type": "code",
   "execution_count": 43,
   "id": "042afaea-80fb-49af-8d0e-b418d190f265",
   "metadata": {},
   "outputs": [
    {
     "data": {
      "text/plain": [
       "'/Users/ziggygoddard/OGGM/rgi/RGIV62'"
      ]
     },
     "execution_count": 43,
     "metadata": {},
     "output_type": "execute_result"
    }
   ],
   "source": [
    "# Download glacier outlines\n",
    "# I assume I should access a newer version of the glacier directory?\n",
    "utils.get_rgi_dir(version='62')  # path to the data after download"
   ]
  },
  {
   "cell_type": "code",
   "execution_count": 6,
   "id": "a3eedbb6-12b9-429e-a465-278f8b1cf552",
   "metadata": {},
   "outputs": [],
   "source": [
    "# Get rgi region file for region 16 (South America)\n",
    "# Update?\n",
    "fr = utils.get_rgi_region_file(16, version='62')"
   ]
  },
  {
   "cell_type": "code",
   "execution_count": 7,
   "id": "f5e52547-3f48-4bff-82d8-373d6537818a",
   "metadata": {},
   "outputs": [],
   "source": [
    "# Read file as as geopandas\n",
    "gdf = gpd.read_file(fr)"
   ]
  },
  {
   "cell_type": "code",
   "execution_count": 8,
   "id": "075f1224-ac56-438f-b987-5e0dd59d32b7",
   "metadata": {},
   "outputs": [],
   "source": [
    "# Add basin shapefile\n",
    "path = '~/Documents/summer24/LaPaz_dissolved.shp' # Is this what I want? Is it up to date?\n",
    "basin = gpd.read_file(path)"
   ]
  },
  {
   "cell_type": "code",
   "execution_count": 9,
   "id": "0e58b3dc-c9f7-4e07-b21e-186207bc2b5d",
   "metadata": {},
   "outputs": [],
   "source": [
    "# Select glaciers within the basin\n",
    "in_bas = [basin.geometry.contains(shpg.Point(x, y))[0] for\n",
    "          (x, y) in zip(gdf.CenLon, gdf.CenLat)]\n",
    "gdf_sel = gdf.loc[in_bas]"
   ]
  },
  {
   "cell_type": "code",
   "execution_count": 10,
   "id": "4d82b028-0836-4ce4-abee-6aaaaf98325e",
   "metadata": {
    "scrolled": true
   },
   "outputs": [],
   "source": [
    "# Select rgi id's from the gdf_sel file\n",
    "rgi_ids = gdf_sel['RGIId']"
   ]
  },
  {
   "cell_type": "code",
   "execution_count": 11,
   "id": "06151fa2-7e08-4193-b9df-1e71f5a27885",
   "metadata": {},
   "outputs": [
    {
     "data": {
      "text/plain": [
       "494     RGI60-16.00495\n",
       "496     RGI60-16.00497\n",
       "497     RGI60-16.00498\n",
       "500     RGI60-16.00501\n",
       "504     RGI60-16.00505\n",
       "505     RGI60-16.00506\n",
       "507     RGI60-16.00508\n",
       "508     RGI60-16.00509\n",
       "509     RGI60-16.00510\n",
       "510     RGI60-16.00511\n",
       "512     RGI60-16.00513\n",
       "522     RGI60-16.00523\n",
       "523     RGI60-16.00524\n",
       "525     RGI60-16.00526\n",
       "527     RGI60-16.00528\n",
       "529     RGI60-16.00530\n",
       "530     RGI60-16.00531\n",
       "531     RGI60-16.00532\n",
       "538     RGI60-16.00539\n",
       "539     RGI60-16.00540\n",
       "543     RGI60-16.00544\n",
       "544     RGI60-16.00545\n",
       "545     RGI60-16.00546\n",
       "546     RGI60-16.00547\n",
       "548     RGI60-16.00549\n",
       "549     RGI60-16.00550\n",
       "563     RGI60-16.00564\n",
       "565     RGI60-16.00566\n",
       "594     RGI60-16.00595\n",
       "595     RGI60-16.00596\n",
       "609     RGI60-16.00610\n",
       "610     RGI60-16.00611\n",
       "1441    RGI60-16.01447\n",
       "1442    RGI60-16.01448\n",
       "1443    RGI60-16.01449\n",
       "Name: RGIId, dtype: object"
      ]
     },
     "execution_count": 11,
     "metadata": {},
     "output_type": "execute_result"
    }
   ],
   "source": [
    "rgi_ids"
   ]
  },
  {
   "cell_type": "markdown",
   "id": "1d0e0c71-f806-4525-b3e4-84a5d0874be4",
   "metadata": {},
   "source": [
    "## Step 4. Prepare glacier data"
   ]
  },
  {
   "cell_type": "code",
   "execution_count": 12,
   "id": "94c11d9b-c968-4def-9c80-9f621fb06f83",
   "metadata": {
    "tags": []
   },
   "outputs": [
    {
     "name": "stderr",
     "output_type": "stream",
     "text": [
      "2024-06-20 10:34:39: oggm.workflow: init_glacier_directories from prepro level 5 on 35 glaciers.\n",
      "2024-06-20 10:34:39: oggm.workflow: Execute entity tasks [gdir_from_prepro] on 35 glaciers\n",
      "2024-06-20 10:34:39: oggm.workflow: WARNING: you are trying to run an entity task on 35 glaciers with multiprocessing turned off. OGGM will run faster with multiprocessing turned on.\n"
     ]
    }
   ],
   "source": [
    "# Initiate glacier directory task for each glacier\n",
    "base_url = 'https://cluster.klima.uni-bremen.de/~oggm/gdirs/oggm_v1.6/L3-L5_files/2023.3/elev_bands/W5E5_spinup'\n",
    "gdirs = workflow.init_glacier_directories(rgi_ids,\n",
    "                                           from_prepro_level=5,\n",
    "                                           prepro_base_url=base_url,\n",
    "                                         prepro_border=80)\n",
    "## we have a problem with the 10th glacier.  Why is OGGM not continuing?\n",
    "## Try: running this in a for loop, and/or removing problem glaciers\n",
    "## this is up to date"
   ]
  },
  {
   "cell_type": "code",
   "execution_count": 13,
   "id": "aa409c3d-7273-4a51-9001-3c306c920246",
   "metadata": {},
   "outputs": [
    {
     "data": {
      "text/plain": [
       "list"
      ]
     },
     "execution_count": 13,
     "metadata": {},
     "output_type": "execute_result"
    }
   ],
   "source": [
    "type(gdirs)"
   ]
  },
  {
   "cell_type": "code",
   "execution_count": 14,
   "id": "312e3b8a-68d0-4e7c-aefc-4316fe6cc06f",
   "metadata": {},
   "outputs": [],
   "source": [
    "# gdirs = []\n",
    "# for r in rgi_ids:\n",
    "#     try:\n",
    "#         gdir_temp = workflow.init_glacier_directories(r,\n",
    "#                                                    from_prepro_level=5,\n",
    "#                                                    prepro_base_url=base_url,\n",
    "#                                                  prepro_border=80)\n",
    "#         gdirs.append(gdir_temp)\n",
    "#     except:\n",
    "#         print('Failed for {}'.format(r))\n",
    "#         continue\n",
    "\n",
    "## Does not make correct format of gdirs for later use; also doesn't report any errors\n",
    "## better luck next time"
   ]
  },
  {
   "cell_type": "markdown",
   "id": "30a75d05-3f67-4811-abae-12eeaf626eda",
   "metadata": {},
   "source": [
    "# Step 5. Initiate climate runs"
   ]
  },
  {
   "cell_type": "markdown",
   "id": "d7eb0871-d252-479e-a86f-d9a09ffe9c5c",
   "metadata": {},
   "source": [
    "### I. Run constant climate commitment run"
   ]
  },
  {
   "cell_type": "code",
   "execution_count": 15,
   "id": "a4150501-6ee3-41e8-a8dd-f4c70f5f42c8",
   "metadata": {
    "tags": []
   },
   "outputs": [],
   "source": [
    "# Initiate run_with_hydro using constant climate\n",
    "# I assume this stays the same?\n",
    "# Changed 'gdir' to 'gdirs'\n",
    "for g in gdirs:\n",
    "    file_id = '_ct'\n",
    "    tasks.run_with_hydro(g, run_task=tasks.run_constant_climate, nyears=100, y0=2014, halfsize=5, store_monthly_hydro=True, \n",
    "                     output_filesuffix=file_id);"
   ]
  },
  {
   "cell_type": "code",
   "execution_count": 16,
   "id": "e7f5770c-1635-4150-8e75-f04e6a76c9a4",
   "metadata": {},
   "outputs": [
    {
     "name": "stderr",
     "output_type": "stream",
     "text": [
      "2024-06-20 10:35:45: oggm.utils: Applying global task compile_run_output on 35 glaciers\n",
      "2024-06-20 10:35:45: oggm.utils: Applying compile_run_output on 35 gdirs.\n"
     ]
    }
   ],
   "source": [
    "# Export data from constant climate run and compile run output\n",
    "import datetime\n",
    "output_path = '~/Documents/summer24/{}-ct_compiled_output.nc'.format(datetime.date.today()) \n",
    "new_ds = utils.compile_run_output(gdirs, input_filesuffix=file_id, path=output_path)"
   ]
  },
  {
   "cell_type": "code",
   "execution_count": 17,
   "id": "bd7fef32-4dee-4e80-9bf5-5b67bf3a2c9a",
   "metadata": {},
   "outputs": [],
   "source": [
    "# Load in the glacier data from above (only when data has been saved)\n",
    "export_date = '2024-06-20'\n",
    "input_path = '~/Documents/summer24/{}-ct_compiled_output.nc'.format(export_date)\n",
    "ct_ds = xr.open_dataset(input_path)"
   ]
  },
  {
   "cell_type": "code",
   "execution_count": 18,
   "id": "4c9a9314-ba0b-43b4-85c5-57c21722f813",
   "metadata": {
    "scrolled": true
   },
   "outputs": [
    {
     "data": {
      "text/html": [
       "<div><svg style=\"position: absolute; width: 0; height: 0; overflow: hidden\">\n",
       "<defs>\n",
       "<symbol id=\"icon-database\" viewBox=\"0 0 32 32\">\n",
       "<path d=\"M16 0c-8.837 0-16 2.239-16 5v4c0 2.761 7.163 5 16 5s16-2.239 16-5v-4c0-2.761-7.163-5-16-5z\"></path>\n",
       "<path d=\"M16 17c-8.837 0-16-2.239-16-5v6c0 2.761 7.163 5 16 5s16-2.239 16-5v-6c0 2.761-7.163 5-16 5z\"></path>\n",
       "<path d=\"M16 26c-8.837 0-16-2.239-16-5v6c0 2.761 7.163 5 16 5s16-2.239 16-5v-6c0 2.761-7.163 5-16 5z\"></path>\n",
       "</symbol>\n",
       "<symbol id=\"icon-file-text2\" viewBox=\"0 0 32 32\">\n",
       "<path d=\"M28.681 7.159c-0.694-0.947-1.662-2.053-2.724-3.116s-2.169-2.030-3.116-2.724c-1.612-1.182-2.393-1.319-2.841-1.319h-15.5c-1.378 0-2.5 1.121-2.5 2.5v27c0 1.378 1.122 2.5 2.5 2.5h23c1.378 0 2.5-1.122 2.5-2.5v-19.5c0-0.448-0.137-1.23-1.319-2.841zM24.543 5.457c0.959 0.959 1.712 1.825 2.268 2.543h-4.811v-4.811c0.718 0.556 1.584 1.309 2.543 2.268zM28 29.5c0 0.271-0.229 0.5-0.5 0.5h-23c-0.271 0-0.5-0.229-0.5-0.5v-27c0-0.271 0.229-0.5 0.5-0.5 0 0 15.499-0 15.5 0v7c0 0.552 0.448 1 1 1h7v19.5z\"></path>\n",
       "<path d=\"M23 26h-14c-0.552 0-1-0.448-1-1s0.448-1 1-1h14c0.552 0 1 0.448 1 1s-0.448 1-1 1z\"></path>\n",
       "<path d=\"M23 22h-14c-0.552 0-1-0.448-1-1s0.448-1 1-1h14c0.552 0 1 0.448 1 1s-0.448 1-1 1z\"></path>\n",
       "<path d=\"M23 18h-14c-0.552 0-1-0.448-1-1s0.448-1 1-1h14c0.552 0 1 0.448 1 1s-0.448 1-1 1z\"></path>\n",
       "</symbol>\n",
       "</defs>\n",
       "</svg>\n",
       "<style>/* CSS stylesheet for displaying xarray objects in jupyterlab.\n",
       " *\n",
       " */\n",
       "\n",
       ":root {\n",
       "  --xr-font-color0: var(--jp-content-font-color0, rgba(0, 0, 0, 1));\n",
       "  --xr-font-color2: var(--jp-content-font-color2, rgba(0, 0, 0, 0.54));\n",
       "  --xr-font-color3: var(--jp-content-font-color3, rgba(0, 0, 0, 0.38));\n",
       "  --xr-border-color: var(--jp-border-color2, #e0e0e0);\n",
       "  --xr-disabled-color: var(--jp-layout-color3, #bdbdbd);\n",
       "  --xr-background-color: var(--jp-layout-color0, white);\n",
       "  --xr-background-color-row-even: var(--jp-layout-color1, white);\n",
       "  --xr-background-color-row-odd: var(--jp-layout-color2, #eeeeee);\n",
       "}\n",
       "\n",
       "html[theme=dark],\n",
       "body[data-theme=dark],\n",
       "body.vscode-dark {\n",
       "  --xr-font-color0: rgba(255, 255, 255, 1);\n",
       "  --xr-font-color2: rgba(255, 255, 255, 0.54);\n",
       "  --xr-font-color3: rgba(255, 255, 255, 0.38);\n",
       "  --xr-border-color: #1F1F1F;\n",
       "  --xr-disabled-color: #515151;\n",
       "  --xr-background-color: #111111;\n",
       "  --xr-background-color-row-even: #111111;\n",
       "  --xr-background-color-row-odd: #313131;\n",
       "}\n",
       "\n",
       ".xr-wrap {\n",
       "  display: block !important;\n",
       "  min-width: 300px;\n",
       "  max-width: 700px;\n",
       "}\n",
       "\n",
       ".xr-text-repr-fallback {\n",
       "  /* fallback to plain text repr when CSS is not injected (untrusted notebook) */\n",
       "  display: none;\n",
       "}\n",
       "\n",
       ".xr-header {\n",
       "  padding-top: 6px;\n",
       "  padding-bottom: 6px;\n",
       "  margin-bottom: 4px;\n",
       "  border-bottom: solid 1px var(--xr-border-color);\n",
       "}\n",
       "\n",
       ".xr-header > div,\n",
       ".xr-header > ul {\n",
       "  display: inline;\n",
       "  margin-top: 0;\n",
       "  margin-bottom: 0;\n",
       "}\n",
       "\n",
       ".xr-obj-type,\n",
       ".xr-array-name {\n",
       "  margin-left: 2px;\n",
       "  margin-right: 10px;\n",
       "}\n",
       "\n",
       ".xr-obj-type {\n",
       "  color: var(--xr-font-color2);\n",
       "}\n",
       "\n",
       ".xr-sections {\n",
       "  padding-left: 0 !important;\n",
       "  display: grid;\n",
       "  grid-template-columns: 150px auto auto 1fr 20px 20px;\n",
       "}\n",
       "\n",
       ".xr-section-item {\n",
       "  display: contents;\n",
       "}\n",
       "\n",
       ".xr-section-item input {\n",
       "  display: none;\n",
       "}\n",
       "\n",
       ".xr-section-item input + label {\n",
       "  color: var(--xr-disabled-color);\n",
       "}\n",
       "\n",
       ".xr-section-item input:enabled + label {\n",
       "  cursor: pointer;\n",
       "  color: var(--xr-font-color2);\n",
       "}\n",
       "\n",
       ".xr-section-item input:enabled + label:hover {\n",
       "  color: var(--xr-font-color0);\n",
       "}\n",
       "\n",
       ".xr-section-summary {\n",
       "  grid-column: 1;\n",
       "  color: var(--xr-font-color2);\n",
       "  font-weight: 500;\n",
       "}\n",
       "\n",
       ".xr-section-summary > span {\n",
       "  display: inline-block;\n",
       "  padding-left: 0.5em;\n",
       "}\n",
       "\n",
       ".xr-section-summary-in:disabled + label {\n",
       "  color: var(--xr-font-color2);\n",
       "}\n",
       "\n",
       ".xr-section-summary-in + label:before {\n",
       "  display: inline-block;\n",
       "  content: '►';\n",
       "  font-size: 11px;\n",
       "  width: 15px;\n",
       "  text-align: center;\n",
       "}\n",
       "\n",
       ".xr-section-summary-in:disabled + label:before {\n",
       "  color: var(--xr-disabled-color);\n",
       "}\n",
       "\n",
       ".xr-section-summary-in:checked + label:before {\n",
       "  content: '▼';\n",
       "}\n",
       "\n",
       ".xr-section-summary-in:checked + label > span {\n",
       "  display: none;\n",
       "}\n",
       "\n",
       ".xr-section-summary,\n",
       ".xr-section-inline-details {\n",
       "  padding-top: 4px;\n",
       "  padding-bottom: 4px;\n",
       "}\n",
       "\n",
       ".xr-section-inline-details {\n",
       "  grid-column: 2 / -1;\n",
       "}\n",
       "\n",
       ".xr-section-details {\n",
       "  display: none;\n",
       "  grid-column: 1 / -1;\n",
       "  margin-bottom: 5px;\n",
       "}\n",
       "\n",
       ".xr-section-summary-in:checked ~ .xr-section-details {\n",
       "  display: contents;\n",
       "}\n",
       "\n",
       ".xr-array-wrap {\n",
       "  grid-column: 1 / -1;\n",
       "  display: grid;\n",
       "  grid-template-columns: 20px auto;\n",
       "}\n",
       "\n",
       ".xr-array-wrap > label {\n",
       "  grid-column: 1;\n",
       "  vertical-align: top;\n",
       "}\n",
       "\n",
       ".xr-preview {\n",
       "  color: var(--xr-font-color3);\n",
       "}\n",
       "\n",
       ".xr-array-preview,\n",
       ".xr-array-data {\n",
       "  padding: 0 5px !important;\n",
       "  grid-column: 2;\n",
       "}\n",
       "\n",
       ".xr-array-data,\n",
       ".xr-array-in:checked ~ .xr-array-preview {\n",
       "  display: none;\n",
       "}\n",
       "\n",
       ".xr-array-in:checked ~ .xr-array-data,\n",
       ".xr-array-preview {\n",
       "  display: inline-block;\n",
       "}\n",
       "\n",
       ".xr-dim-list {\n",
       "  display: inline-block !important;\n",
       "  list-style: none;\n",
       "  padding: 0 !important;\n",
       "  margin: 0;\n",
       "}\n",
       "\n",
       ".xr-dim-list li {\n",
       "  display: inline-block;\n",
       "  padding: 0;\n",
       "  margin: 0;\n",
       "}\n",
       "\n",
       ".xr-dim-list:before {\n",
       "  content: '(';\n",
       "}\n",
       "\n",
       ".xr-dim-list:after {\n",
       "  content: ')';\n",
       "}\n",
       "\n",
       ".xr-dim-list li:not(:last-child):after {\n",
       "  content: ',';\n",
       "  padding-right: 5px;\n",
       "}\n",
       "\n",
       ".xr-has-index {\n",
       "  font-weight: bold;\n",
       "}\n",
       "\n",
       ".xr-var-list,\n",
       ".xr-var-item {\n",
       "  display: contents;\n",
       "}\n",
       "\n",
       ".xr-var-item > div,\n",
       ".xr-var-item label,\n",
       ".xr-var-item > .xr-var-name span {\n",
       "  background-color: var(--xr-background-color-row-even);\n",
       "  margin-bottom: 0;\n",
       "}\n",
       "\n",
       ".xr-var-item > .xr-var-name:hover span {\n",
       "  padding-right: 5px;\n",
       "}\n",
       "\n",
       ".xr-var-list > li:nth-child(odd) > div,\n",
       ".xr-var-list > li:nth-child(odd) > label,\n",
       ".xr-var-list > li:nth-child(odd) > .xr-var-name span {\n",
       "  background-color: var(--xr-background-color-row-odd);\n",
       "}\n",
       "\n",
       ".xr-var-name {\n",
       "  grid-column: 1;\n",
       "}\n",
       "\n",
       ".xr-var-dims {\n",
       "  grid-column: 2;\n",
       "}\n",
       "\n",
       ".xr-var-dtype {\n",
       "  grid-column: 3;\n",
       "  text-align: right;\n",
       "  color: var(--xr-font-color2);\n",
       "}\n",
       "\n",
       ".xr-var-preview {\n",
       "  grid-column: 4;\n",
       "}\n",
       "\n",
       ".xr-index-preview {\n",
       "  grid-column: 2 / 5;\n",
       "  color: var(--xr-font-color2);\n",
       "}\n",
       "\n",
       ".xr-var-name,\n",
       ".xr-var-dims,\n",
       ".xr-var-dtype,\n",
       ".xr-preview,\n",
       ".xr-attrs dt {\n",
       "  white-space: nowrap;\n",
       "  overflow: hidden;\n",
       "  text-overflow: ellipsis;\n",
       "  padding-right: 10px;\n",
       "}\n",
       "\n",
       ".xr-var-name:hover,\n",
       ".xr-var-dims:hover,\n",
       ".xr-var-dtype:hover,\n",
       ".xr-attrs dt:hover {\n",
       "  overflow: visible;\n",
       "  width: auto;\n",
       "  z-index: 1;\n",
       "}\n",
       "\n",
       ".xr-var-attrs,\n",
       ".xr-var-data,\n",
       ".xr-index-data {\n",
       "  display: none;\n",
       "  background-color: var(--xr-background-color) !important;\n",
       "  padding-bottom: 5px !important;\n",
       "}\n",
       "\n",
       ".xr-var-attrs-in:checked ~ .xr-var-attrs,\n",
       ".xr-var-data-in:checked ~ .xr-var-data,\n",
       ".xr-index-data-in:checked ~ .xr-index-data {\n",
       "  display: block;\n",
       "}\n",
       "\n",
       ".xr-var-data > table {\n",
       "  float: right;\n",
       "}\n",
       "\n",
       ".xr-var-name span,\n",
       ".xr-var-data,\n",
       ".xr-index-name div,\n",
       ".xr-index-data,\n",
       ".xr-attrs {\n",
       "  padding-left: 25px !important;\n",
       "}\n",
       "\n",
       ".xr-attrs,\n",
       ".xr-var-attrs,\n",
       ".xr-var-data,\n",
       ".xr-index-data {\n",
       "  grid-column: 1 / -1;\n",
       "}\n",
       "\n",
       "dl.xr-attrs {\n",
       "  padding: 0;\n",
       "  margin: 0;\n",
       "  display: grid;\n",
       "  grid-template-columns: 125px auto;\n",
       "}\n",
       "\n",
       ".xr-attrs dt,\n",
       ".xr-attrs dd {\n",
       "  padding: 0;\n",
       "  margin: 0;\n",
       "  float: left;\n",
       "  padding-right: 10px;\n",
       "  width: auto;\n",
       "}\n",
       "\n",
       ".xr-attrs dt {\n",
       "  font-weight: normal;\n",
       "  grid-column: 1;\n",
       "}\n",
       "\n",
       ".xr-attrs dt:hover span {\n",
       "  display: inline-block;\n",
       "  background: var(--xr-background-color);\n",
       "  padding-right: 10px;\n",
       "}\n",
       "\n",
       ".xr-attrs dd {\n",
       "  grid-column: 2;\n",
       "  white-space: pre-wrap;\n",
       "  word-break: break-all;\n",
       "}\n",
       "\n",
       ".xr-icon-database,\n",
       ".xr-icon-file-text2,\n",
       ".xr-no-icon {\n",
       "  display: inline-block;\n",
       "  vertical-align: middle;\n",
       "  width: 1em;\n",
       "  height: 1.5em !important;\n",
       "  stroke-width: 0;\n",
       "  stroke: currentColor;\n",
       "  fill: currentColor;\n",
       "}\n",
       "</style><pre class='xr-text-repr-fallback'>&lt;xarray.Dataset&gt; Size: 1MB\n",
       "Dimensions:                       (time: 101, rgi_id: 35, month_2d: 12)\n",
       "Coordinates:\n",
       "  * time                          (time) float64 808B 0.0 1.0 2.0 ... 99.0 100.0\n",
       "  * rgi_id                        (rgi_id) &lt;U14 2kB &#x27;RGI60-16.00495&#x27; ... &#x27;RGI...\n",
       "    hydro_year                    (time) int64 808B ...\n",
       "    hydro_month                   (time) int64 808B ...\n",
       "    calendar_year                 (time) int64 808B ...\n",
       "    calendar_month                (time) int64 808B ...\n",
       "  * month_2d                      (month_2d) int64 96B 1 2 3 4 5 ... 9 10 11 12\n",
       "    calendar_month_2d             (month_2d) int64 96B ...\n",
       "Data variables: (12/24)\n",
       "    volume                        (time, rgi_id) float32 14kB ...\n",
       "    volume_bsl                    (time, rgi_id) float32 14kB ...\n",
       "    volume_bwl                    (time, rgi_id) float32 14kB ...\n",
       "    area                          (time, rgi_id) float32 14kB ...\n",
       "    length                        (time, rgi_id) float32 14kB ...\n",
       "    calving                       (time, rgi_id) float32 14kB ...\n",
       "    ...                            ...\n",
       "    liq_prcp_on_glacier_monthly   (time, month_2d, rgi_id) float32 170kB ...\n",
       "    snowfall_off_glacier_monthly  (time, month_2d, rgi_id) float32 170kB ...\n",
       "    snowfall_on_glacier_monthly   (time, month_2d, rgi_id) float32 170kB ...\n",
       "    water_level                   (rgi_id) float32 140B ...\n",
       "    glen_a                        (rgi_id) float32 140B ...\n",
       "    fs                            (rgi_id) float32 140B ...\n",
       "Attributes:\n",
       "    description:    OGGM model output\n",
       "    oggm_version:   1.6.1\n",
       "    calendar:       365-day no leap\n",
       "    creation_date:  2024-06-20 14:35:46</pre><div class='xr-wrap' style='display:none'><div class='xr-header'><div class='xr-obj-type'>xarray.Dataset</div></div><ul class='xr-sections'><li class='xr-section-item'><input id='section-d0011295-dcbf-4670-baac-fc6ce5dd0486' class='xr-section-summary-in' type='checkbox' disabled ><label for='section-d0011295-dcbf-4670-baac-fc6ce5dd0486' class='xr-section-summary'  title='Expand/collapse section'>Dimensions:</label><div class='xr-section-inline-details'><ul class='xr-dim-list'><li><span class='xr-has-index'>time</span>: 101</li><li><span class='xr-has-index'>rgi_id</span>: 35</li><li><span class='xr-has-index'>month_2d</span>: 12</li></ul></div><div class='xr-section-details'></div></li><li class='xr-section-item'><input id='section-d320f55a-b78a-470e-933e-e74412587d7b' class='xr-section-summary-in' type='checkbox'  checked><label for='section-d320f55a-b78a-470e-933e-e74412587d7b' class='xr-section-summary' >Coordinates: <span>(8)</span></label><div class='xr-section-inline-details'></div><div class='xr-section-details'><ul class='xr-var-list'><li class='xr-var-item'><div class='xr-var-name'><span class='xr-has-index'>time</span></div><div class='xr-var-dims'>(time)</div><div class='xr-var-dtype'>float64</div><div class='xr-var-preview xr-preview'>0.0 1.0 2.0 3.0 ... 98.0 99.0 100.0</div><input id='attrs-5896bb0b-2727-4eec-9963-e4854b00d2d0' class='xr-var-attrs-in' type='checkbox' ><label for='attrs-5896bb0b-2727-4eec-9963-e4854b00d2d0' title='Show/Hide attributes'><svg class='icon xr-icon-file-text2'><use xlink:href='#icon-file-text2'></use></svg></label><input id='data-acbf3c09-fbfb-432a-a74f-5270cb1e5f46' class='xr-var-data-in' type='checkbox'><label for='data-acbf3c09-fbfb-432a-a74f-5270cb1e5f46' title='Show/Hide data repr'><svg class='icon xr-icon-database'><use xlink:href='#icon-database'></use></svg></label><div class='xr-var-attrs'><dl class='xr-attrs'><dt><span>description :</span></dt><dd>Floating year</dd></dl></div><div class='xr-var-data'><pre>array([  0.,   1.,   2.,   3.,   4.,   5.,   6.,   7.,   8.,   9.,  10.,  11.,\n",
       "        12.,  13.,  14.,  15.,  16.,  17.,  18.,  19.,  20.,  21.,  22.,  23.,\n",
       "        24.,  25.,  26.,  27.,  28.,  29.,  30.,  31.,  32.,  33.,  34.,  35.,\n",
       "        36.,  37.,  38.,  39.,  40.,  41.,  42.,  43.,  44.,  45.,  46.,  47.,\n",
       "        48.,  49.,  50.,  51.,  52.,  53.,  54.,  55.,  56.,  57.,  58.,  59.,\n",
       "        60.,  61.,  62.,  63.,  64.,  65.,  66.,  67.,  68.,  69.,  70.,  71.,\n",
       "        72.,  73.,  74.,  75.,  76.,  77.,  78.,  79.,  80.,  81.,  82.,  83.,\n",
       "        84.,  85.,  86.,  87.,  88.,  89.,  90.,  91.,  92.,  93.,  94.,  95.,\n",
       "        96.,  97.,  98.,  99., 100.])</pre></div></li><li class='xr-var-item'><div class='xr-var-name'><span class='xr-has-index'>rgi_id</span></div><div class='xr-var-dims'>(rgi_id)</div><div class='xr-var-dtype'>&lt;U14</div><div class='xr-var-preview xr-preview'>&#x27;RGI60-16.00495&#x27; ... &#x27;RGI60-16.0...</div><input id='attrs-b969efba-96ae-4663-afab-b1b213190809' class='xr-var-attrs-in' type='checkbox' ><label for='attrs-b969efba-96ae-4663-afab-b1b213190809' title='Show/Hide attributes'><svg class='icon xr-icon-file-text2'><use xlink:href='#icon-file-text2'></use></svg></label><input id='data-8286cbfd-777d-4767-9af2-2d4a7e76a477' class='xr-var-data-in' type='checkbox'><label for='data-8286cbfd-777d-4767-9af2-2d4a7e76a477' title='Show/Hide data repr'><svg class='icon xr-icon-database'><use xlink:href='#icon-database'></use></svg></label><div class='xr-var-attrs'><dl class='xr-attrs'><dt><span>description :</span></dt><dd>RGI glacier identifier</dd></dl></div><div class='xr-var-data'><pre>array([&#x27;RGI60-16.00495&#x27;, &#x27;RGI60-16.00497&#x27;, &#x27;RGI60-16.00498&#x27;, &#x27;RGI60-16.00501&#x27;,\n",
       "       &#x27;RGI60-16.00505&#x27;, &#x27;RGI60-16.00506&#x27;, &#x27;RGI60-16.00508&#x27;, &#x27;RGI60-16.00509&#x27;,\n",
       "       &#x27;RGI60-16.00510&#x27;, &#x27;RGI60-16.00511&#x27;, &#x27;RGI60-16.00513&#x27;, &#x27;RGI60-16.00523&#x27;,\n",
       "       &#x27;RGI60-16.00524&#x27;, &#x27;RGI60-16.00526&#x27;, &#x27;RGI60-16.00528&#x27;, &#x27;RGI60-16.00530&#x27;,\n",
       "       &#x27;RGI60-16.00531&#x27;, &#x27;RGI60-16.00532&#x27;, &#x27;RGI60-16.00539&#x27;, &#x27;RGI60-16.00540&#x27;,\n",
       "       &#x27;RGI60-16.00544&#x27;, &#x27;RGI60-16.00545&#x27;, &#x27;RGI60-16.00546&#x27;, &#x27;RGI60-16.00547&#x27;,\n",
       "       &#x27;RGI60-16.00549&#x27;, &#x27;RGI60-16.00550&#x27;, &#x27;RGI60-16.00564&#x27;, &#x27;RGI60-16.00566&#x27;,\n",
       "       &#x27;RGI60-16.00595&#x27;, &#x27;RGI60-16.00596&#x27;, &#x27;RGI60-16.00610&#x27;, &#x27;RGI60-16.00611&#x27;,\n",
       "       &#x27;RGI60-16.01447&#x27;, &#x27;RGI60-16.01448&#x27;, &#x27;RGI60-16.01449&#x27;], dtype=&#x27;&lt;U14&#x27;)</pre></div></li><li class='xr-var-item'><div class='xr-var-name'><span>hydro_year</span></div><div class='xr-var-dims'>(time)</div><div class='xr-var-dtype'>int64</div><div class='xr-var-preview xr-preview'>...</div><input id='attrs-5d21571b-ce67-44c6-b518-0ace0998ce88' class='xr-var-attrs-in' type='checkbox' ><label for='attrs-5d21571b-ce67-44c6-b518-0ace0998ce88' title='Show/Hide attributes'><svg class='icon xr-icon-file-text2'><use xlink:href='#icon-file-text2'></use></svg></label><input id='data-e299d9b8-302e-40ab-a98d-540169ff4cc1' class='xr-var-data-in' type='checkbox'><label for='data-e299d9b8-302e-40ab-a98d-540169ff4cc1' title='Show/Hide data repr'><svg class='icon xr-icon-database'><use xlink:href='#icon-database'></use></svg></label><div class='xr-var-attrs'><dl class='xr-attrs'><dt><span>description :</span></dt><dd>Hydrological year</dd></dl></div><div class='xr-var-data'><pre>[101 values with dtype=int64]</pre></div></li><li class='xr-var-item'><div class='xr-var-name'><span>hydro_month</span></div><div class='xr-var-dims'>(time)</div><div class='xr-var-dtype'>int64</div><div class='xr-var-preview xr-preview'>...</div><input id='attrs-45fffc41-7c34-4c99-9ff7-cfdaa39432c4' class='xr-var-attrs-in' type='checkbox' ><label for='attrs-45fffc41-7c34-4c99-9ff7-cfdaa39432c4' title='Show/Hide attributes'><svg class='icon xr-icon-file-text2'><use xlink:href='#icon-file-text2'></use></svg></label><input id='data-15b46b47-c493-4ff2-9372-3512d51a3333' class='xr-var-data-in' type='checkbox'><label for='data-15b46b47-c493-4ff2-9372-3512d51a3333' title='Show/Hide data repr'><svg class='icon xr-icon-database'><use xlink:href='#icon-database'></use></svg></label><div class='xr-var-attrs'><dl class='xr-attrs'><dt><span>description :</span></dt><dd>Hydrological month</dd></dl></div><div class='xr-var-data'><pre>[101 values with dtype=int64]</pre></div></li><li class='xr-var-item'><div class='xr-var-name'><span>calendar_year</span></div><div class='xr-var-dims'>(time)</div><div class='xr-var-dtype'>int64</div><div class='xr-var-preview xr-preview'>...</div><input id='attrs-64d01009-928b-423e-abae-0cd08a1ebbc8' class='xr-var-attrs-in' type='checkbox' ><label for='attrs-64d01009-928b-423e-abae-0cd08a1ebbc8' title='Show/Hide attributes'><svg class='icon xr-icon-file-text2'><use xlink:href='#icon-file-text2'></use></svg></label><input id='data-97a5ad85-bd91-4334-bf58-40d59877f524' class='xr-var-data-in' type='checkbox'><label for='data-97a5ad85-bd91-4334-bf58-40d59877f524' title='Show/Hide data repr'><svg class='icon xr-icon-database'><use xlink:href='#icon-database'></use></svg></label><div class='xr-var-attrs'><dl class='xr-attrs'><dt><span>description :</span></dt><dd>Calendar year</dd></dl></div><div class='xr-var-data'><pre>[101 values with dtype=int64]</pre></div></li><li class='xr-var-item'><div class='xr-var-name'><span>calendar_month</span></div><div class='xr-var-dims'>(time)</div><div class='xr-var-dtype'>int64</div><div class='xr-var-preview xr-preview'>...</div><input id='attrs-a92694a7-ce8b-41ac-b240-a1276b8f48e2' class='xr-var-attrs-in' type='checkbox' ><label for='attrs-a92694a7-ce8b-41ac-b240-a1276b8f48e2' title='Show/Hide attributes'><svg class='icon xr-icon-file-text2'><use xlink:href='#icon-file-text2'></use></svg></label><input id='data-ccdcb471-3236-4dfd-bc5b-58489f0fcc7d' class='xr-var-data-in' type='checkbox'><label for='data-ccdcb471-3236-4dfd-bc5b-58489f0fcc7d' title='Show/Hide data repr'><svg class='icon xr-icon-database'><use xlink:href='#icon-database'></use></svg></label><div class='xr-var-attrs'><dl class='xr-attrs'><dt><span>description :</span></dt><dd>Calendar month</dd></dl></div><div class='xr-var-data'><pre>[101 values with dtype=int64]</pre></div></li><li class='xr-var-item'><div class='xr-var-name'><span class='xr-has-index'>month_2d</span></div><div class='xr-var-dims'>(month_2d)</div><div class='xr-var-dtype'>int64</div><div class='xr-var-preview xr-preview'>1 2 3 4 5 6 7 8 9 10 11 12</div><input id='attrs-9a54244d-b131-448d-ae8a-ed34f4529ad2' class='xr-var-attrs-in' type='checkbox' disabled><label for='attrs-9a54244d-b131-448d-ae8a-ed34f4529ad2' title='Show/Hide attributes'><svg class='icon xr-icon-file-text2'><use xlink:href='#icon-file-text2'></use></svg></label><input id='data-265e4056-38da-4e4a-8120-c0c1e55a05d7' class='xr-var-data-in' type='checkbox'><label for='data-265e4056-38da-4e4a-8120-c0c1e55a05d7' title='Show/Hide data repr'><svg class='icon xr-icon-database'><use xlink:href='#icon-database'></use></svg></label><div class='xr-var-attrs'><dl class='xr-attrs'></dl></div><div class='xr-var-data'><pre>array([ 1,  2,  3,  4,  5,  6,  7,  8,  9, 10, 11, 12])</pre></div></li><li class='xr-var-item'><div class='xr-var-name'><span>calendar_month_2d</span></div><div class='xr-var-dims'>(month_2d)</div><div class='xr-var-dtype'>int64</div><div class='xr-var-preview xr-preview'>...</div><input id='attrs-202f0413-76a9-4a22-a91a-b39d40baed0e' class='xr-var-attrs-in' type='checkbox' disabled><label for='attrs-202f0413-76a9-4a22-a91a-b39d40baed0e' title='Show/Hide attributes'><svg class='icon xr-icon-file-text2'><use xlink:href='#icon-file-text2'></use></svg></label><input id='data-5a90f699-32ce-4436-8781-0a088ede8674' class='xr-var-data-in' type='checkbox'><label for='data-5a90f699-32ce-4436-8781-0a088ede8674' title='Show/Hide data repr'><svg class='icon xr-icon-database'><use xlink:href='#icon-database'></use></svg></label><div class='xr-var-attrs'><dl class='xr-attrs'></dl></div><div class='xr-var-data'><pre>[12 values with dtype=int64]</pre></div></li></ul></div></li><li class='xr-section-item'><input id='section-8486fd37-4ebd-4fd5-adb7-ed791959469f' class='xr-section-summary-in' type='checkbox'  ><label for='section-8486fd37-4ebd-4fd5-adb7-ed791959469f' class='xr-section-summary' >Data variables: <span>(24)</span></label><div class='xr-section-inline-details'></div><div class='xr-section-details'><ul class='xr-var-list'><li class='xr-var-item'><div class='xr-var-name'><span>volume</span></div><div class='xr-var-dims'>(time, rgi_id)</div><div class='xr-var-dtype'>float32</div><div class='xr-var-preview xr-preview'>...</div><input id='attrs-a471e5c8-682e-4dcc-9a1a-788232f19c00' class='xr-var-attrs-in' type='checkbox' ><label for='attrs-a471e5c8-682e-4dcc-9a1a-788232f19c00' title='Show/Hide attributes'><svg class='icon xr-icon-file-text2'><use xlink:href='#icon-file-text2'></use></svg></label><input id='data-fe7d9ba4-e5ad-4949-85e7-d7889075a7a3' class='xr-var-data-in' type='checkbox'><label for='data-fe7d9ba4-e5ad-4949-85e7-d7889075a7a3' title='Show/Hide data repr'><svg class='icon xr-icon-database'><use xlink:href='#icon-database'></use></svg></label><div class='xr-var-attrs'><dl class='xr-attrs'><dt><span>description :</span></dt><dd>Total glacier volume</dd><dt><span>unit :</span></dt><dd>m 3</dd></dl></div><div class='xr-var-data'><pre>[3535 values with dtype=float32]</pre></div></li><li class='xr-var-item'><div class='xr-var-name'><span>volume_bsl</span></div><div class='xr-var-dims'>(time, rgi_id)</div><div class='xr-var-dtype'>float32</div><div class='xr-var-preview xr-preview'>...</div><input id='attrs-5d04eadb-47eb-48c3-b6db-02a014ab0c85' class='xr-var-attrs-in' type='checkbox' ><label for='attrs-5d04eadb-47eb-48c3-b6db-02a014ab0c85' title='Show/Hide attributes'><svg class='icon xr-icon-file-text2'><use xlink:href='#icon-file-text2'></use></svg></label><input id='data-14540786-7eea-45ec-8710-f53505dc0a9c' class='xr-var-data-in' type='checkbox'><label for='data-14540786-7eea-45ec-8710-f53505dc0a9c' title='Show/Hide data repr'><svg class='icon xr-icon-database'><use xlink:href='#icon-database'></use></svg></label><div class='xr-var-attrs'><dl class='xr-attrs'><dt><span>description :</span></dt><dd>Glacier volume below sea-level</dd><dt><span>unit :</span></dt><dd>m 3</dd></dl></div><div class='xr-var-data'><pre>[3535 values with dtype=float32]</pre></div></li><li class='xr-var-item'><div class='xr-var-name'><span>volume_bwl</span></div><div class='xr-var-dims'>(time, rgi_id)</div><div class='xr-var-dtype'>float32</div><div class='xr-var-preview xr-preview'>...</div><input id='attrs-a9e4a64f-7bf6-472f-b314-872c1a29a598' class='xr-var-attrs-in' type='checkbox' ><label for='attrs-a9e4a64f-7bf6-472f-b314-872c1a29a598' title='Show/Hide attributes'><svg class='icon xr-icon-file-text2'><use xlink:href='#icon-file-text2'></use></svg></label><input id='data-96054b6f-4da7-463b-9fe1-3cddf11a5a59' class='xr-var-data-in' type='checkbox'><label for='data-96054b6f-4da7-463b-9fe1-3cddf11a5a59' title='Show/Hide data repr'><svg class='icon xr-icon-database'><use xlink:href='#icon-database'></use></svg></label><div class='xr-var-attrs'><dl class='xr-attrs'><dt><span>description :</span></dt><dd>Glacier volume below water-level</dd><dt><span>unit :</span></dt><dd>m 3</dd></dl></div><div class='xr-var-data'><pre>[3535 values with dtype=float32]</pre></div></li><li class='xr-var-item'><div class='xr-var-name'><span>area</span></div><div class='xr-var-dims'>(time, rgi_id)</div><div class='xr-var-dtype'>float32</div><div class='xr-var-preview xr-preview'>...</div><input id='attrs-3cc2d777-bc0a-48e1-b3c1-1900b4170e81' class='xr-var-attrs-in' type='checkbox' ><label for='attrs-3cc2d777-bc0a-48e1-b3c1-1900b4170e81' title='Show/Hide attributes'><svg class='icon xr-icon-file-text2'><use xlink:href='#icon-file-text2'></use></svg></label><input id='data-eb89eca3-e2e1-4074-9a66-29e85aba35b1' class='xr-var-data-in' type='checkbox'><label for='data-eb89eca3-e2e1-4074-9a66-29e85aba35b1' title='Show/Hide data repr'><svg class='icon xr-icon-database'><use xlink:href='#icon-database'></use></svg></label><div class='xr-var-attrs'><dl class='xr-attrs'><dt><span>description :</span></dt><dd>Total glacier area</dd><dt><span>unit :</span></dt><dd>m 2</dd></dl></div><div class='xr-var-data'><pre>[3535 values with dtype=float32]</pre></div></li><li class='xr-var-item'><div class='xr-var-name'><span>length</span></div><div class='xr-var-dims'>(time, rgi_id)</div><div class='xr-var-dtype'>float32</div><div class='xr-var-preview xr-preview'>...</div><input id='attrs-60006994-9044-4430-8184-172f2ca6549d' class='xr-var-attrs-in' type='checkbox' ><label for='attrs-60006994-9044-4430-8184-172f2ca6549d' title='Show/Hide attributes'><svg class='icon xr-icon-file-text2'><use xlink:href='#icon-file-text2'></use></svg></label><input id='data-2d7ac281-ee0b-48f1-8019-6911a17ce606' class='xr-var-data-in' type='checkbox'><label for='data-2d7ac281-ee0b-48f1-8019-6911a17ce606' title='Show/Hide data repr'><svg class='icon xr-icon-database'><use xlink:href='#icon-database'></use></svg></label><div class='xr-var-attrs'><dl class='xr-attrs'><dt><span>description :</span></dt><dd>Glacier length</dd><dt><span>unit :</span></dt><dd>m</dd></dl></div><div class='xr-var-data'><pre>[3535 values with dtype=float32]</pre></div></li><li class='xr-var-item'><div class='xr-var-name'><span>calving</span></div><div class='xr-var-dims'>(time, rgi_id)</div><div class='xr-var-dtype'>float32</div><div class='xr-var-preview xr-preview'>...</div><input id='attrs-97a168c5-6560-432e-8b29-f0fcf4c1bcb1' class='xr-var-attrs-in' type='checkbox' ><label for='attrs-97a168c5-6560-432e-8b29-f0fcf4c1bcb1' title='Show/Hide attributes'><svg class='icon xr-icon-file-text2'><use xlink:href='#icon-file-text2'></use></svg></label><input id='data-96e02313-17b4-4cbd-8ff2-3ca36fbac870' class='xr-var-data-in' type='checkbox'><label for='data-96e02313-17b4-4cbd-8ff2-3ca36fbac870' title='Show/Hide data repr'><svg class='icon xr-icon-database'><use xlink:href='#icon-database'></use></svg></label><div class='xr-var-attrs'><dl class='xr-attrs'><dt><span>description :</span></dt><dd>Total accumulated calving flux</dd><dt><span>unit :</span></dt><dd>m 3</dd></dl></div><div class='xr-var-data'><pre>[3535 values with dtype=float32]</pre></div></li><li class='xr-var-item'><div class='xr-var-name'><span>calving_rate</span></div><div class='xr-var-dims'>(time, rgi_id)</div><div class='xr-var-dtype'>float32</div><div class='xr-var-preview xr-preview'>...</div><input id='attrs-bf4e00ea-4392-421c-8eaa-e6ab1dc4bc87' class='xr-var-attrs-in' type='checkbox' ><label for='attrs-bf4e00ea-4392-421c-8eaa-e6ab1dc4bc87' title='Show/Hide attributes'><svg class='icon xr-icon-file-text2'><use xlink:href='#icon-file-text2'></use></svg></label><input id='data-ea292365-b4ba-4c61-82b6-97ecba32f7a1' class='xr-var-data-in' type='checkbox'><label for='data-ea292365-b4ba-4c61-82b6-97ecba32f7a1' title='Show/Hide data repr'><svg class='icon xr-icon-database'><use xlink:href='#icon-database'></use></svg></label><div class='xr-var-attrs'><dl class='xr-attrs'><dt><span>description :</span></dt><dd>Calving rate</dd><dt><span>unit :</span></dt><dd>m yr-1</dd></dl></div><div class='xr-var-data'><pre>[3535 values with dtype=float32]</pre></div></li><li class='xr-var-item'><div class='xr-var-name'><span>off_area</span></div><div class='xr-var-dims'>(time, rgi_id)</div><div class='xr-var-dtype'>float32</div><div class='xr-var-preview xr-preview'>...</div><input id='attrs-b1261264-0ed9-43c0-ad44-9e3211e20fe4' class='xr-var-attrs-in' type='checkbox' ><label for='attrs-b1261264-0ed9-43c0-ad44-9e3211e20fe4' title='Show/Hide attributes'><svg class='icon xr-icon-file-text2'><use xlink:href='#icon-file-text2'></use></svg></label><input id='data-76da6334-efc6-4b1a-a5d5-8e2cb37e63a4' class='xr-var-data-in' type='checkbox'><label for='data-76da6334-efc6-4b1a-a5d5-8e2cb37e63a4' title='Show/Hide data repr'><svg class='icon xr-icon-database'><use xlink:href='#icon-database'></use></svg></label><div class='xr-var-attrs'><dl class='xr-attrs'><dt><span>description :</span></dt><dd>Off-glacier area</dd><dt><span>unit :</span></dt><dd>m 2</dd></dl></div><div class='xr-var-data'><pre>[3535 values with dtype=float32]</pre></div></li><li class='xr-var-item'><div class='xr-var-name'><span>on_area</span></div><div class='xr-var-dims'>(time, rgi_id)</div><div class='xr-var-dtype'>float32</div><div class='xr-var-preview xr-preview'>...</div><input id='attrs-64439f05-ede2-4130-8dc8-0d746c03d0e1' class='xr-var-attrs-in' type='checkbox' ><label for='attrs-64439f05-ede2-4130-8dc8-0d746c03d0e1' title='Show/Hide attributes'><svg class='icon xr-icon-file-text2'><use xlink:href='#icon-file-text2'></use></svg></label><input id='data-9ad210b9-41c8-47e0-844b-a8f5e23b008f' class='xr-var-data-in' type='checkbox'><label for='data-9ad210b9-41c8-47e0-844b-a8f5e23b008f' title='Show/Hide data repr'><svg class='icon xr-icon-database'><use xlink:href='#icon-database'></use></svg></label><div class='xr-var-attrs'><dl class='xr-attrs'><dt><span>unit :</span></dt><dd>m 2</dd><dt><span>description :</span></dt><dd>On-glacier area</dd></dl></div><div class='xr-var-data'><pre>[3535 values with dtype=float32]</pre></div></li><li class='xr-var-item'><div class='xr-var-name'><span>melt_off_glacier</span></div><div class='xr-var-dims'>(time, rgi_id)</div><div class='xr-var-dtype'>float32</div><div class='xr-var-preview xr-preview'>...</div><input id='attrs-309f2991-2083-4bf8-b643-3e84c45da3bf' class='xr-var-attrs-in' type='checkbox' ><label for='attrs-309f2991-2083-4bf8-b643-3e84c45da3bf' title='Show/Hide attributes'><svg class='icon xr-icon-file-text2'><use xlink:href='#icon-file-text2'></use></svg></label><input id='data-05a59d17-30dc-48cf-89b8-2028a463a18e' class='xr-var-data-in' type='checkbox'><label for='data-05a59d17-30dc-48cf-89b8-2028a463a18e' title='Show/Hide data repr'><svg class='icon xr-icon-database'><use xlink:href='#icon-database'></use></svg></label><div class='xr-var-attrs'><dl class='xr-attrs'><dt><span>description :</span></dt><dd>Off-glacier melt</dd><dt><span>unit :</span></dt><dd>kg yr-1</dd></dl></div><div class='xr-var-data'><pre>[3535 values with dtype=float32]</pre></div></li><li class='xr-var-item'><div class='xr-var-name'><span>melt_on_glacier</span></div><div class='xr-var-dims'>(time, rgi_id)</div><div class='xr-var-dtype'>float32</div><div class='xr-var-preview xr-preview'>...</div><input id='attrs-875b3e9d-96be-425d-9252-d64bf3a688eb' class='xr-var-attrs-in' type='checkbox' ><label for='attrs-875b3e9d-96be-425d-9252-d64bf3a688eb' title='Show/Hide attributes'><svg class='icon xr-icon-file-text2'><use xlink:href='#icon-file-text2'></use></svg></label><input id='data-c4e1c62a-4ea5-4682-8e29-6544c2d59cfc' class='xr-var-data-in' type='checkbox'><label for='data-c4e1c62a-4ea5-4682-8e29-6544c2d59cfc' title='Show/Hide data repr'><svg class='icon xr-icon-database'><use xlink:href='#icon-database'></use></svg></label><div class='xr-var-attrs'><dl class='xr-attrs'><dt><span>description :</span></dt><dd>On-glacier melt</dd><dt><span>unit :</span></dt><dd>kg yr-1</dd></dl></div><div class='xr-var-data'><pre>[3535 values with dtype=float32]</pre></div></li><li class='xr-var-item'><div class='xr-var-name'><span>liq_prcp_off_glacier</span></div><div class='xr-var-dims'>(time, rgi_id)</div><div class='xr-var-dtype'>float32</div><div class='xr-var-preview xr-preview'>...</div><input id='attrs-d2a921e4-f224-4c5b-9bda-4ff27d79b356' class='xr-var-attrs-in' type='checkbox' ><label for='attrs-d2a921e4-f224-4c5b-9bda-4ff27d79b356' title='Show/Hide attributes'><svg class='icon xr-icon-file-text2'><use xlink:href='#icon-file-text2'></use></svg></label><input id='data-3caffa1c-806d-46d1-80d6-299b1e9581b0' class='xr-var-data-in' type='checkbox'><label for='data-3caffa1c-806d-46d1-80d6-299b1e9581b0' title='Show/Hide data repr'><svg class='icon xr-icon-database'><use xlink:href='#icon-database'></use></svg></label><div class='xr-var-attrs'><dl class='xr-attrs'><dt><span>description :</span></dt><dd>Off-glacier liquid precipitation</dd><dt><span>unit :</span></dt><dd>kg yr-1</dd></dl></div><div class='xr-var-data'><pre>[3535 values with dtype=float32]</pre></div></li><li class='xr-var-item'><div class='xr-var-name'><span>liq_prcp_on_glacier</span></div><div class='xr-var-dims'>(time, rgi_id)</div><div class='xr-var-dtype'>float32</div><div class='xr-var-preview xr-preview'>...</div><input id='attrs-2ae8f607-c112-486b-8fba-a2747a33217e' class='xr-var-attrs-in' type='checkbox' ><label for='attrs-2ae8f607-c112-486b-8fba-a2747a33217e' title='Show/Hide attributes'><svg class='icon xr-icon-file-text2'><use xlink:href='#icon-file-text2'></use></svg></label><input id='data-4a8e5613-b485-43be-80c7-44b9f0a4390b' class='xr-var-data-in' type='checkbox'><label for='data-4a8e5613-b485-43be-80c7-44b9f0a4390b' title='Show/Hide data repr'><svg class='icon xr-icon-database'><use xlink:href='#icon-database'></use></svg></label><div class='xr-var-attrs'><dl class='xr-attrs'><dt><span>description :</span></dt><dd>On-glacier liquid precipitation</dd><dt><span>unit :</span></dt><dd>kg yr-1</dd></dl></div><div class='xr-var-data'><pre>[3535 values with dtype=float32]</pre></div></li><li class='xr-var-item'><div class='xr-var-name'><span>snowfall_off_glacier</span></div><div class='xr-var-dims'>(time, rgi_id)</div><div class='xr-var-dtype'>float32</div><div class='xr-var-preview xr-preview'>...</div><input id='attrs-8ec2c27e-ccbf-4a98-a5d4-7c8a655ac218' class='xr-var-attrs-in' type='checkbox' ><label for='attrs-8ec2c27e-ccbf-4a98-a5d4-7c8a655ac218' title='Show/Hide attributes'><svg class='icon xr-icon-file-text2'><use xlink:href='#icon-file-text2'></use></svg></label><input id='data-af21ec2b-e83d-48c5-9f91-a991a3afec8e' class='xr-var-data-in' type='checkbox'><label for='data-af21ec2b-e83d-48c5-9f91-a991a3afec8e' title='Show/Hide data repr'><svg class='icon xr-icon-database'><use xlink:href='#icon-database'></use></svg></label><div class='xr-var-attrs'><dl class='xr-attrs'><dt><span>description :</span></dt><dd>Off-glacier solid precipitation</dd><dt><span>unit :</span></dt><dd>kg yr-1</dd></dl></div><div class='xr-var-data'><pre>[3535 values with dtype=float32]</pre></div></li><li class='xr-var-item'><div class='xr-var-name'><span>snowfall_on_glacier</span></div><div class='xr-var-dims'>(time, rgi_id)</div><div class='xr-var-dtype'>float32</div><div class='xr-var-preview xr-preview'>...</div><input id='attrs-0d6470fc-c09a-42e0-8842-35871bdd8388' class='xr-var-attrs-in' type='checkbox' ><label for='attrs-0d6470fc-c09a-42e0-8842-35871bdd8388' title='Show/Hide attributes'><svg class='icon xr-icon-file-text2'><use xlink:href='#icon-file-text2'></use></svg></label><input id='data-e32dcbcc-568d-4487-8050-8b10799059b0' class='xr-var-data-in' type='checkbox'><label for='data-e32dcbcc-568d-4487-8050-8b10799059b0' title='Show/Hide data repr'><svg class='icon xr-icon-database'><use xlink:href='#icon-database'></use></svg></label><div class='xr-var-attrs'><dl class='xr-attrs'><dt><span>description :</span></dt><dd>On-glacier solid precipitation</dd><dt><span>unit :</span></dt><dd>kg yr-1</dd></dl></div><div class='xr-var-data'><pre>[3535 values with dtype=float32]</pre></div></li><li class='xr-var-item'><div class='xr-var-name'><span>melt_off_glacier_monthly</span></div><div class='xr-var-dims'>(time, month_2d, rgi_id)</div><div class='xr-var-dtype'>float32</div><div class='xr-var-preview xr-preview'>...</div><input id='attrs-4a4bb1a8-73c8-4d8e-adef-09eea9825a16' class='xr-var-attrs-in' type='checkbox' disabled><label for='attrs-4a4bb1a8-73c8-4d8e-adef-09eea9825a16' title='Show/Hide attributes'><svg class='icon xr-icon-file-text2'><use xlink:href='#icon-file-text2'></use></svg></label><input id='data-c42b6e2b-3032-41ec-96db-8b307c451b8b' class='xr-var-data-in' type='checkbox'><label for='data-c42b6e2b-3032-41ec-96db-8b307c451b8b' title='Show/Hide data repr'><svg class='icon xr-icon-database'><use xlink:href='#icon-database'></use></svg></label><div class='xr-var-attrs'><dl class='xr-attrs'></dl></div><div class='xr-var-data'><pre>[42420 values with dtype=float32]</pre></div></li><li class='xr-var-item'><div class='xr-var-name'><span>melt_on_glacier_monthly</span></div><div class='xr-var-dims'>(time, month_2d, rgi_id)</div><div class='xr-var-dtype'>float32</div><div class='xr-var-preview xr-preview'>...</div><input id='attrs-fa9933e6-9aa9-417e-81c1-a0e368de9bc1' class='xr-var-attrs-in' type='checkbox' disabled><label for='attrs-fa9933e6-9aa9-417e-81c1-a0e368de9bc1' title='Show/Hide attributes'><svg class='icon xr-icon-file-text2'><use xlink:href='#icon-file-text2'></use></svg></label><input id='data-d3d3fb91-cd27-4445-8be0-2f7e5d0f3051' class='xr-var-data-in' type='checkbox'><label for='data-d3d3fb91-cd27-4445-8be0-2f7e5d0f3051' title='Show/Hide data repr'><svg class='icon xr-icon-database'><use xlink:href='#icon-database'></use></svg></label><div class='xr-var-attrs'><dl class='xr-attrs'></dl></div><div class='xr-var-data'><pre>[42420 values with dtype=float32]</pre></div></li><li class='xr-var-item'><div class='xr-var-name'><span>liq_prcp_off_glacier_monthly</span></div><div class='xr-var-dims'>(time, month_2d, rgi_id)</div><div class='xr-var-dtype'>float32</div><div class='xr-var-preview xr-preview'>...</div><input id='attrs-f12ec4e9-36e3-48d5-b1b4-6a636d1d6c65' class='xr-var-attrs-in' type='checkbox' disabled><label for='attrs-f12ec4e9-36e3-48d5-b1b4-6a636d1d6c65' title='Show/Hide attributes'><svg class='icon xr-icon-file-text2'><use xlink:href='#icon-file-text2'></use></svg></label><input id='data-1f65a38b-dd5e-4740-873d-ce019ccd9964' class='xr-var-data-in' type='checkbox'><label for='data-1f65a38b-dd5e-4740-873d-ce019ccd9964' title='Show/Hide data repr'><svg class='icon xr-icon-database'><use xlink:href='#icon-database'></use></svg></label><div class='xr-var-attrs'><dl class='xr-attrs'></dl></div><div class='xr-var-data'><pre>[42420 values with dtype=float32]</pre></div></li><li class='xr-var-item'><div class='xr-var-name'><span>liq_prcp_on_glacier_monthly</span></div><div class='xr-var-dims'>(time, month_2d, rgi_id)</div><div class='xr-var-dtype'>float32</div><div class='xr-var-preview xr-preview'>...</div><input id='attrs-f9e6ee5e-e715-4fa0-8d76-1dbede82c808' class='xr-var-attrs-in' type='checkbox' disabled><label for='attrs-f9e6ee5e-e715-4fa0-8d76-1dbede82c808' title='Show/Hide attributes'><svg class='icon xr-icon-file-text2'><use xlink:href='#icon-file-text2'></use></svg></label><input id='data-03756331-5042-436f-b1fa-9407dc7fcd88' class='xr-var-data-in' type='checkbox'><label for='data-03756331-5042-436f-b1fa-9407dc7fcd88' title='Show/Hide data repr'><svg class='icon xr-icon-database'><use xlink:href='#icon-database'></use></svg></label><div class='xr-var-attrs'><dl class='xr-attrs'></dl></div><div class='xr-var-data'><pre>[42420 values with dtype=float32]</pre></div></li><li class='xr-var-item'><div class='xr-var-name'><span>snowfall_off_glacier_monthly</span></div><div class='xr-var-dims'>(time, month_2d, rgi_id)</div><div class='xr-var-dtype'>float32</div><div class='xr-var-preview xr-preview'>...</div><input id='attrs-ef2302d2-23e2-44b4-8447-ba041aa96293' class='xr-var-attrs-in' type='checkbox' disabled><label for='attrs-ef2302d2-23e2-44b4-8447-ba041aa96293' title='Show/Hide attributes'><svg class='icon xr-icon-file-text2'><use xlink:href='#icon-file-text2'></use></svg></label><input id='data-4dd52835-a4d6-4a62-89ab-f3c0b34f7993' class='xr-var-data-in' type='checkbox'><label for='data-4dd52835-a4d6-4a62-89ab-f3c0b34f7993' title='Show/Hide data repr'><svg class='icon xr-icon-database'><use xlink:href='#icon-database'></use></svg></label><div class='xr-var-attrs'><dl class='xr-attrs'></dl></div><div class='xr-var-data'><pre>[42420 values with dtype=float32]</pre></div></li><li class='xr-var-item'><div class='xr-var-name'><span>snowfall_on_glacier_monthly</span></div><div class='xr-var-dims'>(time, month_2d, rgi_id)</div><div class='xr-var-dtype'>float32</div><div class='xr-var-preview xr-preview'>...</div><input id='attrs-53148990-231c-4f2b-9700-efc5f09dcc65' class='xr-var-attrs-in' type='checkbox' disabled><label for='attrs-53148990-231c-4f2b-9700-efc5f09dcc65' title='Show/Hide attributes'><svg class='icon xr-icon-file-text2'><use xlink:href='#icon-file-text2'></use></svg></label><input id='data-e1641320-73ba-43d4-965a-8cda3e66a2ca' class='xr-var-data-in' type='checkbox'><label for='data-e1641320-73ba-43d4-965a-8cda3e66a2ca' title='Show/Hide data repr'><svg class='icon xr-icon-database'><use xlink:href='#icon-database'></use></svg></label><div class='xr-var-attrs'><dl class='xr-attrs'></dl></div><div class='xr-var-data'><pre>[42420 values with dtype=float32]</pre></div></li><li class='xr-var-item'><div class='xr-var-name'><span>water_level</span></div><div class='xr-var-dims'>(rgi_id)</div><div class='xr-var-dtype'>float32</div><div class='xr-var-preview xr-preview'>...</div><input id='attrs-97d2f4d5-e728-49b5-9af6-37944fdf4dfd' class='xr-var-attrs-in' type='checkbox' ><label for='attrs-97d2f4d5-e728-49b5-9af6-37944fdf4dfd' title='Show/Hide attributes'><svg class='icon xr-icon-file-text2'><use xlink:href='#icon-file-text2'></use></svg></label><input id='data-68d8e44f-d44c-40ce-b476-96cfb5c77541' class='xr-var-data-in' type='checkbox'><label for='data-68d8e44f-d44c-40ce-b476-96cfb5c77541' title='Show/Hide data repr'><svg class='icon xr-icon-database'><use xlink:href='#icon-database'></use></svg></label><div class='xr-var-attrs'><dl class='xr-attrs'><dt><span>description :</span></dt><dd>Calving water level</dd><dt><span>units :</span></dt><dd>m</dd></dl></div><div class='xr-var-data'><pre>[35 values with dtype=float32]</pre></div></li><li class='xr-var-item'><div class='xr-var-name'><span>glen_a</span></div><div class='xr-var-dims'>(rgi_id)</div><div class='xr-var-dtype'>float32</div><div class='xr-var-preview xr-preview'>...</div><input id='attrs-11183b10-56f8-459e-9535-99a0df54fb74' class='xr-var-attrs-in' type='checkbox' ><label for='attrs-11183b10-56f8-459e-9535-99a0df54fb74' title='Show/Hide attributes'><svg class='icon xr-icon-file-text2'><use xlink:href='#icon-file-text2'></use></svg></label><input id='data-0d90a91f-a93c-4a74-b09f-c244cb03ce20' class='xr-var-data-in' type='checkbox'><label for='data-0d90a91f-a93c-4a74-b09f-c244cb03ce20' title='Show/Hide data repr'><svg class='icon xr-icon-database'><use xlink:href='#icon-database'></use></svg></label><div class='xr-var-attrs'><dl class='xr-attrs'><dt><span>description :</span></dt><dd>Simulation Glen A</dd><dt><span>units :</span></dt><dd></dd></dl></div><div class='xr-var-data'><pre>[35 values with dtype=float32]</pre></div></li><li class='xr-var-item'><div class='xr-var-name'><span>fs</span></div><div class='xr-var-dims'>(rgi_id)</div><div class='xr-var-dtype'>float32</div><div class='xr-var-preview xr-preview'>...</div><input id='attrs-6516e23c-9e44-473e-bf47-067a9009d4fe' class='xr-var-attrs-in' type='checkbox' ><label for='attrs-6516e23c-9e44-473e-bf47-067a9009d4fe' title='Show/Hide attributes'><svg class='icon xr-icon-file-text2'><use xlink:href='#icon-file-text2'></use></svg></label><input id='data-1899c2fa-3e07-43b5-8ddd-28c583beeaf2' class='xr-var-data-in' type='checkbox'><label for='data-1899c2fa-3e07-43b5-8ddd-28c583beeaf2' title='Show/Hide data repr'><svg class='icon xr-icon-database'><use xlink:href='#icon-database'></use></svg></label><div class='xr-var-attrs'><dl class='xr-attrs'><dt><span>description :</span></dt><dd>Simulation sliding parameter</dd><dt><span>units :</span></dt><dd></dd></dl></div><div class='xr-var-data'><pre>[35 values with dtype=float32]</pre></div></li></ul></div></li><li class='xr-section-item'><input id='section-1551c564-6a9b-492b-8df7-6d7d0945de4b' class='xr-section-summary-in' type='checkbox'  ><label for='section-1551c564-6a9b-492b-8df7-6d7d0945de4b' class='xr-section-summary' >Indexes: <span>(3)</span></label><div class='xr-section-inline-details'></div><div class='xr-section-details'><ul class='xr-var-list'><li class='xr-var-item'><div class='xr-index-name'><div>time</div></div><div class='xr-index-preview'>PandasIndex</div><div></div><input id='index-5a67840f-0f20-4b4a-a2c4-d239fa2a7051' class='xr-index-data-in' type='checkbox'/><label for='index-5a67840f-0f20-4b4a-a2c4-d239fa2a7051' title='Show/Hide index repr'><svg class='icon xr-icon-database'><use xlink:href='#icon-database'></use></svg></label><div class='xr-index-data'><pre>PandasIndex(Index([  0.0,   1.0,   2.0,   3.0,   4.0,   5.0,   6.0,   7.0,   8.0,   9.0,\n",
       "       ...\n",
       "        91.0,  92.0,  93.0,  94.0,  95.0,  96.0,  97.0,  98.0,  99.0, 100.0],\n",
       "      dtype=&#x27;float64&#x27;, name=&#x27;time&#x27;, length=101))</pre></div></li><li class='xr-var-item'><div class='xr-index-name'><div>rgi_id</div></div><div class='xr-index-preview'>PandasIndex</div><div></div><input id='index-22840469-9d8c-4a17-af59-8fe772d445ab' class='xr-index-data-in' type='checkbox'/><label for='index-22840469-9d8c-4a17-af59-8fe772d445ab' title='Show/Hide index repr'><svg class='icon xr-icon-database'><use xlink:href='#icon-database'></use></svg></label><div class='xr-index-data'><pre>PandasIndex(Index([&#x27;RGI60-16.00495&#x27;, &#x27;RGI60-16.00497&#x27;, &#x27;RGI60-16.00498&#x27;, &#x27;RGI60-16.00501&#x27;,\n",
       "       &#x27;RGI60-16.00505&#x27;, &#x27;RGI60-16.00506&#x27;, &#x27;RGI60-16.00508&#x27;, &#x27;RGI60-16.00509&#x27;,\n",
       "       &#x27;RGI60-16.00510&#x27;, &#x27;RGI60-16.00511&#x27;, &#x27;RGI60-16.00513&#x27;, &#x27;RGI60-16.00523&#x27;,\n",
       "       &#x27;RGI60-16.00524&#x27;, &#x27;RGI60-16.00526&#x27;, &#x27;RGI60-16.00528&#x27;, &#x27;RGI60-16.00530&#x27;,\n",
       "       &#x27;RGI60-16.00531&#x27;, &#x27;RGI60-16.00532&#x27;, &#x27;RGI60-16.00539&#x27;, &#x27;RGI60-16.00540&#x27;,\n",
       "       &#x27;RGI60-16.00544&#x27;, &#x27;RGI60-16.00545&#x27;, &#x27;RGI60-16.00546&#x27;, &#x27;RGI60-16.00547&#x27;,\n",
       "       &#x27;RGI60-16.00549&#x27;, &#x27;RGI60-16.00550&#x27;, &#x27;RGI60-16.00564&#x27;, &#x27;RGI60-16.00566&#x27;,\n",
       "       &#x27;RGI60-16.00595&#x27;, &#x27;RGI60-16.00596&#x27;, &#x27;RGI60-16.00610&#x27;, &#x27;RGI60-16.00611&#x27;,\n",
       "       &#x27;RGI60-16.01447&#x27;, &#x27;RGI60-16.01448&#x27;, &#x27;RGI60-16.01449&#x27;],\n",
       "      dtype=&#x27;object&#x27;, name=&#x27;rgi_id&#x27;))</pre></div></li><li class='xr-var-item'><div class='xr-index-name'><div>month_2d</div></div><div class='xr-index-preview'>PandasIndex</div><div></div><input id='index-78fbd182-3e06-4148-9c14-5a7fafc60645' class='xr-index-data-in' type='checkbox'/><label for='index-78fbd182-3e06-4148-9c14-5a7fafc60645' title='Show/Hide index repr'><svg class='icon xr-icon-database'><use xlink:href='#icon-database'></use></svg></label><div class='xr-index-data'><pre>PandasIndex(Index([1, 2, 3, 4, 5, 6, 7, 8, 9, 10, 11, 12], dtype=&#x27;int64&#x27;, name=&#x27;month_2d&#x27;))</pre></div></li></ul></div></li><li class='xr-section-item'><input id='section-cde0aa82-852f-4c38-a7ef-d43e213a91b5' class='xr-section-summary-in' type='checkbox'  checked><label for='section-cde0aa82-852f-4c38-a7ef-d43e213a91b5' class='xr-section-summary' >Attributes: <span>(4)</span></label><div class='xr-section-inline-details'></div><div class='xr-section-details'><dl class='xr-attrs'><dt><span>description :</span></dt><dd>OGGM model output</dd><dt><span>oggm_version :</span></dt><dd>1.6.1</dd><dt><span>calendar :</span></dt><dd>365-day no leap</dd><dt><span>creation_date :</span></dt><dd>2024-06-20 14:35:46</dd></dl></div></li></ul></div></div>"
      ],
      "text/plain": [
       "<xarray.Dataset> Size: 1MB\n",
       "Dimensions:                       (time: 101, rgi_id: 35, month_2d: 12)\n",
       "Coordinates:\n",
       "  * time                          (time) float64 808B 0.0 1.0 2.0 ... 99.0 100.0\n",
       "  * rgi_id                        (rgi_id) <U14 2kB 'RGI60-16.00495' ... 'RGI...\n",
       "    hydro_year                    (time) int64 808B ...\n",
       "    hydro_month                   (time) int64 808B ...\n",
       "    calendar_year                 (time) int64 808B ...\n",
       "    calendar_month                (time) int64 808B ...\n",
       "  * month_2d                      (month_2d) int64 96B 1 2 3 4 5 ... 9 10 11 12\n",
       "    calendar_month_2d             (month_2d) int64 96B ...\n",
       "Data variables: (12/24)\n",
       "    volume                        (time, rgi_id) float32 14kB ...\n",
       "    volume_bsl                    (time, rgi_id) float32 14kB ...\n",
       "    volume_bwl                    (time, rgi_id) float32 14kB ...\n",
       "    area                          (time, rgi_id) float32 14kB ...\n",
       "    length                        (time, rgi_id) float32 14kB ...\n",
       "    calving                       (time, rgi_id) float32 14kB ...\n",
       "    ...                            ...\n",
       "    liq_prcp_on_glacier_monthly   (time, month_2d, rgi_id) float32 170kB ...\n",
       "    snowfall_off_glacier_monthly  (time, month_2d, rgi_id) float32 170kB ...\n",
       "    snowfall_on_glacier_monthly   (time, month_2d, rgi_id) float32 170kB ...\n",
       "    water_level                   (rgi_id) float32 140B ...\n",
       "    glen_a                        (rgi_id) float32 140B ...\n",
       "    fs                            (rgi_id) float32 140B ...\n",
       "Attributes:\n",
       "    description:    OGGM model output\n",
       "    oggm_version:   1.6.1\n",
       "    calendar:       365-day no leap\n",
       "    creation_date:  2024-06-20 14:35:46"
      ]
     },
     "execution_count": 18,
     "metadata": {},
     "output_type": "execute_result"
    }
   ],
   "source": [
    "# Look at the new dataset\n",
    "ct_ds"
   ]
  },
  {
   "cell_type": "markdown",
   "id": "fd49c182-4f63-4318-9aac-cceae295d3e7",
   "metadata": {},
   "source": [
    "### a. Historical run for reference climate period"
   ]
  },
  {
   "cell_type": "code",
   "execution_count": 19,
   "id": "af809d75-8244-4dff-9387-df5761249b65",
   "metadata": {
    "tags": []
   },
   "outputs": [],
   "source": [
    "# Run the historical period with a fixed geometry spinup\n",
    "for g in gdirs:\n",
    "    file_id = '_hist_hydro'\n",
    "    tasks.run_with_hydro(g, run_task=tasks.run_from_climate_data,\n",
    "                         fixed_geometry_spinup_yr=1990,  # this tells to do spinup\n",
    "                         ref_area_from_y0=True,  # \n",
    "                         store_monthly_hydro=True,\n",
    "                         output_filesuffix=file_id);\n",
    "# I think i have to run this every time I start the kernel again so file_id hist_hydro exists for gcm use"
   ]
  },
  {
   "cell_type": "code",
   "execution_count": 20,
   "id": "e8638a6a-4752-487d-b3b5-4a5f8200c907",
   "metadata": {},
   "outputs": [
    {
     "name": "stderr",
     "output_type": "stream",
     "text": [
      "2024-06-20 10:35:57: oggm.utils: Applying global task compile_run_output on 35 glaciers\n",
      "2024-06-20 10:35:57: oggm.utils: Applying compile_run_output on 35 gdirs.\n"
     ]
    }
   ],
   "source": [
    "# Export data from historic climate run and compile run output\n",
    "import datetime\n",
    "output_path = '~/Documents/summer24/{}-hist_hydro_compiled_output.nc'.format(datetime.date.today()) \n",
    "new_ds = utils.compile_run_output(gdirs, input_filesuffix=file_id, path=output_path)"
   ]
  },
  {
   "cell_type": "code",
   "execution_count": 21,
   "id": "e9177b05-5cb9-46dd-8834-c9d32c748eb2",
   "metadata": {},
   "outputs": [],
   "source": [
    "# Load in the glacier data from above (only when data has been saved)\n",
    "export_date = '2024-06-20'\n",
    "input_path_hist = '~/Documents/summer24/{}-hist_hydro_compiled_output.nc'.format(export_date)\n",
    "hist_ds = xr.open_dataset(input_path_hist)"
   ]
  },
  {
   "cell_type": "markdown",
   "id": "1afb6610-a867-4103-a282-d8c01ce74a37",
   "metadata": {},
   "source": [
    "### b. Projection run"
   ]
  },
  {
   "cell_type": "markdown",
   "id": "8168747b-c3f7-4cd5-ac5d-3cf63ea0277c",
   "metadata": {},
   "source": [
    "<b> Remember: you need to change the GCM for bp and bt"
   ]
  },
  {
   "cell_type": "code",
   "execution_count": 22,
   "id": "4dfdac93-202c-45e3-b590-77f751a1fa67",
   "metadata": {
    "tags": []
   },
   "outputs": [],
   "source": [
    "# # Process climate data for each GCM \n",
    "\n",
    "# # name the gcm that is currently used\n",
    "# # CHANGE GCM TO DOWNLOAD A DIFFERENT ONE\n",
    "# current_gcm = 'CCSM4'\n",
    "\n",
    "# # identify which gcms ('poorly behaved') have only 3 rcp scenarios instead of 4\n",
    "# poorly_behaved = ['CNRM-CM5', 'CanESM2', 'MPI-ESM-LR']\n",
    "\n",
    "# # import climate data from where it is stored within oggm\n",
    "# ## Remember to change name of gcm each time this is run! \n",
    "# ## Note: I have tried to make this more efficient, but can't get the {} to work right\n",
    "# from oggm.shop import gcm_climate\n",
    "# bp = 'https://cluster.klima.uni-bremen.de/~oggm/cmip5-ng/pr/pr_mon_{}_{}_r1i1p1_g025.nc' #precipitation\n",
    "# bt = 'https://cluster.klima.uni-bremen.de/~oggm/cmip5-ng/tas/tas_mon_{}_{}_r1i1p1_g025.nc' #temperature\n",
    "\n",
    "# # process climate data for each rcp scenario\n",
    "# if current_gcm in poorly_behaved:\n",
    "#     for rcp in ['rcp26', 'rcp45', 'rcp85']:\n",
    "#         # Download the files\n",
    "#         ft = utils.file_downloader(bt.format(current_gcm, rcp))\n",
    "#         fp = utils.file_downloader(bp.format(current_gcm, rcp))\n",
    "#         # bias correct them\n",
    "#         for g in gdirs:\n",
    "#             workflow.execute_entity_task(gcm_climate.process_cmip_data, [g],\n",
    "#                                          filesuffix='_{}_{}'.format(current_gcm, rcp),  # recognize the climate file for later\n",
    "#                                          fpath_temp=ft,  # temperature projections\n",
    "#                                          fpath_precip=fp,  # precip projections\n",
    "#                                              );\n",
    "# else:\n",
    "#     for rcp in ['rcp26', 'rcp45', 'rcp60', 'rcp85']:\n",
    "#         # Download the files\n",
    "#         ft = utils.file_downloader(bt.format(current_gcm, rcp))\n",
    "#         fp = utils.file_downloader(bp.format(current_gcm, rcp))\n",
    "#         # bias correct them\n",
    "#         for g in gdirs:\n",
    "#             workflow.execute_entity_task(gcm_climate.process_cmip_data, [g],\n",
    "#                                          filesuffix='_{}_{}'.format(current_gcm, rcp),  # recognize the climate file for later\n",
    "#                                          fpath_temp=ft,  # temperature projections\n",
    "#                                          fpath_precip=fp,  # precip projections\n",
    "#                                              );"
   ]
  },
  {
   "cell_type": "code",
   "execution_count": 23,
   "id": "1963075f-5770-4f4a-8f13-9effcadc60e4",
   "metadata": {
    "tags": []
   },
   "outputs": [],
   "source": [
    "# # Run the model with hydrologic output for each rcp scenario\n",
    "# if current_gcm in poorly_behaved:\n",
    "#     for g in gdirs:\n",
    "#         for rcp in ['rcp26', 'rcp45', 'rcp85']:\n",
    "#             rid = '_{}_{}'.format(current_gcm, rcp)\n",
    "#             tasks.run_with_hydro(g, run_task=tasks.run_from_climate_data,\n",
    "#                                  climate_filename='gcm_data',  # use gcm_data, not climate_historical\n",
    "#                                  climate_input_filesuffix=rid,  # use the chosen scenario (gcm and rcp)\n",
    "#                                  init_model_filesuffix='_hist_hydro',  # start using hist data\n",
    "#                                  ref_geometry_filesuffix='_hist_hydro',  # also use this as area reference\n",
    "#                                  ref_area_from_y0=True,  # and keep the same reference area as for the historical simulations\n",
    "#                                  output_filesuffix=rid,  # recognize the run for later\n",
    "#                                  store_monthly_hydro=True,  # add monthly diagnostics\n",
    "#                                  );\n",
    "# else:\n",
    "#     for g in gdirs:\n",
    "#         for rcp in ['rcp26', 'rcp45', 'rcp60', 'rcp85']:\n",
    "#             rid = '_{}_{}'.format(current_gcm, rcp)\n",
    "#             tasks.run_with_hydro(g, run_task=tasks.run_from_climate_data,\n",
    "#                                  climate_filename='gcm_data',\n",
    "#                                  climate_input_filesuffix=rid, \n",
    "#                                  init_model_filesuffix='_hist_hydro', \n",
    "#                                  ref_geometry_filesuffix='_hist_hydro',  \n",
    "#                                  ref_area_from_y0=True, \n",
    "#                                  output_filesuffix=rid, \n",
    "#                                  store_monthly_hydro=True, \n",
    "#                                  );"
   ]
  },
  {
   "cell_type": "code",
   "execution_count": 24,
   "id": "d3a339a6-8e72-4834-b171-944ac1bfd9e2",
   "metadata": {},
   "outputs": [],
   "source": [
    "# new_ds_nor = utils.compile_run_output(gdirs, input_filesuffix=rid)\n",
    "# new_ds_nor"
   ]
  },
  {
   "cell_type": "code",
   "execution_count": 25,
   "id": "da8d4775-15fa-43ea-a7a8-b97d9748843d",
   "metadata": {},
   "outputs": [],
   "source": [
    "# # Export data from climate run and compile run output\n",
    "# import datetime\n",
    "# if current_gcm in poorly_behaved:\n",
    "#     for rcp in ['rcp26', 'rcp45', 'rcp85']:\n",
    "#         rid = '_{}_{}'.format(current_gcm, rcp) #same rid as in step above\n",
    "#         output_path = '~/Documents/summer24/{}-gcm_data_{}_{}_compiled_output.nc'.format(datetime.date.today(), current_gcm, rcp) #define name for file \n",
    "#         new_ds = utils.compile_run_output(gdirs, input_filesuffix=rid, path=output_path) #compile all rcp outputs into one file\n",
    "# else:\n",
    "#     for rcp in ['rcp26', 'rcp45', 'rcp60', 'rcp85']:\n",
    "#         rid = '_{}_{}'.format(current_gcm, rcp)\n",
    "#         output_path = '~/Documents/summer24/{}-gcm_data_{}_{}_compiled_output.nc'.format(datetime.date.today(), current_gcm, rcp) \n",
    "#         new_ds = utils.compile_run_output(gdirs, input_filesuffix=rid, path=output_path)"
   ]
  },
  {
   "cell_type": "markdown",
   "id": "6ce04acb-064d-44a6-9d40-3d1d9eb5a5e7",
   "metadata": {},
   "source": [
    "## II. Run CMIP6 projection run"
   ]
  },
  {
   "cell_type": "code",
   "execution_count": 26,
   "id": "5414bad2-6d84-4e74-8cc0-2cad73f3387a",
   "metadata": {},
   "outputs": [],
   "source": [
    "# Is this something I need to/should do? https://docs.oggm.org/en/latest/climate-data.html\n",
    "from oggm.tasks import process_w5e5_data"
   ]
  },
  {
   "cell_type": "code",
   "execution_count": 27,
   "id": "9db04f11-9692-4deb-beb9-b4e63b5b9dba",
   "metadata": {},
   "outputs": [
    {
     "name": "stderr",
     "output_type": "stream",
     "text": [
      "2024-06-20 10:35:58: oggm.workflow: Execute entity tasks [process_monthly_isimip_data] on 35 glaciers\n",
      "2024-06-20 10:35:58: oggm.workflow: WARNING: you are trying to run an entity task on 35 glaciers with multiprocessing turned off. OGGM will run faster with multiprocessing turned on.\n",
      "2024-06-20 10:36:46: oggm.workflow: Execute entity tasks [process_monthly_isimip_data] on 35 glaciers\n",
      "2024-06-20 10:36:46: oggm.workflow: WARNING: you are trying to run an entity task on 35 glaciers with multiprocessing turned off. OGGM will run faster with multiprocessing turned on.\n",
      "2024-06-20 10:38:54: oggm.workflow: Execute entity tasks [process_monthly_isimip_data] on 35 glaciers\n",
      "2024-06-20 10:38:54: oggm.workflow: WARNING: you are trying to run an entity task on 35 glaciers with multiprocessing turned off. OGGM will run faster with multiprocessing turned on.\n",
      "2024-06-20 10:39:42: oggm.workflow: Execute entity tasks [process_monthly_isimip_data] on 35 glaciers\n",
      "2024-06-20 10:39:42: oggm.workflow: WARNING: you are trying to run an entity task on 35 glaciers with multiprocessing turned off. OGGM will run faster with multiprocessing turned on.\n",
      "2024-06-20 10:40:27: oggm.workflow: Execute entity tasks [process_monthly_isimip_data] on 35 glaciers\n",
      "2024-06-20 10:40:27: oggm.workflow: WARNING: you are trying to run an entity task on 35 glaciers with multiprocessing turned off. OGGM will run faster with multiprocessing turned on.\n",
      "2024-06-20 10:41:13: oggm.workflow: Execute entity tasks [process_monthly_isimip_data] on 35 glaciers\n",
      "2024-06-20 10:41:13: oggm.workflow: WARNING: you are trying to run an entity task on 35 glaciers with multiprocessing turned off. OGGM will run faster with multiprocessing turned on.\n",
      "2024-06-20 10:41:59: oggm.workflow: Execute entity tasks [process_monthly_isimip_data] on 35 glaciers\n",
      "2024-06-20 10:41:59: oggm.workflow: WARNING: you are trying to run an entity task on 35 glaciers with multiprocessing turned off. OGGM will run faster with multiprocessing turned on.\n",
      "2024-06-20 10:42:48: oggm.workflow: Execute entity tasks [process_monthly_isimip_data] on 35 glaciers\n",
      "2024-06-20 10:42:48: oggm.workflow: WARNING: you are trying to run an entity task on 35 glaciers with multiprocessing turned off. OGGM will run faster with multiprocessing turned on.\n",
      "2024-06-20 10:43:34: oggm.workflow: Execute entity tasks [process_monthly_isimip_data] on 35 glaciers\n",
      "2024-06-20 10:43:34: oggm.workflow: WARNING: you are trying to run an entity task on 35 glaciers with multiprocessing turned off. OGGM will run faster with multiprocessing turned on.\n",
      "2024-06-20 10:44:18: oggm.workflow: Execute entity tasks [process_monthly_isimip_data] on 35 glaciers\n",
      "2024-06-20 10:44:18: oggm.workflow: WARNING: you are trying to run an entity task on 35 glaciers with multiprocessing turned off. OGGM will run faster with multiprocessing turned on.\n",
      "2024-06-20 10:45:07: oggm.workflow: Execute entity tasks [process_monthly_isimip_data] on 35 glaciers\n",
      "2024-06-20 10:45:07: oggm.workflow: WARNING: you are trying to run an entity task on 35 glaciers with multiprocessing turned off. OGGM will run faster with multiprocessing turned on.\n",
      "2024-06-20 10:45:54: oggm.workflow: Execute entity tasks [process_monthly_isimip_data] on 35 glaciers\n",
      "2024-06-20 10:45:54: oggm.workflow: WARNING: you are trying to run an entity task on 35 glaciers with multiprocessing turned off. OGGM will run faster with multiprocessing turned on.\n",
      "2024-06-20 10:46:39: oggm.workflow: Execute entity tasks [process_monthly_isimip_data] on 35 glaciers\n",
      "2024-06-20 10:46:39: oggm.workflow: WARNING: you are trying to run an entity task on 35 glaciers with multiprocessing turned off. OGGM will run faster with multiprocessing turned on.\n",
      "2024-06-20 10:47:26: oggm.workflow: Execute entity tasks [process_monthly_isimip_data] on 35 glaciers\n",
      "2024-06-20 10:47:26: oggm.workflow: WARNING: you are trying to run an entity task on 35 glaciers with multiprocessing turned off. OGGM will run faster with multiprocessing turned on.\n",
      "2024-06-20 10:48:11: oggm.workflow: Execute entity tasks [process_monthly_isimip_data] on 35 glaciers\n",
      "2024-06-20 10:48:11: oggm.workflow: WARNING: you are trying to run an entity task on 35 glaciers with multiprocessing turned off. OGGM will run faster with multiprocessing turned on.\n"
     ]
    }
   ],
   "source": [
    "# the issue here is with ssp245, not the models; why? probably in oggm somewhere but that will take some digging\n",
    "\n",
    "from oggm.shop import gcm_climate\n",
    "\n",
    "all_members = ['gfdl-esm4_r1i1p1f1', 'mpi-esm1-2-hr_r1i1p1f1', 'mri-esm2-0_r1i1p1f1',\n",
    "               'ipsl-cm6a-lr_r1i1p1f1', 'ukesm1-0-ll_r1i1p1f2']\n",
    "\n",
    "# Download the three main SSPs\n",
    "for member in all_members:\n",
    "    for ssp in ['ssp126', 'ssp370', 'ssp585']:\n",
    "        # bias correct them\n",
    "        workflow.execute_entity_task(gcm_climate.process_monthly_isimip_data, gdirs, # isimip is where the problem is; ssp245 won't work with this; see https://www.isimip.org/documents/413/ISIMIP3b_bias_adjustment_fact_sheet_Gnsz7CO.pdf\n",
    "                                     ssp = ssp,\n",
    "                                     # gcm member -> you can choose another one\n",
    "                                     member=member,\n",
    "                                     # recognize the climate file for later\n",
    "                                     output_filesuffix=f'_ISIMIP3b_{member}_{ssp}'\n",
    "                                     );"
   ]
  },
  {
   "cell_type": "code",
   "execution_count": 28,
   "id": "f54d906f-c513-46b4-8187-f930079eaf50",
   "metadata": {},
   "outputs": [],
   "source": [
    "# # Run the model with hydrologic output for each rcp scenario\n",
    "# for g in gdirs:\n",
    "#         for ssp in ['ssp126', 'ssp370', 'ssp585']:\n",
    "#             rid = '_{}_{}'.format(member, ssp)\n",
    "#             tasks.run_with_hydro(g, run_task=tasks.run_from_climate_data,\n",
    "#                                  climate_filename='gcm_data',\n",
    "#                                  climate_input_filesuffix=rid, \n",
    "#                                  init_model_filesuffix='_hist_hydro', \n",
    "#                                  ref_geometry_filesuffix='_hist_hydro',  \n",
    "#                                  ref_area_from_y0=True, \n",
    "#                                  output_filesuffix=rid, \n",
    "#                                  store_monthly_hydro=True, \n",
    "#                                  );"
   ]
  },
  {
   "cell_type": "code",
   "execution_count": 29,
   "id": "47a402de-bbad-4ea8-877c-5a625e4f35fb",
   "metadata": {},
   "outputs": [
    {
     "name": "stderr",
     "output_type": "stream",
     "text": [
      "2024-06-20 10:48:57: oggm.workflow: Execute entity tasks [run_with_hydro] on 35 glaciers\n",
      "2024-06-20 10:48:57: oggm.workflow: WARNING: you are trying to run an entity task on 35 glaciers with multiprocessing turned off. OGGM will run faster with multiprocessing turned on.\n",
      "2024-06-20 10:49:17: oggm.workflow: Execute entity tasks [run_with_hydro] on 35 glaciers\n",
      "2024-06-20 10:49:17: oggm.workflow: WARNING: you are trying to run an entity task on 35 glaciers with multiprocessing turned off. OGGM will run faster with multiprocessing turned on.\n",
      "2024-06-20 10:49:38: oggm.workflow: Execute entity tasks [run_with_hydro] on 35 glaciers\n",
      "2024-06-20 10:49:38: oggm.workflow: WARNING: you are trying to run an entity task on 35 glaciers with multiprocessing turned off. OGGM will run faster with multiprocessing turned on.\n"
     ]
    }
   ],
   "source": [
    "# From OGGM; see how this differs from og code above\n",
    "# Run the model with hydrologic output for each rcp scenario\n",
    "for ssp in ['ssp126', 'ssp370', 'ssp585']: # add ssp245\n",
    "    rid = f'_ISIMIP3b_{member}_{ssp}' # I don't know how/if this will affect the pathway in the next notebook?\n",
    "    workflow.execute_entity_task(tasks.run_with_hydro, gdirs,\n",
    "                             run_task=tasks.run_from_climate_data, ys=2020,\n",
    "                             # use gcm_data, not climate_historical\n",
    "                             climate_filename='gcm_data',\n",
    "                             # use the chosen scenario\n",
    "                             climate_input_filesuffix=rid,\n",
    "                             # this is important! Start from 2020 glacier\n",
    "                             init_model_filesuffix='_spinup_historical',\n",
    "                             # recognize the run for later\n",
    "                             output_filesuffix=rid,\n",
    "                             # add monthly diagnostics\n",
    "                             store_monthly_hydro=True);"
   ]
  },
  {
   "cell_type": "code",
   "execution_count": 30,
   "id": "83c9fa02-e87d-4796-9ca7-4edeb6106944",
   "metadata": {},
   "outputs": [
    {
     "name": "stderr",
     "output_type": "stream",
     "text": [
      "2024-06-20 10:49:59: oggm.utils: Applying global task compile_run_output on 35 glaciers\n",
      "2024-06-20 10:49:59: oggm.utils: Applying compile_run_output on 35 gdirs.\n"
     ]
    }
   ],
   "source": [
    "# This is unchanged\n",
    "new_ds_nor = utils.compile_run_output(gdirs, input_filesuffix=rid)"
   ]
  },
  {
   "cell_type": "code",
   "execution_count": 31,
   "id": "b8a0e9cc-4fa1-4458-8272-6a055f6754b7",
   "metadata": {},
   "outputs": [],
   "source": [
    "# # Export data from climate run and compile run output\n",
    "# import datetime\n",
    "# for ssp in ['ssp126', 'ssp370', 'ssp585']:\n",
    "#         rid = '_{}_{}'.format(member, ssp) #same rid as in step above\n",
    "#         output_path = '~/Documents/summer24/{}-gcm_data_{}_{}_compiled_output.nc'.format(datetime.date.today(), member, ssp) #define name for file \n",
    "#         new_ds = utils.compile_run_output(gdirs, input_filesuffix=rid, path=output_path) #compile all rcp outputs into one file"
   ]
  },
  {
   "cell_type": "code",
   "execution_count": 32,
   "id": "230ef48a-13de-4c91-a8b7-424e1e486b8c",
   "metadata": {},
   "outputs": [
    {
     "name": "stderr",
     "output_type": "stream",
     "text": [
      "2024-06-20 10:50:00: oggm.utils: Applying global task compile_run_output on 35 glaciers\n",
      "2024-06-20 10:50:00: oggm.utils: Applying compile_run_output on 35 gdirs.\n",
      "2024-06-20 10:50:01: oggm.utils: Applying global task compile_run_output on 35 glaciers\n",
      "2024-06-20 10:50:01: oggm.utils: Applying compile_run_output on 35 gdirs.\n",
      "2024-06-20 10:50:02: oggm.utils: Applying global task compile_run_output on 35 glaciers\n",
      "2024-06-20 10:50:02: oggm.utils: Applying compile_run_output on 35 gdirs.\n"
     ]
    }
   ],
   "source": [
    "# Changes explained by ChatGPT; again, unsure how this will affect pathway\n",
    "# Export data from climate run and compile run output\n",
    "import datetime\n",
    "for ssp in ['ssp126', 'ssp370', 'ssp585']:\n",
    "    # Update the rid format to match the first cell\n",
    "    rid = f'_ISIMIP3b_{member}_{ssp}'\n",
    "    # Define the output path with proper path handling\n",
    "    output_path = os.path.expanduser(f'~/Documents/summer24/{datetime.date.today()}-gcm_data_{member}_{ssp}_compiled_output.nc')\n",
    "    # Compile all rcp outputs into one file\n",
    "    new_ds = utils.compile_run_output(gdirs, input_filesuffix=rid, path=output_path) #compile all rcp outputs into one file"
   ]
  },
  {
   "cell_type": "code",
   "execution_count": 33,
   "id": "7a576455-c077-4cd6-bb4d-29c404c04814",
   "metadata": {
    "scrolled": true
   },
   "outputs": [
    {
     "data": {
      "image/png": "[encoded data removed]",
      "text/plain": [
       "<Figure size 1800x700 with 1 Axes>"
      ]
     },
     "metadata": {},
     "output_type": "display_data"
    }
   ],
   "source": [
    "# OGGM said to do this; not sure if its necessary, but at least it works\n",
    "# Create the figure\n",
    "f, ax = plt.subplots(figsize=(18, 7), sharex=True)\n",
    "# Loop over all scenarios\n",
    "for i, ssp in enumerate(['ssp126', 'ssp370', 'ssp585']):\n",
    "    file_id = f'_ISIMIP3b_{member}_{ssp}'\n",
    "    # Open the data, gdirs[0] correspond to Hintereisferner.\n",
    "    with xr.open_dataset(gdirs[0].get_filepath('model_diagnostics', filesuffix=file_id)) as ds:\n",
    "        # Load the data into a dataframe\n",
    "        ds = ds.isel(time=slice(0, -1)).load()\n",
    "\n",
    "    # Select annual variables\n",
    "    sel_vars = [v for v in ds.variables if 'month_2d' not in ds[v].dims]\n",
    "    # And create a dataframe\n",
    "    df_annual = ds[sel_vars].to_dataframe()\n",
    "\n",
    "    # Select the variables relevant for runoff.\n",
    "    runoff_vars = ['melt_off_glacier', 'melt_on_glacier', 'liq_prcp_off_glacier', 'liq_prcp_on_glacier']\n",
    "    # Convert to mega tonnes instead of kg.\n",
    "    df_runoff = df_annual[runoff_vars].clip(0) * 1e-9\n",
    "    # Sum the variables each year \"axis=1\", take the 11 year rolling mean and plot it.\n",
    "    df_roll = df_runoff.sum(axis=1).rolling(window=11, center=True).mean()\n",
    "    df_roll.plot(ax=ax, label=ssp, color=sns.color_palette(\"rocket\")[i])\n",
    "\n",
    "ax.set_ylabel('Annual runoff (Mt)'); ax.set_xlabel('Year'); plt.title(gdirs[0].rgi_id); plt.legend();"
   ]
  },
  {
   "cell_type": "code",
   "execution_count": null,
   "id": "16590a2d-46ef-4f9e-8e8d-8ad1a89c653f",
   "metadata": {},
   "outputs": [],
   "source": []
  }
 ],
 "metadata": {
  "kernelspec": {
   "display_name": "Python 3 (ipykernel)",
   "language": "python",
   "name": "python3"
  },
  "language_info": {
   "codemirror_mode": {
    "name": "ipython",
    "version": 3
   },
   "file_extension": ".py",
   "mimetype": "text/x-python",
   "name": "python",
   "nbconvert_exporter": "python",
   "pygments_lexer": "ipython3",
   "version": "3.12.3"
  }
 },
 "nbformat": 4,
 "nbformat_minor": 5
}
